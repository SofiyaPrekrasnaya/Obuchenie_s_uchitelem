{
 "cells": [
  {
   "cell_type": "markdown",
   "metadata": {},
   "source": [
    "<b></b>"
   ]
  },
  {
   "cell_type": "markdown",
   "metadata": {},
   "source": [
    "# Отток клиентов"
   ]
  },
  {
   "cell_type": "markdown",
   "metadata": {},
   "source": [
    "Из «Бета-Банка» стали уходить клиенты. Каждый месяц. Немного, но заметно. Банковские маркетологи посчитали: сохранять текущих клиентов дешевле, чем привлекать новых.\n",
    "\n",
    "Нужно спрогнозировать, уйдёт клиент из банка в ближайшее время или нет. Вам предоставлены исторические данные о поведении клиентов и расторжении договоров с банком. \n",
    "\n",
    "Постройте модель с предельно большим значением *F1*-меры. Чтобы сдать проект успешно, нужно довести метрику до 0.59. Проверьте *F1*-меру на тестовой выборке самостоятельно.\n",
    "\n",
    "Дополнительно измеряйте *AUC-ROC*, сравнивайте её значение с *F1*-мерой.\n",
    "\n",
    "Источник данных: [https://www.kaggle.com/barelydedicated/bank-customer-churn-modeling](https://www.kaggle.com/barelydedicated/bank-customer-churn-modeling)"
   ]
  },
  {
   "cell_type": "markdown",
   "metadata": {},
   "source": [
    "## Подготовка данных"
   ]
  },
  {
   "cell_type": "code",
   "execution_count": 1,
   "metadata": {},
   "outputs": [],
   "source": [
    "import pandas as pd\n",
    "from sklearn.model_selection import train_test_split\n",
    "from sklearn.tree import DecisionTreeClassifier\n",
    "from sklearn.ensemble import RandomForestClassifier\n",
    "from sklearn.linear_model import LogisticRegression\n",
    "from sklearn.dummy import DummyClassifier\n",
    "from sklearn.preprocessing import OrdinalEncoder\n",
    "import matplotlib as pt\n",
    "import numpy as np\n",
    "from scipy import stats\n",
    "from sklearn.metrics import confusion_matrix\n",
    "from sklearn.metrics import recall_score\n",
    "from sklearn.metrics import precision_score\n",
    "from sklearn.metrics import f1_score\n",
    "from sklearn.metrics import precision_recall_curve\n",
    "import matplotlib.pyplot as plt\n",
    "from sklearn.metrics import roc_auc_score\n",
    "from sklearn.metrics import roc_curve"
   ]
  },
  {
   "cell_type": "code",
   "execution_count": 2,
   "metadata": {
    "scrolled": true
   },
   "outputs": [
    {
     "data": {
      "text/html": [
       "<div>\n",
       "<style scoped>\n",
       "    .dataframe tbody tr th:only-of-type {\n",
       "        vertical-align: middle;\n",
       "    }\n",
       "\n",
       "    .dataframe tbody tr th {\n",
       "        vertical-align: top;\n",
       "    }\n",
       "\n",
       "    .dataframe thead th {\n",
       "        text-align: right;\n",
       "    }\n",
       "</style>\n",
       "<table border=\"1\" class=\"dataframe\">\n",
       "  <thead>\n",
       "    <tr style=\"text-align: right;\">\n",
       "      <th></th>\n",
       "      <th>RowNumber</th>\n",
       "      <th>CustomerId</th>\n",
       "      <th>Surname</th>\n",
       "      <th>CreditScore</th>\n",
       "      <th>Geography</th>\n",
       "      <th>Gender</th>\n",
       "      <th>Age</th>\n",
       "      <th>Tenure</th>\n",
       "      <th>Balance</th>\n",
       "      <th>NumOfProducts</th>\n",
       "      <th>HasCrCard</th>\n",
       "      <th>IsActiveMember</th>\n",
       "      <th>EstimatedSalary</th>\n",
       "      <th>Exited</th>\n",
       "    </tr>\n",
       "  </thead>\n",
       "  <tbody>\n",
       "    <tr>\n",
       "      <td>0</td>\n",
       "      <td>1</td>\n",
       "      <td>15634602</td>\n",
       "      <td>Hargrave</td>\n",
       "      <td>619</td>\n",
       "      <td>France</td>\n",
       "      <td>Female</td>\n",
       "      <td>42</td>\n",
       "      <td>2.0</td>\n",
       "      <td>0.00</td>\n",
       "      <td>1</td>\n",
       "      <td>1</td>\n",
       "      <td>1</td>\n",
       "      <td>101348.88</td>\n",
       "      <td>1</td>\n",
       "    </tr>\n",
       "    <tr>\n",
       "      <td>1</td>\n",
       "      <td>2</td>\n",
       "      <td>15647311</td>\n",
       "      <td>Hill</td>\n",
       "      <td>608</td>\n",
       "      <td>Spain</td>\n",
       "      <td>Female</td>\n",
       "      <td>41</td>\n",
       "      <td>1.0</td>\n",
       "      <td>83807.86</td>\n",
       "      <td>1</td>\n",
       "      <td>0</td>\n",
       "      <td>1</td>\n",
       "      <td>112542.58</td>\n",
       "      <td>0</td>\n",
       "    </tr>\n",
       "    <tr>\n",
       "      <td>2</td>\n",
       "      <td>3</td>\n",
       "      <td>15619304</td>\n",
       "      <td>Onio</td>\n",
       "      <td>502</td>\n",
       "      <td>France</td>\n",
       "      <td>Female</td>\n",
       "      <td>42</td>\n",
       "      <td>8.0</td>\n",
       "      <td>159660.80</td>\n",
       "      <td>3</td>\n",
       "      <td>1</td>\n",
       "      <td>0</td>\n",
       "      <td>113931.57</td>\n",
       "      <td>1</td>\n",
       "    </tr>\n",
       "    <tr>\n",
       "      <td>3</td>\n",
       "      <td>4</td>\n",
       "      <td>15701354</td>\n",
       "      <td>Boni</td>\n",
       "      <td>699</td>\n",
       "      <td>France</td>\n",
       "      <td>Female</td>\n",
       "      <td>39</td>\n",
       "      <td>1.0</td>\n",
       "      <td>0.00</td>\n",
       "      <td>2</td>\n",
       "      <td>0</td>\n",
       "      <td>0</td>\n",
       "      <td>93826.63</td>\n",
       "      <td>0</td>\n",
       "    </tr>\n",
       "    <tr>\n",
       "      <td>4</td>\n",
       "      <td>5</td>\n",
       "      <td>15737888</td>\n",
       "      <td>Mitchell</td>\n",
       "      <td>850</td>\n",
       "      <td>Spain</td>\n",
       "      <td>Female</td>\n",
       "      <td>43</td>\n",
       "      <td>2.0</td>\n",
       "      <td>125510.82</td>\n",
       "      <td>1</td>\n",
       "      <td>1</td>\n",
       "      <td>1</td>\n",
       "      <td>79084.10</td>\n",
       "      <td>0</td>\n",
       "    </tr>\n",
       "    <tr>\n",
       "      <td>5</td>\n",
       "      <td>6</td>\n",
       "      <td>15574012</td>\n",
       "      <td>Chu</td>\n",
       "      <td>645</td>\n",
       "      <td>Spain</td>\n",
       "      <td>Male</td>\n",
       "      <td>44</td>\n",
       "      <td>8.0</td>\n",
       "      <td>113755.78</td>\n",
       "      <td>2</td>\n",
       "      <td>1</td>\n",
       "      <td>0</td>\n",
       "      <td>149756.71</td>\n",
       "      <td>1</td>\n",
       "    </tr>\n",
       "    <tr>\n",
       "      <td>6</td>\n",
       "      <td>7</td>\n",
       "      <td>15592531</td>\n",
       "      <td>Bartlett</td>\n",
       "      <td>822</td>\n",
       "      <td>France</td>\n",
       "      <td>Male</td>\n",
       "      <td>50</td>\n",
       "      <td>7.0</td>\n",
       "      <td>0.00</td>\n",
       "      <td>2</td>\n",
       "      <td>1</td>\n",
       "      <td>1</td>\n",
       "      <td>10062.80</td>\n",
       "      <td>0</td>\n",
       "    </tr>\n",
       "    <tr>\n",
       "      <td>7</td>\n",
       "      <td>8</td>\n",
       "      <td>15656148</td>\n",
       "      <td>Obinna</td>\n",
       "      <td>376</td>\n",
       "      <td>Germany</td>\n",
       "      <td>Female</td>\n",
       "      <td>29</td>\n",
       "      <td>4.0</td>\n",
       "      <td>115046.74</td>\n",
       "      <td>4</td>\n",
       "      <td>1</td>\n",
       "      <td>0</td>\n",
       "      <td>119346.88</td>\n",
       "      <td>1</td>\n",
       "    </tr>\n",
       "    <tr>\n",
       "      <td>8</td>\n",
       "      <td>9</td>\n",
       "      <td>15792365</td>\n",
       "      <td>He</td>\n",
       "      <td>501</td>\n",
       "      <td>France</td>\n",
       "      <td>Male</td>\n",
       "      <td>44</td>\n",
       "      <td>4.0</td>\n",
       "      <td>142051.07</td>\n",
       "      <td>2</td>\n",
       "      <td>0</td>\n",
       "      <td>1</td>\n",
       "      <td>74940.50</td>\n",
       "      <td>0</td>\n",
       "    </tr>\n",
       "    <tr>\n",
       "      <td>9</td>\n",
       "      <td>10</td>\n",
       "      <td>15592389</td>\n",
       "      <td>H?</td>\n",
       "      <td>684</td>\n",
       "      <td>France</td>\n",
       "      <td>Male</td>\n",
       "      <td>27</td>\n",
       "      <td>2.0</td>\n",
       "      <td>134603.88</td>\n",
       "      <td>1</td>\n",
       "      <td>1</td>\n",
       "      <td>1</td>\n",
       "      <td>71725.73</td>\n",
       "      <td>0</td>\n",
       "    </tr>\n",
       "  </tbody>\n",
       "</table>\n",
       "</div>"
      ],
      "text/plain": [
       "   RowNumber  CustomerId   Surname  CreditScore Geography  Gender  Age  \\\n",
       "0          1    15634602  Hargrave          619    France  Female   42   \n",
       "1          2    15647311      Hill          608     Spain  Female   41   \n",
       "2          3    15619304      Onio          502    France  Female   42   \n",
       "3          4    15701354      Boni          699    France  Female   39   \n",
       "4          5    15737888  Mitchell          850     Spain  Female   43   \n",
       "5          6    15574012       Chu          645     Spain    Male   44   \n",
       "6          7    15592531  Bartlett          822    France    Male   50   \n",
       "7          8    15656148    Obinna          376   Germany  Female   29   \n",
       "8          9    15792365        He          501    France    Male   44   \n",
       "9         10    15592389        H?          684    France    Male   27   \n",
       "\n",
       "   Tenure    Balance  NumOfProducts  HasCrCard  IsActiveMember  \\\n",
       "0     2.0       0.00              1          1               1   \n",
       "1     1.0   83807.86              1          0               1   \n",
       "2     8.0  159660.80              3          1               0   \n",
       "3     1.0       0.00              2          0               0   \n",
       "4     2.0  125510.82              1          1               1   \n",
       "5     8.0  113755.78              2          1               0   \n",
       "6     7.0       0.00              2          1               1   \n",
       "7     4.0  115046.74              4          1               0   \n",
       "8     4.0  142051.07              2          0               1   \n",
       "9     2.0  134603.88              1          1               1   \n",
       "\n",
       "   EstimatedSalary  Exited  \n",
       "0        101348.88       1  \n",
       "1        112542.58       0  \n",
       "2        113931.57       1  \n",
       "3         93826.63       0  \n",
       "4         79084.10       0  \n",
       "5        149756.71       1  \n",
       "6         10062.80       0  \n",
       "7        119346.88       1  \n",
       "8         74940.50       0  \n",
       "9         71725.73       0  "
      ]
     },
     "execution_count": 2,
     "metadata": {},
     "output_type": "execute_result"
    }
   ],
   "source": [
    "df = pd.read_csv('/datasets/Churn.csv')\n",
    "df.head(10)"
   ]
  },
  {
   "cell_type": "code",
   "execution_count": 3,
   "metadata": {},
   "outputs": [
    {
     "name": "stdout",
     "output_type": "stream",
     "text": [
      "RowNumber            int64\n",
      "CustomerId           int64\n",
      "Surname             object\n",
      "CreditScore          int64\n",
      "Geography           object\n",
      "Gender              object\n",
      "Age                  int64\n",
      "Tenure             float64\n",
      "Balance            float64\n",
      "NumOfProducts        int64\n",
      "HasCrCard            int64\n",
      "IsActiveMember       int64\n",
      "EstimatedSalary    float64\n",
      "Exited               int64\n",
      "dtype: object\n",
      "---------------------------------------------------------------------------\n",
      "0    Female\n",
      "1    Female\n",
      "2    Female\n",
      "3    Female\n",
      "4    Female\n",
      "5      Male\n",
      "6      Male\n",
      "7    Female\n",
      "8      Male\n",
      "9      Male\n",
      "Name: Gender, dtype: object\n"
     ]
    }
   ],
   "source": [
    "print(df.dtypes)\n",
    "print('---------------------------------------------------------------------------')\n",
    "print(df['Gender'].head(10))"
   ]
  },
  {
   "cell_type": "code",
   "execution_count": 4,
   "metadata": {},
   "outputs": [
    {
     "data": {
      "text/html": [
       "<div>\n",
       "<style scoped>\n",
       "    .dataframe tbody tr th:only-of-type {\n",
       "        vertical-align: middle;\n",
       "    }\n",
       "\n",
       "    .dataframe tbody tr th {\n",
       "        vertical-align: top;\n",
       "    }\n",
       "\n",
       "    .dataframe thead th {\n",
       "        text-align: right;\n",
       "    }\n",
       "</style>\n",
       "<table border=\"1\" class=\"dataframe\">\n",
       "  <thead>\n",
       "    <tr style=\"text-align: right;\">\n",
       "      <th></th>\n",
       "      <th>RowNumber</th>\n",
       "      <th>CustomerId</th>\n",
       "      <th>CreditScore</th>\n",
       "      <th>Age</th>\n",
       "      <th>Tenure</th>\n",
       "      <th>Balance</th>\n",
       "      <th>NumOfProducts</th>\n",
       "      <th>HasCrCard</th>\n",
       "      <th>IsActiveMember</th>\n",
       "      <th>EstimatedSalary</th>\n",
       "      <th>Exited</th>\n",
       "    </tr>\n",
       "  </thead>\n",
       "  <tbody>\n",
       "    <tr>\n",
       "      <td>count</td>\n",
       "      <td>10000.00000</td>\n",
       "      <td>1.000000e+04</td>\n",
       "      <td>10000.000000</td>\n",
       "      <td>10000.000000</td>\n",
       "      <td>9091.000000</td>\n",
       "      <td>10000.000000</td>\n",
       "      <td>10000.000000</td>\n",
       "      <td>10000.00000</td>\n",
       "      <td>10000.000000</td>\n",
       "      <td>10000.000000</td>\n",
       "      <td>10000.000000</td>\n",
       "    </tr>\n",
       "    <tr>\n",
       "      <td>mean</td>\n",
       "      <td>5000.50000</td>\n",
       "      <td>1.569094e+07</td>\n",
       "      <td>650.528800</td>\n",
       "      <td>38.921800</td>\n",
       "      <td>4.997690</td>\n",
       "      <td>76485.889288</td>\n",
       "      <td>1.530200</td>\n",
       "      <td>0.70550</td>\n",
       "      <td>0.515100</td>\n",
       "      <td>100090.239881</td>\n",
       "      <td>0.203700</td>\n",
       "    </tr>\n",
       "    <tr>\n",
       "      <td>std</td>\n",
       "      <td>2886.89568</td>\n",
       "      <td>7.193619e+04</td>\n",
       "      <td>96.653299</td>\n",
       "      <td>10.487806</td>\n",
       "      <td>2.894723</td>\n",
       "      <td>62397.405202</td>\n",
       "      <td>0.581654</td>\n",
       "      <td>0.45584</td>\n",
       "      <td>0.499797</td>\n",
       "      <td>57510.492818</td>\n",
       "      <td>0.402769</td>\n",
       "    </tr>\n",
       "    <tr>\n",
       "      <td>min</td>\n",
       "      <td>1.00000</td>\n",
       "      <td>1.556570e+07</td>\n",
       "      <td>350.000000</td>\n",
       "      <td>18.000000</td>\n",
       "      <td>0.000000</td>\n",
       "      <td>0.000000</td>\n",
       "      <td>1.000000</td>\n",
       "      <td>0.00000</td>\n",
       "      <td>0.000000</td>\n",
       "      <td>11.580000</td>\n",
       "      <td>0.000000</td>\n",
       "    </tr>\n",
       "    <tr>\n",
       "      <td>25%</td>\n",
       "      <td>2500.75000</td>\n",
       "      <td>1.562853e+07</td>\n",
       "      <td>584.000000</td>\n",
       "      <td>32.000000</td>\n",
       "      <td>2.000000</td>\n",
       "      <td>0.000000</td>\n",
       "      <td>1.000000</td>\n",
       "      <td>0.00000</td>\n",
       "      <td>0.000000</td>\n",
       "      <td>51002.110000</td>\n",
       "      <td>0.000000</td>\n",
       "    </tr>\n",
       "    <tr>\n",
       "      <td>50%</td>\n",
       "      <td>5000.50000</td>\n",
       "      <td>1.569074e+07</td>\n",
       "      <td>652.000000</td>\n",
       "      <td>37.000000</td>\n",
       "      <td>5.000000</td>\n",
       "      <td>97198.540000</td>\n",
       "      <td>1.000000</td>\n",
       "      <td>1.00000</td>\n",
       "      <td>1.000000</td>\n",
       "      <td>100193.915000</td>\n",
       "      <td>0.000000</td>\n",
       "    </tr>\n",
       "    <tr>\n",
       "      <td>75%</td>\n",
       "      <td>7500.25000</td>\n",
       "      <td>1.575323e+07</td>\n",
       "      <td>718.000000</td>\n",
       "      <td>44.000000</td>\n",
       "      <td>7.000000</td>\n",
       "      <td>127644.240000</td>\n",
       "      <td>2.000000</td>\n",
       "      <td>1.00000</td>\n",
       "      <td>1.000000</td>\n",
       "      <td>149388.247500</td>\n",
       "      <td>0.000000</td>\n",
       "    </tr>\n",
       "    <tr>\n",
       "      <td>max</td>\n",
       "      <td>10000.00000</td>\n",
       "      <td>1.581569e+07</td>\n",
       "      <td>850.000000</td>\n",
       "      <td>92.000000</td>\n",
       "      <td>10.000000</td>\n",
       "      <td>250898.090000</td>\n",
       "      <td>4.000000</td>\n",
       "      <td>1.00000</td>\n",
       "      <td>1.000000</td>\n",
       "      <td>199992.480000</td>\n",
       "      <td>1.000000</td>\n",
       "    </tr>\n",
       "  </tbody>\n",
       "</table>\n",
       "</div>"
      ],
      "text/plain": [
       "         RowNumber    CustomerId   CreditScore           Age       Tenure  \\\n",
       "count  10000.00000  1.000000e+04  10000.000000  10000.000000  9091.000000   \n",
       "mean    5000.50000  1.569094e+07    650.528800     38.921800     4.997690   \n",
       "std     2886.89568  7.193619e+04     96.653299     10.487806     2.894723   \n",
       "min        1.00000  1.556570e+07    350.000000     18.000000     0.000000   \n",
       "25%     2500.75000  1.562853e+07    584.000000     32.000000     2.000000   \n",
       "50%     5000.50000  1.569074e+07    652.000000     37.000000     5.000000   \n",
       "75%     7500.25000  1.575323e+07    718.000000     44.000000     7.000000   \n",
       "max    10000.00000  1.581569e+07    850.000000     92.000000    10.000000   \n",
       "\n",
       "             Balance  NumOfProducts    HasCrCard  IsActiveMember  \\\n",
       "count   10000.000000   10000.000000  10000.00000    10000.000000   \n",
       "mean    76485.889288       1.530200      0.70550        0.515100   \n",
       "std     62397.405202       0.581654      0.45584        0.499797   \n",
       "min         0.000000       1.000000      0.00000        0.000000   \n",
       "25%         0.000000       1.000000      0.00000        0.000000   \n",
       "50%     97198.540000       1.000000      1.00000        1.000000   \n",
       "75%    127644.240000       2.000000      1.00000        1.000000   \n",
       "max    250898.090000       4.000000      1.00000        1.000000   \n",
       "\n",
       "       EstimatedSalary        Exited  \n",
       "count     10000.000000  10000.000000  \n",
       "mean     100090.239881      0.203700  \n",
       "std       57510.492818      0.402769  \n",
       "min          11.580000      0.000000  \n",
       "25%       51002.110000      0.000000  \n",
       "50%      100193.915000      0.000000  \n",
       "75%      149388.247500      0.000000  \n",
       "max      199992.480000      1.000000  "
      ]
     },
     "execution_count": 4,
     "metadata": {},
     "output_type": "execute_result"
    }
   ],
   "source": [
    "df.describe()"
   ]
  },
  {
   "cell_type": "code",
   "execution_count": 5,
   "metadata": {},
   "outputs": [
    {
     "data": {
      "text/plain": [
       "RowNumber            0\n",
       "CustomerId           0\n",
       "Surname              0\n",
       "CreditScore          0\n",
       "Geography            0\n",
       "Gender               0\n",
       "Age                  0\n",
       "Tenure             909\n",
       "Balance              0\n",
       "NumOfProducts        0\n",
       "HasCrCard            0\n",
       "IsActiveMember       0\n",
       "EstimatedSalary      0\n",
       "Exited               0\n",
       "dtype: int64"
      ]
     },
     "execution_count": 5,
     "metadata": {},
     "output_type": "execute_result"
    }
   ],
   "source": [
    "df.isna().sum()"
   ]
  },
  {
   "cell_type": "code",
   "execution_count": 6,
   "metadata": {},
   "outputs": [
    {
     "data": {
      "text/plain": [
       "0"
      ]
     },
     "execution_count": 6,
     "metadata": {},
     "output_type": "execute_result"
    }
   ],
   "source": [
    "df.duplicated().sum()"
   ]
  },
  {
   "cell_type": "code",
   "execution_count": 7,
   "metadata": {},
   "outputs": [],
   "source": [
    "#df['Tenure'] = df['Tenure'].astype('Int64')"
   ]
  },
  {
   "cell_type": "code",
   "execution_count": 8,
   "metadata": {},
   "outputs": [],
   "source": [
    "df = df.dropna(subset=['Tenure'])"
   ]
  },
  {
   "cell_type": "code",
   "execution_count": 9,
   "metadata": {},
   "outputs": [],
   "source": [
    "df.drop(columns=['Surname', 'Geography'], inplace=True)"
   ]
  },
  {
   "cell_type": "code",
   "execution_count": 10,
   "metadata": {},
   "outputs": [
    {
     "data": {
      "text/plain": [
       "Index(['RowNumber', 'CustomerId', 'CreditScore', 'Gender', 'Age', 'Tenure',\n",
       "       'Balance', 'NumOfProducts', 'HasCrCard', 'IsActiveMember',\n",
       "       'EstimatedSalary', 'Exited'],\n",
       "      dtype='object')"
      ]
     },
     "execution_count": 10,
     "metadata": {},
     "output_type": "execute_result"
    }
   ],
   "source": [
    "df.columns"
   ]
  },
  {
   "cell_type": "code",
   "execution_count": 11,
   "metadata": {},
   "outputs": [],
   "source": [
    "data_ohe = pd.get_dummies(df, drop_first=True)"
   ]
  },
  {
   "cell_type": "code",
   "execution_count": 12,
   "metadata": {},
   "outputs": [
    {
     "data": {
      "text/plain": [
       "Index(['RowNumber', 'CustomerId', 'CreditScore', 'Age', 'Tenure', 'Balance',\n",
       "       'NumOfProducts', 'HasCrCard', 'IsActiveMember', 'EstimatedSalary',\n",
       "       'Exited', 'Gender_Male'],\n",
       "      dtype='object')"
      ]
     },
     "execution_count": 12,
     "metadata": {},
     "output_type": "execute_result"
    }
   ],
   "source": [
    "data_ohe.columns"
   ]
  },
  {
   "cell_type": "code",
   "execution_count": 13,
   "metadata": {},
   "outputs": [
    {
     "name": "stdout",
     "output_type": "stream",
     "text": [
      "   RowNumber  CustomerId  CreditScore  Age  Tenure    Balance  NumOfProducts  \\\n",
      "0          1    15634602          619   42     2.0       0.00              1   \n",
      "1          2    15647311          608   41     1.0   83807.86              1   \n",
      "2          3    15619304          502   42     8.0  159660.80              3   \n",
      "3          4    15701354          699   39     1.0       0.00              2   \n",
      "4          5    15737888          850   43     2.0  125510.82              1   \n",
      "\n",
      "   HasCrCard  IsActiveMember  EstimatedSalary  Exited  Gender_Male  \n",
      "0          1               1        101348.88       1            0  \n",
      "1          0               1        112542.58       0            0  \n",
      "2          1               0        113931.57       1            0  \n",
      "3          0               0         93826.63       0            0  \n",
      "4          1               1         79084.10       0            0  \n"
     ]
    }
   ],
   "source": [
    "print(data_ohe.head(5))"
   ]
  },
  {
   "cell_type": "code",
   "execution_count": 14,
   "metadata": {},
   "outputs": [
    {
     "data": {
      "text/plain": [
       "RowNumber          0\n",
       "CustomerId         0\n",
       "CreditScore        0\n",
       "Age                0\n",
       "Tenure             0\n",
       "Balance            0\n",
       "NumOfProducts      0\n",
       "HasCrCard          0\n",
       "IsActiveMember     0\n",
       "EstimatedSalary    0\n",
       "Exited             0\n",
       "Gender_Male        0\n",
       "dtype: int64"
      ]
     },
     "execution_count": 14,
     "metadata": {},
     "output_type": "execute_result"
    }
   ],
   "source": [
    "data_ohe.isna().sum()"
   ]
  },
  {
   "cell_type": "code",
   "execution_count": 15,
   "metadata": {},
   "outputs": [
    {
     "data": {
      "text/html": [
       "<div>\n",
       "<style scoped>\n",
       "    .dataframe tbody tr th:only-of-type {\n",
       "        vertical-align: middle;\n",
       "    }\n",
       "\n",
       "    .dataframe tbody tr th {\n",
       "        vertical-align: top;\n",
       "    }\n",
       "\n",
       "    .dataframe thead th {\n",
       "        text-align: right;\n",
       "    }\n",
       "</style>\n",
       "<table border=\"1\" class=\"dataframe\">\n",
       "  <thead>\n",
       "    <tr style=\"text-align: right;\">\n",
       "      <th></th>\n",
       "      <th>RowNumber</th>\n",
       "      <th>CustomerId</th>\n",
       "      <th>CreditScore</th>\n",
       "      <th>Age</th>\n",
       "      <th>Tenure</th>\n",
       "      <th>Balance</th>\n",
       "      <th>NumOfProducts</th>\n",
       "      <th>HasCrCard</th>\n",
       "      <th>IsActiveMember</th>\n",
       "      <th>EstimatedSalary</th>\n",
       "      <th>Exited</th>\n",
       "      <th>Gender_Male</th>\n",
       "    </tr>\n",
       "  </thead>\n",
       "  <tbody>\n",
       "    <tr>\n",
       "      <td>count</td>\n",
       "      <td>9091.000000</td>\n",
       "      <td>9.091000e+03</td>\n",
       "      <td>9091.000000</td>\n",
       "      <td>9091.000000</td>\n",
       "      <td>9091.000000</td>\n",
       "      <td>9091.000000</td>\n",
       "      <td>9091.000000</td>\n",
       "      <td>9091.000000</td>\n",
       "      <td>9091.000000</td>\n",
       "      <td>9091.000000</td>\n",
       "      <td>9091.000000</td>\n",
       "      <td>9091.000000</td>\n",
       "    </tr>\n",
       "    <tr>\n",
       "      <td>mean</td>\n",
       "      <td>5013.909911</td>\n",
       "      <td>1.569105e+07</td>\n",
       "      <td>650.736553</td>\n",
       "      <td>38.949181</td>\n",
       "      <td>4.997690</td>\n",
       "      <td>76522.740015</td>\n",
       "      <td>1.530195</td>\n",
       "      <td>0.704983</td>\n",
       "      <td>0.515565</td>\n",
       "      <td>100181.214924</td>\n",
       "      <td>0.203938</td>\n",
       "      <td>0.547135</td>\n",
       "    </tr>\n",
       "    <tr>\n",
       "      <td>std</td>\n",
       "      <td>2884.433466</td>\n",
       "      <td>7.161419e+04</td>\n",
       "      <td>96.410471</td>\n",
       "      <td>10.555581</td>\n",
       "      <td>2.894723</td>\n",
       "      <td>62329.528576</td>\n",
       "      <td>0.581003</td>\n",
       "      <td>0.456076</td>\n",
       "      <td>0.499785</td>\n",
       "      <td>57624.755647</td>\n",
       "      <td>0.402946</td>\n",
       "      <td>0.497801</td>\n",
       "    </tr>\n",
       "    <tr>\n",
       "      <td>min</td>\n",
       "      <td>1.000000</td>\n",
       "      <td>1.556570e+07</td>\n",
       "      <td>350.000000</td>\n",
       "      <td>18.000000</td>\n",
       "      <td>0.000000</td>\n",
       "      <td>0.000000</td>\n",
       "      <td>1.000000</td>\n",
       "      <td>0.000000</td>\n",
       "      <td>0.000000</td>\n",
       "      <td>11.580000</td>\n",
       "      <td>0.000000</td>\n",
       "      <td>0.000000</td>\n",
       "    </tr>\n",
       "    <tr>\n",
       "      <td>25%</td>\n",
       "      <td>2521.500000</td>\n",
       "      <td>1.562899e+07</td>\n",
       "      <td>584.000000</td>\n",
       "      <td>32.000000</td>\n",
       "      <td>2.000000</td>\n",
       "      <td>0.000000</td>\n",
       "      <td>1.000000</td>\n",
       "      <td>0.000000</td>\n",
       "      <td>0.000000</td>\n",
       "      <td>51227.745000</td>\n",
       "      <td>0.000000</td>\n",
       "      <td>0.000000</td>\n",
       "    </tr>\n",
       "    <tr>\n",
       "      <td>50%</td>\n",
       "      <td>5019.000000</td>\n",
       "      <td>1.569106e+07</td>\n",
       "      <td>652.000000</td>\n",
       "      <td>37.000000</td>\n",
       "      <td>5.000000</td>\n",
       "      <td>97318.250000</td>\n",
       "      <td>1.000000</td>\n",
       "      <td>1.000000</td>\n",
       "      <td>1.000000</td>\n",
       "      <td>100240.200000</td>\n",
       "      <td>0.000000</td>\n",
       "      <td>1.000000</td>\n",
       "    </tr>\n",
       "    <tr>\n",
       "      <td>75%</td>\n",
       "      <td>7511.500000</td>\n",
       "      <td>1.575285e+07</td>\n",
       "      <td>717.000000</td>\n",
       "      <td>44.000000</td>\n",
       "      <td>7.000000</td>\n",
       "      <td>127561.890000</td>\n",
       "      <td>2.000000</td>\n",
       "      <td>1.000000</td>\n",
       "      <td>1.000000</td>\n",
       "      <td>149567.210000</td>\n",
       "      <td>0.000000</td>\n",
       "      <td>1.000000</td>\n",
       "    </tr>\n",
       "    <tr>\n",
       "      <td>max</td>\n",
       "      <td>9999.000000</td>\n",
       "      <td>1.581566e+07</td>\n",
       "      <td>850.000000</td>\n",
       "      <td>92.000000</td>\n",
       "      <td>10.000000</td>\n",
       "      <td>250898.090000</td>\n",
       "      <td>4.000000</td>\n",
       "      <td>1.000000</td>\n",
       "      <td>1.000000</td>\n",
       "      <td>199992.480000</td>\n",
       "      <td>1.000000</td>\n",
       "      <td>1.000000</td>\n",
       "    </tr>\n",
       "  </tbody>\n",
       "</table>\n",
       "</div>"
      ],
      "text/plain": [
       "         RowNumber    CustomerId  CreditScore          Age       Tenure  \\\n",
       "count  9091.000000  9.091000e+03  9091.000000  9091.000000  9091.000000   \n",
       "mean   5013.909911  1.569105e+07   650.736553    38.949181     4.997690   \n",
       "std    2884.433466  7.161419e+04    96.410471    10.555581     2.894723   \n",
       "min       1.000000  1.556570e+07   350.000000    18.000000     0.000000   \n",
       "25%    2521.500000  1.562899e+07   584.000000    32.000000     2.000000   \n",
       "50%    5019.000000  1.569106e+07   652.000000    37.000000     5.000000   \n",
       "75%    7511.500000  1.575285e+07   717.000000    44.000000     7.000000   \n",
       "max    9999.000000  1.581566e+07   850.000000    92.000000    10.000000   \n",
       "\n",
       "             Balance  NumOfProducts    HasCrCard  IsActiveMember  \\\n",
       "count    9091.000000    9091.000000  9091.000000     9091.000000   \n",
       "mean    76522.740015       1.530195     0.704983        0.515565   \n",
       "std     62329.528576       0.581003     0.456076        0.499785   \n",
       "min         0.000000       1.000000     0.000000        0.000000   \n",
       "25%         0.000000       1.000000     0.000000        0.000000   \n",
       "50%     97318.250000       1.000000     1.000000        1.000000   \n",
       "75%    127561.890000       2.000000     1.000000        1.000000   \n",
       "max    250898.090000       4.000000     1.000000        1.000000   \n",
       "\n",
       "       EstimatedSalary       Exited  Gender_Male  \n",
       "count      9091.000000  9091.000000  9091.000000  \n",
       "mean     100181.214924     0.203938     0.547135  \n",
       "std       57624.755647     0.402946     0.497801  \n",
       "min          11.580000     0.000000     0.000000  \n",
       "25%       51227.745000     0.000000     0.000000  \n",
       "50%      100240.200000     0.000000     1.000000  \n",
       "75%      149567.210000     0.000000     1.000000  \n",
       "max      199992.480000     1.000000     1.000000  "
      ]
     },
     "execution_count": 15,
     "metadata": {},
     "output_type": "execute_result"
    }
   ],
   "source": [
    "data_ohe.describe()"
   ]
  },
  {
   "cell_type": "code",
   "execution_count": 16,
   "metadata": {},
   "outputs": [],
   "source": [
    "#target = data_ohe['Exited']\n",
    "#features = data_ohe.drop('Exited', axis=1)\n",
    "\n",
    "\n",
    "#target_train, features_train, target_rest, features_rest= train_test_split(target,features, test_size=0.40, random_state=12345)\n",
    "#target_valid, features_valid, target_test, features_test = train_test_split(target_rest, features_rest, test_size=0.50, random_state=12345)"
   ]
  },
  {
   "cell_type": "code",
   "execution_count": 17,
   "metadata": {},
   "outputs": [],
   "source": [
    "train, rest= train_test_split(data_ohe, test_size=0.40, random_state=12345)\n",
    "valid, test = train_test_split(rest, test_size=0.50, random_state=12345)\n",
    "\n",
    "features_train = train.drop(columns=['Exited'])\n",
    "target_train = train['Exited']\n",
    "features_valid = valid.drop(columns=['Exited'])\n",
    "target_valid = valid['Exited']\n",
    "features_test = test.drop(columns=['Exited'])\n",
    "target_test = test['Exited']"
   ]
  },
  {
   "cell_type": "code",
   "execution_count": 18,
   "metadata": {},
   "outputs": [],
   "source": [
    "#features_train= features_train.values.reshape(-1, 1)\n",
    "#target_train = target_train.values.reshape(-1, 1)"
   ]
  },
  {
   "cell_type": "code",
   "execution_count": 19,
   "metadata": {},
   "outputs": [],
   "source": [
    "\n",
    "#stats.describe(features_train)\n"
   ]
  },
  {
   "cell_type": "code",
   "execution_count": 20,
   "metadata": {},
   "outputs": [
    {
     "data": {
      "text/plain": [
       "\"\\nbest_model = None\\nbest_result = 0\\nfor est in range(10, 50):\\n    for depth in range(10, 50):\\n        model_rforest = RandomForestClassifier(random_state=12345, n_estimators=est, max_depth=depth)\\n        model_rforest.fit(features_train, target_train)\\n        result = model_rforest.score(features_valid, target_valid) \\n        predictions_valid = model_rforest.predict(features_valid)\\n        if result > best_result:\\n            best_model = model_rforest\\n            best_result = result\\n            print(est)\\n            print(depth)\\n            print(best_result)\\n            print('-----------------')\\n\""
      ]
     },
     "execution_count": 20,
     "metadata": {},
     "output_type": "execute_result"
    }
   ],
   "source": [
    "'''\n",
    "best_model = None\n",
    "best_result = 0\n",
    "for est in range(10, 50):\n",
    "    for depth in range(10, 50):\n",
    "        model_rforest = RandomForestClassifier(random_state=12345, n_estimators=est, max_depth=depth)\n",
    "        model_rforest.fit(features_train, target_train)\n",
    "        result = model_rforest.score(features_valid, target_valid) \n",
    "        predictions_valid = model_rforest.predict(features_valid)\n",
    "        if result > best_result:\n",
    "            best_model = model_rforest\n",
    "            best_result = result\n",
    "            print(est)\n",
    "            print(depth)\n",
    "            print(best_result)\n",
    "            print('-----------------')\n",
    "'''"
   ]
  },
  {
   "cell_type": "code",
   "execution_count": 21,
   "metadata": {},
   "outputs": [
    {
     "data": {
      "text/plain": [
       "0.7926292629262927"
      ]
     },
     "execution_count": 21,
     "metadata": {},
     "output_type": "execute_result"
    }
   ],
   "source": [
    "model_lr = LogisticRegression(solver='liblinear', random_state=12345)\n",
    "model_lr.fit(features_train, target_train) \n",
    "model_lr.predict(features_valid)\n",
    "model_lr.score(features_valid, target_valid)"
   ]
  },
  {
   "cell_type": "markdown",
   "metadata": {},
   "source": [
    "## Исследование задачи"
   ]
  },
  {
   "cell_type": "markdown",
   "metadata": {},
   "source": [
    "<b>СДЕЛАЕМ ПРОВЕРКУ НА АДЕКВАТНОСТЬ МОДЕЛИ</b>"
   ]
  },
  {
   "cell_type": "code",
   "execution_count": 22,
   "metadata": {},
   "outputs": [
    {
     "name": "stdout",
     "output_type": "stream",
     "text": [
      "0    0.796062\n",
      "1    0.203938\n",
      "Name: Exited, dtype: float64\n"
     ]
    },
    {
     "data": {
      "text/plain": [
       "<matplotlib.axes._subplots.AxesSubplot at 0x7fb2e4c72e90>"
      ]
     },
     "execution_count": 22,
     "metadata": {},
     "output_type": "execute_result"
    },
    {
     "data": {
      "image/png": "[encoded data removed]",
      "text/plain": [
       "<Figure size 432x288 with 1 Axes>"
      ]
     },
     "metadata": {
      "needs_background": "light"
     },
     "output_type": "display_data"
    }
   ],
   "source": [
    "#смотрим целевой признак\n",
    "class_frequency = df['Exited'].value_counts(normalize= True)\n",
    "print(class_frequency)\n",
    "class_frequency.plot(kind='bar')"
   ]
  },
  {
   "cell_type": "markdown",
   "metadata": {},
   "source": [
    "<b></b>"
   ]
  },
  {
   "cell_type": "markdown",
   "metadata": {},
   "source": [
    "<b>ПРОАНАЛИЗИРУЕМ ЧАСТОТЫ КЛАССОВ В РЕЗУЛЬТАТЕ ПРЕДСКАЗАНИЙ</b>"
   ]
  },
  {
   "cell_type": "code",
   "execution_count": 23,
   "metadata": {},
   "outputs": [
    {
     "name": "stdout",
     "output_type": "stream",
     "text": [
      "0    0.888889\n",
      "1    0.111111\n",
      "dtype: float64\n"
     ]
    },
    {
     "data": {
      "text/plain": [
       "<matplotlib.axes._subplots.AxesSubplot at 0x7fb2dc877650>"
      ]
     },
     "execution_count": 23,
     "metadata": {},
     "output_type": "execute_result"
    },
    {
     "data": {
      "image/png": "[encoded data removed]",
      "text/plain": [
       "<Figure size 432x288 with 1 Axes>"
      ]
     },
     "metadata": {
      "needs_background": "light"
     },
     "output_type": "display_data"
    }
   ],
   "source": [
    "#посмотрим на модель, которая показала лучший результат на валидационной выборке\n",
    "model_rforest_2 = RandomForestClassifier(random_state=12345, n_estimators=38, max_depth=11)\n",
    "model_rforest_2.fit(features_train, target_train)\n",
    "predictions_valid = model_rforest_2.predict(features_valid)\n",
    "result = model_rforest_2.score(features_valid, target_valid)\n",
    "# чтобы работала функция value_counts(),\n",
    "# мы преобразовали результат к pd.Series \n",
    "predicted_valid = pd.Series(model_rforest_2.predict(features_valid))\n",
    "\n",
    "class_frequency = predicted_valid.value_counts(normalize= True)\n",
    "print(class_frequency)\n",
    "class_frequency.plot(kind='bar')"
   ]
  },
  {
   "cell_type": "markdown",
   "metadata": {},
   "source": [
    "## Борьба с дисбалансом"
   ]
  },
  {
   "cell_type": "markdown",
   "metadata": {},
   "source": [
    "<b>ПОСЧИТАЕМ МАТРИЦУ ОШИБОК</b>"
   ]
  },
  {
   "cell_type": "code",
   "execution_count": 24,
   "metadata": {},
   "outputs": [
    {
     "name": "stdout",
     "output_type": "stream",
     "text": [
      "[[1404   37]\n",
      " [ 212  165]]\n"
     ]
    }
   ],
   "source": [
    "print(confusion_matrix(target_valid, predicted_valid))"
   ]
  },
  {
   "cell_type": "markdown",
   "metadata": {},
   "source": [
    "<b></b>"
   ]
  },
  {
   "cell_type": "markdown",
   "metadata": {},
   "source": [
    "<b>F1-МЕРА</b>"
   ]
  },
  {
   "cell_type": "code",
   "execution_count": 25,
   "metadata": {},
   "outputs": [
    {
     "name": "stdout",
     "output_type": "stream",
     "text": [
      "Полнота: 0.4376657824933687\n",
      "Точность: 0.8168316831683168\n",
      "F1-мера: 0.5699481865284974\n"
     ]
    }
   ],
   "source": [
    "predicted_valid = model_rforest_2.predict(features_valid)\n",
    "precision = precision_score(target_valid, predicted_valid)\n",
    "recall = recall_score(target_valid, predicted_valid)\n",
    "f1 = f1_score(target_valid, predicted_valid)\n",
    "print(\"Полнота:\", recall)\n",
    "print(\"Точность:\", precision)\n",
    "print(\"F1-мера:\", f1)"
   ]
  },
  {
   "cell_type": "markdown",
   "metadata": {},
   "source": [
    "<b></b>"
   ]
  },
  {
   "cell_type": "markdown",
   "metadata": {},
   "source": [
    "<b>ПОПРОБУЕМ ВЗВЕСИТЬ КЛАССЫ</b>"
   ]
  },
  {
   "cell_type": "code",
   "execution_count": 26,
   "metadata": {},
   "outputs": [
    {
     "name": "stdout",
     "output_type": "stream",
     "text": [
      "F1-мера: 0.5802968960863697\n"
     ]
    }
   ],
   "source": [
    "model_rforest_3 = RandomForestClassifier(random_state=12345, n_estimators=38, max_depth=11, class_weight='balanced')\n",
    "model_rforest_3.fit(features_train, target_train)\n",
    "predictions_valid = model_rforest_3.predict(features_valid)\n",
    "f1_2 = f1_score(target_valid, predictions_valid)\n",
    "print(\"F1-мера:\", f1_2)\n",
    "#F1 увеличилось, но не намного"
   ]
  },
  {
   "attachments": {
    "Untitled-7704c3eb-db79-42eb-a8a9-d609745ea768_1573819303.png": {
     "image/png": "[encoded data removed]"
    }
   },
   "cell_type": "markdown",
   "metadata": {},
   "source": [
    "![Untitled-7704c3eb-db79-42eb-a8a9-d609745ea768_1573819303.png](attachment:Untitled-7704c3eb-db79-42eb-a8a9-d609745ea768_1573819303.png)"
   ]
  },
  {
   "cell_type": "markdown",
   "metadata": {},
   "source": [
    "<b></b>"
   ]
  },
  {
   "cell_type": "markdown",
   "metadata": {},
   "source": [
    "<b>НАЙДЕМ ЗНАЧЕНИЕ ВЕРОЯТНОСТЕЙ ДЛЯ КАЖДОГО КЛАССА МОДЕЛИ</b>"
   ]
  },
  {
   "cell_type": "code",
   "execution_count": 27,
   "metadata": {},
   "outputs": [
    {
     "name": "stdout",
     "output_type": "stream",
     "text": [
      "[[0.5114183  0.4885817 ]\n",
      " [0.8651857  0.1348143 ]\n",
      " [0.30474945 0.69525055]\n",
      " [0.74367224 0.25632776]\n",
      " [0.7973842  0.2026158 ]\n",
      " [0.96283038 0.03716962]\n",
      " [0.50273809 0.49726191]\n",
      " [0.9670709  0.0329291 ]\n",
      " [0.82545774 0.17454226]\n",
      " [0.96058428 0.03941572]]\n"
     ]
    }
   ],
   "source": [
    "probabilities_valid = model_rforest_3.predict_proba(features_valid)\n",
    "probabilities_one_valid = probabilities_valid[:]\n",
    "print(probabilities_one_valid[:10])"
   ]
  },
  {
   "cell_type": "markdown",
   "metadata": {},
   "source": [
    "<b></b>"
   ]
  },
  {
   "cell_type": "markdown",
   "metadata": {},
   "source": [
    "<b>ПOСТРОИМ PR-КРИВУЮ ДЛЯ МОДЕЛИ </b>"
   ]
  },
  {
   "cell_type": "code",
   "execution_count": 28,
   "metadata": {},
   "outputs": [
    {
     "data": {
      "image/png": "[encoded data removed]",
      "text/plain": [
       "<Figure size 432x432 with 1 Axes>"
      ]
     },
     "metadata": {
      "needs_background": "light"
     },
     "output_type": "display_data"
    }
   ],
   "source": [
    "probabilities_valid = model_rforest_3.predict_proba(features_valid)\n",
    "precision, recall, thresholds = precision_recall_curve(target_valid, probabilities_valid[:, 1])\n",
    "\n",
    "plt.figure(figsize=(6, 6))\n",
    "plt.step(recall, precision, where='post')\n",
    "plt.xlabel('Recall')\n",
    "plt.ylabel('Precision')\n",
    "plt.ylim([0.0, 1.05])\n",
    "plt.xlim([0.0, 1.0])\n",
    "plt.title('Кривая Precision-Recall')\n",
    "plt.show() "
   ]
  },
  {
   "cell_type": "markdown",
   "metadata": {},
   "source": [
    "<b></b>"
   ]
  },
  {
   "cell_type": "markdown",
   "metadata": {},
   "source": [
    "<b>ПОСТРОИМ ROC</b>"
   ]
  },
  {
   "cell_type": "code",
   "execution_count": 29,
   "metadata": {},
   "outputs": [
    {
     "data": {
      "image/png": "[encoded data removed]",
      "text/plain": [
       "<Figure size 432x288 with 1 Axes>"
      ]
     },
     "metadata": {
      "needs_background": "light"
     },
     "output_type": "display_data"
    }
   ],
   "source": [
    "probabilities_one_valid_one = probabilities_valid[:,1]\n",
    "fpr, tpr, thresholds = roc_curve(target_valid, probabilities_one_valid_one) \n",
    "\n",
    "plt.figure()\n",
    "\n",
    "plt.plot(fpr, tpr)\n",
    "\n",
    "# ROC-кривая случайной модели\n",
    "plt.plot([0, 1], [0, 1], linestyle='--')\n",
    "\n",
    "plt.xlim([0.0, 1.0])\n",
    "plt.ylim([0.0, 1.0])\n",
    "plt.xlabel('False Positive Rate')\n",
    "plt.ylabel('True Positive Rate')\n",
    "plt.title('ROC-кривая')\n",
    "\n",
    "plt.show()"
   ]
  },
  {
   "cell_type": "markdown",
   "metadata": {},
   "source": [
    "<b></b>"
   ]
  },
  {
   "cell_type": "code",
   "execution_count": 30,
   "metadata": {},
   "outputs": [
    {
     "name": "stdout",
     "output_type": "stream",
     "text": [
      "0.8355198368359728\n"
     ]
    }
   ],
   "source": [
    "\n",
    "probabilities_valid = model_rforest_3.predict_proba(features_valid)\n",
    "probabilities_one_valid_one = probabilities_valid[:,1]\n",
    "\n",
    "auc_roc = roc_auc_score(target_valid, probabilities_one_valid_one)\n",
    "\n",
    "print(auc_roc)"
   ]
  },
  {
   "cell_type": "markdown",
   "metadata": {},
   "source": [
    "<b></b>"
   ]
  },
  {
   "cell_type": "markdown",
   "metadata": {},
   "source": [
    "<b>УВЕЛИЧИМ ВЫБОРКУ ДЛЯ РЕДКОГО КЛАССА</b>"
   ]
  },
  {
   "cell_type": "code",
   "execution_count": 31,
   "metadata": {},
   "outputs": [],
   "source": [
    "#разделим выборку\n",
    "features_zeros = features_train[target_train == 0]\n",
    "features_ones = features_train[target_train == 1]\n",
    "target_zeros = target_train[target_train == 0]\n",
    "target_ones  = target_train[target_train == 1]"
   ]
  },
  {
   "cell_type": "markdown",
   "metadata": {},
   "source": [
    "<b></b>"
   ]
  },
  {
   "cell_type": "code",
   "execution_count": 32,
   "metadata": {},
   "outputs": [
    {
     "name": "stdout",
     "output_type": "stream",
     "text": [
      "(9958,)\n",
      "(5454,)\n",
      "(1818,)\n"
     ]
    }
   ],
   "source": [
    "#увеличим выборку с target\n",
    "target_upsampled = pd.concat([target_zeros] + [target_ones] * 5)\n",
    "print(target_upsampled.shape)\n",
    "print(target_train.shape)\n",
    "print(target_valid.shape)"
   ]
  },
  {
   "cell_type": "code",
   "execution_count": 33,
   "metadata": {},
   "outputs": [
    {
     "name": "stdout",
     "output_type": "stream",
     "text": [
      "(9958, 11)\n",
      "(5454, 11)\n",
      "(1818, 11)\n"
     ]
    }
   ],
   "source": [
    "#увеличим выборку с features\n",
    "features_upsampled = pd.concat([features_zeros] + [features_ones] * 5)\n",
    "print(features_upsampled.shape)\n",
    "print(features_train.shape)\n",
    "print(features_valid.shape)"
   ]
  },
  {
   "cell_type": "markdown",
   "metadata": {},
   "source": [
    "<b></b>"
   ]
  },
  {
   "cell_type": "markdown",
   "metadata": {},
   "source": [
    "<b>ПЕРЕОБУЧИМ МОДЕЛЬ НА ИЗМЕНИВШИХСЯ ВЫБОРКАХ</b>"
   ]
  },
  {
   "cell_type": "code",
   "execution_count": 34,
   "metadata": {},
   "outputs": [],
   "source": [
    "#C = np.array(features_downsampled).reshape(2,2)\n",
    "#D = np.array(target_upsampled).reshape(2,2)\n",
    "#C.dot(D)"
   ]
  },
  {
   "cell_type": "code",
   "execution_count": 35,
   "metadata": {},
   "outputs": [],
   "source": [
    "#features_downsampled"
   ]
  },
  {
   "cell_type": "code",
   "execution_count": 36,
   "metadata": {},
   "outputs": [],
   "source": [
    "#target_upsampled"
   ]
  },
  {
   "cell_type": "code",
   "execution_count": 37,
   "metadata": {},
   "outputs": [
    {
     "name": "stdout",
     "output_type": "stream",
     "text": [
      "F1-мера: 0.5772594752186588\n"
     ]
    }
   ],
   "source": [
    "model_rforest_4 = RandomForestClassifier(random_state=20052020, n_estimators=53, class_weight='balanced')\n",
    "model_rforest_4.fit(features_upsampled, target_upsampled)\n",
    "predictions_valid = model_rforest_4.predict(features_valid)\n",
    "f1_3 = f1_score(target_valid, predictions_valid)\n",
    "print(\"F1-мера:\", f1_3)"
   ]
  },
  {
   "cell_type": "code",
   "execution_count": 38,
   "metadata": {},
   "outputs": [
    {
     "name": "stdout",
     "output_type": "stream",
     "text": [
      "F1-мера: 0.5956416464891041\n"
     ]
    }
   ],
   "source": [
    "model_rforest_4 = RandomForestClassifier(random_state=12345, n_estimators=38, max_depth=11, class_weight='balanced')\n",
    "model_rforest_4.fit(features_upsampled, target_upsampled)\n",
    "predictions_valid = model_rforest_4.predict(features_valid)\n",
    "f1_3 = f1_score(target_valid, predictions_valid)\n",
    "print(\"F1-мера:\", f1_3)"
   ]
  },
  {
   "cell_type": "markdown",
   "metadata": {},
   "source": [
    "<b></b>"
   ]
  },
  {
   "cell_type": "markdown",
   "metadata": {},
   "source": [
    "<b>ПРОАНАЛИЗИРУЕМ ЧАСТОТЫ КЛАССОВ В РЕЗУЛЬТАТЕ ПРЕДСКАЗАНИЙ ДЛЯ НОВОЙ МОДЕЛИ</b>"
   ]
  },
  {
   "cell_type": "code",
   "execution_count": 39,
   "metadata": {},
   "outputs": [
    {
     "name": "stdout",
     "output_type": "stream",
     "text": [
      "0    0.753025\n",
      "1    0.246975\n",
      "dtype: float64\n"
     ]
    },
    {
     "data": {
      "text/plain": [
       "<matplotlib.axes._subplots.AxesSubplot at 0x7fb2dc077bd0>"
      ]
     },
     "execution_count": 39,
     "metadata": {},
     "output_type": "execute_result"
    },
    {
     "data": {
      "image/png": "[encoded data removed]",
      "text/plain": [
       "<Figure size 432x288 with 1 Axes>"
      ]
     },
     "metadata": {
      "needs_background": "light"
     },
     "output_type": "display_data"
    }
   ],
   "source": [
    "predicted_valid_2 = pd.Series(model_rforest_4.predict(features_valid))\n",
    "\n",
    "class_frequency_2 = predicted_valid_2.value_counts(normalize= True)\n",
    "print(class_frequency_2)\n",
    "class_frequency_2.plot(kind='bar')"
   ]
  },
  {
   "cell_type": "markdown",
   "metadata": {},
   "source": [
    "<b></b>"
   ]
  },
  {
   "cell_type": "markdown",
   "metadata": {},
   "source": [
    "<b>НАЙДЕМ ЗНАЧЕНИЕ ВЕРОЯТНОСТЕЙ ДЛЯ КАЖДОГО КЛАССА НОВОЙ МОДЕЛИ</b>"
   ]
  },
  {
   "cell_type": "code",
   "execution_count": 40,
   "metadata": {
    "scrolled": true
   },
   "outputs": [
    {
     "name": "stdout",
     "output_type": "stream",
     "text": [
      "[[0.37409393 0.62590607]\n",
      " [0.84268979 0.15731021]\n",
      " [0.31761622 0.68238378]\n",
      " [0.64094003 0.35905997]\n",
      " [0.70787924 0.29212076]\n",
      " [0.95552133 0.04447867]\n",
      " [0.56744386 0.43255614]\n",
      " [0.9576616  0.0423384 ]\n",
      " [0.85162649 0.14837351]\n",
      " [0.9348808  0.0651192 ]]\n"
     ]
    }
   ],
   "source": [
    "probabilities_valid_2 = model_rforest_4.predict_proba(features_valid)\n",
    "probabilities_one_valid_2 = probabilities_valid_2[:]\n",
    "print(probabilities_one_valid_2[:10])"
   ]
  },
  {
   "cell_type": "markdown",
   "metadata": {},
   "source": [
    "<b></b>"
   ]
  },
  {
   "cell_type": "markdown",
   "metadata": {},
   "source": [
    "<b>ПOСТРОИМ PR-КРИВУЮ ДЛЯ НОВОЙ МОДЕЛИ </b>"
   ]
  },
  {
   "cell_type": "code",
   "execution_count": 41,
   "metadata": {},
   "outputs": [
    {
     "data": {
      "image/png": "[encoded data removed]",
      "text/plain": [
       "<Figure size 432x432 with 1 Axes>"
      ]
     },
     "metadata": {
      "needs_background": "light"
     },
     "output_type": "display_data"
    }
   ],
   "source": [
    "probabilities_valid = model_rforest_4.predict_proba(features_valid)\n",
    "precision, recall, thresholds = precision_recall_curve(target_valid, probabilities_valid[:, 1])\n",
    "\n",
    "plt.figure(figsize=(6, 6))\n",
    "plt.step(recall, precision, where='post')\n",
    "plt.xlabel('Recall')\n",
    "plt.ylabel('Precision')\n",
    "plt.ylim([0.0, 1.05])\n",
    "plt.xlim([0.0, 1.0])\n",
    "plt.title('Кривая Precision-Recall')\n",
    "plt.show() "
   ]
  },
  {
   "cell_type": "markdown",
   "metadata": {},
   "source": [
    "<b></b>"
   ]
  },
  {
   "cell_type": "markdown",
   "metadata": {},
   "source": [
    "<b>ПОСТРОИМ ROC ДЛЯ НОВОЙ МОДЕЛИ</b>"
   ]
  },
  {
   "cell_type": "code",
   "execution_count": 42,
   "metadata": {},
   "outputs": [
    {
     "data": {
      "image/png": "[encoded data removed]",
      "text/plain": [
       "<Figure size 432x288 with 1 Axes>"
      ]
     },
     "metadata": {
      "needs_background": "light"
     },
     "output_type": "display_data"
    }
   ],
   "source": [
    "probabilities_one_valid_2_one = probabilities_valid_2[:, 1]\n",
    "fpr, tpr, thresholds = roc_curve(target_valid, probabilities_one_valid_2_one) \n",
    "\n",
    "plt.figure()\n",
    "\n",
    "plt.plot(fpr, tpr)\n",
    "\n",
    "# ROC-кривая случайной модели\n",
    "plt.plot([0, 1], [0, 1], linestyle='--')\n",
    "\n",
    "plt.xlim([0.0, 1.0])\n",
    "plt.ylim([0.0, 1.0])\n",
    "plt.xlabel('False Positive Rate')\n",
    "plt.ylabel('True Positive Rate')\n",
    "plt.title('ROC-кривая')\n",
    "\n",
    "plt.show()"
   ]
  },
  {
   "cell_type": "markdown",
   "metadata": {},
   "source": [
    "<b></b>"
   ]
  },
  {
   "cell_type": "markdown",
   "metadata": {},
   "source": [
    "<b>ВЫЧИСЛИМ AUC-ROC ДЛЯ НОВОЙ МОДЕЛИ</b>"
   ]
  },
  {
   "cell_type": "code",
   "execution_count": 43,
   "metadata": {},
   "outputs": [
    {
     "name": "stdout",
     "output_type": "stream",
     "text": [
      "0.8307614996217259\n"
     ]
    }
   ],
   "source": [
    "\n",
    "probabilities_valid_2 = model_rforest_4.predict_proba(features_valid)\n",
    "probabilities_one_valid_2 = probabilities_valid_2[:, 1]\n",
    "\n",
    "auc_roc = roc_auc_score(target_valid, probabilities_one_valid_2)\n",
    "\n",
    "print(auc_roc)"
   ]
  },
  {
   "cell_type": "code",
   "execution_count": 44,
   "metadata": {},
   "outputs": [],
   "source": [
    "#for samples_leaf in range(1, 20):   \n",
    "    #for samples_split in range(2, 20):\n",
    "        #model_rforest_5 = RandomForestClassifier(random_state=12345, n_estimators=38, max_depth=11, class_weight='balanced',\n",
    "                                                 #min_samples_split=samples_split, min_samples_leaf= samples_leaf)\n",
    "        ##model =  RandomForestClassifier(random_state=20052020, n_estimators=estimator, min_samples_split=samples_split)\n",
    "        #model_rforest_5.fit(features_upsampled, target_upsampled)\n",
    "        #predicted_valid = model_rforest_5.predict(features_valid)\n",
    "        #print('Samples_split', samples_split,'F1', f1_score(target_valid, predicted_valid))\n",
    "        #print('Samples_leaf', samples_leaf,'F1', f1_score(target_valid, predicted_valid))\n",
    "        #print('-------------------------------------------------------------------------------------------------')"
   ]
  },
  {
   "cell_type": "markdown",
   "metadata": {},
   "source": [
    "<b></b>"
   ]
  },
  {
   "cell_type": "markdown",
   "metadata": {},
   "source": [
    "## Тестирование модели"
   ]
  },
  {
   "cell_type": "markdown",
   "metadata": {},
   "source": [
    "`теперь проделаем тоже самое для тестовой выборки с class_weight`"
   ]
  },
  {
   "cell_type": "code",
   "execution_count": 45,
   "metadata": {},
   "outputs": [
    {
     "name": "stdout",
     "output_type": "stream",
     "text": [
      "F1-мера: 0.577889447236181\n"
     ]
    }
   ],
   "source": [
    "#расчитаем F1\n",
    "features_test = test.drop(columns=['Exited'])\n",
    "target_test = test['Exited']\n",
    "model_rforest_5 = RandomForestClassifier(random_state=12345, n_estimators=38, max_depth=11, class_weight='balanced')\n",
    "model_rforest_5.fit(features_upsampled, target_upsampled)\n",
    "predictions_valid_5 = model_rforest_5.predict(features_test)\n",
    "f1_4 = f1_score(target_test, predictions_valid_5)\n",
    "print(\"F1-мера:\", f1_4)"
   ]
  },
  {
   "cell_type": "code",
   "execution_count": 46,
   "metadata": {},
   "outputs": [
    {
     "name": "stdout",
     "output_type": "stream",
     "text": [
      "F1 0.5810324129651862\n"
     ]
    }
   ],
   "source": [
    "model_rforest_5 = RandomForestClassifier(random_state=12345, n_estimators=40, max_depth=11, class_weight='balanced',\n",
    "                                             min_samples_split=5, min_samples_leaf= 17, max_features=3, criterion='gini')\n",
    "#model =  RandomForestClassifier(random_state=20052020, n_estimators=estimator, min_samples_split=samples_split)\n",
    "model_rforest_5.fit(features_upsampled, target_upsampled)\n",
    "predicted_valid = model_rforest_5.predict(features_test)\n",
    "#print(max_f)\n",
    "print('F1', f1_score(target_test, predicted_valid))\n",
    "#print('-------------------------------------------------------------------------------------------------------')"
   ]
  },
  {
   "cell_type": "markdown",
   "metadata": {},
   "source": [
    "<b></b>"
   ]
  },
  {
   "cell_type": "code",
   "execution_count": 47,
   "metadata": {},
   "outputs": [
    {
     "name": "stdout",
     "output_type": "stream",
     "text": [
      "0    0.735019\n",
      "1    0.264981\n",
      "dtype: float64\n"
     ]
    },
    {
     "data": {
      "text/plain": [
       "<matplotlib.axes._subplots.AxesSubplot at 0x7fb2dc056250>"
      ]
     },
     "execution_count": 47,
     "metadata": {},
     "output_type": "execute_result"
    },
    {
     "data": {
      "image/png": "[encoded data removed]",
      "text/plain": [
       "<Figure size 432x288 with 1 Axes>"
      ]
     },
     "metadata": {
      "needs_background": "light"
     },
     "output_type": "display_data"
    }
   ],
   "source": [
    "#ПРОАНАЛИЗИРУЕМ ЧАСТОТЫ КЛАССОВ\n",
    "\n",
    "predicted_valid_3 = pd.Series(model_rforest_5.predict(features_test))\n",
    "\n",
    "class_frequency_3 = predicted_valid_3.value_counts(normalize= True)\n",
    "print(class_frequency_3)\n",
    "class_frequency_3.plot(kind='bar')"
   ]
  },
  {
   "cell_type": "markdown",
   "metadata": {},
   "source": [
    "<b></b>"
   ]
  },
  {
   "cell_type": "code",
   "execution_count": 48,
   "metadata": {},
   "outputs": [
    {
     "name": "stdout",
     "output_type": "stream",
     "text": [
      "[[0.87877292 0.12122708]\n",
      " [0.68966575 0.31033425]\n",
      " [0.60499258 0.39500742]\n",
      " [0.45823361 0.54176639]\n",
      " [0.58290866 0.41709134]\n",
      " [0.32967035 0.67032965]\n",
      " [0.68705514 0.31294486]\n",
      " [0.55650463 0.44349537]\n",
      " [0.94903126 0.05096874]\n",
      " [0.27431337 0.72568663]]\n"
     ]
    }
   ],
   "source": [
    "#НАЙДЕМ ЗНАЧЕНИЕ ВЕРОЯТНОСТЕЙ ДЛЯ КАЖДОГО КЛАССА НОВОЙ МОДЕЛИ\n",
    "probabilities_valid_3 = model_rforest_5.predict_proba(features_test)\n",
    "probabilities_one_valid_3 = probabilities_valid_3[:]\n",
    "print(probabilities_one_valid_3[:10])"
   ]
  },
  {
   "cell_type": "markdown",
   "metadata": {},
   "source": [
    "<b></b>"
   ]
  },
  {
   "cell_type": "code",
   "execution_count": 49,
   "metadata": {},
   "outputs": [
    {
     "data": {
      "image/png": "[encoded data removed]",
      "text/plain": [
       "<Figure size 432x432 with 1 Axes>"
      ]
     },
     "metadata": {
      "needs_background": "light"
     },
     "output_type": "display_data"
    }
   ],
   "source": [
    "#ПOСТРОИМ RR-КРИВУЮ \n",
    "probabilities_valid = model_rforest_5.predict_proba(features_test)\n",
    "precision, recall, thresholds = precision_recall_curve(target_test, probabilities_valid[:, 1])\n",
    "\n",
    "plt.figure(figsize=(6, 6))\n",
    "plt.step(recall, precision, where='post')\n",
    "plt.xlabel('Recall')\n",
    "plt.ylabel('Precision')\n",
    "plt.ylim([0.0, 1.05])\n",
    "plt.xlim([0.0, 1.0])\n",
    "plt.title('Кривая Precision-Recall')\n",
    "plt.show() "
   ]
  },
  {
   "cell_type": "markdown",
   "metadata": {},
   "source": [
    "<b></b>"
   ]
  },
  {
   "cell_type": "code",
   "execution_count": 50,
   "metadata": {},
   "outputs": [
    {
     "data": {
      "image/png": "[encoded data removed]",
      "text/plain": [
       "<Figure size 432x288 with 1 Axes>"
      ]
     },
     "metadata": {
      "needs_background": "light"
     },
     "output_type": "display_data"
    }
   ],
   "source": [
    "#ПОСТРОИМ ROC\n",
    "probabilities_one_valid_3_one = probabilities_valid_3[:, 1]\n",
    "fpr, tpr, thresholds = roc_curve(target_test, probabilities_one_valid_3_one) \n",
    "\n",
    "plt.figure()\n",
    "\n",
    "plt.plot(fpr, tpr)\n",
    "\n",
    "# ROC-кривая случайной модели\n",
    "plt.plot([0, 1], [0, 1], linestyle='--')\n",
    "\n",
    "plt.xlim([0.0, 1.0])\n",
    "plt.ylim([0.0, 1.0])\n",
    "plt.xlabel('False Positive Rate')\n",
    "plt.ylabel('True Positive Rate')\n",
    "plt.title('ROC-кривая')\n",
    "\n",
    "plt.show()"
   ]
  },
  {
   "cell_type": "markdown",
   "metadata": {},
   "source": [
    "<b></b>"
   ]
  },
  {
   "cell_type": "code",
   "execution_count": 51,
   "metadata": {},
   "outputs": [
    {
     "name": "stdout",
     "output_type": "stream",
     "text": [
      "0.8492881374352763\n"
     ]
    }
   ],
   "source": [
    "#ВЫЧИСЛИМ AUC-ROC\n",
    "probabilities_valid_3 = model_rforest_5.predict_proba(features_test)\n",
    "probabilities_one_valid_3_one = probabilities_valid_3[:, 1]\n",
    "\n",
    "auc_roc = roc_auc_score(target_test, probabilities_one_valid_3_one)\n",
    "\n",
    "print(auc_roc)"
   ]
  },
  {
   "cell_type": "markdown",
   "metadata": {},
   "source": [
    "## Чек-лист готовности проекта"
   ]
  },
  {
   "cell_type": "markdown",
   "metadata": {},
   "source": [
    "Поставьте 'x' в выполненных пунктах. Далее нажмите Shift+Enter."
   ]
  },
  {
   "cell_type": "markdown",
   "metadata": {},
   "source": [
    "- [x]  Jupyter Notebook открыт\n",
    "- [ ]  Весь код выполняется без ошибок\n",
    "- [ ]  Ячейки с кодом расположены в порядке исполнения\n",
    "- [ ]  Выполнен шаг 1: данные подготовлены\n",
    "- [ ]  Выполнен шаг 2: задача исследована\n",
    "    - [ ]  Исследован баланс классов\n",
    "    - [ ]  Изучены модели без учёта дисбаланса\n",
    "    - [ ]  Написаны выводы по результатам исследования\n",
    "- [ ]  Выполнен шаг 3: учтён дисбаланс\n",
    "    - [ ]  Применено несколько способов борьбы с дисбалансом\n",
    "    - [ ]  Написаны выводы по результатам исследования\n",
    "- [ ]  Выполнен шаг 4: проведено тестирование\n",
    "- [ ]  Удалось достичь *F1*-меры не менее 0.59\n",
    "- [ ]  Исследована метрика *AUC-ROC*"
   ]
  }
 ],
 "metadata": {
  "ExecuteTimeLog": [
   {
    "duration": 1459,
    "start_time": "2021-12-16T13:56:45.178Z"
   },
   {
    "duration": 1345,
    "start_time": "2021-12-16T13:59:27.317Z"
   },
   {
    "duration": 39,
    "start_time": "2021-12-16T13:59:28.665Z"
   },
   {
    "duration": 57,
    "start_time": "2021-12-16T13:59:48.583Z"
   },
   {
    "duration": 46,
    "start_time": "2021-12-16T14:02:19.548Z"
   },
   {
    "duration": 1338,
    "start_time": "2021-12-16T14:43:20.606Z"
   },
   {
    "duration": 59,
    "start_time": "2021-12-16T14:43:21.947Z"
   },
   {
    "duration": 454,
    "start_time": "2021-12-16T14:43:22.008Z"
   },
   {
    "duration": 17,
    "start_time": "2021-12-16T14:43:49.331Z"
   },
   {
    "duration": 1517,
    "start_time": "2021-12-16T14:45:35.122Z"
   },
   {
    "duration": 58,
    "start_time": "2021-12-16T14:45:36.641Z"
   },
   {
    "duration": 23,
    "start_time": "2021-12-16T14:45:36.701Z"
   },
   {
    "duration": 86,
    "start_time": "2021-12-16T14:45:36.727Z"
   },
   {
    "duration": 459,
    "start_time": "2021-12-16T14:45:43.831Z"
   },
   {
    "duration": 1406,
    "start_time": "2021-12-16T14:55:56.666Z"
   },
   {
    "duration": 61,
    "start_time": "2021-12-16T14:55:58.075Z"
   },
   {
    "duration": 16,
    "start_time": "2021-12-16T14:55:58.139Z"
   },
   {
    "duration": 12,
    "start_time": "2021-12-16T14:55:58.158Z"
   },
   {
    "duration": 17,
    "start_time": "2021-12-16T14:55:58.173Z"
   },
   {
    "duration": 8,
    "start_time": "2021-12-16T14:58:06.383Z"
   },
   {
    "duration": 1288,
    "start_time": "2021-12-16T14:59:18.647Z"
   },
   {
    "duration": 60,
    "start_time": "2021-12-16T14:59:19.938Z"
   },
   {
    "duration": 23,
    "start_time": "2021-12-16T14:59:20.001Z"
   },
   {
    "duration": 9,
    "start_time": "2021-12-16T14:59:20.027Z"
   },
   {
    "duration": 29,
    "start_time": "2021-12-16T14:59:20.038Z"
   },
   {
    "duration": 9,
    "start_time": "2021-12-16T14:59:20.069Z"
   },
   {
    "duration": 7,
    "start_time": "2021-12-16T14:59:51.832Z"
   },
   {
    "duration": 5,
    "start_time": "2021-12-16T14:59:52.136Z"
   },
   {
    "duration": 8,
    "start_time": "2021-12-16T15:03:07.433Z"
   },
   {
    "duration": 299,
    "start_time": "2021-12-16T15:03:07.754Z"
   },
   {
    "duration": 17,
    "start_time": "2021-12-16T15:03:08.745Z"
   },
   {
    "duration": 6,
    "start_time": "2021-12-16T15:34:45.853Z"
   },
   {
    "duration": 1419,
    "start_time": "2021-12-16T16:03:32.312Z"
   },
   {
    "duration": 69,
    "start_time": "2021-12-16T16:03:33.734Z"
   },
   {
    "duration": 8,
    "start_time": "2021-12-16T16:03:33.805Z"
   },
   {
    "duration": 309,
    "start_time": "2021-12-16T16:03:33.824Z"
   },
   {
    "duration": 7,
    "start_time": "2021-12-16T16:03:34.135Z"
   },
   {
    "duration": 19,
    "start_time": "2021-12-16T16:03:34.144Z"
   },
   {
    "duration": 766,
    "start_time": "2021-12-16T16:03:34.165Z"
   },
   {
    "duration": -986,
    "start_time": "2021-12-16T16:03:35.919Z"
   },
   {
    "duration": 315,
    "start_time": "2021-12-16T16:04:29.940Z"
   },
   {
    "duration": 1315,
    "start_time": "2021-12-16T16:15:50.626Z"
   },
   {
    "duration": 56,
    "start_time": "2021-12-16T16:15:51.944Z"
   },
   {
    "duration": 8,
    "start_time": "2021-12-16T16:15:52.004Z"
   },
   {
    "duration": 311,
    "start_time": "2021-12-16T16:15:52.025Z"
   },
   {
    "duration": 7,
    "start_time": "2021-12-16T16:15:52.338Z"
   },
   {
    "duration": 37,
    "start_time": "2021-12-16T16:15:52.348Z"
   },
   {
    "duration": 469,
    "start_time": "2021-12-16T16:15:52.387Z"
   },
   {
    "duration": -997,
    "start_time": "2021-12-16T16:15:53.855Z"
   },
   {
    "duration": 1283,
    "start_time": "2021-12-16T16:16:04.951Z"
   },
   {
    "duration": 58,
    "start_time": "2021-12-16T16:16:06.236Z"
   },
   {
    "duration": 7,
    "start_time": "2021-12-16T16:16:06.297Z"
   },
   {
    "duration": 308,
    "start_time": "2021-12-16T16:16:06.307Z"
   },
   {
    "duration": 12,
    "start_time": "2021-12-16T16:16:06.617Z"
   },
   {
    "duration": 19,
    "start_time": "2021-12-16T16:16:06.632Z"
   },
   {
    "duration": 519,
    "start_time": "2021-12-16T16:16:06.653Z"
   },
   {
    "duration": -1019,
    "start_time": "2021-12-16T16:16:08.195Z"
   },
   {
    "duration": 1296,
    "start_time": "2021-12-16T16:16:59.540Z"
   },
   {
    "duration": 57,
    "start_time": "2021-12-16T16:17:00.839Z"
   },
   {
    "duration": 7,
    "start_time": "2021-12-16T16:17:00.899Z"
   },
   {
    "duration": 314,
    "start_time": "2021-12-16T16:17:00.909Z"
   },
   {
    "duration": 6,
    "start_time": "2021-12-16T16:17:01.225Z"
   },
   {
    "duration": 31,
    "start_time": "2021-12-16T16:17:01.233Z"
   },
   {
    "duration": 301,
    "start_time": "2021-12-16T16:17:01.266Z"
   },
   {
    "duration": 2,
    "start_time": "2021-12-16T16:17:01.571Z"
   },
   {
    "duration": 1336,
    "start_time": "2021-12-16T16:18:19.205Z"
   },
   {
    "duration": 56,
    "start_time": "2021-12-16T16:18:20.544Z"
   },
   {
    "duration": 19,
    "start_time": "2021-12-16T16:18:20.606Z"
   },
   {
    "duration": 310,
    "start_time": "2021-12-16T16:18:20.627Z"
   },
   {
    "duration": 6,
    "start_time": "2021-12-16T16:18:20.939Z"
   },
   {
    "duration": 26,
    "start_time": "2021-12-16T16:18:20.947Z"
   },
   {
    "duration": 286,
    "start_time": "2021-12-16T16:18:20.978Z"
   },
   {
    "duration": 428,
    "start_time": "2021-12-16T16:18:21.268Z"
   },
   {
    "duration": 1312,
    "start_time": "2021-12-16T16:36:49.529Z"
   },
   {
    "duration": 57,
    "start_time": "2021-12-16T16:36:50.844Z"
   },
   {
    "duration": 7,
    "start_time": "2021-12-16T16:36:50.904Z"
   },
   {
    "duration": 311,
    "start_time": "2021-12-16T16:36:50.913Z"
   },
   {
    "duration": 6,
    "start_time": "2021-12-16T16:36:51.226Z"
   },
   {
    "duration": 23,
    "start_time": "2021-12-16T16:36:51.234Z"
   },
   {
    "duration": 298,
    "start_time": "2021-12-16T16:36:51.259Z"
   },
   {
    "duration": 512,
    "start_time": "2021-12-16T16:36:51.560Z"
   },
   {
    "duration": -971,
    "start_time": "2021-12-16T16:36:53.045Z"
   },
   {
    "duration": 1376,
    "start_time": "2021-12-16T16:37:34.633Z"
   },
   {
    "duration": 60,
    "start_time": "2021-12-16T16:37:36.012Z"
   },
   {
    "duration": 8,
    "start_time": "2021-12-16T16:37:36.076Z"
   },
   {
    "duration": 311,
    "start_time": "2021-12-16T16:37:36.088Z"
   },
   {
    "duration": 5,
    "start_time": "2021-12-16T16:37:36.401Z"
   },
   {
    "duration": 29,
    "start_time": "2021-12-16T16:37:36.408Z"
   },
   {
    "duration": 287,
    "start_time": "2021-12-16T16:37:36.439Z"
   },
   {
    "duration": 416,
    "start_time": "2021-12-16T16:37:36.730Z"
   },
   {
    "duration": -965,
    "start_time": "2021-12-16T16:37:38.113Z"
   },
   {
    "duration": 1343,
    "start_time": "2021-12-16T16:40:13.392Z"
   },
   {
    "duration": 59,
    "start_time": "2021-12-16T16:40:14.737Z"
   },
   {
    "duration": 7,
    "start_time": "2021-12-16T16:40:14.799Z"
   },
   {
    "duration": 328,
    "start_time": "2021-12-16T16:40:14.809Z"
   },
   {
    "duration": 8,
    "start_time": "2021-12-16T16:40:15.139Z"
   },
   {
    "duration": 18,
    "start_time": "2021-12-16T16:40:15.150Z"
   },
   {
    "duration": 304,
    "start_time": "2021-12-16T16:40:15.171Z"
   },
   {
    "duration": 403,
    "start_time": "2021-12-16T16:40:15.478Z"
   },
   {
    "duration": -984,
    "start_time": "2021-12-16T16:40:16.867Z"
   },
   {
    "duration": 240,
    "start_time": "2021-12-16T16:40:45.820Z"
   },
   {
    "duration": 6,
    "start_time": "2021-12-16T16:40:46.130Z"
   },
   {
    "duration": 6,
    "start_time": "2021-12-16T16:41:21.963Z"
   },
   {
    "duration": 28,
    "start_time": "2021-12-16T16:41:22.251Z"
   },
   {
    "duration": 1751,
    "start_time": "2021-12-16T16:50:31.500Z"
   },
   {
    "duration": 78,
    "start_time": "2021-12-16T16:50:33.255Z"
   },
   {
    "duration": 9,
    "start_time": "2021-12-16T16:50:33.337Z"
   },
   {
    "duration": 358,
    "start_time": "2021-12-16T16:50:33.349Z"
   },
   {
    "duration": 19,
    "start_time": "2021-12-16T16:50:33.710Z"
   },
   {
    "duration": 19,
    "start_time": "2021-12-16T16:50:33.732Z"
   },
   {
    "duration": 317,
    "start_time": "2021-12-16T16:50:33.754Z"
   },
   {
    "duration": 7,
    "start_time": "2021-12-16T16:50:34.075Z"
   },
   {
    "duration": 25,
    "start_time": "2021-12-16T16:50:34.085Z"
   },
   {
    "duration": 58,
    "start_time": "2021-12-16T16:50:34.112Z"
   },
   {
    "duration": 462,
    "start_time": "2021-12-16T16:50:34.172Z"
   },
   {
    "duration": -959,
    "start_time": "2021-12-16T16:50:35.596Z"
   },
   {
    "duration": 29,
    "start_time": "2021-12-16T16:50:59.533Z"
   },
   {
    "duration": 1678,
    "start_time": "2021-12-16T16:51:50.720Z"
   },
   {
    "duration": 79,
    "start_time": "2021-12-16T16:51:52.401Z"
   },
   {
    "duration": 10,
    "start_time": "2021-12-16T16:51:52.483Z"
   },
   {
    "duration": 355,
    "start_time": "2021-12-16T16:51:52.496Z"
   },
   {
    "duration": 6,
    "start_time": "2021-12-16T16:51:52.853Z"
   },
   {
    "duration": 28,
    "start_time": "2021-12-16T16:51:52.862Z"
   },
   {
    "duration": 320,
    "start_time": "2021-12-16T16:51:52.893Z"
   },
   {
    "duration": 35,
    "start_time": "2021-12-16T16:51:53.216Z"
   },
   {
    "duration": 6,
    "start_time": "2021-12-16T16:51:53.254Z"
   },
   {
    "duration": 438,
    "start_time": "2021-12-16T16:51:53.263Z"
   },
   {
    "duration": -977,
    "start_time": "2021-12-16T16:51:54.681Z"
   },
   {
    "duration": 652,
    "start_time": "2021-12-16T16:53:43.840Z"
   },
   {
    "duration": 288,
    "start_time": "2021-12-16T16:54:05.466Z"
   },
   {
    "duration": 1727,
    "start_time": "2021-12-16T16:54:43.713Z"
   },
   {
    "duration": 82,
    "start_time": "2021-12-16T16:54:45.444Z"
   },
   {
    "duration": 8,
    "start_time": "2021-12-16T16:54:45.529Z"
   },
   {
    "duration": 433,
    "start_time": "2021-12-16T16:54:45.539Z"
   },
   {
    "duration": 6,
    "start_time": "2021-12-16T16:54:45.975Z"
   },
   {
    "duration": 44,
    "start_time": "2021-12-16T16:54:45.983Z"
   },
   {
    "duration": 379,
    "start_time": "2021-12-16T16:54:46.030Z"
   },
   {
    "duration": 851,
    "start_time": "2021-12-16T16:54:46.413Z"
   },
   {
    "duration": -988,
    "start_time": "2021-12-16T16:54:48.254Z"
   },
   {
    "duration": 329,
    "start_time": "2021-12-16T16:55:35.246Z"
   },
   {
    "duration": 4,
    "start_time": "2021-12-16T16:57:09.502Z"
   },
   {
    "duration": 330,
    "start_time": "2021-12-16T16:57:13.670Z"
   },
   {
    "duration": 1341,
    "start_time": "2021-12-16T16:57:19.386Z"
   },
   {
    "duration": 60,
    "start_time": "2021-12-16T16:57:20.729Z"
   },
   {
    "duration": 7,
    "start_time": "2021-12-16T16:57:20.793Z"
   },
   {
    "duration": 309,
    "start_time": "2021-12-16T16:57:20.823Z"
   },
   {
    "duration": 6,
    "start_time": "2021-12-16T16:57:21.134Z"
   },
   {
    "duration": 24,
    "start_time": "2021-12-16T16:57:21.142Z"
   },
   {
    "duration": 298,
    "start_time": "2021-12-16T16:57:21.168Z"
   },
   {
    "duration": 403,
    "start_time": "2021-12-16T16:57:21.470Z"
   },
   {
    "duration": -981,
    "start_time": "2021-12-16T16:57:22.858Z"
   },
   {
    "duration": 465,
    "start_time": "2021-12-16T16:58:31.822Z"
   },
   {
    "duration": 1555,
    "start_time": "2021-12-16T16:58:40.715Z"
   },
   {
    "duration": 66,
    "start_time": "2021-12-16T16:58:42.276Z"
   },
   {
    "duration": 8,
    "start_time": "2021-12-16T16:58:42.346Z"
   },
   {
    "duration": 328,
    "start_time": "2021-12-16T16:58:42.357Z"
   },
   {
    "duration": 9,
    "start_time": "2021-12-16T16:58:42.687Z"
   },
   {
    "duration": 34,
    "start_time": "2021-12-16T16:58:42.698Z"
   },
   {
    "duration": 301,
    "start_time": "2021-12-16T16:58:42.735Z"
   },
   {
    "duration": 377,
    "start_time": "2021-12-16T16:58:43.040Z"
   },
   {
    "duration": 611,
    "start_time": "2021-12-16T16:58:43.419Z"
   },
   {
    "duration": 272,
    "start_time": "2021-12-16T17:00:47.325Z"
   },
   {
    "duration": 288,
    "start_time": "2021-12-16T17:00:47.741Z"
   },
   {
    "duration": 1265,
    "start_time": "2021-12-16T17:01:19.176Z"
   },
   {
    "duration": 61,
    "start_time": "2021-12-16T17:01:20.444Z"
   },
   {
    "duration": 7,
    "start_time": "2021-12-16T17:01:20.508Z"
   },
   {
    "duration": 308,
    "start_time": "2021-12-16T17:01:20.524Z"
   },
   {
    "duration": 5,
    "start_time": "2021-12-16T17:01:20.834Z"
   },
   {
    "duration": 41,
    "start_time": "2021-12-16T17:01:20.841Z"
   },
   {
    "duration": 291,
    "start_time": "2021-12-16T17:01:20.884Z"
   },
   {
    "duration": 375,
    "start_time": "2021-12-16T17:01:21.178Z"
   },
   {
    "duration": 413,
    "start_time": "2021-12-16T17:01:21.556Z"
   },
   {
    "duration": -957,
    "start_time": "2021-12-16T17:01:22.929Z"
   },
   {
    "duration": 535,
    "start_time": "2021-12-16T17:02:40.984Z"
   },
   {
    "duration": -965,
    "start_time": "2021-12-16T17:02:42.486Z"
   },
   {
    "duration": 1286,
    "start_time": "2021-12-16T17:02:51.652Z"
   },
   {
    "duration": 57,
    "start_time": "2021-12-16T17:02:52.941Z"
   },
   {
    "duration": 7,
    "start_time": "2021-12-16T17:02:53.001Z"
   },
   {
    "duration": 317,
    "start_time": "2021-12-16T17:02:53.022Z"
   },
   {
    "duration": 6,
    "start_time": "2021-12-16T17:02:53.342Z"
   },
   {
    "duration": 19,
    "start_time": "2021-12-16T17:02:53.351Z"
   },
   {
    "duration": 303,
    "start_time": "2021-12-16T17:02:53.373Z"
   },
   {
    "duration": 369,
    "start_time": "2021-12-16T17:02:53.681Z"
   },
   {
    "duration": 1012,
    "start_time": "2021-12-16T17:02:54.052Z"
   },
   {
    "duration": -966,
    "start_time": "2021-12-16T17:02:56.034Z"
   },
   {
    "duration": 279,
    "start_time": "2021-12-16T17:03:01.119Z"
   },
   {
    "duration": 1514,
    "start_time": "2021-12-16T17:03:11.946Z"
   },
   {
    "duration": 67,
    "start_time": "2021-12-16T17:03:13.463Z"
   },
   {
    "duration": 8,
    "start_time": "2021-12-16T17:03:13.533Z"
   },
   {
    "duration": 329,
    "start_time": "2021-12-16T17:03:13.544Z"
   },
   {
    "duration": 7,
    "start_time": "2021-12-16T17:03:13.875Z"
   },
   {
    "duration": 38,
    "start_time": "2021-12-16T17:03:13.885Z"
   },
   {
    "duration": 308,
    "start_time": "2021-12-16T17:03:13.926Z"
   },
   {
    "duration": 369,
    "start_time": "2021-12-16T17:03:14.237Z"
   },
   {
    "duration": 542,
    "start_time": "2021-12-16T17:03:14.608Z"
   },
   {
    "duration": -964,
    "start_time": "2021-12-16T17:03:16.117Z"
   },
   {
    "duration": 1390,
    "start_time": "2021-12-16T17:03:31.855Z"
   },
   {
    "duration": 58,
    "start_time": "2021-12-16T17:03:33.248Z"
   },
   {
    "duration": 16,
    "start_time": "2021-12-16T17:03:33.309Z"
   },
   {
    "duration": 312,
    "start_time": "2021-12-16T17:03:33.328Z"
   },
   {
    "duration": 7,
    "start_time": "2021-12-16T17:03:33.643Z"
   },
   {
    "duration": 34,
    "start_time": "2021-12-16T17:03:33.653Z"
   },
   {
    "duration": 284,
    "start_time": "2021-12-16T17:03:33.690Z"
   },
   {
    "duration": 356,
    "start_time": "2021-12-16T17:03:33.978Z"
   },
   {
    "duration": 494,
    "start_time": "2021-12-16T17:03:34.337Z"
   },
   {
    "duration": -952,
    "start_time": "2021-12-16T17:03:35.786Z"
   },
   {
    "duration": 1403,
    "start_time": "2021-12-16T17:09:24.422Z"
   },
   {
    "duration": 59,
    "start_time": "2021-12-16T17:09:25.829Z"
   },
   {
    "duration": 7,
    "start_time": "2021-12-16T17:09:25.892Z"
   },
   {
    "duration": 325,
    "start_time": "2021-12-16T17:09:25.903Z"
   },
   {
    "duration": 7,
    "start_time": "2021-12-16T17:09:26.231Z"
   },
   {
    "duration": 20,
    "start_time": "2021-12-16T17:09:26.241Z"
   },
   {
    "duration": 309,
    "start_time": "2021-12-16T17:09:26.264Z"
   },
   {
    "duration": 396,
    "start_time": "2021-12-16T17:09:26.577Z"
   },
   {
    "duration": 511,
    "start_time": "2021-12-16T17:09:26.976Z"
   },
   {
    "duration": -937,
    "start_time": "2021-12-16T17:09:28.427Z"
   },
   {
    "duration": 1383,
    "start_time": "2021-12-16T17:09:59.577Z"
   },
   {
    "duration": 81,
    "start_time": "2021-12-16T17:10:00.963Z"
   },
   {
    "duration": 8,
    "start_time": "2021-12-16T17:10:01.048Z"
   },
   {
    "duration": 320,
    "start_time": "2021-12-16T17:10:01.059Z"
   },
   {
    "duration": 6,
    "start_time": "2021-12-16T17:10:01.383Z"
   },
   {
    "duration": 46,
    "start_time": "2021-12-16T17:10:01.392Z"
   },
   {
    "duration": 323,
    "start_time": "2021-12-16T17:10:01.441Z"
   },
   {
    "duration": 392,
    "start_time": "2021-12-16T17:10:01.768Z"
   },
   {
    "duration": 1340,
    "start_time": "2021-12-16T17:10:02.163Z"
   },
   {
    "duration": 530,
    "start_time": "2021-12-16T17:10:03.506Z"
   },
   {
    "duration": 1453,
    "start_time": "2021-12-16T19:16:07.902Z"
   },
   {
    "duration": 58,
    "start_time": "2021-12-16T19:16:09.358Z"
   },
   {
    "duration": 8,
    "start_time": "2021-12-16T19:16:09.423Z"
   },
   {
    "duration": 313,
    "start_time": "2021-12-16T19:16:09.434Z"
   },
   {
    "duration": 6,
    "start_time": "2021-12-16T19:16:09.750Z"
   },
   {
    "duration": 20,
    "start_time": "2021-12-16T19:16:09.758Z"
   },
   {
    "duration": 325,
    "start_time": "2021-12-16T19:16:09.781Z"
   },
   {
    "duration": 14,
    "start_time": "2021-12-16T19:16:10.109Z"
   },
   {
    "duration": 1873,
    "start_time": "2021-12-16T19:16:10.128Z"
   },
   {
    "duration": 905,
    "start_time": "2021-12-16T19:16:12.003Z"
   },
   {
    "duration": 1365,
    "start_time": "2021-12-16T19:17:14.798Z"
   },
   {
    "duration": 67,
    "start_time": "2021-12-16T19:17:16.166Z"
   },
   {
    "duration": 8,
    "start_time": "2021-12-16T19:17:16.236Z"
   },
   {
    "duration": 311,
    "start_time": "2021-12-16T19:17:16.246Z"
   },
   {
    "duration": 5,
    "start_time": "2021-12-16T19:17:16.560Z"
   },
   {
    "duration": 22,
    "start_time": "2021-12-16T19:17:16.567Z"
   },
   {
    "duration": 375,
    "start_time": "2021-12-16T19:17:16.591Z"
   },
   {
    "duration": 4,
    "start_time": "2021-12-16T19:17:16.970Z"
   },
   {
    "duration": 1906,
    "start_time": "2021-12-16T19:17:16.976Z"
   },
   {
    "duration": 848,
    "start_time": "2021-12-16T19:17:18.885Z"
   },
   {
    "duration": 1484,
    "start_time": "2021-12-16T19:17:58.519Z"
   },
   {
    "duration": 64,
    "start_time": "2021-12-16T19:18:00.007Z"
   },
   {
    "duration": 7,
    "start_time": "2021-12-16T19:18:00.074Z"
   },
   {
    "duration": 317,
    "start_time": "2021-12-16T19:18:00.084Z"
   },
   {
    "duration": 7,
    "start_time": "2021-12-16T19:18:00.404Z"
   },
   {
    "duration": 33,
    "start_time": "2021-12-16T19:18:00.424Z"
   },
   {
    "duration": 297,
    "start_time": "2021-12-16T19:18:00.460Z"
   },
   {
    "duration": 3,
    "start_time": "2021-12-16T19:18:00.761Z"
   },
   {
    "duration": 1922,
    "start_time": "2021-12-16T19:18:00.767Z"
   },
   {
    "duration": 819,
    "start_time": "2021-12-16T19:18:02.692Z"
   },
   {
    "duration": 1430,
    "start_time": "2021-12-16T19:19:08.333Z"
   },
   {
    "duration": 67,
    "start_time": "2021-12-16T19:19:09.766Z"
   },
   {
    "duration": 9,
    "start_time": "2021-12-16T19:19:09.837Z"
   },
   {
    "duration": 317,
    "start_time": "2021-12-16T19:19:09.848Z"
   },
   {
    "duration": 6,
    "start_time": "2021-12-16T19:19:10.168Z"
   },
   {
    "duration": 18,
    "start_time": "2021-12-16T19:19:10.176Z"
   },
   {
    "duration": 313,
    "start_time": "2021-12-16T19:19:10.196Z"
   },
   {
    "duration": 10,
    "start_time": "2021-12-16T19:19:10.513Z"
   },
   {
    "duration": 15,
    "start_time": "2021-12-16T19:19:10.527Z"
   },
   {
    "duration": 840,
    "start_time": "2021-12-16T19:19:10.544Z"
   },
   {
    "duration": 1294,
    "start_time": "2021-12-16T19:22:51.961Z"
   },
   {
    "duration": 56,
    "start_time": "2021-12-16T19:22:53.261Z"
   },
   {
    "duration": 16,
    "start_time": "2021-12-16T19:22:53.323Z"
   },
   {
    "duration": 305,
    "start_time": "2021-12-16T19:22:53.341Z"
   },
   {
    "duration": 6,
    "start_time": "2021-12-16T19:22:53.649Z"
   },
   {
    "duration": 36,
    "start_time": "2021-12-16T19:22:53.657Z"
   },
   {
    "duration": 283,
    "start_time": "2021-12-16T19:22:53.696Z"
   },
   {
    "duration": 3,
    "start_time": "2021-12-16T19:22:53.982Z"
   },
   {
    "duration": 32,
    "start_time": "2021-12-16T19:22:53.988Z"
   },
   {
    "duration": 867,
    "start_time": "2021-12-16T19:22:54.023Z"
   },
   {
    "duration": 1356,
    "start_time": "2021-12-16T19:23:31.583Z"
   },
   {
    "duration": 56,
    "start_time": "2021-12-16T19:23:32.942Z"
   },
   {
    "duration": 7,
    "start_time": "2021-12-16T19:23:33.001Z"
   },
   {
    "duration": 313,
    "start_time": "2021-12-16T19:23:33.010Z"
   },
   {
    "duration": 7,
    "start_time": "2021-12-16T19:23:33.326Z"
   },
   {
    "duration": 24,
    "start_time": "2021-12-16T19:23:33.335Z"
   },
   {
    "duration": 321,
    "start_time": "2021-12-16T19:23:33.361Z"
   },
   {
    "duration": 3,
    "start_time": "2021-12-16T19:23:33.685Z"
   },
   {
    "duration": 6,
    "start_time": "2021-12-16T19:23:33.691Z"
   },
   {
    "duration": 927,
    "start_time": "2021-12-16T19:23:33.699Z"
   },
   {
    "duration": 1386,
    "start_time": "2021-12-16T19:24:31.803Z"
   },
   {
    "duration": 65,
    "start_time": "2021-12-16T19:24:33.192Z"
   },
   {
    "duration": 7,
    "start_time": "2021-12-16T19:24:33.260Z"
   },
   {
    "duration": 315,
    "start_time": "2021-12-16T19:24:33.269Z"
   },
   {
    "duration": 7,
    "start_time": "2021-12-16T19:24:33.587Z"
   },
   {
    "duration": 41,
    "start_time": "2021-12-16T19:24:33.597Z"
   },
   {
    "duration": 299,
    "start_time": "2021-12-16T19:24:33.640Z"
   },
   {
    "duration": 4,
    "start_time": "2021-12-16T19:24:33.942Z"
   },
   {
    "duration": 7,
    "start_time": "2021-12-16T19:24:33.948Z"
   },
   {
    "duration": 855,
    "start_time": "2021-12-16T19:24:33.958Z"
   },
   {
    "duration": 1347,
    "start_time": "2021-12-16T19:42:05.437Z"
   },
   {
    "duration": 117,
    "start_time": "2021-12-16T19:42:06.787Z"
   },
   {
    "duration": 7,
    "start_time": "2021-12-16T19:42:06.907Z"
   },
   {
    "duration": 327,
    "start_time": "2021-12-16T19:42:06.917Z"
   },
   {
    "duration": 6,
    "start_time": "2021-12-16T19:42:07.247Z"
   },
   {
    "duration": 49,
    "start_time": "2021-12-16T19:42:07.255Z"
   },
   {
    "duration": 288,
    "start_time": "2021-12-16T19:42:07.307Z"
   },
   {
    "duration": 2,
    "start_time": "2021-12-16T19:42:07.599Z"
   },
   {
    "duration": 20,
    "start_time": "2021-12-16T19:42:07.604Z"
   },
   {
    "duration": 653,
    "start_time": "2021-12-16T19:42:07.626Z"
   },
   {
    "duration": -865,
    "start_time": "2021-12-16T19:42:09.146Z"
   },
   {
    "duration": 1352,
    "start_time": "2021-12-16T20:06:08.406Z"
   },
   {
    "duration": 58,
    "start_time": "2021-12-16T20:06:09.761Z"
   },
   {
    "duration": 20,
    "start_time": "2021-12-16T20:06:09.823Z"
   },
   {
    "duration": 312,
    "start_time": "2021-12-16T20:06:09.846Z"
   },
   {
    "duration": 6,
    "start_time": "2021-12-16T20:06:10.160Z"
   },
   {
    "duration": 18,
    "start_time": "2021-12-16T20:06:10.168Z"
   },
   {
    "duration": 311,
    "start_time": "2021-12-16T20:06:10.188Z"
   },
   {
    "duration": 3,
    "start_time": "2021-12-16T20:06:10.502Z"
   },
   {
    "duration": 10,
    "start_time": "2021-12-16T20:06:10.507Z"
   },
   {
    "duration": 15,
    "start_time": "2021-12-16T20:06:10.526Z"
   },
   {
    "duration": 830,
    "start_time": "2021-12-16T20:06:10.544Z"
   },
   {
    "duration": 1067,
    "start_time": "2021-12-17T17:56:50.715Z"
   },
   {
    "duration": 45,
    "start_time": "2021-12-17T17:56:51.784Z"
   },
   {
    "duration": 6,
    "start_time": "2021-12-17T17:56:51.833Z"
   },
   {
    "duration": 335,
    "start_time": "2021-12-17T17:56:51.841Z"
   },
   {
    "duration": 5,
    "start_time": "2021-12-17T17:56:52.178Z"
   },
   {
    "duration": 16,
    "start_time": "2021-12-17T17:56:52.197Z"
   },
   {
    "duration": 177,
    "start_time": "2021-12-17T17:56:52.217Z"
   },
   {
    "duration": 207,
    "start_time": "2021-12-17T17:56:52.396Z"
   },
   {
    "duration": 3,
    "start_time": "2021-12-17T17:56:52.605Z"
   },
   {
    "duration": 4,
    "start_time": "2021-12-17T17:56:52.610Z"
   },
   {
    "duration": 5,
    "start_time": "2021-12-17T17:56:52.616Z"
   },
   {
    "duration": 2058,
    "start_time": "2021-12-17T17:56:52.622Z"
   },
   {
    "duration": 1011,
    "start_time": "2021-12-17T20:26:28.514Z"
   },
   {
    "duration": 44,
    "start_time": "2021-12-17T20:26:29.526Z"
   },
   {
    "duration": 5,
    "start_time": "2021-12-17T20:26:29.572Z"
   },
   {
    "duration": 212,
    "start_time": "2021-12-17T20:26:29.579Z"
   },
   {
    "duration": 4,
    "start_time": "2021-12-17T20:26:29.793Z"
   },
   {
    "duration": 15,
    "start_time": "2021-12-17T20:26:29.799Z"
   },
   {
    "duration": 109,
    "start_time": "2021-12-17T20:26:29.816Z"
   },
   {
    "duration": 6010,
    "start_time": "2021-12-17T20:26:29.927Z"
   },
   {
    "duration": 199,
    "start_time": "2021-12-17T20:26:35.939Z"
   },
   {
    "duration": 2,
    "start_time": "2021-12-17T20:26:36.140Z"
   },
   {
    "duration": 5,
    "start_time": "2021-12-17T20:26:36.144Z"
   },
   {
    "duration": 4,
    "start_time": "2021-12-17T20:26:36.151Z"
   },
   {
    "duration": 629,
    "start_time": "2021-12-17T20:26:36.157Z"
   },
   {
    "duration": 6,
    "start_time": "2021-12-17T20:29:49.398Z"
   },
   {
    "duration": 38,
    "start_time": "2021-12-17T20:29:49.930Z"
   },
   {
    "duration": 40,
    "start_time": "2021-12-17T20:30:52.674Z"
   },
   {
    "duration": 8,
    "start_time": "2021-12-17T20:30:53.194Z"
   },
   {
    "duration": 1027,
    "start_time": "2021-12-17T20:45:44.149Z"
   },
   {
    "duration": 48,
    "start_time": "2021-12-17T20:45:45.178Z"
   },
   {
    "duration": 5,
    "start_time": "2021-12-17T20:45:45.228Z"
   },
   {
    "duration": 58,
    "start_time": "2021-12-17T20:45:45.235Z"
   },
   {
    "duration": 7,
    "start_time": "2021-12-17T20:45:45.295Z"
   },
   {
    "duration": 276,
    "start_time": "2021-12-17T20:45:45.304Z"
   },
   {
    "duration": -2287,
    "start_time": "2021-12-17T20:45:47.869Z"
   },
   {
    "duration": -2295,
    "start_time": "2021-12-17T20:45:47.878Z"
   },
   {
    "duration": -2304,
    "start_time": "2021-12-17T20:45:47.888Z"
   },
   {
    "duration": -2313,
    "start_time": "2021-12-17T20:45:47.898Z"
   },
   {
    "duration": -2319,
    "start_time": "2021-12-17T20:45:47.905Z"
   },
   {
    "duration": -2324,
    "start_time": "2021-12-17T20:45:47.911Z"
   },
   {
    "duration": -2336,
    "start_time": "2021-12-17T20:45:47.924Z"
   },
   {
    "duration": -2341,
    "start_time": "2021-12-17T20:45:47.930Z"
   },
   {
    "duration": -2349,
    "start_time": "2021-12-17T20:45:47.939Z"
   },
   {
    "duration": -2355,
    "start_time": "2021-12-17T20:45:47.947Z"
   },
   {
    "duration": 1009,
    "start_time": "2021-12-17T20:46:15.822Z"
   },
   {
    "duration": 47,
    "start_time": "2021-12-17T20:46:16.836Z"
   },
   {
    "duration": 10,
    "start_time": "2021-12-17T20:46:16.886Z"
   },
   {
    "duration": 47,
    "start_time": "2021-12-17T20:46:16.898Z"
   },
   {
    "duration": 6,
    "start_time": "2021-12-17T20:46:16.947Z"
   },
   {
    "duration": 11,
    "start_time": "2021-12-17T20:46:16.954Z"
   },
   {
    "duration": 205,
    "start_time": "2021-12-17T20:46:16.991Z"
   },
   {
    "duration": 4,
    "start_time": "2021-12-17T20:46:17.198Z"
   },
   {
    "duration": 14,
    "start_time": "2021-12-17T20:46:17.203Z"
   },
   {
    "duration": 118,
    "start_time": "2021-12-17T20:46:17.218Z"
   },
   {
    "duration": 5838,
    "start_time": "2021-12-17T20:46:17.337Z"
   },
   {
    "duration": 205,
    "start_time": "2021-12-17T20:46:23.178Z"
   },
   {
    "duration": 2,
    "start_time": "2021-12-17T20:46:23.384Z"
   },
   {
    "duration": 2,
    "start_time": "2021-12-17T20:46:23.391Z"
   },
   {
    "duration": 5,
    "start_time": "2021-12-17T20:46:23.395Z"
   },
   {
    "duration": 633,
    "start_time": "2021-12-17T20:46:23.402Z"
   },
   {
    "duration": 1030,
    "start_time": "2021-12-17T20:49:06.330Z"
   },
   {
    "duration": 47,
    "start_time": "2021-12-17T20:49:07.362Z"
   },
   {
    "duration": 5,
    "start_time": "2021-12-17T20:49:07.413Z"
   },
   {
    "duration": 42,
    "start_time": "2021-12-17T20:49:07.420Z"
   },
   {
    "duration": 6,
    "start_time": "2021-12-17T20:49:07.464Z"
   },
   {
    "duration": 13,
    "start_time": "2021-12-17T20:49:07.492Z"
   },
   {
    "duration": 301,
    "start_time": "2021-12-17T20:49:07.507Z"
   },
   {
    "duration": -2278,
    "start_time": "2021-12-17T20:49:10.088Z"
   },
   {
    "duration": -2282,
    "start_time": "2021-12-17T20:49:10.093Z"
   },
   {
    "duration": -2286,
    "start_time": "2021-12-17T20:49:10.098Z"
   },
   {
    "duration": -2289,
    "start_time": "2021-12-17T20:49:10.102Z"
   },
   {
    "duration": -2293,
    "start_time": "2021-12-17T20:49:10.107Z"
   },
   {
    "duration": -2296,
    "start_time": "2021-12-17T20:49:10.111Z"
   },
   {
    "duration": -2300,
    "start_time": "2021-12-17T20:49:10.116Z"
   },
   {
    "duration": -2302,
    "start_time": "2021-12-17T20:49:10.119Z"
   },
   {
    "duration": -2305,
    "start_time": "2021-12-17T20:49:10.123Z"
   },
   {
    "duration": -2308,
    "start_time": "2021-12-17T20:49:10.127Z"
   },
   {
    "duration": 1123,
    "start_time": "2021-12-17T20:53:02.688Z"
   },
   {
    "duration": 46,
    "start_time": "2021-12-17T20:53:03.813Z"
   },
   {
    "duration": 5,
    "start_time": "2021-12-17T20:53:03.861Z"
   },
   {
    "duration": 50,
    "start_time": "2021-12-17T20:53:03.868Z"
   },
   {
    "duration": 7,
    "start_time": "2021-12-17T20:53:03.919Z"
   },
   {
    "duration": 13,
    "start_time": "2021-12-17T20:53:03.927Z"
   },
   {
    "duration": 258,
    "start_time": "2021-12-17T20:53:03.942Z"
   },
   {
    "duration": -2270,
    "start_time": "2021-12-17T20:53:06.473Z"
   },
   {
    "duration": -2276,
    "start_time": "2021-12-17T20:53:06.480Z"
   },
   {
    "duration": -2285,
    "start_time": "2021-12-17T20:53:06.491Z"
   },
   {
    "duration": -2289,
    "start_time": "2021-12-17T20:53:06.496Z"
   },
   {
    "duration": -2293,
    "start_time": "2021-12-17T20:53:06.501Z"
   },
   {
    "duration": -2294,
    "start_time": "2021-12-17T20:53:06.504Z"
   },
   {
    "duration": -2296,
    "start_time": "2021-12-17T20:53:06.507Z"
   },
   {
    "duration": -2298,
    "start_time": "2021-12-17T20:53:06.510Z"
   },
   {
    "duration": -2299,
    "start_time": "2021-12-17T20:53:06.513Z"
   },
   {
    "duration": -2301,
    "start_time": "2021-12-17T20:53:06.516Z"
   },
   {
    "duration": 1028,
    "start_time": "2021-12-17T20:53:45.744Z"
   },
   {
    "duration": 47,
    "start_time": "2021-12-17T20:53:46.774Z"
   },
   {
    "duration": 5,
    "start_time": "2021-12-17T20:53:46.824Z"
   },
   {
    "duration": 43,
    "start_time": "2021-12-17T20:53:46.831Z"
   },
   {
    "duration": 8,
    "start_time": "2021-12-17T20:53:46.892Z"
   },
   {
    "duration": 13,
    "start_time": "2021-12-17T20:53:46.901Z"
   },
   {
    "duration": 3,
    "start_time": "2021-12-17T20:53:46.916Z"
   },
   {
    "duration": 233,
    "start_time": "2021-12-17T20:53:46.922Z"
   },
   {
    "duration": 4,
    "start_time": "2021-12-17T20:53:47.157Z"
   },
   {
    "duration": 12,
    "start_time": "2021-12-17T20:53:47.163Z"
   },
   {
    "duration": 116,
    "start_time": "2021-12-17T20:53:47.177Z"
   },
   {
    "duration": 5926,
    "start_time": "2021-12-17T20:53:47.295Z"
   },
   {
    "duration": 199,
    "start_time": "2021-12-17T20:53:53.224Z"
   },
   {
    "duration": 2,
    "start_time": "2021-12-17T20:53:53.425Z"
   },
   {
    "duration": 7,
    "start_time": "2021-12-17T20:53:53.429Z"
   },
   {
    "duration": 4,
    "start_time": "2021-12-17T20:53:53.438Z"
   },
   {
    "duration": 641,
    "start_time": "2021-12-17T20:53:53.444Z"
   },
   {
    "duration": 982,
    "start_time": "2021-12-17T20:54:13.445Z"
   },
   {
    "duration": 46,
    "start_time": "2021-12-17T20:54:14.429Z"
   },
   {
    "duration": 5,
    "start_time": "2021-12-17T20:54:14.477Z"
   },
   {
    "duration": 52,
    "start_time": "2021-12-17T20:54:14.484Z"
   },
   {
    "duration": 7,
    "start_time": "2021-12-17T20:54:14.537Z"
   },
   {
    "duration": 19,
    "start_time": "2021-12-17T20:54:14.546Z"
   },
   {
    "duration": 15,
    "start_time": "2021-12-17T20:54:14.566Z"
   },
   {
    "duration": 214,
    "start_time": "2021-12-17T20:54:14.583Z"
   },
   {
    "duration": 4,
    "start_time": "2021-12-17T20:54:14.799Z"
   },
   {
    "duration": 25,
    "start_time": "2021-12-17T20:54:14.804Z"
   },
   {
    "duration": 109,
    "start_time": "2021-12-17T20:54:14.831Z"
   },
   {
    "duration": 5934,
    "start_time": "2021-12-17T20:54:14.942Z"
   },
   {
    "duration": 197,
    "start_time": "2021-12-17T20:54:20.878Z"
   },
   {
    "duration": 2,
    "start_time": "2021-12-17T20:54:21.077Z"
   },
   {
    "duration": 12,
    "start_time": "2021-12-17T20:54:21.080Z"
   },
   {
    "duration": 20,
    "start_time": "2021-12-17T20:54:21.093Z"
   },
   {
    "duration": 653,
    "start_time": "2021-12-17T20:54:21.114Z"
   },
   {
    "duration": 1026,
    "start_time": "2021-12-17T20:54:57.001Z"
   },
   {
    "duration": 45,
    "start_time": "2021-12-17T20:54:58.029Z"
   },
   {
    "duration": 5,
    "start_time": "2021-12-17T20:54:58.076Z"
   },
   {
    "duration": 63,
    "start_time": "2021-12-17T20:54:58.084Z"
   },
   {
    "duration": 9,
    "start_time": "2021-12-17T20:54:58.149Z"
   },
   {
    "duration": 37,
    "start_time": "2021-12-17T20:54:58.160Z"
   },
   {
    "duration": 4,
    "start_time": "2021-12-17T20:54:58.199Z"
   },
   {
    "duration": 220,
    "start_time": "2021-12-17T20:54:58.206Z"
   },
   {
    "duration": 5,
    "start_time": "2021-12-17T20:54:58.428Z"
   },
   {
    "duration": 17,
    "start_time": "2021-12-17T20:54:58.435Z"
   },
   {
    "duration": 124,
    "start_time": "2021-12-17T20:54:58.454Z"
   },
   {
    "duration": 5992,
    "start_time": "2021-12-17T20:54:58.580Z"
   },
   {
    "duration": 197,
    "start_time": "2021-12-17T20:55:04.574Z"
   },
   {
    "duration": 2,
    "start_time": "2021-12-17T20:55:04.773Z"
   },
   {
    "duration": 15,
    "start_time": "2021-12-17T20:55:04.777Z"
   },
   {
    "duration": 4,
    "start_time": "2021-12-17T20:55:04.794Z"
   },
   {
    "duration": 1992,
    "start_time": "2021-12-17T20:55:04.800Z"
   },
   {
    "duration": 1044,
    "start_time": "2021-12-17T21:20:15.281Z"
   },
   {
    "duration": 46,
    "start_time": "2021-12-17T21:20:16.327Z"
   },
   {
    "duration": 5,
    "start_time": "2021-12-17T21:20:16.375Z"
   },
   {
    "duration": 48,
    "start_time": "2021-12-17T21:20:16.382Z"
   },
   {
    "duration": 6,
    "start_time": "2021-12-17T21:20:16.432Z"
   },
   {
    "duration": 11,
    "start_time": "2021-12-17T21:20:16.440Z"
   },
   {
    "duration": 2,
    "start_time": "2021-12-17T21:20:16.452Z"
   },
   {
    "duration": 45,
    "start_time": "2021-12-17T21:20:16.456Z"
   },
   {
    "duration": 215,
    "start_time": "2021-12-17T21:20:16.504Z"
   },
   {
    "duration": 4,
    "start_time": "2021-12-17T21:20:16.721Z"
   },
   {
    "duration": 12,
    "start_time": "2021-12-17T21:20:16.727Z"
   },
   {
    "duration": 123,
    "start_time": "2021-12-17T21:20:16.741Z"
   },
   {
    "duration": 5948,
    "start_time": "2021-12-17T21:20:16.865Z"
   },
   {
    "duration": 197,
    "start_time": "2021-12-17T21:20:22.814Z"
   },
   {
    "duration": 2,
    "start_time": "2021-12-17T21:20:23.013Z"
   },
   {
    "duration": 5,
    "start_time": "2021-12-17T21:20:23.017Z"
   },
   {
    "duration": 4,
    "start_time": "2021-12-17T21:20:23.024Z"
   },
   {
    "duration": 647,
    "start_time": "2021-12-17T21:20:23.030Z"
   },
   {
    "duration": 1072,
    "start_time": "2021-12-17T21:22:33.386Z"
   },
   {
    "duration": 45,
    "start_time": "2021-12-17T21:22:34.460Z"
   },
   {
    "duration": 4,
    "start_time": "2021-12-17T21:22:34.507Z"
   },
   {
    "duration": 44,
    "start_time": "2021-12-17T21:22:34.513Z"
   },
   {
    "duration": 6,
    "start_time": "2021-12-17T21:22:34.559Z"
   },
   {
    "duration": 33,
    "start_time": "2021-12-17T21:22:34.566Z"
   },
   {
    "duration": 2,
    "start_time": "2021-12-17T21:22:34.600Z"
   },
   {
    "duration": 8,
    "start_time": "2021-12-17T21:22:34.604Z"
   },
   {
    "duration": 191,
    "start_time": "2021-12-17T21:22:34.614Z"
   },
   {
    "duration": 4,
    "start_time": "2021-12-17T21:22:34.807Z"
   },
   {
    "duration": 12,
    "start_time": "2021-12-17T21:22:34.813Z"
   },
   {
    "duration": 102,
    "start_time": "2021-12-17T21:22:34.827Z"
   },
   {
    "duration": 5599,
    "start_time": "2021-12-17T21:22:34.931Z"
   },
   {
    "duration": 169,
    "start_time": "2021-12-17T21:22:40.532Z"
   },
   {
    "duration": 2,
    "start_time": "2021-12-17T21:22:40.703Z"
   },
   {
    "duration": 5,
    "start_time": "2021-12-17T21:22:40.707Z"
   },
   {
    "duration": 4,
    "start_time": "2021-12-17T21:22:40.713Z"
   },
   {
    "duration": 333,
    "start_time": "2021-12-17T21:22:40.719Z"
   },
   {
    "duration": 1012,
    "start_time": "2021-12-17T21:34:39.951Z"
   },
   {
    "duration": 46,
    "start_time": "2021-12-17T21:34:40.965Z"
   },
   {
    "duration": 5,
    "start_time": "2021-12-17T21:34:41.015Z"
   },
   {
    "duration": 49,
    "start_time": "2021-12-17T21:34:41.022Z"
   },
   {
    "duration": 25,
    "start_time": "2021-12-17T21:34:41.073Z"
   },
   {
    "duration": 12,
    "start_time": "2021-12-17T21:34:41.100Z"
   },
   {
    "duration": 2,
    "start_time": "2021-12-17T21:34:41.115Z"
   },
   {
    "duration": 10,
    "start_time": "2021-12-17T21:34:41.119Z"
   },
   {
    "duration": 208,
    "start_time": "2021-12-17T21:34:41.131Z"
   },
   {
    "duration": 5,
    "start_time": "2021-12-17T21:34:41.341Z"
   },
   {
    "duration": 13,
    "start_time": "2021-12-17T21:34:41.348Z"
   },
   {
    "duration": 102,
    "start_time": "2021-12-17T21:34:41.363Z"
   },
   {
    "duration": 5528,
    "start_time": "2021-12-17T21:34:41.467Z"
   },
   {
    "duration": 174,
    "start_time": "2021-12-17T21:34:46.997Z"
   },
   {
    "duration": 2,
    "start_time": "2021-12-17T21:34:47.173Z"
   },
   {
    "duration": 5,
    "start_time": "2021-12-17T21:34:47.177Z"
   },
   {
    "duration": 277,
    "start_time": "2021-12-17T21:34:47.192Z"
   },
   {
    "duration": -2267,
    "start_time": "2021-12-17T21:34:49.738Z"
   },
   {
    "duration": 1004,
    "start_time": "2021-12-17T21:35:27.734Z"
   },
   {
    "duration": 45,
    "start_time": "2021-12-17T21:35:28.740Z"
   },
   {
    "duration": 5,
    "start_time": "2021-12-17T21:35:28.788Z"
   },
   {
    "duration": 42,
    "start_time": "2021-12-17T21:35:28.795Z"
   },
   {
    "duration": 7,
    "start_time": "2021-12-17T21:35:28.838Z"
   },
   {
    "duration": 14,
    "start_time": "2021-12-17T21:35:28.846Z"
   },
   {
    "duration": 2,
    "start_time": "2021-12-17T21:35:28.861Z"
   },
   {
    "duration": 26,
    "start_time": "2021-12-17T21:35:28.866Z"
   },
   {
    "duration": 184,
    "start_time": "2021-12-17T21:35:28.894Z"
   },
   {
    "duration": 12,
    "start_time": "2021-12-17T21:35:29.080Z"
   },
   {
    "duration": 12,
    "start_time": "2021-12-17T21:35:29.094Z"
   },
   {
    "duration": 104,
    "start_time": "2021-12-17T21:35:29.107Z"
   },
   {
    "duration": 5487,
    "start_time": "2021-12-17T21:35:29.213Z"
   },
   {
    "duration": 169,
    "start_time": "2021-12-17T21:35:34.702Z"
   },
   {
    "duration": 2,
    "start_time": "2021-12-17T21:35:34.873Z"
   },
   {
    "duration": 20,
    "start_time": "2021-12-17T21:35:34.876Z"
   },
   {
    "duration": 467,
    "start_time": "2021-12-17T21:35:34.897Z"
   },
   {
    "duration": -2227,
    "start_time": "2021-12-17T21:35:37.593Z"
   },
   {
    "duration": 1055,
    "start_time": "2021-12-17T21:42:33.268Z"
   },
   {
    "duration": 45,
    "start_time": "2021-12-17T21:42:34.325Z"
   },
   {
    "duration": 6,
    "start_time": "2021-12-17T21:42:34.372Z"
   },
   {
    "duration": 44,
    "start_time": "2021-12-17T21:42:34.379Z"
   },
   {
    "duration": 6,
    "start_time": "2021-12-17T21:42:34.424Z"
   },
   {
    "duration": 11,
    "start_time": "2021-12-17T21:42:34.432Z"
   },
   {
    "duration": 2,
    "start_time": "2021-12-17T21:42:34.445Z"
   },
   {
    "duration": 6,
    "start_time": "2021-12-17T21:42:34.449Z"
   },
   {
    "duration": 211,
    "start_time": "2021-12-17T21:42:34.457Z"
   },
   {
    "duration": 4,
    "start_time": "2021-12-17T21:42:34.670Z"
   },
   {
    "duration": 23,
    "start_time": "2021-12-17T21:42:34.676Z"
   },
   {
    "duration": 99,
    "start_time": "2021-12-17T21:42:34.701Z"
   },
   {
    "duration": 5443,
    "start_time": "2021-12-17T21:42:34.801Z"
   },
   {
    "duration": 172,
    "start_time": "2021-12-17T21:42:40.246Z"
   },
   {
    "duration": 2,
    "start_time": "2021-12-17T21:42:40.420Z"
   },
   {
    "duration": 4,
    "start_time": "2021-12-17T21:42:40.424Z"
   },
   {
    "duration": 1090,
    "start_time": "2021-12-17T21:43:55.492Z"
   },
   {
    "duration": 48,
    "start_time": "2021-12-17T21:43:56.584Z"
   },
   {
    "duration": 5,
    "start_time": "2021-12-17T21:43:56.635Z"
   },
   {
    "duration": 50,
    "start_time": "2021-12-17T21:43:56.641Z"
   },
   {
    "duration": 13,
    "start_time": "2021-12-17T21:43:56.697Z"
   },
   {
    "duration": 13,
    "start_time": "2021-12-17T21:43:56.713Z"
   },
   {
    "duration": 3,
    "start_time": "2021-12-17T21:43:56.729Z"
   },
   {
    "duration": 9,
    "start_time": "2021-12-17T21:43:56.734Z"
   },
   {
    "duration": 222,
    "start_time": "2021-12-17T21:43:56.745Z"
   },
   {
    "duration": 5,
    "start_time": "2021-12-17T21:43:56.969Z"
   },
   {
    "duration": 31,
    "start_time": "2021-12-17T21:43:56.975Z"
   },
   {
    "duration": 109,
    "start_time": "2021-12-17T21:43:57.008Z"
   },
   {
    "duration": 5931,
    "start_time": "2021-12-17T21:43:57.120Z"
   },
   {
    "duration": 184,
    "start_time": "2021-12-17T21:44:03.053Z"
   },
   {
    "duration": 2,
    "start_time": "2021-12-17T21:44:03.239Z"
   },
   {
    "duration": 5,
    "start_time": "2021-12-17T21:44:03.243Z"
   },
   {
    "duration": 985,
    "start_time": "2021-12-17T21:44:25.651Z"
   },
   {
    "duration": 46,
    "start_time": "2021-12-17T21:44:26.638Z"
   },
   {
    "duration": 5,
    "start_time": "2021-12-17T21:44:26.686Z"
   },
   {
    "duration": 45,
    "start_time": "2021-12-17T21:44:26.693Z"
   },
   {
    "duration": 7,
    "start_time": "2021-12-17T21:44:26.740Z"
   },
   {
    "duration": 12,
    "start_time": "2021-12-17T21:44:26.749Z"
   },
   {
    "duration": 29,
    "start_time": "2021-12-17T21:44:26.763Z"
   },
   {
    "duration": 8,
    "start_time": "2021-12-17T21:44:26.795Z"
   },
   {
    "duration": 190,
    "start_time": "2021-12-17T21:44:26.805Z"
   },
   {
    "duration": 5,
    "start_time": "2021-12-17T21:44:26.997Z"
   },
   {
    "duration": 13,
    "start_time": "2021-12-17T21:44:27.003Z"
   },
   {
    "duration": 111,
    "start_time": "2021-12-17T21:44:27.018Z"
   },
   {
    "duration": 5599,
    "start_time": "2021-12-17T21:44:27.131Z"
   },
   {
    "duration": 166,
    "start_time": "2021-12-17T21:44:32.732Z"
   },
   {
    "duration": 2,
    "start_time": "2021-12-17T21:44:32.900Z"
   },
   {
    "duration": 5,
    "start_time": "2021-12-17T21:44:32.903Z"
   },
   {
    "duration": 23007,
    "start_time": "2021-12-17T21:44:32.910Z"
   },
   {
    "duration": 333,
    "start_time": "2021-12-17T21:44:55.918Z"
   },
   {
    "duration": 1118,
    "start_time": "2021-12-17T21:45:37.028Z"
   },
   {
    "duration": 60,
    "start_time": "2021-12-17T21:45:38.148Z"
   },
   {
    "duration": 7,
    "start_time": "2021-12-17T21:45:38.211Z"
   },
   {
    "duration": 45,
    "start_time": "2021-12-17T21:45:38.220Z"
   },
   {
    "duration": 25,
    "start_time": "2021-12-17T21:45:38.267Z"
   },
   {
    "duration": 13,
    "start_time": "2021-12-17T21:45:38.294Z"
   },
   {
    "duration": 2,
    "start_time": "2021-12-17T21:45:38.308Z"
   },
   {
    "duration": 12,
    "start_time": "2021-12-17T21:45:38.313Z"
   },
   {
    "duration": 199,
    "start_time": "2021-12-17T21:45:38.327Z"
   },
   {
    "duration": 3,
    "start_time": "2021-12-17T21:45:38.528Z"
   },
   {
    "duration": 13,
    "start_time": "2021-12-17T21:45:38.533Z"
   },
   {
    "duration": 102,
    "start_time": "2021-12-17T21:45:38.548Z"
   },
   {
    "duration": 5481,
    "start_time": "2021-12-17T21:45:38.652Z"
   },
   {
    "duration": 169,
    "start_time": "2021-12-17T21:45:44.134Z"
   },
   {
    "duration": 2,
    "start_time": "2021-12-17T21:45:44.305Z"
   },
   {
    "duration": 5,
    "start_time": "2021-12-17T21:45:44.309Z"
   },
   {
    "duration": 22795,
    "start_time": "2021-12-17T21:45:44.316Z"
   },
   {
    "duration": 355,
    "start_time": "2021-12-17T21:46:07.114Z"
   },
   {
    "duration": 1004,
    "start_time": "2021-12-17T22:10:20.258Z"
   },
   {
    "duration": 45,
    "start_time": "2021-12-17T22:10:21.264Z"
   },
   {
    "duration": 6,
    "start_time": "2021-12-17T22:10:21.311Z"
   },
   {
    "duration": 42,
    "start_time": "2021-12-17T22:10:21.319Z"
   },
   {
    "duration": 28,
    "start_time": "2021-12-17T22:10:21.363Z"
   },
   {
    "duration": 13,
    "start_time": "2021-12-17T22:10:21.393Z"
   },
   {
    "duration": 3,
    "start_time": "2021-12-17T22:10:21.408Z"
   },
   {
    "duration": 8,
    "start_time": "2021-12-17T22:10:21.414Z"
   },
   {
    "duration": 194,
    "start_time": "2021-12-17T22:10:21.424Z"
   },
   {
    "duration": 5,
    "start_time": "2021-12-17T22:10:21.619Z"
   },
   {
    "duration": 12,
    "start_time": "2021-12-17T22:10:21.626Z"
   },
   {
    "duration": 111,
    "start_time": "2021-12-17T22:10:21.640Z"
   },
   {
    "duration": 5548,
    "start_time": "2021-12-17T22:10:21.754Z"
   },
   {
    "duration": 170,
    "start_time": "2021-12-17T22:10:27.304Z"
   },
   {
    "duration": 2,
    "start_time": "2021-12-17T22:10:27.476Z"
   },
   {
    "duration": 13,
    "start_time": "2021-12-17T22:10:27.480Z"
   },
   {
    "duration": 22618,
    "start_time": "2021-12-17T22:10:27.495Z"
   },
   {
    "duration": 686,
    "start_time": "2021-12-17T22:10:50.114Z"
   },
   {
    "duration": 986,
    "start_time": "2021-12-17T22:11:07.340Z"
   },
   {
    "duration": 46,
    "start_time": "2021-12-17T22:11:08.328Z"
   },
   {
    "duration": 5,
    "start_time": "2021-12-17T22:11:08.376Z"
   },
   {
    "duration": 48,
    "start_time": "2021-12-17T22:11:08.383Z"
   },
   {
    "duration": 6,
    "start_time": "2021-12-17T22:11:08.433Z"
   },
   {
    "duration": 21,
    "start_time": "2021-12-17T22:11:08.441Z"
   },
   {
    "duration": 6,
    "start_time": "2021-12-17T22:11:08.463Z"
   },
   {
    "duration": 23,
    "start_time": "2021-12-17T22:11:08.471Z"
   },
   {
    "duration": 183,
    "start_time": "2021-12-17T22:11:08.496Z"
   },
   {
    "duration": 4,
    "start_time": "2021-12-17T22:11:08.691Z"
   },
   {
    "duration": 12,
    "start_time": "2021-12-17T22:11:08.696Z"
   },
   {
    "duration": 86,
    "start_time": "2021-12-17T22:11:08.710Z"
   },
   {
    "duration": 5594,
    "start_time": "2021-12-17T22:11:08.798Z"
   },
   {
    "duration": 169,
    "start_time": "2021-12-17T22:11:14.394Z"
   },
   {
    "duration": 2,
    "start_time": "2021-12-17T22:11:14.565Z"
   },
   {
    "duration": 6,
    "start_time": "2021-12-17T22:11:14.568Z"
   },
   {
    "duration": 62445,
    "start_time": "2021-12-17T22:11:14.575Z"
   },
   {
    "duration": 679,
    "start_time": "2021-12-17T22:12:17.022Z"
   },
   {
    "duration": 1053,
    "start_time": "2021-12-17T22:12:41.063Z"
   },
   {
    "duration": 45,
    "start_time": "2021-12-17T22:12:42.118Z"
   },
   {
    "duration": 5,
    "start_time": "2021-12-17T22:12:42.165Z"
   },
   {
    "duration": 51,
    "start_time": "2021-12-17T22:12:42.173Z"
   },
   {
    "duration": 7,
    "start_time": "2021-12-17T22:12:42.225Z"
   },
   {
    "duration": 12,
    "start_time": "2021-12-17T22:12:42.233Z"
   },
   {
    "duration": 2,
    "start_time": "2021-12-17T22:12:42.246Z"
   },
   {
    "duration": 12,
    "start_time": "2021-12-17T22:12:42.250Z"
   },
   {
    "duration": 196,
    "start_time": "2021-12-17T22:12:42.264Z"
   },
   {
    "duration": 4,
    "start_time": "2021-12-17T22:12:42.462Z"
   },
   {
    "duration": 24,
    "start_time": "2021-12-17T22:12:42.468Z"
   },
   {
    "duration": 99,
    "start_time": "2021-12-17T22:12:42.494Z"
   },
   {
    "duration": 5448,
    "start_time": "2021-12-17T22:12:42.595Z"
   },
   {
    "duration": 175,
    "start_time": "2021-12-17T22:12:48.045Z"
   },
   {
    "duration": 3,
    "start_time": "2021-12-17T22:12:48.221Z"
   },
   {
    "duration": 5,
    "start_time": "2021-12-17T22:12:48.226Z"
   },
   {
    "duration": 62213,
    "start_time": "2021-12-17T22:12:48.233Z"
   },
   {
    "duration": 551,
    "start_time": "2021-12-17T22:13:50.448Z"
   },
   {
    "duration": 1048,
    "start_time": "2021-12-17T22:47:07.385Z"
   },
   {
    "duration": 44,
    "start_time": "2021-12-17T22:47:08.435Z"
   },
   {
    "duration": 9,
    "start_time": "2021-12-17T22:47:08.482Z"
   },
   {
    "duration": 41,
    "start_time": "2021-12-17T22:47:08.493Z"
   },
   {
    "duration": 6,
    "start_time": "2021-12-17T22:47:08.536Z"
   },
   {
    "duration": 12,
    "start_time": "2021-12-17T22:47:08.543Z"
   },
   {
    "duration": 2,
    "start_time": "2021-12-17T22:47:08.557Z"
   },
   {
    "duration": 32,
    "start_time": "2021-12-17T22:47:08.562Z"
   },
   {
    "duration": 182,
    "start_time": "2021-12-17T22:47:08.596Z"
   },
   {
    "duration": 4,
    "start_time": "2021-12-17T22:47:08.780Z"
   },
   {
    "duration": 11,
    "start_time": "2021-12-17T22:47:08.791Z"
   },
   {
    "duration": 101,
    "start_time": "2021-12-17T22:47:08.803Z"
   },
   {
    "duration": 5586,
    "start_time": "2021-12-17T22:47:08.906Z"
   },
   {
    "duration": 63,
    "start_time": "2021-12-17T22:47:14.494Z"
   },
   {
    "duration": -2180,
    "start_time": "2021-12-17T22:47:16.739Z"
   },
   {
    "duration": -2182,
    "start_time": "2021-12-17T22:47:16.742Z"
   },
   {
    "duration": -2184,
    "start_time": "2021-12-17T22:47:16.744Z"
   },
   {
    "duration": -2187,
    "start_time": "2021-12-17T22:47:16.748Z"
   },
   {
    "duration": 1057,
    "start_time": "2021-12-17T22:48:29.181Z"
   },
   {
    "duration": 45,
    "start_time": "2021-12-17T22:48:30.240Z"
   },
   {
    "duration": 6,
    "start_time": "2021-12-17T22:48:30.287Z"
   },
   {
    "duration": 41,
    "start_time": "2021-12-17T22:48:30.295Z"
   },
   {
    "duration": 6,
    "start_time": "2021-12-17T22:48:30.338Z"
   },
   {
    "duration": 15,
    "start_time": "2021-12-17T22:48:30.345Z"
   },
   {
    "duration": 29,
    "start_time": "2021-12-17T22:48:30.362Z"
   },
   {
    "duration": 8,
    "start_time": "2021-12-17T22:48:30.394Z"
   },
   {
    "duration": 190,
    "start_time": "2021-12-17T22:48:30.404Z"
   },
   {
    "duration": 4,
    "start_time": "2021-12-17T22:48:30.596Z"
   },
   {
    "duration": 15,
    "start_time": "2021-12-17T22:48:30.601Z"
   },
   {
    "duration": 109,
    "start_time": "2021-12-17T22:48:30.617Z"
   },
   {
    "duration": 5325,
    "start_time": "2021-12-17T22:48:30.728Z"
   },
   {
    "duration": 259,
    "start_time": "2021-12-17T22:48:36.055Z"
   },
   {
    "duration": -2171,
    "start_time": "2021-12-17T22:48:38.486Z"
   },
   {
    "duration": -2173,
    "start_time": "2021-12-17T22:48:38.489Z"
   },
   {
    "duration": -2178,
    "start_time": "2021-12-17T22:48:38.495Z"
   },
   {
    "duration": -2180,
    "start_time": "2021-12-17T22:48:38.498Z"
   },
   {
    "duration": 1073,
    "start_time": "2021-12-17T22:49:48.183Z"
   },
   {
    "duration": 48,
    "start_time": "2021-12-17T22:49:49.258Z"
   },
   {
    "duration": 6,
    "start_time": "2021-12-17T22:49:49.308Z"
   },
   {
    "duration": 40,
    "start_time": "2021-12-17T22:49:49.316Z"
   },
   {
    "duration": 7,
    "start_time": "2021-12-17T22:49:49.359Z"
   },
   {
    "duration": 11,
    "start_time": "2021-12-17T22:49:49.392Z"
   },
   {
    "duration": 2,
    "start_time": "2021-12-17T22:49:49.405Z"
   },
   {
    "duration": 7,
    "start_time": "2021-12-17T22:49:49.409Z"
   },
   {
    "duration": 194,
    "start_time": "2021-12-17T22:49:49.417Z"
   },
   {
    "duration": 5,
    "start_time": "2021-12-17T22:49:49.612Z"
   },
   {
    "duration": 15,
    "start_time": "2021-12-17T22:49:49.618Z"
   },
   {
    "duration": 102,
    "start_time": "2021-12-17T22:49:49.634Z"
   },
   {
    "duration": 5614,
    "start_time": "2021-12-17T22:49:49.737Z"
   },
   {
    "duration": 441,
    "start_time": "2021-12-17T22:49:55.353Z"
   },
   {
    "duration": -2213,
    "start_time": "2021-12-17T22:49:58.010Z"
   },
   {
    "duration": -2217,
    "start_time": "2021-12-17T22:49:58.015Z"
   },
   {
    "duration": -2219,
    "start_time": "2021-12-17T22:49:58.019Z"
   },
   {
    "duration": -2222,
    "start_time": "2021-12-17T22:49:58.023Z"
   },
   {
    "duration": 1047,
    "start_time": "2021-12-17T22:53:38.670Z"
   },
   {
    "duration": 46,
    "start_time": "2021-12-17T22:53:39.719Z"
   },
   {
    "duration": 5,
    "start_time": "2021-12-17T22:53:39.767Z"
   },
   {
    "duration": 57,
    "start_time": "2021-12-17T22:53:39.774Z"
   },
   {
    "duration": 7,
    "start_time": "2021-12-17T22:53:39.833Z"
   },
   {
    "duration": 28,
    "start_time": "2021-12-17T22:53:39.842Z"
   },
   {
    "duration": 9,
    "start_time": "2021-12-17T22:53:39.872Z"
   },
   {
    "duration": 34,
    "start_time": "2021-12-17T22:53:39.884Z"
   },
   {
    "duration": 187,
    "start_time": "2021-12-17T22:53:39.921Z"
   },
   {
    "duration": 5,
    "start_time": "2021-12-17T22:53:40.110Z"
   },
   {
    "duration": 23,
    "start_time": "2021-12-17T22:53:40.117Z"
   },
   {
    "duration": 100,
    "start_time": "2021-12-17T22:53:40.142Z"
   },
   {
    "duration": 5622,
    "start_time": "2021-12-17T22:53:40.244Z"
   },
   {
    "duration": 27,
    "start_time": "2021-12-17T22:53:45.868Z"
   },
   {
    "duration": 2,
    "start_time": "2021-12-17T22:53:45.897Z"
   },
   {
    "duration": 8,
    "start_time": "2021-12-17T22:53:45.901Z"
   },
   {
    "duration": 270,
    "start_time": "2021-12-17T22:53:45.911Z"
   },
   {
    "duration": -2196,
    "start_time": "2021-12-17T22:53:48.378Z"
   },
   {
    "duration": 961,
    "start_time": "2021-12-18T16:54:33.838Z"
   },
   {
    "duration": 40,
    "start_time": "2021-12-18T16:54:34.800Z"
   },
   {
    "duration": 5,
    "start_time": "2021-12-18T16:54:34.842Z"
   },
   {
    "duration": 43,
    "start_time": "2021-12-18T16:54:34.849Z"
   },
   {
    "duration": 6,
    "start_time": "2021-12-18T16:54:34.894Z"
   },
   {
    "duration": 12,
    "start_time": "2021-12-18T16:54:34.901Z"
   },
   {
    "duration": 2,
    "start_time": "2021-12-18T16:54:34.914Z"
   },
   {
    "duration": 8,
    "start_time": "2021-12-18T16:54:34.919Z"
   },
   {
    "duration": 5,
    "start_time": "2021-12-18T16:54:34.928Z"
   },
   {
    "duration": 12,
    "start_time": "2021-12-18T16:54:34.935Z"
   },
   {
    "duration": 5,
    "start_time": "2021-12-18T16:54:34.948Z"
   },
   {
    "duration": 37,
    "start_time": "2021-12-18T16:54:34.955Z"
   },
   {
    "duration": 7,
    "start_time": "2021-12-18T16:54:34.994Z"
   },
   {
    "duration": 39,
    "start_time": "2021-12-18T16:54:35.003Z"
   },
   {
    "duration": 2,
    "start_time": "2021-12-18T16:54:35.044Z"
   },
   {
    "duration": 12,
    "start_time": "2021-12-18T16:54:35.047Z"
   },
   {
    "duration": 2,
    "start_time": "2021-12-18T16:54:35.087Z"
   },
   {
    "duration": 6,
    "start_time": "2021-12-18T16:54:35.091Z"
   },
   {
    "duration": 341,
    "start_time": "2021-12-18T16:54:35.098Z"
   },
   {
    "duration": -2669,
    "start_time": "2021-12-18T16:54:38.110Z"
   },
   {
    "duration": 1103,
    "start_time": "2021-12-18T17:01:18.617Z"
   },
   {
    "duration": 42,
    "start_time": "2021-12-18T17:01:19.722Z"
   },
   {
    "duration": 5,
    "start_time": "2021-12-18T17:01:19.766Z"
   },
   {
    "duration": 46,
    "start_time": "2021-12-18T17:01:19.773Z"
   },
   {
    "duration": 6,
    "start_time": "2021-12-18T17:01:19.821Z"
   },
   {
    "duration": 17,
    "start_time": "2021-12-18T17:01:19.829Z"
   },
   {
    "duration": 4,
    "start_time": "2021-12-18T17:01:19.848Z"
   },
   {
    "duration": 15,
    "start_time": "2021-12-18T17:01:19.855Z"
   },
   {
    "duration": 13,
    "start_time": "2021-12-18T17:01:19.871Z"
   },
   {
    "duration": 26,
    "start_time": "2021-12-18T17:01:19.885Z"
   },
   {
    "duration": 29,
    "start_time": "2021-12-18T17:01:19.912Z"
   },
   {
    "duration": 15,
    "start_time": "2021-12-18T17:01:19.942Z"
   },
   {
    "duration": 17,
    "start_time": "2021-12-18T17:01:19.959Z"
   },
   {
    "duration": 17,
    "start_time": "2021-12-18T17:01:19.978Z"
   },
   {
    "duration": 60,
    "start_time": "2021-12-18T17:01:19.997Z"
   },
   {
    "duration": 3,
    "start_time": "2021-12-18T17:01:20.059Z"
   },
   {
    "duration": 25,
    "start_time": "2021-12-18T17:01:20.063Z"
   },
   {
    "duration": 2,
    "start_time": "2021-12-18T17:01:20.089Z"
   },
   {
    "duration": 5,
    "start_time": "2021-12-18T17:01:20.093Z"
   },
   {
    "duration": 345,
    "start_time": "2021-12-18T17:01:20.100Z"
   },
   {
    "duration": -2685,
    "start_time": "2021-12-18T17:01:23.132Z"
   },
   {
    "duration": 1176,
    "start_time": "2021-12-18T17:03:12.822Z"
   },
   {
    "duration": 57,
    "start_time": "2021-12-18T17:03:14.000Z"
   },
   {
    "duration": 6,
    "start_time": "2021-12-18T17:03:14.059Z"
   },
   {
    "duration": 41,
    "start_time": "2021-12-18T17:03:14.067Z"
   },
   {
    "duration": 6,
    "start_time": "2021-12-18T17:03:14.110Z"
   },
   {
    "duration": 11,
    "start_time": "2021-12-18T17:03:14.118Z"
   },
   {
    "duration": 4,
    "start_time": "2021-12-18T17:03:14.131Z"
   },
   {
    "duration": 6,
    "start_time": "2021-12-18T17:03:14.138Z"
   },
   {
    "duration": 7,
    "start_time": "2021-12-18T17:03:14.146Z"
   },
   {
    "duration": 34,
    "start_time": "2021-12-18T17:03:14.155Z"
   },
   {
    "duration": 12,
    "start_time": "2021-12-18T17:03:14.190Z"
   },
   {
    "duration": 8,
    "start_time": "2021-12-18T17:03:14.203Z"
   },
   {
    "duration": 18,
    "start_time": "2021-12-18T17:03:14.213Z"
   },
   {
    "duration": 16,
    "start_time": "2021-12-18T17:03:14.232Z"
   },
   {
    "duration": 46,
    "start_time": "2021-12-18T17:03:14.250Z"
   },
   {
    "duration": 2,
    "start_time": "2021-12-18T17:03:14.298Z"
   },
   {
    "duration": 16,
    "start_time": "2021-12-18T17:03:14.302Z"
   },
   {
    "duration": 10,
    "start_time": "2021-12-18T17:03:14.319Z"
   },
   {
    "duration": 9,
    "start_time": "2021-12-18T17:03:14.330Z"
   },
   {
    "duration": 19589,
    "start_time": "2021-12-18T17:03:14.341Z"
   },
   {
    "duration": 158,
    "start_time": "2021-12-18T17:03:33.931Z"
   },
   {
    "duration": 1219,
    "start_time": "2021-12-18T19:41:47.692Z"
   },
   {
    "duration": 41,
    "start_time": "2021-12-18T19:41:48.914Z"
   },
   {
    "duration": 5,
    "start_time": "2021-12-18T19:41:48.957Z"
   },
   {
    "duration": 67,
    "start_time": "2021-12-18T19:41:48.965Z"
   },
   {
    "duration": 9,
    "start_time": "2021-12-18T19:41:49.034Z"
   },
   {
    "duration": 15,
    "start_time": "2021-12-18T19:41:49.045Z"
   },
   {
    "duration": 3,
    "start_time": "2021-12-18T19:41:49.062Z"
   },
   {
    "duration": 29,
    "start_time": "2021-12-18T19:41:49.068Z"
   },
   {
    "duration": 10,
    "start_time": "2021-12-18T19:41:49.101Z"
   },
   {
    "duration": 8,
    "start_time": "2021-12-18T19:41:49.113Z"
   },
   {
    "duration": 14,
    "start_time": "2021-12-18T19:41:49.122Z"
   },
   {
    "duration": 5,
    "start_time": "2021-12-18T19:41:49.137Z"
   },
   {
    "duration": 9,
    "start_time": "2021-12-18T19:41:49.144Z"
   },
   {
    "duration": 6,
    "start_time": "2021-12-18T19:41:49.154Z"
   },
   {
    "duration": 68,
    "start_time": "2021-12-18T19:41:49.162Z"
   },
   {
    "duration": 2,
    "start_time": "2021-12-18T19:41:49.232Z"
   },
   {
    "duration": 11,
    "start_time": "2021-12-18T19:41:49.236Z"
   },
   {
    "duration": 2,
    "start_time": "2021-12-18T19:41:49.249Z"
   },
   {
    "duration": 4,
    "start_time": "2021-12-18T19:41:49.253Z"
   },
   {
    "duration": 21297,
    "start_time": "2021-12-18T19:41:49.258Z"
   },
   {
    "duration": 499,
    "start_time": "2021-12-18T19:42:10.557Z"
   },
   {
    "duration": 20335,
    "start_time": "2021-12-18T19:42:55.724Z"
   },
   {
    "duration": 389,
    "start_time": "2021-12-18T19:43:16.061Z"
   },
   {
    "duration": 18233,
    "start_time": "2021-12-18T19:43:53.349Z"
   },
   {
    "duration": 23,
    "start_time": "2021-12-18T19:44:11.587Z"
   },
   {
    "duration": 4,
    "start_time": "2021-12-18T19:52:55.928Z"
   },
   {
    "duration": 25,
    "start_time": "2021-12-18T19:52:58.890Z"
   },
   {
    "duration": 193,
    "start_time": "2021-12-18T19:53:09.916Z"
   },
   {
    "duration": 81,
    "start_time": "2021-12-18T19:55:00.496Z"
   },
   {
    "duration": 1035,
    "start_time": "2021-12-18T19:58:13.854Z"
   },
   {
    "duration": 57,
    "start_time": "2021-12-18T19:58:14.891Z"
   },
   {
    "duration": 7,
    "start_time": "2021-12-18T19:58:14.950Z"
   },
   {
    "duration": 42,
    "start_time": "2021-12-18T19:58:14.958Z"
   },
   {
    "duration": 7,
    "start_time": "2021-12-18T19:58:15.002Z"
   },
   {
    "duration": 18,
    "start_time": "2021-12-18T19:58:15.011Z"
   },
   {
    "duration": 3,
    "start_time": "2021-12-18T19:58:15.030Z"
   },
   {
    "duration": 10,
    "start_time": "2021-12-18T19:58:15.034Z"
   },
   {
    "duration": 6,
    "start_time": "2021-12-18T19:58:15.047Z"
   },
   {
    "duration": 6,
    "start_time": "2021-12-18T19:58:15.055Z"
   },
   {
    "duration": 34,
    "start_time": "2021-12-18T19:58:15.062Z"
   },
   {
    "duration": 4,
    "start_time": "2021-12-18T19:58:15.098Z"
   },
   {
    "duration": 10,
    "start_time": "2021-12-18T19:58:15.104Z"
   },
   {
    "duration": 8,
    "start_time": "2021-12-18T19:58:15.116Z"
   },
   {
    "duration": 38,
    "start_time": "2021-12-18T19:58:15.125Z"
   },
   {
    "duration": 2,
    "start_time": "2021-12-18T19:58:15.188Z"
   },
   {
    "duration": 15,
    "start_time": "2021-12-18T19:58:15.191Z"
   },
   {
    "duration": 2,
    "start_time": "2021-12-18T19:58:15.207Z"
   },
   {
    "duration": 5,
    "start_time": "2021-12-18T19:58:15.211Z"
   },
   {
    "duration": 18052,
    "start_time": "2021-12-18T19:58:15.218Z"
   },
   {
    "duration": 119,
    "start_time": "2021-12-18T19:58:33.272Z"
   },
   {
    "duration": 292,
    "start_time": "2021-12-18T19:58:33.395Z"
   },
   {
    "duration": 172,
    "start_time": "2021-12-18T19:58:33.689Z"
   },
   {
    "duration": 1102,
    "start_time": "2021-12-18T19:59:43.681Z"
   },
   {
    "duration": 42,
    "start_time": "2021-12-18T19:59:44.784Z"
   },
   {
    "duration": 4,
    "start_time": "2021-12-18T19:59:44.828Z"
   },
   {
    "duration": 42,
    "start_time": "2021-12-18T19:59:44.834Z"
   },
   {
    "duration": 11,
    "start_time": "2021-12-18T19:59:44.877Z"
   },
   {
    "duration": 11,
    "start_time": "2021-12-18T19:59:44.889Z"
   },
   {
    "duration": 2,
    "start_time": "2021-12-18T19:59:44.902Z"
   },
   {
    "duration": 8,
    "start_time": "2021-12-18T19:59:44.906Z"
   },
   {
    "duration": 7,
    "start_time": "2021-12-18T19:59:44.916Z"
   },
   {
    "duration": 6,
    "start_time": "2021-12-18T19:59:44.925Z"
   },
   {
    "duration": 12,
    "start_time": "2021-12-18T19:59:44.933Z"
   },
   {
    "duration": 3,
    "start_time": "2021-12-18T19:59:44.947Z"
   },
   {
    "duration": 9,
    "start_time": "2021-12-18T19:59:44.952Z"
   },
   {
    "duration": 7,
    "start_time": "2021-12-18T19:59:44.987Z"
   },
   {
    "duration": 43,
    "start_time": "2021-12-18T19:59:44.996Z"
   },
   {
    "duration": 2,
    "start_time": "2021-12-18T19:59:45.041Z"
   },
   {
    "duration": 13,
    "start_time": "2021-12-18T19:59:45.044Z"
   },
   {
    "duration": 2,
    "start_time": "2021-12-18T19:59:45.059Z"
   },
   {
    "duration": 9,
    "start_time": "2021-12-18T19:59:45.062Z"
   },
   {
    "duration": 64929,
    "start_time": "2021-12-18T19:59:45.072Z"
   },
   {
    "duration": 24,
    "start_time": "2021-12-18T20:00:50.003Z"
   },
   {
    "duration": 284,
    "start_time": "2021-12-18T20:00:50.089Z"
   },
   {
    "duration": 123,
    "start_time": "2021-12-18T20:00:50.376Z"
   },
   {
    "duration": 1042,
    "start_time": "2021-12-18T20:01:23.951Z"
   },
   {
    "duration": 45,
    "start_time": "2021-12-18T20:01:24.995Z"
   },
   {
    "duration": 6,
    "start_time": "2021-12-18T20:01:25.041Z"
   },
   {
    "duration": 54,
    "start_time": "2021-12-18T20:01:25.049Z"
   },
   {
    "duration": 6,
    "start_time": "2021-12-18T20:01:25.104Z"
   },
   {
    "duration": 16,
    "start_time": "2021-12-18T20:01:25.112Z"
   },
   {
    "duration": 3,
    "start_time": "2021-12-18T20:01:25.129Z"
   },
   {
    "duration": 7,
    "start_time": "2021-12-18T20:01:25.135Z"
   },
   {
    "duration": 5,
    "start_time": "2021-12-18T20:01:25.144Z"
   },
   {
    "duration": 38,
    "start_time": "2021-12-18T20:01:25.151Z"
   },
   {
    "duration": 19,
    "start_time": "2021-12-18T20:01:25.191Z"
   },
   {
    "duration": 4,
    "start_time": "2021-12-18T20:01:25.212Z"
   },
   {
    "duration": 8,
    "start_time": "2021-12-18T20:01:25.218Z"
   },
   {
    "duration": 12,
    "start_time": "2021-12-18T20:01:25.228Z"
   },
   {
    "duration": 67,
    "start_time": "2021-12-18T20:01:25.242Z"
   },
   {
    "duration": 2,
    "start_time": "2021-12-18T20:01:25.310Z"
   },
   {
    "duration": 12,
    "start_time": "2021-12-18T20:01:25.314Z"
   },
   {
    "duration": 2,
    "start_time": "2021-12-18T20:01:25.327Z"
   },
   {
    "duration": 5,
    "start_time": "2021-12-18T20:01:25.331Z"
   },
   {
    "duration": 197074,
    "start_time": "2021-12-18T20:01:25.337Z"
   },
   {
    "duration": 20,
    "start_time": "2021-12-18T20:04:42.412Z"
   },
   {
    "duration": 286,
    "start_time": "2021-12-18T20:04:42.489Z"
   },
   {
    "duration": 131,
    "start_time": "2021-12-18T20:04:42.778Z"
   },
   {
    "duration": 1000,
    "start_time": "2021-12-18T20:05:36.602Z"
   },
   {
    "duration": 42,
    "start_time": "2021-12-18T20:05:37.604Z"
   },
   {
    "duration": 5,
    "start_time": "2021-12-18T20:05:37.648Z"
   },
   {
    "duration": 37,
    "start_time": "2021-12-18T20:05:37.654Z"
   },
   {
    "duration": 5,
    "start_time": "2021-12-18T20:05:37.693Z"
   },
   {
    "duration": 12,
    "start_time": "2021-12-18T20:05:37.700Z"
   },
   {
    "duration": 2,
    "start_time": "2021-12-18T20:05:37.713Z"
   },
   {
    "duration": 9,
    "start_time": "2021-12-18T20:05:37.717Z"
   },
   {
    "duration": 3,
    "start_time": "2021-12-18T20:05:37.728Z"
   },
   {
    "duration": 7,
    "start_time": "2021-12-18T20:05:37.733Z"
   },
   {
    "duration": 13,
    "start_time": "2021-12-18T20:05:37.741Z"
   },
   {
    "duration": 34,
    "start_time": "2021-12-18T20:05:37.755Z"
   },
   {
    "duration": 7,
    "start_time": "2021-12-18T20:05:37.790Z"
   },
   {
    "duration": 9,
    "start_time": "2021-12-18T20:05:37.799Z"
   },
   {
    "duration": 36,
    "start_time": "2021-12-18T20:05:37.810Z"
   },
   {
    "duration": 2,
    "start_time": "2021-12-18T20:05:37.848Z"
   },
   {
    "duration": 43,
    "start_time": "2021-12-18T20:05:37.851Z"
   },
   {
    "duration": 1,
    "start_time": "2021-12-18T20:05:37.896Z"
   },
   {
    "duration": 4,
    "start_time": "2021-12-18T20:05:37.899Z"
   },
   {
    "duration": 391240,
    "start_time": "2021-12-18T20:05:37.905Z"
   },
   {
    "duration": 44,
    "start_time": "2021-12-18T20:12:09.147Z"
   },
   {
    "duration": 371,
    "start_time": "2021-12-18T20:12:09.193Z"
   },
   {
    "duration": 124,
    "start_time": "2021-12-18T20:12:09.567Z"
   },
   {
    "duration": 985,
    "start_time": "2021-12-18T20:15:15.721Z"
   },
   {
    "duration": 43,
    "start_time": "2021-12-18T20:15:16.707Z"
   },
   {
    "duration": 5,
    "start_time": "2021-12-18T20:15:16.751Z"
   },
   {
    "duration": 43,
    "start_time": "2021-12-18T20:15:16.758Z"
   },
   {
    "duration": 6,
    "start_time": "2021-12-18T20:15:16.802Z"
   },
   {
    "duration": 12,
    "start_time": "2021-12-18T20:15:16.810Z"
   },
   {
    "duration": 2,
    "start_time": "2021-12-18T20:15:16.824Z"
   },
   {
    "duration": 12,
    "start_time": "2021-12-18T20:15:16.828Z"
   },
   {
    "duration": 8,
    "start_time": "2021-12-18T20:15:16.842Z"
   },
   {
    "duration": 10,
    "start_time": "2021-12-18T20:15:16.851Z"
   },
   {
    "duration": 16,
    "start_time": "2021-12-18T20:15:16.863Z"
   },
   {
    "duration": 9,
    "start_time": "2021-12-18T20:15:16.881Z"
   },
   {
    "duration": 7,
    "start_time": "2021-12-18T20:15:16.892Z"
   },
   {
    "duration": 6,
    "start_time": "2021-12-18T20:15:16.901Z"
   },
   {
    "duration": 37,
    "start_time": "2021-12-18T20:15:16.909Z"
   },
   {
    "duration": 2,
    "start_time": "2021-12-18T20:15:16.948Z"
   },
   {
    "duration": 41,
    "start_time": "2021-12-18T20:15:16.951Z"
   },
   {
    "duration": 2,
    "start_time": "2021-12-18T20:15:16.994Z"
   },
   {
    "duration": 4,
    "start_time": "2021-12-18T20:15:16.998Z"
   },
   {
    "duration": 6,
    "start_time": "2021-12-18T20:15:17.004Z"
   },
   {
    "duration": 82,
    "start_time": "2021-12-18T20:15:17.011Z"
   },
   {
    "duration": 278,
    "start_time": "2021-12-18T20:15:17.095Z"
   },
   {
    "duration": 389,
    "start_time": "2021-12-18T20:15:17.376Z"
   },
   {
    "duration": 1035,
    "start_time": "2021-12-18T20:18:07.073Z"
   },
   {
    "duration": 44,
    "start_time": "2021-12-18T20:18:08.110Z"
   },
   {
    "duration": 6,
    "start_time": "2021-12-18T20:18:08.157Z"
   },
   {
    "duration": 44,
    "start_time": "2021-12-18T20:18:08.165Z"
   },
   {
    "duration": 8,
    "start_time": "2021-12-18T20:18:08.211Z"
   },
   {
    "duration": 13,
    "start_time": "2021-12-18T20:18:08.220Z"
   },
   {
    "duration": 3,
    "start_time": "2021-12-18T20:18:08.234Z"
   },
   {
    "duration": 8,
    "start_time": "2021-12-18T20:18:08.238Z"
   },
   {
    "duration": 4,
    "start_time": "2021-12-18T20:18:08.250Z"
   },
   {
    "duration": 4,
    "start_time": "2021-12-18T20:18:08.289Z"
   },
   {
    "duration": 12,
    "start_time": "2021-12-18T20:18:08.295Z"
   },
   {
    "duration": 5,
    "start_time": "2021-12-18T20:18:08.309Z"
   },
   {
    "duration": 8,
    "start_time": "2021-12-18T20:18:08.315Z"
   },
   {
    "duration": 8,
    "start_time": "2021-12-18T20:18:08.325Z"
   },
   {
    "duration": 76,
    "start_time": "2021-12-18T20:18:08.334Z"
   },
   {
    "duration": 2,
    "start_time": "2021-12-18T20:18:08.412Z"
   },
   {
    "duration": 15,
    "start_time": "2021-12-18T20:18:08.416Z"
   },
   {
    "duration": 2,
    "start_time": "2021-12-18T20:18:08.432Z"
   },
   {
    "duration": 4,
    "start_time": "2021-12-18T20:18:08.436Z"
   },
   {
    "duration": 6,
    "start_time": "2021-12-18T20:18:08.441Z"
   },
   {
    "duration": 140,
    "start_time": "2021-12-18T20:18:08.448Z"
   },
   {
    "duration": 295,
    "start_time": "2021-12-18T20:18:08.593Z"
   },
   {
    "duration": 310,
    "start_time": "2021-12-18T20:18:08.889Z"
   },
   {
    "duration": 369,
    "start_time": "2021-12-18T20:19:12.694Z"
   },
   {
    "duration": 1015,
    "start_time": "2021-12-18T20:23:02.187Z"
   },
   {
    "duration": 42,
    "start_time": "2021-12-18T20:23:03.204Z"
   },
   {
    "duration": 4,
    "start_time": "2021-12-18T20:23:03.248Z"
   },
   {
    "duration": 39,
    "start_time": "2021-12-18T20:23:03.254Z"
   },
   {
    "duration": 6,
    "start_time": "2021-12-18T20:23:03.295Z"
   },
   {
    "duration": 12,
    "start_time": "2021-12-18T20:23:03.302Z"
   },
   {
    "duration": 2,
    "start_time": "2021-12-18T20:23:03.315Z"
   },
   {
    "duration": 6,
    "start_time": "2021-12-18T20:23:03.320Z"
   },
   {
    "duration": 4,
    "start_time": "2021-12-18T20:23:03.327Z"
   },
   {
    "duration": 6,
    "start_time": "2021-12-18T20:23:03.332Z"
   },
   {
    "duration": 12,
    "start_time": "2021-12-18T20:23:03.339Z"
   },
   {
    "duration": 35,
    "start_time": "2021-12-18T20:23:03.353Z"
   },
   {
    "duration": 9,
    "start_time": "2021-12-18T20:23:03.389Z"
   },
   {
    "duration": 7,
    "start_time": "2021-12-18T20:23:03.399Z"
   },
   {
    "duration": 35,
    "start_time": "2021-12-18T20:23:03.408Z"
   },
   {
    "duration": 2,
    "start_time": "2021-12-18T20:23:03.444Z"
   },
   {
    "duration": 12,
    "start_time": "2021-12-18T20:23:03.448Z"
   },
   {
    "duration": 26,
    "start_time": "2021-12-18T20:23:03.461Z"
   },
   {
    "duration": 2,
    "start_time": "2021-12-18T20:23:03.489Z"
   },
   {
    "duration": 6,
    "start_time": "2021-12-18T20:23:03.492Z"
   },
   {
    "duration": 91,
    "start_time": "2021-12-18T20:23:03.499Z"
   },
   {
    "duration": 284,
    "start_time": "2021-12-18T20:23:03.592Z"
   },
   {
    "duration": 383,
    "start_time": "2021-12-18T20:23:03.879Z"
   },
   {
    "duration": 6,
    "start_time": "2021-12-18T20:23:04.264Z"
   },
   {
    "duration": 5,
    "start_time": "2021-12-18T20:42:08.508Z"
   },
   {
    "duration": 322,
    "start_time": "2021-12-18T20:42:09.843Z"
   },
   {
    "duration": 1061,
    "start_time": "2021-12-18T20:42:53.836Z"
   },
   {
    "duration": 41,
    "start_time": "2021-12-18T20:42:54.902Z"
   },
   {
    "duration": 5,
    "start_time": "2021-12-18T20:42:54.945Z"
   },
   {
    "duration": 40,
    "start_time": "2021-12-18T20:42:54.951Z"
   },
   {
    "duration": 6,
    "start_time": "2021-12-18T20:42:54.992Z"
   },
   {
    "duration": 13,
    "start_time": "2021-12-18T20:42:54.999Z"
   },
   {
    "duration": 2,
    "start_time": "2021-12-18T20:42:55.014Z"
   },
   {
    "duration": 7,
    "start_time": "2021-12-18T20:42:55.018Z"
   },
   {
    "duration": 9,
    "start_time": "2021-12-18T20:42:55.027Z"
   },
   {
    "duration": 6,
    "start_time": "2021-12-18T20:42:55.038Z"
   },
   {
    "duration": 13,
    "start_time": "2021-12-18T20:42:55.045Z"
   },
   {
    "duration": 29,
    "start_time": "2021-12-18T20:42:55.059Z"
   },
   {
    "duration": 14,
    "start_time": "2021-12-18T20:42:55.090Z"
   },
   {
    "duration": 7,
    "start_time": "2021-12-18T20:42:55.106Z"
   },
   {
    "duration": 36,
    "start_time": "2021-12-18T20:42:55.115Z"
   },
   {
    "duration": 3,
    "start_time": "2021-12-18T20:42:55.152Z"
   },
   {
    "duration": 10,
    "start_time": "2021-12-18T20:42:55.157Z"
   },
   {
    "duration": 21,
    "start_time": "2021-12-18T20:42:55.168Z"
   },
   {
    "duration": 10,
    "start_time": "2021-12-18T20:42:55.190Z"
   },
   {
    "duration": 11,
    "start_time": "2021-12-18T20:42:55.202Z"
   },
   {
    "duration": 77,
    "start_time": "2021-12-18T20:42:55.215Z"
   },
   {
    "duration": 285,
    "start_time": "2021-12-18T20:42:55.295Z"
   },
   {
    "duration": 381,
    "start_time": "2021-12-18T20:42:55.582Z"
   },
   {
    "duration": 5,
    "start_time": "2021-12-18T20:42:55.964Z"
   },
   {
    "duration": 336,
    "start_time": "2021-12-18T20:42:55.971Z"
   },
   {
    "duration": 1022,
    "start_time": "2021-12-18T20:44:22.686Z"
   },
   {
    "duration": 41,
    "start_time": "2021-12-18T20:44:23.710Z"
   },
   {
    "duration": 4,
    "start_time": "2021-12-18T20:44:23.755Z"
   },
   {
    "duration": 42,
    "start_time": "2021-12-18T20:44:23.761Z"
   },
   {
    "duration": 6,
    "start_time": "2021-12-18T20:44:23.804Z"
   },
   {
    "duration": 11,
    "start_time": "2021-12-18T20:44:23.812Z"
   },
   {
    "duration": 3,
    "start_time": "2021-12-18T20:44:23.826Z"
   },
   {
    "duration": 8,
    "start_time": "2021-12-18T20:44:23.831Z"
   },
   {
    "duration": 6,
    "start_time": "2021-12-18T20:44:23.840Z"
   },
   {
    "duration": 7,
    "start_time": "2021-12-18T20:44:23.847Z"
   },
   {
    "duration": 38,
    "start_time": "2021-12-18T20:44:23.856Z"
   },
   {
    "duration": 3,
    "start_time": "2021-12-18T20:44:23.896Z"
   },
   {
    "duration": 8,
    "start_time": "2021-12-18T20:44:23.901Z"
   },
   {
    "duration": 8,
    "start_time": "2021-12-18T20:44:23.910Z"
   },
   {
    "duration": 35,
    "start_time": "2021-12-18T20:44:23.919Z"
   },
   {
    "duration": 2,
    "start_time": "2021-12-18T20:44:23.956Z"
   },
   {
    "duration": 32,
    "start_time": "2021-12-18T20:44:23.959Z"
   },
   {
    "duration": 3,
    "start_time": "2021-12-18T20:44:23.993Z"
   },
   {
    "duration": 5,
    "start_time": "2021-12-18T20:44:23.997Z"
   },
   {
    "duration": 8,
    "start_time": "2021-12-18T20:44:24.003Z"
   },
   {
    "duration": 79,
    "start_time": "2021-12-18T20:44:24.012Z"
   },
   {
    "duration": 288,
    "start_time": "2021-12-18T20:44:24.095Z"
   },
   {
    "duration": 401,
    "start_time": "2021-12-18T20:44:24.388Z"
   },
   {
    "duration": 5,
    "start_time": "2021-12-18T20:44:24.790Z"
   },
   {
    "duration": 360,
    "start_time": "2021-12-18T20:44:24.797Z"
   },
   {
    "duration": 1139,
    "start_time": "2021-12-18T20:44:46.573Z"
   },
   {
    "duration": 43,
    "start_time": "2021-12-18T20:44:47.714Z"
   },
   {
    "duration": 5,
    "start_time": "2021-12-18T20:44:47.759Z"
   },
   {
    "duration": 67,
    "start_time": "2021-12-18T20:44:47.766Z"
   },
   {
    "duration": 5,
    "start_time": "2021-12-18T20:44:47.835Z"
   },
   {
    "duration": 11,
    "start_time": "2021-12-18T20:44:47.842Z"
   },
   {
    "duration": 6,
    "start_time": "2021-12-18T20:44:47.855Z"
   },
   {
    "duration": 15,
    "start_time": "2021-12-18T20:44:47.863Z"
   },
   {
    "duration": 17,
    "start_time": "2021-12-18T20:44:47.880Z"
   },
   {
    "duration": 36,
    "start_time": "2021-12-18T20:44:47.898Z"
   },
   {
    "duration": 21,
    "start_time": "2021-12-18T20:44:47.935Z"
   },
   {
    "duration": 18,
    "start_time": "2021-12-18T20:44:47.958Z"
   },
   {
    "duration": 23,
    "start_time": "2021-12-18T20:44:47.978Z"
   },
   {
    "duration": 19,
    "start_time": "2021-12-18T20:44:48.003Z"
   },
   {
    "duration": 74,
    "start_time": "2021-12-18T20:44:48.023Z"
   },
   {
    "duration": 2,
    "start_time": "2021-12-18T20:44:48.099Z"
   },
   {
    "duration": 20,
    "start_time": "2021-12-18T20:44:48.103Z"
   },
   {
    "duration": 10,
    "start_time": "2021-12-18T20:44:48.124Z"
   },
   {
    "duration": 7,
    "start_time": "2021-12-18T20:44:48.135Z"
   },
   {
    "duration": 10,
    "start_time": "2021-12-18T20:44:48.143Z"
   },
   {
    "duration": 44,
    "start_time": "2021-12-18T20:44:48.154Z"
   },
   {
    "duration": 374,
    "start_time": "2021-12-18T20:44:48.200Z"
   },
   {
    "duration": 424,
    "start_time": "2021-12-18T20:44:48.577Z"
   },
   {
    "duration": 5,
    "start_time": "2021-12-18T20:44:49.003Z"
   },
   {
    "duration": 21,
    "start_time": "2021-12-18T20:44:49.010Z"
   },
   {
    "duration": 1257,
    "start_time": "2021-12-18T20:53:23.638Z"
   },
   {
    "duration": 58,
    "start_time": "2021-12-18T20:53:24.897Z"
   },
   {
    "duration": 6,
    "start_time": "2021-12-18T20:53:24.958Z"
   },
   {
    "duration": 61,
    "start_time": "2021-12-18T20:53:24.966Z"
   },
   {
    "duration": 10,
    "start_time": "2021-12-18T20:53:25.029Z"
   },
   {
    "duration": 11,
    "start_time": "2021-12-18T20:53:25.041Z"
   },
   {
    "duration": 2,
    "start_time": "2021-12-18T20:53:25.054Z"
   },
   {
    "duration": 31,
    "start_time": "2021-12-18T20:53:25.058Z"
   },
   {
    "duration": 7,
    "start_time": "2021-12-18T20:53:25.091Z"
   },
   {
    "duration": 7,
    "start_time": "2021-12-18T20:53:25.100Z"
   },
   {
    "duration": 15,
    "start_time": "2021-12-18T20:53:25.109Z"
   },
   {
    "duration": 4,
    "start_time": "2021-12-18T20:53:25.127Z"
   },
   {
    "duration": 10,
    "start_time": "2021-12-18T20:53:25.133Z"
   },
   {
    "duration": 8,
    "start_time": "2021-12-18T20:53:25.145Z"
   },
   {
    "duration": 83,
    "start_time": "2021-12-18T20:53:25.155Z"
   },
   {
    "duration": 2,
    "start_time": "2021-12-18T20:53:25.240Z"
   },
   {
    "duration": 14,
    "start_time": "2021-12-18T20:53:25.244Z"
   },
   {
    "duration": 2,
    "start_time": "2021-12-18T20:53:25.260Z"
   },
   {
    "duration": 3,
    "start_time": "2021-12-18T20:53:25.287Z"
   },
   {
    "duration": 5,
    "start_time": "2021-12-18T20:53:25.292Z"
   },
   {
    "duration": 100,
    "start_time": "2021-12-18T20:53:25.299Z"
   },
   {
    "duration": 372,
    "start_time": "2021-12-18T20:53:25.401Z"
   },
   {
    "duration": 390,
    "start_time": "2021-12-18T20:53:25.776Z"
   },
   {
    "duration": 7,
    "start_time": "2021-12-18T20:53:26.168Z"
   },
   {
    "duration": 29,
    "start_time": "2021-12-18T20:53:26.177Z"
   },
   {
    "duration": 272,
    "start_time": "2021-12-18T20:53:26.208Z"
   },
   {
    "duration": 1374,
    "start_time": "2021-12-18T21:54:24.435Z"
   },
   {
    "duration": 44,
    "start_time": "2021-12-18T21:54:25.811Z"
   },
   {
    "duration": 4,
    "start_time": "2021-12-18T21:54:25.858Z"
   },
   {
    "duration": 42,
    "start_time": "2021-12-18T21:54:25.864Z"
   },
   {
    "duration": 6,
    "start_time": "2021-12-18T21:54:25.908Z"
   },
   {
    "duration": 14,
    "start_time": "2021-12-18T21:54:25.915Z"
   },
   {
    "duration": 2,
    "start_time": "2021-12-18T21:54:25.930Z"
   },
   {
    "duration": 8,
    "start_time": "2021-12-18T21:54:25.934Z"
   },
   {
    "duration": 5,
    "start_time": "2021-12-18T21:54:25.944Z"
   },
   {
    "duration": 6,
    "start_time": "2021-12-18T21:54:25.950Z"
   },
   {
    "duration": 37,
    "start_time": "2021-12-18T21:54:25.958Z"
   },
   {
    "duration": 4,
    "start_time": "2021-12-18T21:54:25.997Z"
   },
   {
    "duration": 10,
    "start_time": "2021-12-18T21:54:26.003Z"
   },
   {
    "duration": 6,
    "start_time": "2021-12-18T21:54:26.015Z"
   },
   {
    "duration": 65,
    "start_time": "2021-12-18T21:54:26.023Z"
   },
   {
    "duration": 2,
    "start_time": "2021-12-18T21:54:26.090Z"
   },
   {
    "duration": 14,
    "start_time": "2021-12-18T21:54:26.094Z"
   },
   {
    "duration": 2,
    "start_time": "2021-12-18T21:54:26.110Z"
   },
   {
    "duration": 7,
    "start_time": "2021-12-18T21:54:26.113Z"
   },
   {
    "duration": 6,
    "start_time": "2021-12-18T21:54:26.122Z"
   },
   {
    "duration": 63,
    "start_time": "2021-12-18T21:54:26.129Z"
   },
   {
    "duration": 360,
    "start_time": "2021-12-18T21:54:26.194Z"
   },
   {
    "duration": 397,
    "start_time": "2021-12-18T21:54:26.558Z"
   },
   {
    "duration": 6,
    "start_time": "2021-12-18T21:54:26.957Z"
   },
   {
    "duration": 29,
    "start_time": "2021-12-18T21:54:26.965Z"
   },
   {
    "duration": 263,
    "start_time": "2021-12-18T21:54:26.995Z"
   },
   {
    "duration": 7,
    "start_time": "2021-12-18T21:54:27.260Z"
   },
   {
    "duration": 4,
    "start_time": "2021-12-18T21:54:27.268Z"
   },
   {
    "duration": 1062,
    "start_time": "2021-12-18T21:55:21.054Z"
   },
   {
    "duration": 43,
    "start_time": "2021-12-18T21:55:22.118Z"
   },
   {
    "duration": 4,
    "start_time": "2021-12-18T21:55:22.164Z"
   },
   {
    "duration": 41,
    "start_time": "2021-12-18T21:55:22.171Z"
   },
   {
    "duration": 6,
    "start_time": "2021-12-18T21:55:22.214Z"
   },
   {
    "duration": 12,
    "start_time": "2021-12-18T21:55:22.221Z"
   },
   {
    "duration": 2,
    "start_time": "2021-12-18T21:55:22.235Z"
   },
   {
    "duration": 6,
    "start_time": "2021-12-18T21:55:22.240Z"
   },
   {
    "duration": 6,
    "start_time": "2021-12-18T21:55:22.247Z"
   },
   {
    "duration": 33,
    "start_time": "2021-12-18T21:55:22.255Z"
   },
   {
    "duration": 11,
    "start_time": "2021-12-18T21:55:22.290Z"
   },
   {
    "duration": 4,
    "start_time": "2021-12-18T21:55:22.303Z"
   },
   {
    "duration": 12,
    "start_time": "2021-12-18T21:55:22.309Z"
   },
   {
    "duration": 9,
    "start_time": "2021-12-18T21:55:22.322Z"
   },
   {
    "duration": 57,
    "start_time": "2021-12-18T21:55:22.332Z"
   },
   {
    "duration": 2,
    "start_time": "2021-12-18T21:55:22.391Z"
   },
   {
    "duration": 17,
    "start_time": "2021-12-18T21:55:22.395Z"
   },
   {
    "duration": 2,
    "start_time": "2021-12-18T21:55:22.414Z"
   },
   {
    "duration": 9,
    "start_time": "2021-12-18T21:55:22.418Z"
   },
   {
    "duration": 11,
    "start_time": "2021-12-18T21:55:22.428Z"
   },
   {
    "duration": 51,
    "start_time": "2021-12-18T21:55:22.441Z"
   },
   {
    "duration": 378,
    "start_time": "2021-12-18T21:55:22.495Z"
   },
   {
    "duration": 396,
    "start_time": "2021-12-18T21:55:22.875Z"
   },
   {
    "duration": 15,
    "start_time": "2021-12-18T21:55:23.273Z"
   },
   {
    "duration": 20,
    "start_time": "2021-12-18T21:55:23.289Z"
   },
   {
    "duration": 280,
    "start_time": "2021-12-18T21:55:23.310Z"
   },
   {
    "duration": 8,
    "start_time": "2021-12-18T21:55:23.592Z"
   },
   {
    "duration": 5,
    "start_time": "2021-12-18T21:55:23.602Z"
   },
   {
    "duration": 1017,
    "start_time": "2021-12-18T21:56:08.501Z"
   },
   {
    "duration": 44,
    "start_time": "2021-12-18T21:56:09.520Z"
   },
   {
    "duration": 5,
    "start_time": "2021-12-18T21:56:09.566Z"
   },
   {
    "duration": 42,
    "start_time": "2021-12-18T21:56:09.573Z"
   },
   {
    "duration": 6,
    "start_time": "2021-12-18T21:56:09.616Z"
   },
   {
    "duration": 11,
    "start_time": "2021-12-18T21:56:09.624Z"
   },
   {
    "duration": 2,
    "start_time": "2021-12-18T21:56:09.636Z"
   },
   {
    "duration": 7,
    "start_time": "2021-12-18T21:56:09.641Z"
   },
   {
    "duration": 6,
    "start_time": "2021-12-18T21:56:09.650Z"
   },
   {
    "duration": 33,
    "start_time": "2021-12-18T21:56:09.657Z"
   },
   {
    "duration": 13,
    "start_time": "2021-12-18T21:56:09.692Z"
   },
   {
    "duration": 13,
    "start_time": "2021-12-18T21:56:09.707Z"
   },
   {
    "duration": 9,
    "start_time": "2021-12-18T21:56:09.722Z"
   },
   {
    "duration": 11,
    "start_time": "2021-12-18T21:56:09.733Z"
   },
   {
    "duration": 44,
    "start_time": "2021-12-18T21:56:09.745Z"
   },
   {
    "duration": 2,
    "start_time": "2021-12-18T21:56:09.790Z"
   },
   {
    "duration": 16,
    "start_time": "2021-12-18T21:56:09.793Z"
   },
   {
    "duration": 3,
    "start_time": "2021-12-18T21:56:09.810Z"
   },
   {
    "duration": 11,
    "start_time": "2021-12-18T21:56:09.815Z"
   },
   {
    "duration": 5,
    "start_time": "2021-12-18T21:56:09.828Z"
   },
   {
    "duration": 60,
    "start_time": "2021-12-18T21:56:09.834Z"
   },
   {
    "duration": 387,
    "start_time": "2021-12-18T21:56:09.896Z"
   },
   {
    "duration": 382,
    "start_time": "2021-12-18T21:56:10.286Z"
   },
   {
    "duration": 5,
    "start_time": "2021-12-18T21:56:10.670Z"
   },
   {
    "duration": 24,
    "start_time": "2021-12-18T21:56:10.676Z"
   },
   {
    "duration": 315,
    "start_time": "2021-12-18T21:56:10.702Z"
   },
   {
    "duration": 8,
    "start_time": "2021-12-18T21:56:11.019Z"
   },
   {
    "duration": 5,
    "start_time": "2021-12-18T21:56:11.028Z"
   },
   {
    "duration": 8,
    "start_time": "2021-12-18T21:58:46.486Z"
   },
   {
    "duration": 5,
    "start_time": "2021-12-18T21:58:47.040Z"
   },
   {
    "duration": 1124,
    "start_time": "2021-12-18T22:01:51.486Z"
   },
   {
    "duration": 43,
    "start_time": "2021-12-18T22:01:52.611Z"
   },
   {
    "duration": 5,
    "start_time": "2021-12-18T22:01:52.655Z"
   },
   {
    "duration": 36,
    "start_time": "2021-12-18T22:01:52.661Z"
   },
   {
    "duration": 6,
    "start_time": "2021-12-18T22:01:52.698Z"
   },
   {
    "duration": 12,
    "start_time": "2021-12-18T22:01:52.705Z"
   },
   {
    "duration": 2,
    "start_time": "2021-12-18T22:01:52.718Z"
   },
   {
    "duration": 6,
    "start_time": "2021-12-18T22:01:52.723Z"
   },
   {
    "duration": 5,
    "start_time": "2021-12-18T22:01:52.730Z"
   },
   {
    "duration": 5,
    "start_time": "2021-12-18T22:01:52.737Z"
   },
   {
    "duration": 12,
    "start_time": "2021-12-18T22:01:52.743Z"
   },
   {
    "duration": 33,
    "start_time": "2021-12-18T22:01:52.756Z"
   },
   {
    "duration": 8,
    "start_time": "2021-12-18T22:01:52.791Z"
   },
   {
    "duration": 7,
    "start_time": "2021-12-18T22:01:52.801Z"
   },
   {
    "duration": 38,
    "start_time": "2021-12-18T22:01:52.810Z"
   },
   {
    "duration": 2,
    "start_time": "2021-12-18T22:01:52.849Z"
   },
   {
    "duration": 40,
    "start_time": "2021-12-18T22:01:52.853Z"
   },
   {
    "duration": 9,
    "start_time": "2021-12-18T22:01:52.895Z"
   },
   {
    "duration": 7,
    "start_time": "2021-12-18T22:01:52.906Z"
   },
   {
    "duration": 9,
    "start_time": "2021-12-18T22:01:52.914Z"
   },
   {
    "duration": 68,
    "start_time": "2021-12-18T22:01:52.924Z"
   },
   {
    "duration": 307,
    "start_time": "2021-12-18T22:01:52.994Z"
   },
   {
    "duration": 419,
    "start_time": "2021-12-18T22:01:53.304Z"
   },
   {
    "duration": 7,
    "start_time": "2021-12-18T22:01:53.725Z"
   },
   {
    "duration": 20,
    "start_time": "2021-12-18T22:01:53.734Z"
   },
   {
    "duration": 279,
    "start_time": "2021-12-18T22:01:53.755Z"
   },
   {
    "duration": 5,
    "start_time": "2021-12-18T22:01:54.036Z"
   },
   {
    "duration": 9,
    "start_time": "2021-12-18T22:01:54.043Z"
   },
   {
    "duration": 474,
    "start_time": "2021-12-18T22:01:54.054Z"
   },
   {
    "duration": 1004,
    "start_time": "2021-12-18T22:02:11.500Z"
   },
   {
    "duration": 43,
    "start_time": "2021-12-18T22:02:12.506Z"
   },
   {
    "duration": 4,
    "start_time": "2021-12-18T22:02:12.551Z"
   },
   {
    "duration": 37,
    "start_time": "2021-12-18T22:02:12.557Z"
   },
   {
    "duration": 6,
    "start_time": "2021-12-18T22:02:12.596Z"
   },
   {
    "duration": 13,
    "start_time": "2021-12-18T22:02:12.603Z"
   },
   {
    "duration": 2,
    "start_time": "2021-12-18T22:02:12.617Z"
   },
   {
    "duration": 6,
    "start_time": "2021-12-18T22:02:12.621Z"
   },
   {
    "duration": 4,
    "start_time": "2021-12-18T22:02:12.629Z"
   },
   {
    "duration": 5,
    "start_time": "2021-12-18T22:02:12.634Z"
   },
   {
    "duration": 12,
    "start_time": "2021-12-18T22:02:12.640Z"
   },
   {
    "duration": 35,
    "start_time": "2021-12-18T22:02:12.653Z"
   },
   {
    "duration": 7,
    "start_time": "2021-12-18T22:02:12.690Z"
   },
   {
    "duration": 6,
    "start_time": "2021-12-18T22:02:12.698Z"
   },
   {
    "duration": 34,
    "start_time": "2021-12-18T22:02:12.706Z"
   },
   {
    "duration": 2,
    "start_time": "2021-12-18T22:02:12.742Z"
   },
   {
    "duration": 11,
    "start_time": "2021-12-18T22:02:12.745Z"
   },
   {
    "duration": 2,
    "start_time": "2021-12-18T22:02:12.757Z"
   },
   {
    "duration": 3,
    "start_time": "2021-12-18T22:02:12.787Z"
   },
   {
    "duration": 5,
    "start_time": "2021-12-18T22:02:12.791Z"
   },
   {
    "duration": 92,
    "start_time": "2021-12-18T22:02:12.797Z"
   },
   {
    "duration": 286,
    "start_time": "2021-12-18T22:02:12.891Z"
   },
   {
    "duration": 377,
    "start_time": "2021-12-18T22:02:13.180Z"
   },
   {
    "duration": 5,
    "start_time": "2021-12-18T22:02:13.559Z"
   },
   {
    "duration": 35,
    "start_time": "2021-12-18T22:02:13.566Z"
   },
   {
    "duration": 256,
    "start_time": "2021-12-18T22:02:13.603Z"
   },
   {
    "duration": 6,
    "start_time": "2021-12-18T22:02:13.861Z"
   },
   {
    "duration": 19,
    "start_time": "2021-12-18T22:02:13.869Z"
   },
   {
    "duration": 7,
    "start_time": "2021-12-18T22:02:13.889Z"
   },
   {
    "duration": 4,
    "start_time": "2021-12-18T22:02:39.524Z"
   },
   {
    "duration": 7,
    "start_time": "2021-12-18T22:02:41.684Z"
   },
   {
    "duration": 1079,
    "start_time": "2021-12-18T22:07:32.199Z"
   },
   {
    "duration": 54,
    "start_time": "2021-12-18T22:07:33.279Z"
   },
   {
    "duration": 4,
    "start_time": "2021-12-18T22:07:33.334Z"
   },
   {
    "duration": 36,
    "start_time": "2021-12-18T22:07:33.340Z"
   },
   {
    "duration": 17,
    "start_time": "2021-12-18T22:07:33.377Z"
   },
   {
    "duration": 13,
    "start_time": "2021-12-18T22:07:33.396Z"
   },
   {
    "duration": 4,
    "start_time": "2021-12-18T22:07:33.412Z"
   },
   {
    "duration": 6,
    "start_time": "2021-12-18T22:07:33.419Z"
   },
   {
    "duration": 5,
    "start_time": "2021-12-18T22:07:33.427Z"
   },
   {
    "duration": 5,
    "start_time": "2021-12-18T22:07:33.434Z"
   },
   {
    "duration": 48,
    "start_time": "2021-12-18T22:07:33.440Z"
   },
   {
    "duration": 5,
    "start_time": "2021-12-18T22:07:33.490Z"
   },
   {
    "duration": 10,
    "start_time": "2021-12-18T22:07:33.497Z"
   },
   {
    "duration": 8,
    "start_time": "2021-12-18T22:07:33.509Z"
   },
   {
    "duration": 38,
    "start_time": "2021-12-18T22:07:33.519Z"
   },
   {
    "duration": 32,
    "start_time": "2021-12-18T22:07:33.558Z"
   },
   {
    "duration": 15,
    "start_time": "2021-12-18T22:07:33.592Z"
   },
   {
    "duration": 3,
    "start_time": "2021-12-18T22:07:33.610Z"
   },
   {
    "duration": 4,
    "start_time": "2021-12-18T22:07:33.615Z"
   },
   {
    "duration": 6,
    "start_time": "2021-12-18T22:07:33.620Z"
   },
   {
    "duration": 67,
    "start_time": "2021-12-18T22:07:33.628Z"
   },
   {
    "duration": 338,
    "start_time": "2021-12-18T22:07:33.697Z"
   },
   {
    "duration": 394,
    "start_time": "2021-12-18T22:07:34.039Z"
   },
   {
    "duration": 7,
    "start_time": "2021-12-18T22:07:34.435Z"
   },
   {
    "duration": 21,
    "start_time": "2021-12-18T22:07:34.443Z"
   },
   {
    "duration": 294,
    "start_time": "2021-12-18T22:07:34.465Z"
   },
   {
    "duration": 6,
    "start_time": "2021-12-18T22:07:34.761Z"
   },
   {
    "duration": 5,
    "start_time": "2021-12-18T22:07:34.768Z"
   },
   {
    "duration": 18,
    "start_time": "2021-12-18T22:07:34.775Z"
   },
   {
    "duration": 372,
    "start_time": "2021-12-18T22:07:34.794Z"
   },
   {
    "duration": 275,
    "start_time": "2021-12-18T22:08:20.444Z"
   },
   {
    "duration": 262,
    "start_time": "2021-12-18T22:10:01.113Z"
   },
   {
    "duration": 481,
    "start_time": "2021-12-18T22:10:30.106Z"
   },
   {
    "duration": 969,
    "start_time": "2021-12-18T22:15:09.638Z"
   },
   {
    "duration": 42,
    "start_time": "2021-12-18T22:15:10.608Z"
   },
   {
    "duration": 4,
    "start_time": "2021-12-18T22:15:10.652Z"
   },
   {
    "duration": 41,
    "start_time": "2021-12-18T22:15:10.658Z"
   },
   {
    "duration": 6,
    "start_time": "2021-12-18T22:15:10.701Z"
   },
   {
    "duration": 12,
    "start_time": "2021-12-18T22:15:10.708Z"
   },
   {
    "duration": 2,
    "start_time": "2021-12-18T22:15:10.721Z"
   },
   {
    "duration": 8,
    "start_time": "2021-12-18T22:15:10.725Z"
   },
   {
    "duration": 4,
    "start_time": "2021-12-18T22:15:10.735Z"
   },
   {
    "duration": 8,
    "start_time": "2021-12-18T22:15:10.740Z"
   },
   {
    "duration": 38,
    "start_time": "2021-12-18T22:15:10.750Z"
   },
   {
    "duration": 4,
    "start_time": "2021-12-18T22:15:10.789Z"
   },
   {
    "duration": 13,
    "start_time": "2021-12-18T22:15:10.795Z"
   },
   {
    "duration": 7,
    "start_time": "2021-12-18T22:15:10.809Z"
   },
   {
    "duration": 39,
    "start_time": "2021-12-18T22:15:10.817Z"
   },
   {
    "duration": 2,
    "start_time": "2021-12-18T22:15:10.858Z"
   },
   {
    "duration": 33,
    "start_time": "2021-12-18T22:15:10.862Z"
   },
   {
    "duration": 2,
    "start_time": "2021-12-18T22:15:10.896Z"
   },
   {
    "duration": 8,
    "start_time": "2021-12-18T22:15:10.900Z"
   },
   {
    "duration": 5,
    "start_time": "2021-12-18T22:15:10.909Z"
   },
   {
    "duration": 77,
    "start_time": "2021-12-18T22:15:10.915Z"
   },
   {
    "duration": 283,
    "start_time": "2021-12-18T22:15:10.994Z"
   },
   {
    "duration": 389,
    "start_time": "2021-12-18T22:15:11.280Z"
   },
   {
    "duration": 5,
    "start_time": "2021-12-18T22:15:11.671Z"
   },
   {
    "duration": 28,
    "start_time": "2021-12-18T22:15:11.677Z"
   },
   {
    "duration": 254,
    "start_time": "2021-12-18T22:15:11.706Z"
   },
   {
    "duration": 6,
    "start_time": "2021-12-18T22:15:11.962Z"
   },
   {
    "duration": 20,
    "start_time": "2021-12-18T22:15:11.970Z"
   },
   {
    "duration": 27,
    "start_time": "2021-12-18T22:15:11.992Z"
   },
   {
    "duration": 345,
    "start_time": "2021-12-18T22:15:12.021Z"
   },
   {
    "duration": 1075,
    "start_time": "2021-12-18T22:16:32.390Z"
   },
   {
    "duration": 54,
    "start_time": "2021-12-18T22:16:33.467Z"
   },
   {
    "duration": 5,
    "start_time": "2021-12-18T22:16:33.523Z"
   },
   {
    "duration": 36,
    "start_time": "2021-12-18T22:16:33.530Z"
   },
   {
    "duration": 22,
    "start_time": "2021-12-18T22:16:33.567Z"
   },
   {
    "duration": 18,
    "start_time": "2021-12-18T22:16:33.591Z"
   },
   {
    "duration": 3,
    "start_time": "2021-12-18T22:16:33.611Z"
   },
   {
    "duration": 9,
    "start_time": "2021-12-18T22:16:33.616Z"
   },
   {
    "duration": 4,
    "start_time": "2021-12-18T22:16:33.627Z"
   },
   {
    "duration": 9,
    "start_time": "2021-12-18T22:16:33.633Z"
   },
   {
    "duration": 44,
    "start_time": "2021-12-18T22:16:33.644Z"
   },
   {
    "duration": 6,
    "start_time": "2021-12-18T22:16:33.693Z"
   },
   {
    "duration": 12,
    "start_time": "2021-12-18T22:16:33.701Z"
   },
   {
    "duration": 9,
    "start_time": "2021-12-18T22:16:33.715Z"
   },
   {
    "duration": 64,
    "start_time": "2021-12-18T22:16:33.725Z"
   },
   {
    "duration": 3,
    "start_time": "2021-12-18T22:16:33.791Z"
   },
   {
    "duration": 19,
    "start_time": "2021-12-18T22:16:33.798Z"
   },
   {
    "duration": 3,
    "start_time": "2021-12-18T22:16:33.819Z"
   },
   {
    "duration": 5,
    "start_time": "2021-12-18T22:16:33.824Z"
   },
   {
    "duration": 14,
    "start_time": "2021-12-18T22:16:33.831Z"
   },
   {
    "duration": 53,
    "start_time": "2021-12-18T22:16:33.847Z"
   },
   {
    "duration": 404,
    "start_time": "2021-12-18T22:16:33.903Z"
   },
   {
    "duration": 437,
    "start_time": "2021-12-18T22:16:34.311Z"
   },
   {
    "duration": 5,
    "start_time": "2021-12-18T22:16:34.750Z"
   },
   {
    "duration": 41,
    "start_time": "2021-12-18T22:16:34.757Z"
   },
   {
    "duration": 287,
    "start_time": "2021-12-18T22:16:34.801Z"
   },
   {
    "duration": 10,
    "start_time": "2021-12-18T22:16:35.090Z"
   },
   {
    "duration": 6,
    "start_time": "2021-12-18T22:16:35.103Z"
   },
   {
    "duration": 11,
    "start_time": "2021-12-18T22:16:35.112Z"
   },
   {
    "duration": 354,
    "start_time": "2021-12-18T22:16:35.125Z"
   },
   {
    "duration": 1150,
    "start_time": "2021-12-18T22:17:20.980Z"
   },
   {
    "duration": 43,
    "start_time": "2021-12-18T22:17:22.132Z"
   },
   {
    "duration": 5,
    "start_time": "2021-12-18T22:17:22.177Z"
   },
   {
    "duration": 59,
    "start_time": "2021-12-18T22:17:22.183Z"
   },
   {
    "duration": 6,
    "start_time": "2021-12-18T22:17:22.244Z"
   },
   {
    "duration": 12,
    "start_time": "2021-12-18T22:17:22.252Z"
   },
   {
    "duration": 2,
    "start_time": "2021-12-18T22:17:22.266Z"
   },
   {
    "duration": 6,
    "start_time": "2021-12-18T22:17:22.272Z"
   },
   {
    "duration": 13,
    "start_time": "2021-12-18T22:17:22.280Z"
   },
   {
    "duration": 24,
    "start_time": "2021-12-18T22:17:22.295Z"
   },
   {
    "duration": 12,
    "start_time": "2021-12-18T22:17:22.321Z"
   },
   {
    "duration": 4,
    "start_time": "2021-12-18T22:17:22.335Z"
   },
   {
    "duration": 12,
    "start_time": "2021-12-18T22:17:22.340Z"
   },
   {
    "duration": 10,
    "start_time": "2021-12-18T22:17:22.353Z"
   },
   {
    "duration": 59,
    "start_time": "2021-12-18T22:17:22.364Z"
   },
   {
    "duration": 2,
    "start_time": "2021-12-18T22:17:22.425Z"
   },
   {
    "duration": 15,
    "start_time": "2021-12-18T22:17:22.428Z"
   },
   {
    "duration": 2,
    "start_time": "2021-12-18T22:17:22.444Z"
   },
   {
    "duration": 5,
    "start_time": "2021-12-18T22:17:22.448Z"
   },
   {
    "duration": 8,
    "start_time": "2021-12-18T22:17:22.454Z"
   },
   {
    "duration": 126,
    "start_time": "2021-12-18T22:17:22.463Z"
   },
   {
    "duration": 322,
    "start_time": "2021-12-18T22:17:22.591Z"
   },
   {
    "duration": 431,
    "start_time": "2021-12-18T22:17:22.916Z"
   },
   {
    "duration": 7,
    "start_time": "2021-12-18T22:17:23.349Z"
   },
   {
    "duration": 35,
    "start_time": "2021-12-18T22:17:23.358Z"
   },
   {
    "duration": 287,
    "start_time": "2021-12-18T22:17:23.399Z"
   },
   {
    "duration": 10,
    "start_time": "2021-12-18T22:17:23.692Z"
   },
   {
    "duration": 6,
    "start_time": "2021-12-18T22:17:23.704Z"
   },
   {
    "duration": 11,
    "start_time": "2021-12-18T22:17:23.713Z"
   },
   {
    "duration": 337,
    "start_time": "2021-12-18T22:17:23.726Z"
   },
   {
    "duration": 995,
    "start_time": "2021-12-18T22:20:56.919Z"
   },
   {
    "duration": 42,
    "start_time": "2021-12-18T22:20:57.916Z"
   },
   {
    "duration": 4,
    "start_time": "2021-12-18T22:20:57.960Z"
   },
   {
    "duration": 42,
    "start_time": "2021-12-18T22:20:57.966Z"
   },
   {
    "duration": 7,
    "start_time": "2021-12-18T22:20:58.009Z"
   },
   {
    "duration": 12,
    "start_time": "2021-12-18T22:20:58.018Z"
   },
   {
    "duration": 2,
    "start_time": "2021-12-18T22:20:58.032Z"
   },
   {
    "duration": 6,
    "start_time": "2021-12-18T22:20:58.037Z"
   },
   {
    "duration": 6,
    "start_time": "2021-12-18T22:20:58.045Z"
   },
   {
    "duration": 36,
    "start_time": "2021-12-18T22:20:58.052Z"
   },
   {
    "duration": 19,
    "start_time": "2021-12-18T22:20:58.090Z"
   },
   {
    "duration": 5,
    "start_time": "2021-12-18T22:20:58.111Z"
   },
   {
    "duration": 9,
    "start_time": "2021-12-18T22:20:58.118Z"
   },
   {
    "duration": 8,
    "start_time": "2021-12-18T22:20:58.128Z"
   },
   {
    "duration": 72,
    "start_time": "2021-12-18T22:20:58.138Z"
   },
   {
    "duration": 3,
    "start_time": "2021-12-18T22:20:58.212Z"
   },
   {
    "duration": 14,
    "start_time": "2021-12-18T22:20:58.216Z"
   },
   {
    "duration": 2,
    "start_time": "2021-12-18T22:20:58.232Z"
   },
   {
    "duration": 5,
    "start_time": "2021-12-18T22:20:58.235Z"
   },
   {
    "duration": 7,
    "start_time": "2021-12-18T22:20:58.241Z"
   },
   {
    "duration": 141,
    "start_time": "2021-12-18T22:20:58.249Z"
   },
   {
    "duration": 299,
    "start_time": "2021-12-18T22:20:58.394Z"
   },
   {
    "duration": 446,
    "start_time": "2021-12-18T22:20:58.698Z"
   },
   {
    "duration": 6,
    "start_time": "2021-12-18T22:20:59.146Z"
   },
   {
    "duration": 35,
    "start_time": "2021-12-18T22:20:59.154Z"
   },
   {
    "duration": 258,
    "start_time": "2021-12-18T22:20:59.191Z"
   },
   {
    "duration": 7,
    "start_time": "2021-12-18T22:20:59.451Z"
   },
   {
    "duration": 9,
    "start_time": "2021-12-18T22:20:59.459Z"
   },
   {
    "duration": 30,
    "start_time": "2021-12-18T22:20:59.469Z"
   },
   {
    "duration": 5,
    "start_time": "2021-12-18T22:20:59.502Z"
   },
   {
    "duration": 376,
    "start_time": "2021-12-18T22:20:59.510Z"
   },
   {
    "duration": 1045,
    "start_time": "2021-12-18T22:27:52.885Z"
   },
   {
    "duration": 46,
    "start_time": "2021-12-18T22:27:53.932Z"
   },
   {
    "duration": 5,
    "start_time": "2021-12-18T22:27:53.980Z"
   },
   {
    "duration": 47,
    "start_time": "2021-12-18T22:27:53.988Z"
   },
   {
    "duration": 6,
    "start_time": "2021-12-18T22:27:54.037Z"
   },
   {
    "duration": 11,
    "start_time": "2021-12-18T22:27:54.044Z"
   },
   {
    "duration": 2,
    "start_time": "2021-12-18T22:27:54.057Z"
   },
   {
    "duration": 18,
    "start_time": "2021-12-18T22:27:54.061Z"
   },
   {
    "duration": 15,
    "start_time": "2021-12-18T22:27:54.081Z"
   },
   {
    "duration": 6,
    "start_time": "2021-12-18T22:27:54.099Z"
   },
   {
    "duration": 16,
    "start_time": "2021-12-18T22:27:54.107Z"
   },
   {
    "duration": 8,
    "start_time": "2021-12-18T22:27:54.125Z"
   },
   {
    "duration": 10,
    "start_time": "2021-12-18T22:27:54.134Z"
   },
   {
    "duration": 13,
    "start_time": "2021-12-18T22:27:54.145Z"
   },
   {
    "duration": 61,
    "start_time": "2021-12-18T22:27:54.160Z"
   },
   {
    "duration": 2,
    "start_time": "2021-12-18T22:27:54.222Z"
   },
   {
    "duration": 13,
    "start_time": "2021-12-18T22:27:54.226Z"
   },
   {
    "duration": 2,
    "start_time": "2021-12-18T22:27:54.241Z"
   },
   {
    "duration": 5,
    "start_time": "2021-12-18T22:27:54.244Z"
   },
   {
    "duration": 8,
    "start_time": "2021-12-18T22:27:54.250Z"
   },
   {
    "duration": 128,
    "start_time": "2021-12-18T22:27:54.260Z"
   },
   {
    "duration": 307,
    "start_time": "2021-12-18T22:27:54.390Z"
   },
   {
    "duration": 433,
    "start_time": "2021-12-18T22:27:54.702Z"
   },
   {
    "duration": 5,
    "start_time": "2021-12-18T22:27:55.137Z"
   },
   {
    "duration": 23,
    "start_time": "2021-12-18T22:27:55.144Z"
   },
   {
    "duration": 283,
    "start_time": "2021-12-18T22:27:55.169Z"
   },
   {
    "duration": 8,
    "start_time": "2021-12-18T22:27:55.454Z"
   },
   {
    "duration": 5,
    "start_time": "2021-12-18T22:27:55.463Z"
   },
   {
    "duration": 22,
    "start_time": "2021-12-18T22:27:55.470Z"
   },
   {
    "duration": 327,
    "start_time": "2021-12-18T22:27:55.495Z"
   },
   {
    "duration": -2422,
    "start_time": "2021-12-18T22:27:58.245Z"
   },
   {
    "duration": 258,
    "start_time": "2021-12-18T22:28:31.077Z"
   },
   {
    "duration": 230,
    "start_time": "2021-12-18T22:28:52.388Z"
   },
   {
    "duration": 247,
    "start_time": "2021-12-18T22:29:52.178Z"
   },
   {
    "duration": 278,
    "start_time": "2021-12-18T22:31:19.842Z"
   },
   {
    "duration": 240,
    "start_time": "2021-12-18T22:31:38.538Z"
   },
   {
    "duration": 234,
    "start_time": "2021-12-18T22:32:03.331Z"
   },
   {
    "duration": 250,
    "start_time": "2021-12-18T22:32:16.082Z"
   },
   {
    "duration": 259,
    "start_time": "2021-12-18T22:32:30.473Z"
   },
   {
    "duration": 289,
    "start_time": "2021-12-18T22:34:34.033Z"
   },
   {
    "duration": 543,
    "start_time": "2021-12-18T22:34:51.561Z"
   },
   {
    "duration": 244,
    "start_time": "2021-12-18T22:35:13.164Z"
   },
   {
    "duration": 1079,
    "start_time": "2021-12-18T22:35:29.088Z"
   },
   {
    "duration": 44,
    "start_time": "2021-12-18T22:35:30.168Z"
   },
   {
    "duration": 5,
    "start_time": "2021-12-18T22:35:30.214Z"
   },
   {
    "duration": 39,
    "start_time": "2021-12-18T22:35:30.222Z"
   },
   {
    "duration": 5,
    "start_time": "2021-12-18T22:35:30.263Z"
   },
   {
    "duration": 27,
    "start_time": "2021-12-18T22:35:30.270Z"
   },
   {
    "duration": 2,
    "start_time": "2021-12-18T22:35:30.299Z"
   },
   {
    "duration": 9,
    "start_time": "2021-12-18T22:35:30.303Z"
   },
   {
    "duration": 6,
    "start_time": "2021-12-18T22:35:30.314Z"
   },
   {
    "duration": 6,
    "start_time": "2021-12-18T22:35:30.322Z"
   },
   {
    "duration": 12,
    "start_time": "2021-12-18T22:35:30.330Z"
   },
   {
    "duration": 4,
    "start_time": "2021-12-18T22:35:30.344Z"
   },
   {
    "duration": 9,
    "start_time": "2021-12-18T22:35:30.349Z"
   },
   {
    "duration": 34,
    "start_time": "2021-12-18T22:35:30.359Z"
   },
   {
    "duration": 44,
    "start_time": "2021-12-18T22:35:30.394Z"
   },
   {
    "duration": 2,
    "start_time": "2021-12-18T22:35:30.440Z"
   },
   {
    "duration": 17,
    "start_time": "2021-12-18T22:35:30.444Z"
   },
   {
    "duration": 2,
    "start_time": "2021-12-18T22:35:30.463Z"
   },
   {
    "duration": 22,
    "start_time": "2021-12-18T22:35:30.467Z"
   },
   {
    "duration": 9,
    "start_time": "2021-12-18T22:35:30.491Z"
   },
   {
    "duration": 91,
    "start_time": "2021-12-18T22:35:30.501Z"
   },
   {
    "duration": 298,
    "start_time": "2021-12-18T22:35:30.595Z"
   },
   {
    "duration": 400,
    "start_time": "2021-12-18T22:35:30.896Z"
   },
   {
    "duration": 5,
    "start_time": "2021-12-18T22:35:31.298Z"
   },
   {
    "duration": 20,
    "start_time": "2021-12-18T22:35:31.305Z"
   },
   {
    "duration": 276,
    "start_time": "2021-12-18T22:35:31.327Z"
   },
   {
    "duration": 7,
    "start_time": "2021-12-18T22:35:31.605Z"
   },
   {
    "duration": 5,
    "start_time": "2021-12-18T22:35:31.613Z"
   },
   {
    "duration": 7,
    "start_time": "2021-12-18T22:35:31.619Z"
   },
   {
    "duration": 6,
    "start_time": "2021-12-18T22:35:31.628Z"
   },
   {
    "duration": 355,
    "start_time": "2021-12-18T22:35:31.635Z"
   },
   {
    "duration": 138,
    "start_time": "2021-12-19T00:31:40.577Z"
   },
   {
    "duration": 1402,
    "start_time": "2021-12-19T22:29:36.200Z"
   },
   {
    "duration": 62,
    "start_time": "2021-12-19T22:29:37.604Z"
   },
   {
    "duration": 7,
    "start_time": "2021-12-19T22:29:37.669Z"
   },
   {
    "duration": 62,
    "start_time": "2021-12-19T22:29:37.679Z"
   },
   {
    "duration": 30,
    "start_time": "2021-12-19T22:29:37.744Z"
   },
   {
    "duration": 22,
    "start_time": "2021-12-19T22:29:37.776Z"
   },
   {
    "duration": 4,
    "start_time": "2021-12-19T22:29:37.801Z"
   },
   {
    "duration": 11,
    "start_time": "2021-12-19T22:29:37.810Z"
   },
   {
    "duration": 7,
    "start_time": "2021-12-19T22:29:37.863Z"
   },
   {
    "duration": 7,
    "start_time": "2021-12-19T22:29:37.872Z"
   },
   {
    "duration": 19,
    "start_time": "2021-12-19T22:29:37.881Z"
   },
   {
    "duration": 5,
    "start_time": "2021-12-19T22:29:37.902Z"
   },
   {
    "duration": 55,
    "start_time": "2021-12-19T22:29:37.910Z"
   },
   {
    "duration": 11,
    "start_time": "2021-12-19T22:29:37.968Z"
   },
   {
    "duration": 97,
    "start_time": "2021-12-19T22:29:37.982Z"
   },
   {
    "duration": 4,
    "start_time": "2021-12-19T22:29:38.082Z"
   },
   {
    "duration": 17,
    "start_time": "2021-12-19T22:29:38.089Z"
   },
   {
    "duration": 4,
    "start_time": "2021-12-19T22:29:38.109Z"
   },
   {
    "duration": 4,
    "start_time": "2021-12-19T22:29:38.116Z"
   },
   {
    "duration": 1543,
    "start_time": "2021-12-19T22:30:20.056Z"
   },
   {
    "duration": 62,
    "start_time": "2021-12-19T22:30:21.602Z"
   },
   {
    "duration": 23,
    "start_time": "2021-12-19T22:30:21.667Z"
   },
   {
    "duration": 70,
    "start_time": "2021-12-19T22:30:21.693Z"
   },
   {
    "duration": 9,
    "start_time": "2021-12-19T22:30:21.765Z"
   },
   {
    "duration": 47,
    "start_time": "2021-12-19T22:30:21.776Z"
   },
   {
    "duration": 20,
    "start_time": "2021-12-19T22:30:21.825Z"
   },
   {
    "duration": 50,
    "start_time": "2021-12-19T22:30:21.849Z"
   },
   {
    "duration": 33,
    "start_time": "2021-12-19T22:30:21.902Z"
   },
   {
    "duration": 34,
    "start_time": "2021-12-19T22:30:21.938Z"
   },
   {
    "duration": 59,
    "start_time": "2021-12-19T22:30:21.975Z"
   },
   {
    "duration": 25,
    "start_time": "2021-12-19T22:30:22.037Z"
   },
   {
    "duration": 52,
    "start_time": "2021-12-19T22:30:22.064Z"
   },
   {
    "duration": 45,
    "start_time": "2021-12-19T22:30:22.119Z"
   },
   {
    "duration": 83,
    "start_time": "2021-12-19T22:30:22.166Z"
   },
   {
    "duration": 3,
    "start_time": "2021-12-19T22:30:22.252Z"
   },
   {
    "duration": 95,
    "start_time": "2021-12-19T22:30:22.259Z"
   },
   {
    "duration": 29,
    "start_time": "2021-12-19T22:30:22.356Z"
   },
   {
    "duration": 41,
    "start_time": "2021-12-19T22:30:22.387Z"
   },
   {
    "duration": 40,
    "start_time": "2021-12-19T22:30:22.431Z"
   },
   {
    "duration": 193,
    "start_time": "2021-12-19T22:30:22.474Z"
   },
   {
    "duration": 394,
    "start_time": "2021-12-19T22:30:22.670Z"
   },
   {
    "duration": 625,
    "start_time": "2021-12-19T22:30:23.069Z"
   },
   {
    "duration": 9,
    "start_time": "2021-12-19T22:30:23.697Z"
   },
   {
    "duration": 62,
    "start_time": "2021-12-19T22:30:23.708Z"
   },
   {
    "duration": 394,
    "start_time": "2021-12-19T22:30:23.773Z"
   },
   {
    "duration": 14,
    "start_time": "2021-12-19T22:30:24.171Z"
   },
   {
    "duration": 37,
    "start_time": "2021-12-19T22:30:24.188Z"
   },
   {
    "duration": 57,
    "start_time": "2021-12-19T22:30:24.228Z"
   },
   {
    "duration": 59,
    "start_time": "2021-12-19T22:30:24.289Z"
   },
   {
    "duration": 39,
    "start_time": "2021-12-19T22:30:24.352Z"
   },
   {
    "duration": 629,
    "start_time": "2021-12-19T22:30:24.394Z"
   },
   {
    "duration": 25,
    "start_time": "2021-12-19T22:31:18.744Z"
   },
   {
    "duration": 25,
    "start_time": "2021-12-19T22:31:41.389Z"
   },
   {
    "duration": 8,
    "start_time": "2021-12-19T22:31:41.693Z"
   },
   {
    "duration": 6,
    "start_time": "2021-12-19T22:34:53.609Z"
   },
   {
    "duration": 13,
    "start_time": "2021-12-19T22:34:54.055Z"
   },
   {
    "duration": 295,
    "start_time": "2021-12-19T22:36:17.779Z"
   },
   {
    "duration": 7,
    "start_time": "2021-12-19T22:36:32.280Z"
   },
   {
    "duration": 10,
    "start_time": "2021-12-19T22:36:32.620Z"
   },
   {
    "duration": 1388,
    "start_time": "2021-12-19T22:37:06.202Z"
   },
   {
    "duration": 61,
    "start_time": "2021-12-19T22:37:07.592Z"
   },
   {
    "duration": 9,
    "start_time": "2021-12-19T22:37:07.657Z"
   },
   {
    "duration": 60,
    "start_time": "2021-12-19T22:37:07.669Z"
   },
   {
    "duration": 36,
    "start_time": "2021-12-19T22:37:07.731Z"
   },
   {
    "duration": 20,
    "start_time": "2021-12-19T22:37:07.770Z"
   },
   {
    "duration": 4,
    "start_time": "2021-12-19T22:37:07.793Z"
   },
   {
    "duration": 9,
    "start_time": "2021-12-19T22:37:07.802Z"
   },
   {
    "duration": 48,
    "start_time": "2021-12-19T22:37:07.815Z"
   },
   {
    "duration": 10,
    "start_time": "2021-12-19T22:37:07.866Z"
   },
   {
    "duration": 21,
    "start_time": "2021-12-19T22:37:07.878Z"
   },
   {
    "duration": 5,
    "start_time": "2021-12-19T22:37:07.902Z"
   },
   {
    "duration": 11,
    "start_time": "2021-12-19T22:37:07.909Z"
   },
   {
    "duration": 8,
    "start_time": "2021-12-19T22:37:07.963Z"
   },
   {
    "duration": 62,
    "start_time": "2021-12-19T22:37:07.974Z"
   },
   {
    "duration": 24,
    "start_time": "2021-12-19T22:37:08.039Z"
   },
   {
    "duration": 15,
    "start_time": "2021-12-19T22:37:08.066Z"
   },
   {
    "duration": 3,
    "start_time": "2021-12-19T22:37:08.083Z"
   },
   {
    "duration": 3,
    "start_time": "2021-12-19T22:37:08.089Z"
   },
   {
    "duration": 6,
    "start_time": "2021-12-19T22:37:08.095Z"
   },
   {
    "duration": 159,
    "start_time": "2021-12-19T22:37:08.103Z"
   },
   {
    "duration": 417,
    "start_time": "2021-12-19T22:37:08.265Z"
   },
   {
    "duration": 646,
    "start_time": "2021-12-19T22:37:08.687Z"
   },
   {
    "duration": 8,
    "start_time": "2021-12-19T22:37:09.337Z"
   },
   {
    "duration": 33,
    "start_time": "2021-12-19T22:37:09.364Z"
   },
   {
    "duration": 405,
    "start_time": "2021-12-19T22:37:09.400Z"
   },
   {
    "duration": 10,
    "start_time": "2021-12-19T22:37:09.808Z"
   },
   {
    "duration": 7,
    "start_time": "2021-12-19T22:37:09.821Z"
   },
   {
    "duration": 41,
    "start_time": "2021-12-19T22:37:09.830Z"
   },
   {
    "duration": 3,
    "start_time": "2021-12-19T22:37:09.874Z"
   },
   {
    "duration": 4,
    "start_time": "2021-12-19T22:37:09.879Z"
   },
   {
    "duration": 463,
    "start_time": "2021-12-19T22:37:09.886Z"
   },
   {
    "duration": -2953,
    "start_time": "2021-12-19T22:37:13.304Z"
   },
   {
    "duration": -2976,
    "start_time": "2021-12-19T22:37:13.328Z"
   },
   {
    "duration": 1336,
    "start_time": "2021-12-19T22:37:25.058Z"
   },
   {
    "duration": 62,
    "start_time": "2021-12-19T22:37:26.397Z"
   },
   {
    "duration": 7,
    "start_time": "2021-12-19T22:37:26.462Z"
   },
   {
    "duration": 61,
    "start_time": "2021-12-19T22:37:26.472Z"
   },
   {
    "duration": 30,
    "start_time": "2021-12-19T22:37:26.535Z"
   },
   {
    "duration": 17,
    "start_time": "2021-12-19T22:37:26.568Z"
   },
   {
    "duration": 3,
    "start_time": "2021-12-19T22:37:26.587Z"
   },
   {
    "duration": 8,
    "start_time": "2021-12-19T22:37:26.593Z"
   },
   {
    "duration": 5,
    "start_time": "2021-12-19T22:37:26.604Z"
   },
   {
    "duration": 53,
    "start_time": "2021-12-19T22:37:26.611Z"
   },
   {
    "duration": 20,
    "start_time": "2021-12-19T22:37:26.666Z"
   },
   {
    "duration": 5,
    "start_time": "2021-12-19T22:37:26.688Z"
   },
   {
    "duration": 10,
    "start_time": "2021-12-19T22:37:26.695Z"
   },
   {
    "duration": 10,
    "start_time": "2021-12-19T22:37:26.707Z"
   },
   {
    "duration": 99,
    "start_time": "2021-12-19T22:37:26.719Z"
   },
   {
    "duration": 3,
    "start_time": "2021-12-19T22:37:26.820Z"
   },
   {
    "duration": 46,
    "start_time": "2021-12-19T22:37:26.826Z"
   },
   {
    "duration": 4,
    "start_time": "2021-12-19T22:37:26.875Z"
   },
   {
    "duration": 4,
    "start_time": "2021-12-19T22:37:26.882Z"
   },
   {
    "duration": 7,
    "start_time": "2021-12-19T22:37:26.889Z"
   },
   {
    "duration": 164,
    "start_time": "2021-12-19T22:37:26.899Z"
   },
   {
    "duration": 600,
    "start_time": "2021-12-19T22:37:27.066Z"
   },
   {
    "duration": 862,
    "start_time": "2021-12-19T22:37:27.672Z"
   },
   {
    "duration": 11,
    "start_time": "2021-12-19T22:37:28.537Z"
   },
   {
    "duration": 34,
    "start_time": "2021-12-19T22:37:28.563Z"
   },
   {
    "duration": 407,
    "start_time": "2021-12-19T22:37:28.600Z"
   },
   {
    "duration": 11,
    "start_time": "2021-12-19T22:37:29.010Z"
   },
   {
    "duration": 7,
    "start_time": "2021-12-19T22:37:29.024Z"
   },
   {
    "duration": 38,
    "start_time": "2021-12-19T22:37:29.035Z"
   },
   {
    "duration": 3,
    "start_time": "2021-12-19T22:37:29.076Z"
   },
   {
    "duration": 4,
    "start_time": "2021-12-19T22:37:29.081Z"
   },
   {
    "duration": 4,
    "start_time": "2021-12-19T22:37:29.087Z"
   },
   {
    "duration": 4,
    "start_time": "2021-12-19T22:37:29.094Z"
   },
   {
    "duration": 453,
    "start_time": "2021-12-19T22:37:29.100Z"
   },
   {
    "duration": 233,
    "start_time": "2021-12-19T22:37:40.577Z"
   },
   {
    "duration": 504,
    "start_time": "2021-12-20T12:21:05.428Z"
   },
   {
    "duration": 1349,
    "start_time": "2021-12-20T12:21:13.004Z"
   },
   {
    "duration": 62,
    "start_time": "2021-12-20T12:21:14.355Z"
   },
   {
    "duration": 7,
    "start_time": "2021-12-20T12:21:14.421Z"
   },
   {
    "duration": 83,
    "start_time": "2021-12-20T12:21:14.431Z"
   },
   {
    "duration": 11,
    "start_time": "2021-12-20T12:21:14.516Z"
   },
   {
    "duration": 43,
    "start_time": "2021-12-20T12:21:14.530Z"
   },
   {
    "duration": 3,
    "start_time": "2021-12-20T12:21:14.576Z"
   },
   {
    "duration": 8,
    "start_time": "2021-12-20T12:21:14.582Z"
   },
   {
    "duration": 8,
    "start_time": "2021-12-20T12:21:14.593Z"
   },
   {
    "duration": 7,
    "start_time": "2021-12-20T12:21:14.604Z"
   },
   {
    "duration": 60,
    "start_time": "2021-12-20T12:21:14.613Z"
   },
   {
    "duration": 29,
    "start_time": "2021-12-20T12:21:14.675Z"
   },
   {
    "duration": 23,
    "start_time": "2021-12-20T12:21:14.707Z"
   },
   {
    "duration": 18,
    "start_time": "2021-12-20T12:21:14.733Z"
   },
   {
    "duration": 65,
    "start_time": "2021-12-20T12:21:14.754Z"
   },
   {
    "duration": 3,
    "start_time": "2021-12-20T12:21:14.821Z"
   },
   {
    "duration": 37,
    "start_time": "2021-12-20T12:21:14.827Z"
   },
   {
    "duration": 4,
    "start_time": "2021-12-20T12:21:14.867Z"
   },
   {
    "duration": 28,
    "start_time": "2021-12-20T12:21:14.873Z"
   },
   {
    "duration": 14,
    "start_time": "2021-12-20T12:21:14.903Z"
   },
   {
    "duration": 148,
    "start_time": "2021-12-20T12:21:14.919Z"
   },
   {
    "duration": 476,
    "start_time": "2021-12-20T12:21:15.070Z"
   },
   {
    "duration": 845,
    "start_time": "2021-12-20T12:21:15.551Z"
   },
   {
    "duration": 9,
    "start_time": "2021-12-20T12:21:16.398Z"
   },
   {
    "duration": 61,
    "start_time": "2021-12-20T12:21:16.409Z"
   },
   {
    "duration": 403,
    "start_time": "2021-12-20T12:21:16.472Z"
   },
   {
    "duration": 10,
    "start_time": "2021-12-20T12:21:16.877Z"
   },
   {
    "duration": 23,
    "start_time": "2021-12-20T12:21:16.889Z"
   },
   {
    "duration": 50,
    "start_time": "2021-12-20T12:21:16.914Z"
   },
   {
    "duration": 20,
    "start_time": "2021-12-20T12:21:16.967Z"
   },
   {
    "duration": 25,
    "start_time": "2021-12-20T12:21:16.990Z"
   },
   {
    "duration": 31,
    "start_time": "2021-12-20T12:21:17.018Z"
   },
   {
    "duration": 30,
    "start_time": "2021-12-20T12:21:17.052Z"
   },
   {
    "duration": 279,
    "start_time": "2021-12-20T12:21:17.085Z"
   },
   {
    "duration": 22,
    "start_time": "2021-12-20T12:21:17.367Z"
   },
   {
    "duration": 23,
    "start_time": "2021-12-20T12:21:35.482Z"
   },
   {
    "duration": 1535,
    "start_time": "2021-12-20T12:25:04.840Z"
   },
   {
    "duration": 63,
    "start_time": "2021-12-20T12:25:06.379Z"
   },
   {
    "duration": 17,
    "start_time": "2021-12-20T12:25:06.446Z"
   },
   {
    "duration": 69,
    "start_time": "2021-12-20T12:25:06.466Z"
   },
   {
    "duration": 36,
    "start_time": "2021-12-20T12:25:06.537Z"
   },
   {
    "duration": 38,
    "start_time": "2021-12-20T12:25:06.578Z"
   },
   {
    "duration": 4,
    "start_time": "2021-12-20T12:25:06.619Z"
   },
   {
    "duration": 37,
    "start_time": "2021-12-20T12:25:06.628Z"
   },
   {
    "duration": 18,
    "start_time": "2021-12-20T12:25:06.668Z"
   },
   {
    "duration": 19,
    "start_time": "2021-12-20T12:25:06.688Z"
   },
   {
    "duration": 31,
    "start_time": "2021-12-20T12:25:06.709Z"
   },
   {
    "duration": 11,
    "start_time": "2021-12-20T12:25:06.743Z"
   },
   {
    "duration": 29,
    "start_time": "2021-12-20T12:25:06.757Z"
   },
   {
    "duration": 26,
    "start_time": "2021-12-20T12:25:06.789Z"
   },
   {
    "duration": 85,
    "start_time": "2021-12-20T12:25:06.818Z"
   },
   {
    "duration": 3,
    "start_time": "2021-12-20T12:25:06.906Z"
   },
   {
    "duration": 26,
    "start_time": "2021-12-20T12:25:06.912Z"
   },
   {
    "duration": 41,
    "start_time": "2021-12-20T12:25:06.941Z"
   },
   {
    "duration": 27,
    "start_time": "2021-12-20T12:25:06.985Z"
   },
   {
    "duration": 24,
    "start_time": "2021-12-20T12:25:07.014Z"
   },
   {
    "duration": 131,
    "start_time": "2021-12-20T12:25:07.041Z"
   },
   {
    "duration": 535,
    "start_time": "2021-12-20T12:25:07.176Z"
   },
   {
    "duration": 745,
    "start_time": "2021-12-20T12:25:07.718Z"
   },
   {
    "duration": 11,
    "start_time": "2021-12-20T12:25:08.466Z"
   },
   {
    "duration": 68,
    "start_time": "2021-12-20T12:25:08.480Z"
   },
   {
    "duration": 441,
    "start_time": "2021-12-20T12:25:08.551Z"
   },
   {
    "duration": 26,
    "start_time": "2021-12-20T12:25:08.995Z"
   },
   {
    "duration": 42,
    "start_time": "2021-12-20T12:25:09.023Z"
   },
   {
    "duration": 22,
    "start_time": "2021-12-20T12:25:09.068Z"
   },
   {
    "duration": 18,
    "start_time": "2021-12-20T12:25:09.093Z"
   },
   {
    "duration": 32,
    "start_time": "2021-12-20T12:25:09.114Z"
   },
   {
    "duration": 49,
    "start_time": "2021-12-20T12:25:09.149Z"
   },
   {
    "duration": 27,
    "start_time": "2021-12-20T12:25:09.201Z"
   },
   {
    "duration": 39,
    "start_time": "2021-12-20T12:25:09.231Z"
   },
   {
    "duration": 278,
    "start_time": "2021-12-20T12:25:09.273Z"
   },
   {
    "duration": 34,
    "start_time": "2021-12-20T12:25:09.554Z"
   },
   {
    "duration": 1341,
    "start_time": "2021-12-20T13:46:49.107Z"
   },
   {
    "duration": 72,
    "start_time": "2021-12-20T13:46:50.451Z"
   },
   {
    "duration": 8,
    "start_time": "2021-12-20T13:46:50.527Z"
   },
   {
    "duration": 79,
    "start_time": "2021-12-20T13:46:50.539Z"
   },
   {
    "duration": 9,
    "start_time": "2021-12-20T13:46:50.620Z"
   },
   {
    "duration": 47,
    "start_time": "2021-12-20T13:46:50.631Z"
   },
   {
    "duration": 3,
    "start_time": "2021-12-20T13:46:50.681Z"
   },
   {
    "duration": 12,
    "start_time": "2021-12-20T13:46:50.690Z"
   },
   {
    "duration": 7,
    "start_time": "2021-12-20T13:46:50.706Z"
   },
   {
    "duration": 11,
    "start_time": "2021-12-20T13:46:50.716Z"
   },
   {
    "duration": 25,
    "start_time": "2021-12-20T13:46:50.763Z"
   },
   {
    "duration": 7,
    "start_time": "2021-12-20T13:46:50.791Z"
   },
   {
    "duration": 15,
    "start_time": "2021-12-20T13:46:50.800Z"
   },
   {
    "duration": 47,
    "start_time": "2021-12-20T13:46:50.818Z"
   },
   {
    "duration": 105,
    "start_time": "2021-12-20T13:46:50.868Z"
   },
   {
    "duration": 5,
    "start_time": "2021-12-20T13:46:50.976Z"
   },
   {
    "duration": 19,
    "start_time": "2021-12-20T13:46:50.984Z"
   },
   {
    "duration": 4,
    "start_time": "2021-12-20T13:46:51.005Z"
   },
   {
    "duration": 3,
    "start_time": "2021-12-20T13:46:51.012Z"
   },
   {
    "duration": 47,
    "start_time": "2021-12-20T13:46:51.017Z"
   },
   {
    "duration": 101,
    "start_time": "2021-12-20T13:46:51.067Z"
   },
   {
    "duration": 441,
    "start_time": "2021-12-20T13:46:51.171Z"
   },
   {
    "duration": 742,
    "start_time": "2021-12-20T13:46:51.618Z"
   },
   {
    "duration": 8,
    "start_time": "2021-12-20T13:46:52.363Z"
   },
   {
    "duration": 30,
    "start_time": "2021-12-20T13:46:52.374Z"
   },
   {
    "duration": 404,
    "start_time": "2021-12-20T13:46:52.407Z"
   },
   {
    "duration": 22,
    "start_time": "2021-12-20T13:46:52.814Z"
   },
   {
    "duration": 28,
    "start_time": "2021-12-20T13:46:52.839Z"
   },
   {
    "duration": 9,
    "start_time": "2021-12-20T13:46:52.869Z"
   },
   {
    "duration": 12,
    "start_time": "2021-12-20T13:46:52.880Z"
   },
   {
    "duration": 3,
    "start_time": "2021-12-20T13:46:52.895Z"
   },
   {
    "duration": 8,
    "start_time": "2021-12-20T13:46:52.900Z"
   },
   {
    "duration": 5,
    "start_time": "2021-12-20T13:46:52.910Z"
   },
   {
    "duration": 4,
    "start_time": "2021-12-20T13:46:52.918Z"
   },
   {
    "duration": 246,
    "start_time": "2021-12-20T13:46:52.963Z"
   },
   {
    "duration": 21,
    "start_time": "2021-12-20T13:46:53.212Z"
   },
   {
    "duration": 719,
    "start_time": "2021-12-20T13:46:53.235Z"
   },
   {
    "duration": 1378,
    "start_time": "2021-12-20T13:47:26.918Z"
   },
   {
    "duration": 63,
    "start_time": "2021-12-20T13:47:28.299Z"
   },
   {
    "duration": 7,
    "start_time": "2021-12-20T13:47:28.366Z"
   },
   {
    "duration": 63,
    "start_time": "2021-12-20T13:47:28.376Z"
   },
   {
    "duration": 28,
    "start_time": "2021-12-20T13:47:28.442Z"
   },
   {
    "duration": 19,
    "start_time": "2021-12-20T13:47:28.473Z"
   },
   {
    "duration": 3,
    "start_time": "2021-12-20T13:47:28.494Z"
   },
   {
    "duration": 10,
    "start_time": "2021-12-20T13:47:28.500Z"
   },
   {
    "duration": 49,
    "start_time": "2021-12-20T13:47:28.516Z"
   },
   {
    "duration": 6,
    "start_time": "2021-12-20T13:47:28.570Z"
   },
   {
    "duration": 18,
    "start_time": "2021-12-20T13:47:28.579Z"
   },
   {
    "duration": 6,
    "start_time": "2021-12-20T13:47:28.599Z"
   },
   {
    "duration": 11,
    "start_time": "2021-12-20T13:47:28.607Z"
   },
   {
    "duration": 10,
    "start_time": "2021-12-20T13:47:28.663Z"
   },
   {
    "duration": 96,
    "start_time": "2021-12-20T13:47:28.675Z"
   },
   {
    "duration": 4,
    "start_time": "2021-12-20T13:47:28.774Z"
   },
   {
    "duration": 17,
    "start_time": "2021-12-20T13:47:28.781Z"
   },
   {
    "duration": 4,
    "start_time": "2021-12-20T13:47:28.801Z"
   },
   {
    "duration": 8,
    "start_time": "2021-12-20T13:47:28.808Z"
   },
   {
    "duration": 48,
    "start_time": "2021-12-20T13:47:28.818Z"
   },
   {
    "duration": 195,
    "start_time": "2021-12-20T13:47:28.869Z"
   },
   {
    "duration": 454,
    "start_time": "2021-12-20T13:47:29.067Z"
   },
   {
    "duration": 816,
    "start_time": "2021-12-20T13:47:29.524Z"
   },
   {
    "duration": 20,
    "start_time": "2021-12-20T13:47:30.343Z"
   },
   {
    "duration": 42,
    "start_time": "2021-12-20T13:47:30.366Z"
   },
   {
    "duration": 403,
    "start_time": "2021-12-20T13:47:30.411Z"
   },
   {
    "duration": 42,
    "start_time": "2021-12-20T13:47:30.821Z"
   },
   {
    "duration": 11,
    "start_time": "2021-12-20T13:47:30.867Z"
   },
   {
    "duration": 24,
    "start_time": "2021-12-20T13:47:30.881Z"
   },
   {
    "duration": 14,
    "start_time": "2021-12-20T13:47:30.908Z"
   },
   {
    "duration": 42,
    "start_time": "2021-12-20T13:47:30.925Z"
   },
   {
    "duration": 16,
    "start_time": "2021-12-20T13:47:30.969Z"
   },
   {
    "duration": 12,
    "start_time": "2021-12-20T13:47:30.987Z"
   },
   {
    "duration": 6,
    "start_time": "2021-12-20T13:47:31.002Z"
   },
   {
    "duration": 237,
    "start_time": "2021-12-20T13:47:31.010Z"
   },
   {
    "duration": 26,
    "start_time": "2021-12-20T13:47:31.249Z"
   },
   {
    "duration": 463,
    "start_time": "2021-12-20T13:47:31.277Z"
   },
   {
    "duration": 1919,
    "start_time": "2021-12-20T13:47:54.203Z"
   },
   {
    "duration": 58,
    "start_time": "2021-12-20T13:47:56.125Z"
   },
   {
    "duration": 8,
    "start_time": "2021-12-20T13:47:56.187Z"
   },
   {
    "duration": 91,
    "start_time": "2021-12-20T13:47:56.198Z"
   },
   {
    "duration": 9,
    "start_time": "2021-12-20T13:47:56.291Z"
   },
   {
    "duration": 17,
    "start_time": "2021-12-20T13:47:56.302Z"
   },
   {
    "duration": 3,
    "start_time": "2021-12-20T13:47:56.321Z"
   },
   {
    "duration": 10,
    "start_time": "2021-12-20T13:47:56.363Z"
   },
   {
    "duration": 5,
    "start_time": "2021-12-20T13:47:56.376Z"
   },
   {
    "duration": 7,
    "start_time": "2021-12-20T13:47:56.383Z"
   },
   {
    "duration": 18,
    "start_time": "2021-12-20T13:47:56.392Z"
   },
   {
    "duration": 5,
    "start_time": "2021-12-20T13:47:56.413Z"
   },
   {
    "duration": 52,
    "start_time": "2021-12-20T13:47:56.420Z"
   },
   {
    "duration": 9,
    "start_time": "2021-12-20T13:47:56.475Z"
   },
   {
    "duration": 104,
    "start_time": "2021-12-20T13:47:56.487Z"
   },
   {
    "duration": 3,
    "start_time": "2021-12-20T13:47:56.593Z"
   },
   {
    "duration": 19,
    "start_time": "2021-12-20T13:47:56.598Z"
   },
   {
    "duration": 3,
    "start_time": "2021-12-20T13:47:56.619Z"
   },
   {
    "duration": 4,
    "start_time": "2021-12-20T13:47:56.625Z"
   },
   {
    "duration": 6,
    "start_time": "2021-12-20T13:47:56.664Z"
   },
   {
    "duration": 96,
    "start_time": "2021-12-20T13:47:56.672Z"
   },
   {
    "duration": 340,
    "start_time": "2021-12-20T13:47:56.771Z"
   },
   {
    "duration": 926,
    "start_time": "2021-12-20T13:47:57.118Z"
   },
   {
    "duration": 17,
    "start_time": "2021-12-20T13:47:58.047Z"
   },
   {
    "duration": 31,
    "start_time": "2021-12-20T13:47:58.067Z"
   },
   {
    "duration": 436,
    "start_time": "2021-12-20T13:47:58.100Z"
   },
   {
    "duration": 39,
    "start_time": "2021-12-20T13:47:58.539Z"
   },
   {
    "duration": 10,
    "start_time": "2021-12-20T13:47:58.580Z"
   },
   {
    "duration": 7,
    "start_time": "2021-12-20T13:47:58.592Z"
   },
   {
    "duration": 14,
    "start_time": "2021-12-20T13:47:58.602Z"
   },
   {
    "duration": 3,
    "start_time": "2021-12-20T13:47:58.662Z"
   },
   {
    "duration": 5,
    "start_time": "2021-12-20T13:47:58.668Z"
   },
   {
    "duration": 4,
    "start_time": "2021-12-20T13:47:58.675Z"
   },
   {
    "duration": 7,
    "start_time": "2021-12-20T13:47:58.681Z"
   },
   {
    "duration": 274,
    "start_time": "2021-12-20T13:47:58.690Z"
   },
   {
    "duration": 23,
    "start_time": "2021-12-20T13:47:58.967Z"
   },
   {
    "duration": 423,
    "start_time": "2021-12-20T13:47:58.992Z"
   },
   {
    "duration": 647,
    "start_time": "2021-12-20T13:59:18.848Z"
   },
   {
    "duration": 1919,
    "start_time": "2021-12-20T13:59:26.480Z"
   },
   {
    "duration": 57,
    "start_time": "2021-12-20T13:59:28.401Z"
   },
   {
    "duration": 8,
    "start_time": "2021-12-20T13:59:28.461Z"
   },
   {
    "duration": 120,
    "start_time": "2021-12-20T13:59:28.472Z"
   },
   {
    "duration": 10,
    "start_time": "2021-12-20T13:59:28.595Z"
   },
   {
    "duration": 23,
    "start_time": "2021-12-20T13:59:28.607Z"
   },
   {
    "duration": 29,
    "start_time": "2021-12-20T13:59:28.633Z"
   },
   {
    "duration": 9,
    "start_time": "2021-12-20T13:59:28.666Z"
   },
   {
    "duration": 5,
    "start_time": "2021-12-20T13:59:28.678Z"
   },
   {
    "duration": 15,
    "start_time": "2021-12-20T13:59:28.686Z"
   },
   {
    "duration": 18,
    "start_time": "2021-12-20T13:59:28.704Z"
   },
   {
    "duration": 38,
    "start_time": "2021-12-20T13:59:28.724Z"
   },
   {
    "duration": 12,
    "start_time": "2021-12-20T13:59:28.765Z"
   },
   {
    "duration": 17,
    "start_time": "2021-12-20T13:59:28.780Z"
   },
   {
    "duration": 88,
    "start_time": "2021-12-20T13:59:28.800Z"
   },
   {
    "duration": 4,
    "start_time": "2021-12-20T13:59:28.890Z"
   },
   {
    "duration": 15,
    "start_time": "2021-12-20T13:59:28.896Z"
   },
   {
    "duration": 3,
    "start_time": "2021-12-20T13:59:28.914Z"
   },
   {
    "duration": 8,
    "start_time": "2021-12-20T13:59:28.920Z"
   },
   {
    "duration": 37,
    "start_time": "2021-12-20T13:59:28.931Z"
   },
   {
    "duration": 195,
    "start_time": "2021-12-20T13:59:28.970Z"
   },
   {
    "duration": 379,
    "start_time": "2021-12-20T13:59:29.168Z"
   },
   {
    "duration": 905,
    "start_time": "2021-12-20T13:59:29.554Z"
   },
   {
    "duration": 10,
    "start_time": "2021-12-20T13:59:30.464Z"
   },
   {
    "duration": 56,
    "start_time": "2021-12-20T13:59:30.477Z"
   },
   {
    "duration": 602,
    "start_time": "2021-12-20T13:59:30.536Z"
   },
   {
    "duration": 34,
    "start_time": "2021-12-20T13:59:31.140Z"
   },
   {
    "duration": 12,
    "start_time": "2021-12-20T13:59:31.177Z"
   },
   {
    "duration": 5,
    "start_time": "2021-12-20T13:59:31.191Z"
   },
   {
    "duration": 18,
    "start_time": "2021-12-20T13:59:31.199Z"
   },
   {
    "duration": 43,
    "start_time": "2021-12-20T13:59:31.219Z"
   },
   {
    "duration": 3,
    "start_time": "2021-12-20T13:59:31.265Z"
   },
   {
    "duration": 4,
    "start_time": "2021-12-20T13:59:31.271Z"
   },
   {
    "duration": 13,
    "start_time": "2021-12-20T13:59:31.279Z"
   },
   {
    "duration": 259,
    "start_time": "2021-12-20T13:59:31.295Z"
   },
   {
    "duration": 28,
    "start_time": "2021-12-20T13:59:31.556Z"
   },
   {
    "duration": 462,
    "start_time": "2021-12-20T13:59:31.587Z"
   },
   {
    "duration": 308,
    "start_time": "2021-12-20T13:59:42.522Z"
   },
   {
    "duration": 104,
    "start_time": "2021-12-20T14:10:43.751Z"
   },
   {
    "duration": 320,
    "start_time": "2021-12-20T14:12:30.636Z"
   },
   {
    "duration": 1738,
    "start_time": "2021-12-20T14:13:15.444Z"
   },
   {
    "duration": 77,
    "start_time": "2021-12-20T14:13:17.185Z"
   },
   {
    "duration": 9,
    "start_time": "2021-12-20T14:13:17.266Z"
   },
   {
    "duration": 92,
    "start_time": "2021-12-20T14:13:17.279Z"
   },
   {
    "duration": 11,
    "start_time": "2021-12-20T14:13:17.373Z"
   },
   {
    "duration": 22,
    "start_time": "2021-12-20T14:13:17.388Z"
   },
   {
    "duration": 4,
    "start_time": "2021-12-20T14:13:17.413Z"
   },
   {
    "duration": 49,
    "start_time": "2021-12-20T14:13:17.422Z"
   },
   {
    "duration": 19,
    "start_time": "2021-12-20T14:13:17.475Z"
   },
   {
    "duration": 20,
    "start_time": "2021-12-20T14:13:17.498Z"
   },
   {
    "duration": 36,
    "start_time": "2021-12-20T14:13:17.523Z"
   },
   {
    "duration": 26,
    "start_time": "2021-12-20T14:13:17.563Z"
   },
   {
    "duration": 34,
    "start_time": "2021-12-20T14:13:17.592Z"
   },
   {
    "duration": 39,
    "start_time": "2021-12-20T14:13:17.628Z"
   },
   {
    "duration": 121,
    "start_time": "2021-12-20T14:13:17.669Z"
   },
   {
    "duration": 3,
    "start_time": "2021-12-20T14:13:17.792Z"
   },
   {
    "duration": 50,
    "start_time": "2021-12-20T14:13:17.798Z"
   },
   {
    "duration": 23,
    "start_time": "2021-12-20T14:13:17.851Z"
   },
   {
    "duration": 26,
    "start_time": "2021-12-20T14:13:17.877Z"
   },
   {
    "duration": 22,
    "start_time": "2021-12-20T14:13:17.906Z"
   },
   {
    "duration": 133,
    "start_time": "2021-12-20T14:13:17.931Z"
   },
   {
    "duration": 517,
    "start_time": "2021-12-20T14:13:18.067Z"
   },
   {
    "duration": 759,
    "start_time": "2021-12-20T14:13:18.590Z"
   },
   {
    "duration": 18,
    "start_time": "2021-12-20T14:13:19.353Z"
   },
   {
    "duration": 65,
    "start_time": "2021-12-20T14:13:19.374Z"
   },
   {
    "duration": 461,
    "start_time": "2021-12-20T14:13:19.442Z"
   },
   {
    "duration": 29,
    "start_time": "2021-12-20T14:13:19.906Z"
   },
   {
    "duration": 363,
    "start_time": "2021-12-20T14:13:19.937Z"
   },
   {
    "duration": 15,
    "start_time": "2021-12-20T14:13:20.303Z"
   },
   {
    "duration": 51,
    "start_time": "2021-12-20T14:13:20.321Z"
   },
   {
    "duration": 46,
    "start_time": "2021-12-20T14:13:20.375Z"
   },
   {
    "duration": 36,
    "start_time": "2021-12-20T14:13:20.424Z"
   },
   {
    "duration": 32,
    "start_time": "2021-12-20T14:13:20.463Z"
   },
   {
    "duration": 31,
    "start_time": "2021-12-20T14:13:20.498Z"
   },
   {
    "duration": 50,
    "start_time": "2021-12-20T14:13:20.533Z"
   },
   {
    "duration": 357,
    "start_time": "2021-12-20T14:13:20.587Z"
   },
   {
    "duration": 33,
    "start_time": "2021-12-20T14:13:20.947Z"
   },
   {
    "duration": 315,
    "start_time": "2021-12-20T14:13:20.983Z"
   },
   {
    "duration": 30,
    "start_time": "2021-12-20T14:28:38.317Z"
   },
   {
    "duration": 1533,
    "start_time": "2021-12-20T14:29:22.979Z"
   },
   {
    "duration": 65,
    "start_time": "2021-12-20T14:29:24.516Z"
   },
   {
    "duration": 8,
    "start_time": "2021-12-20T14:29:24.585Z"
   },
   {
    "duration": 84,
    "start_time": "2021-12-20T14:29:24.597Z"
   },
   {
    "duration": 9,
    "start_time": "2021-12-20T14:29:24.683Z"
   },
   {
    "duration": 18,
    "start_time": "2021-12-20T14:29:24.694Z"
   },
   {
    "duration": 3,
    "start_time": "2021-12-20T14:29:24.715Z"
   },
   {
    "duration": 48,
    "start_time": "2021-12-20T14:29:24.721Z"
   },
   {
    "duration": 8,
    "start_time": "2021-12-20T14:29:24.775Z"
   },
   {
    "duration": 12,
    "start_time": "2021-12-20T14:29:24.786Z"
   },
   {
    "duration": 21,
    "start_time": "2021-12-20T14:29:24.801Z"
   },
   {
    "duration": 39,
    "start_time": "2021-12-20T14:29:24.825Z"
   },
   {
    "duration": 15,
    "start_time": "2021-12-20T14:29:24.866Z"
   },
   {
    "duration": 11,
    "start_time": "2021-12-20T14:29:24.884Z"
   },
   {
    "duration": 103,
    "start_time": "2021-12-20T14:29:24.898Z"
   },
   {
    "duration": 4,
    "start_time": "2021-12-20T14:29:25.004Z"
   },
   {
    "duration": 19,
    "start_time": "2021-12-20T14:29:25.011Z"
   },
   {
    "duration": 31,
    "start_time": "2021-12-20T14:29:25.032Z"
   },
   {
    "duration": 5,
    "start_time": "2021-12-20T14:29:25.066Z"
   },
   {
    "duration": 10,
    "start_time": "2021-12-20T14:29:25.074Z"
   },
   {
    "duration": 82,
    "start_time": "2021-12-20T14:29:25.086Z"
   },
   {
    "duration": 408,
    "start_time": "2021-12-20T14:29:25.171Z"
   },
   {
    "duration": 635,
    "start_time": "2021-12-20T14:29:25.582Z"
   },
   {
    "duration": 9,
    "start_time": "2021-12-20T14:29:26.219Z"
   },
   {
    "duration": 56,
    "start_time": "2021-12-20T14:29:26.230Z"
   },
   {
    "duration": 398,
    "start_time": "2021-12-20T14:29:26.288Z"
   },
   {
    "duration": 24,
    "start_time": "2021-12-20T14:29:26.690Z"
   },
   {
    "duration": 326,
    "start_time": "2021-12-20T14:29:26.717Z"
   },
   {
    "duration": 18,
    "start_time": "2021-12-20T14:29:27.045Z"
   },
   {
    "duration": 6,
    "start_time": "2021-12-20T14:29:27.066Z"
   },
   {
    "duration": 11,
    "start_time": "2021-12-20T14:29:27.074Z"
   },
   {
    "duration": 3,
    "start_time": "2021-12-20T14:29:27.088Z"
   },
   {
    "duration": 5,
    "start_time": "2021-12-20T14:29:27.093Z"
   },
   {
    "duration": 5,
    "start_time": "2021-12-20T14:29:27.101Z"
   },
   {
    "duration": 54,
    "start_time": "2021-12-20T14:29:27.109Z"
   },
   {
    "duration": 249,
    "start_time": "2021-12-20T14:29:27.166Z"
   },
   {
    "duration": 23,
    "start_time": "2021-12-20T14:29:27.418Z"
   },
   {
    "duration": 322,
    "start_time": "2021-12-20T14:29:27.443Z"
   },
   {
    "duration": 163,
    "start_time": "2021-12-20T14:31:06.176Z"
   },
   {
    "duration": 1732,
    "start_time": "2021-12-20T14:34:22.152Z"
   },
   {
    "duration": 57,
    "start_time": "2021-12-20T14:34:23.887Z"
   },
   {
    "duration": 17,
    "start_time": "2021-12-20T14:34:23.947Z"
   },
   {
    "duration": 90,
    "start_time": "2021-12-20T14:34:23.966Z"
   },
   {
    "duration": 9,
    "start_time": "2021-12-20T14:34:24.059Z"
   },
   {
    "duration": 59,
    "start_time": "2021-12-20T14:34:24.071Z"
   },
   {
    "duration": 26,
    "start_time": "2021-12-20T14:34:24.133Z"
   },
   {
    "duration": 37,
    "start_time": "2021-12-20T14:34:24.168Z"
   },
   {
    "duration": 36,
    "start_time": "2021-12-20T14:34:24.210Z"
   },
   {
    "duration": 42,
    "start_time": "2021-12-20T14:34:24.249Z"
   },
   {
    "duration": 25,
    "start_time": "2021-12-20T14:34:24.294Z"
   },
   {
    "duration": 8,
    "start_time": "2021-12-20T14:34:24.321Z"
   },
   {
    "duration": 16,
    "start_time": "2021-12-20T14:34:24.332Z"
   },
   {
    "duration": 21,
    "start_time": "2021-12-20T14:34:24.351Z"
   },
   {
    "duration": 91,
    "start_time": "2021-12-20T14:34:24.375Z"
   },
   {
    "duration": 3,
    "start_time": "2021-12-20T14:34:24.469Z"
   },
   {
    "duration": 20,
    "start_time": "2021-12-20T14:34:24.475Z"
   },
   {
    "duration": 4,
    "start_time": "2021-12-20T14:34:24.498Z"
   },
   {
    "duration": 5,
    "start_time": "2021-12-20T14:34:24.505Z"
   },
   {
    "duration": 59,
    "start_time": "2021-12-20T14:34:24.513Z"
   },
   {
    "duration": 194,
    "start_time": "2021-12-20T14:34:24.576Z"
   },
   {
    "duration": 326,
    "start_time": "2021-12-20T14:34:24.777Z"
   },
   {
    "duration": 696,
    "start_time": "2021-12-20T14:34:25.108Z"
   },
   {
    "duration": 10,
    "start_time": "2021-12-20T14:34:25.808Z"
   },
   {
    "duration": 66,
    "start_time": "2021-12-20T14:34:25.821Z"
   },
   {
    "duration": 587,
    "start_time": "2021-12-20T14:34:25.890Z"
   },
   {
    "duration": 30,
    "start_time": "2021-12-20T14:34:26.480Z"
   },
   {
    "duration": 453,
    "start_time": "2021-12-20T14:34:26.513Z"
   },
   {
    "duration": 10,
    "start_time": "2021-12-20T14:34:26.970Z"
   },
   {
    "duration": 7,
    "start_time": "2021-12-20T14:34:26.982Z"
   },
   {
    "duration": 12,
    "start_time": "2021-12-20T14:34:26.992Z"
   },
   {
    "duration": 3,
    "start_time": "2021-12-20T14:34:27.007Z"
   },
   {
    "duration": 50,
    "start_time": "2021-12-20T14:34:27.013Z"
   },
   {
    "duration": 4,
    "start_time": "2021-12-20T14:34:27.067Z"
   },
   {
    "duration": 5,
    "start_time": "2021-12-20T14:34:27.074Z"
   },
   {
    "duration": 267,
    "start_time": "2021-12-20T14:34:27.082Z"
   },
   {
    "duration": 30,
    "start_time": "2021-12-20T14:34:27.351Z"
   },
   {
    "duration": 317,
    "start_time": "2021-12-20T14:34:27.383Z"
   },
   {
    "duration": 644,
    "start_time": "2021-12-20T14:34:27.703Z"
   },
   {
    "duration": 1482,
    "start_time": "2021-12-20T14:34:46.581Z"
   },
   {
    "duration": 58,
    "start_time": "2021-12-20T14:34:48.066Z"
   },
   {
    "duration": 8,
    "start_time": "2021-12-20T14:34:48.128Z"
   },
   {
    "duration": 81,
    "start_time": "2021-12-20T14:34:48.140Z"
   },
   {
    "duration": 14,
    "start_time": "2021-12-20T14:34:48.224Z"
   },
   {
    "duration": 18,
    "start_time": "2021-12-20T14:34:48.263Z"
   },
   {
    "duration": 4,
    "start_time": "2021-12-20T14:34:48.283Z"
   },
   {
    "duration": 7,
    "start_time": "2021-12-20T14:34:48.291Z"
   },
   {
    "duration": 6,
    "start_time": "2021-12-20T14:34:48.301Z"
   },
   {
    "duration": 5,
    "start_time": "2021-12-20T14:34:48.309Z"
   },
   {
    "duration": 61,
    "start_time": "2021-12-20T14:34:48.317Z"
   },
   {
    "duration": 6,
    "start_time": "2021-12-20T14:34:48.380Z"
   },
   {
    "duration": 12,
    "start_time": "2021-12-20T14:34:48.388Z"
   },
   {
    "duration": 9,
    "start_time": "2021-12-20T14:34:48.402Z"
   },
   {
    "duration": 102,
    "start_time": "2021-12-20T14:34:48.413Z"
   },
   {
    "duration": 3,
    "start_time": "2021-12-20T14:34:48.517Z"
   },
   {
    "duration": 24,
    "start_time": "2021-12-20T14:34:48.522Z"
   },
   {
    "duration": 19,
    "start_time": "2021-12-20T14:34:48.548Z"
   },
   {
    "duration": 20,
    "start_time": "2021-12-20T14:34:48.569Z"
   },
   {
    "duration": 10,
    "start_time": "2021-12-20T14:34:48.592Z"
   },
   {
    "duration": 169,
    "start_time": "2021-12-20T14:34:48.604Z"
   },
   {
    "duration": 330,
    "start_time": "2021-12-20T14:34:48.776Z"
   },
   {
    "duration": 634,
    "start_time": "2021-12-20T14:34:49.113Z"
   },
   {
    "duration": 16,
    "start_time": "2021-12-20T14:34:49.751Z"
   },
   {
    "duration": 42,
    "start_time": "2021-12-20T14:34:49.769Z"
   },
   {
    "duration": 400,
    "start_time": "2021-12-20T14:34:49.814Z"
   },
   {
    "duration": 24,
    "start_time": "2021-12-20T14:34:50.216Z"
   },
   {
    "duration": 320,
    "start_time": "2021-12-20T14:34:50.242Z"
   },
   {
    "duration": 12,
    "start_time": "2021-12-20T14:34:50.565Z"
   },
   {
    "duration": 27,
    "start_time": "2021-12-20T14:34:50.580Z"
   },
   {
    "duration": 18,
    "start_time": "2021-12-20T14:34:50.610Z"
   },
   {
    "duration": 17,
    "start_time": "2021-12-20T14:34:50.631Z"
   },
   {
    "duration": 24,
    "start_time": "2021-12-20T14:34:50.651Z"
   },
   {
    "duration": 26,
    "start_time": "2021-12-20T14:34:50.678Z"
   },
   {
    "duration": 20,
    "start_time": "2021-12-20T14:34:50.707Z"
   },
   {
    "duration": 357,
    "start_time": "2021-12-20T14:34:50.730Z"
   },
   {
    "duration": 29,
    "start_time": "2021-12-20T14:34:51.090Z"
   },
   {
    "duration": 443,
    "start_time": "2021-12-20T14:34:51.122Z"
   },
   {
    "duration": 34,
    "start_time": "2021-12-20T14:34:51.568Z"
   },
   {
    "duration": 456,
    "start_time": "2021-12-20T14:36:09.350Z"
   },
   {
    "duration": 1485,
    "start_time": "2021-12-20T14:36:17.121Z"
   },
   {
    "duration": 59,
    "start_time": "2021-12-20T14:36:18.609Z"
   },
   {
    "duration": 7,
    "start_time": "2021-12-20T14:36:18.672Z"
   },
   {
    "duration": 87,
    "start_time": "2021-12-20T14:36:18.683Z"
   },
   {
    "duration": 10,
    "start_time": "2021-12-20T14:36:18.772Z"
   },
   {
    "duration": 17,
    "start_time": "2021-12-20T14:36:18.784Z"
   },
   {
    "duration": 3,
    "start_time": "2021-12-20T14:36:18.804Z"
   },
   {
    "duration": 8,
    "start_time": "2021-12-20T14:36:18.811Z"
   },
   {
    "duration": 6,
    "start_time": "2021-12-20T14:36:18.862Z"
   },
   {
    "duration": 7,
    "start_time": "2021-12-20T14:36:18.871Z"
   },
   {
    "duration": 18,
    "start_time": "2021-12-20T14:36:18.881Z"
   },
   {
    "duration": 6,
    "start_time": "2021-12-20T14:36:18.901Z"
   },
   {
    "duration": 54,
    "start_time": "2021-12-20T14:36:18.909Z"
   },
   {
    "duration": 12,
    "start_time": "2021-12-20T14:36:18.966Z"
   },
   {
    "duration": 112,
    "start_time": "2021-12-20T14:36:18.981Z"
   },
   {
    "duration": 3,
    "start_time": "2021-12-20T14:36:19.096Z"
   },
   {
    "duration": 16,
    "start_time": "2021-12-20T14:36:19.101Z"
   },
   {
    "duration": 3,
    "start_time": "2021-12-20T14:36:19.120Z"
   },
   {
    "duration": 7,
    "start_time": "2021-12-20T14:36:19.125Z"
   },
   {
    "duration": 6,
    "start_time": "2021-12-20T14:36:19.172Z"
   },
   {
    "duration": 183,
    "start_time": "2021-12-20T14:36:19.181Z"
   },
   {
    "duration": 248,
    "start_time": "2021-12-20T14:36:19.366Z"
   },
   {
    "duration": 657,
    "start_time": "2021-12-20T14:36:19.618Z"
   },
   {
    "duration": 8,
    "start_time": "2021-12-20T14:36:20.278Z"
   },
   {
    "duration": 56,
    "start_time": "2021-12-20T14:36:20.288Z"
   },
   {
    "duration": 397,
    "start_time": "2021-12-20T14:36:20.347Z"
   },
   {
    "duration": 41,
    "start_time": "2021-12-20T14:36:20.746Z"
   },
   {
    "duration": 449,
    "start_time": "2021-12-20T14:36:20.790Z"
   },
   {
    "duration": 21,
    "start_time": "2021-12-20T14:36:21.242Z"
   },
   {
    "duration": 18,
    "start_time": "2021-12-20T14:36:21.266Z"
   },
   {
    "duration": 30,
    "start_time": "2021-12-20T14:36:21.287Z"
   },
   {
    "duration": 21,
    "start_time": "2021-12-20T14:36:21.320Z"
   },
   {
    "duration": 56,
    "start_time": "2021-12-20T14:36:21.344Z"
   },
   {
    "duration": 43,
    "start_time": "2021-12-20T14:36:21.403Z"
   },
   {
    "duration": 25,
    "start_time": "2021-12-20T14:36:21.449Z"
   },
   {
    "duration": 300,
    "start_time": "2021-12-20T14:36:21.477Z"
   },
   {
    "duration": 23,
    "start_time": "2021-12-20T14:36:21.780Z"
   },
   {
    "duration": 333,
    "start_time": "2021-12-20T14:36:21.806Z"
   },
   {
    "duration": 485,
    "start_time": "2021-12-20T14:36:22.141Z"
   },
   {
    "duration": 25,
    "start_time": "2021-12-20T14:36:34.082Z"
   },
   {
    "duration": 1431,
    "start_time": "2021-12-20T14:41:56.413Z"
   },
   {
    "duration": 58,
    "start_time": "2021-12-20T14:41:57.848Z"
   },
   {
    "duration": 7,
    "start_time": "2021-12-20T14:41:57.911Z"
   },
   {
    "duration": 87,
    "start_time": "2021-12-20T14:41:57.921Z"
   },
   {
    "duration": 9,
    "start_time": "2021-12-20T14:41:58.011Z"
   },
   {
    "duration": 49,
    "start_time": "2021-12-20T14:41:58.022Z"
   },
   {
    "duration": 11,
    "start_time": "2021-12-20T14:41:58.073Z"
   },
   {
    "duration": 48,
    "start_time": "2021-12-20T14:41:58.088Z"
   },
   {
    "duration": 17,
    "start_time": "2021-12-20T14:41:58.140Z"
   },
   {
    "duration": 34,
    "start_time": "2021-12-20T14:41:58.159Z"
   },
   {
    "duration": 51,
    "start_time": "2021-12-20T14:41:58.195Z"
   },
   {
    "duration": 18,
    "start_time": "2021-12-20T14:41:58.248Z"
   },
   {
    "duration": 45,
    "start_time": "2021-12-20T14:41:58.268Z"
   },
   {
    "duration": 45,
    "start_time": "2021-12-20T14:41:58.316Z"
   },
   {
    "duration": 98,
    "start_time": "2021-12-20T14:41:58.364Z"
   },
   {
    "duration": 4,
    "start_time": "2021-12-20T14:41:58.465Z"
   },
   {
    "duration": 61,
    "start_time": "2021-12-20T14:41:58.472Z"
   },
   {
    "duration": 24,
    "start_time": "2021-12-20T14:41:58.536Z"
   },
   {
    "duration": 52,
    "start_time": "2021-12-20T14:41:58.563Z"
   },
   {
    "duration": 34,
    "start_time": "2021-12-20T14:41:58.618Z"
   },
   {
    "duration": 116,
    "start_time": "2021-12-20T14:41:58.655Z"
   },
   {
    "duration": 402,
    "start_time": "2021-12-20T14:41:58.775Z"
   },
   {
    "duration": 804,
    "start_time": "2021-12-20T14:41:59.183Z"
   },
   {
    "duration": 7,
    "start_time": "2021-12-20T14:41:59.990Z"
   },
   {
    "duration": 73,
    "start_time": "2021-12-20T14:41:59.999Z"
   },
   {
    "duration": 433,
    "start_time": "2021-12-20T14:42:00.074Z"
   },
   {
    "duration": 23,
    "start_time": "2021-12-20T14:42:00.510Z"
   },
   {
    "duration": 330,
    "start_time": "2021-12-20T14:42:00.536Z"
   },
   {
    "duration": 13,
    "start_time": "2021-12-20T14:42:00.869Z"
   },
   {
    "duration": 38,
    "start_time": "2021-12-20T14:42:00.885Z"
   },
   {
    "duration": 33,
    "start_time": "2021-12-20T14:42:00.926Z"
   },
   {
    "duration": 39,
    "start_time": "2021-12-20T14:42:00.962Z"
   },
   {
    "duration": 43,
    "start_time": "2021-12-20T14:42:01.004Z"
   },
   {
    "duration": 38,
    "start_time": "2021-12-20T14:42:01.050Z"
   },
   {
    "duration": 46,
    "start_time": "2021-12-20T14:42:01.091Z"
   },
   {
    "duration": 264,
    "start_time": "2021-12-20T14:42:01.140Z"
   },
   {
    "duration": 24,
    "start_time": "2021-12-20T14:42:01.407Z"
   },
   {
    "duration": 329,
    "start_time": "2021-12-20T14:42:01.434Z"
   },
   {
    "duration": 573,
    "start_time": "2021-12-20T14:42:01.765Z"
   },
   {
    "duration": -3207,
    "start_time": "2021-12-20T14:42:05.548Z"
   },
   {
    "duration": 1675,
    "start_time": "2021-12-20T14:43:01.046Z"
   },
   {
    "duration": 76,
    "start_time": "2021-12-20T14:43:02.725Z"
   },
   {
    "duration": 8,
    "start_time": "2021-12-20T14:43:02.804Z"
   },
   {
    "duration": 81,
    "start_time": "2021-12-20T14:43:02.814Z"
   },
   {
    "duration": 9,
    "start_time": "2021-12-20T14:43:02.898Z"
   },
   {
    "duration": 17,
    "start_time": "2021-12-20T14:43:02.909Z"
   },
   {
    "duration": 34,
    "start_time": "2021-12-20T14:43:02.929Z"
   },
   {
    "duration": 8,
    "start_time": "2021-12-20T14:43:02.967Z"
   },
   {
    "duration": 8,
    "start_time": "2021-12-20T14:43:02.979Z"
   },
   {
    "duration": 8,
    "start_time": "2021-12-20T14:43:02.989Z"
   },
   {
    "duration": 63,
    "start_time": "2021-12-20T14:43:03.000Z"
   },
   {
    "duration": 5,
    "start_time": "2021-12-20T14:43:03.065Z"
   },
   {
    "duration": 21,
    "start_time": "2021-12-20T14:43:03.073Z"
   },
   {
    "duration": 21,
    "start_time": "2021-12-20T14:43:03.096Z"
   },
   {
    "duration": 82,
    "start_time": "2021-12-20T14:43:03.119Z"
   },
   {
    "duration": 2,
    "start_time": "2021-12-20T14:43:03.204Z"
   },
   {
    "duration": 24,
    "start_time": "2021-12-20T14:43:03.209Z"
   },
   {
    "duration": 3,
    "start_time": "2021-12-20T14:43:03.236Z"
   },
   {
    "duration": 24,
    "start_time": "2021-12-20T14:43:03.241Z"
   },
   {
    "duration": 18,
    "start_time": "2021-12-20T14:43:03.268Z"
   },
   {
    "duration": 79,
    "start_time": "2021-12-20T14:43:03.289Z"
   },
   {
    "duration": 340,
    "start_time": "2021-12-20T14:43:03.370Z"
   },
   {
    "duration": 646,
    "start_time": "2021-12-20T14:43:03.719Z"
   },
   {
    "duration": 8,
    "start_time": "2021-12-20T14:43:04.368Z"
   },
   {
    "duration": 49,
    "start_time": "2021-12-20T14:43:04.379Z"
   },
   {
    "duration": 396,
    "start_time": "2021-12-20T14:43:04.430Z"
   },
   {
    "duration": 35,
    "start_time": "2021-12-20T14:43:04.829Z"
   },
   {
    "duration": 310,
    "start_time": "2021-12-20T14:43:04.866Z"
   },
   {
    "duration": 16,
    "start_time": "2021-12-20T14:43:05.179Z"
   },
   {
    "duration": 21,
    "start_time": "2021-12-20T14:43:05.198Z"
   },
   {
    "duration": 35,
    "start_time": "2021-12-20T14:43:05.221Z"
   },
   {
    "duration": 37,
    "start_time": "2021-12-20T14:43:05.259Z"
   },
   {
    "duration": 45,
    "start_time": "2021-12-20T14:43:05.298Z"
   },
   {
    "duration": 31,
    "start_time": "2021-12-20T14:43:05.345Z"
   },
   {
    "duration": 21,
    "start_time": "2021-12-20T14:43:05.379Z"
   },
   {
    "duration": 259,
    "start_time": "2021-12-20T14:43:05.402Z"
   },
   {
    "duration": 22,
    "start_time": "2021-12-20T14:43:05.664Z"
   },
   {
    "duration": 317,
    "start_time": "2021-12-20T14:43:05.688Z"
   },
   {
    "duration": 485,
    "start_time": "2021-12-20T14:43:06.008Z"
   },
   {
    "duration": -3209,
    "start_time": "2021-12-20T14:43:09.704Z"
   },
   {
    "duration": 260,
    "start_time": "2021-12-20T14:44:22.431Z"
   },
   {
    "duration": 1518,
    "start_time": "2021-12-20T14:46:05.987Z"
   },
   {
    "duration": 56,
    "start_time": "2021-12-20T14:46:07.509Z"
   },
   {
    "duration": 8,
    "start_time": "2021-12-20T14:46:07.569Z"
   },
   {
    "duration": 114,
    "start_time": "2021-12-20T14:46:07.581Z"
   },
   {
    "duration": 12,
    "start_time": "2021-12-20T14:46:07.698Z"
   },
   {
    "duration": 51,
    "start_time": "2021-12-20T14:46:07.713Z"
   },
   {
    "duration": 4,
    "start_time": "2021-12-20T14:46:07.767Z"
   },
   {
    "duration": 12,
    "start_time": "2021-12-20T14:46:07.774Z"
   },
   {
    "duration": 6,
    "start_time": "2021-12-20T14:46:07.791Z"
   },
   {
    "duration": 6,
    "start_time": "2021-12-20T14:46:07.799Z"
   },
   {
    "duration": 63,
    "start_time": "2021-12-20T14:46:07.808Z"
   },
   {
    "duration": 6,
    "start_time": "2021-12-20T14:46:07.874Z"
   },
   {
    "duration": 11,
    "start_time": "2021-12-20T14:46:07.882Z"
   },
   {
    "duration": 10,
    "start_time": "2021-12-20T14:46:07.895Z"
   },
   {
    "duration": 112,
    "start_time": "2021-12-20T14:46:07.907Z"
   },
   {
    "duration": 4,
    "start_time": "2021-12-20T14:46:08.022Z"
   },
   {
    "duration": 52,
    "start_time": "2021-12-20T14:46:08.031Z"
   },
   {
    "duration": 3,
    "start_time": "2021-12-20T14:46:08.086Z"
   },
   {
    "duration": 3,
    "start_time": "2021-12-20T14:46:08.092Z"
   },
   {
    "duration": 5,
    "start_time": "2021-12-20T14:46:08.098Z"
   },
   {
    "duration": 76,
    "start_time": "2021-12-20T14:46:08.105Z"
   },
   {
    "duration": 518,
    "start_time": "2021-12-20T14:46:08.184Z"
   },
   {
    "duration": 697,
    "start_time": "2021-12-20T14:46:08.705Z"
   },
   {
    "duration": 8,
    "start_time": "2021-12-20T14:46:09.405Z"
   },
   {
    "duration": 55,
    "start_time": "2021-12-20T14:46:09.415Z"
   },
   {
    "duration": 407,
    "start_time": "2021-12-20T14:46:09.473Z"
   },
   {
    "duration": 30,
    "start_time": "2021-12-20T14:46:09.888Z"
   },
   {
    "duration": 324,
    "start_time": "2021-12-20T14:46:09.922Z"
   },
   {
    "duration": 25,
    "start_time": "2021-12-20T14:46:10.249Z"
   },
   {
    "duration": 23,
    "start_time": "2021-12-20T14:46:10.277Z"
   },
   {
    "duration": 29,
    "start_time": "2021-12-20T14:46:10.304Z"
   },
   {
    "duration": 9,
    "start_time": "2021-12-20T14:46:10.336Z"
   },
   {
    "duration": 28,
    "start_time": "2021-12-20T14:46:10.347Z"
   },
   {
    "duration": 6,
    "start_time": "2021-12-20T14:46:10.377Z"
   },
   {
    "duration": 4,
    "start_time": "2021-12-20T14:46:10.386Z"
   },
   {
    "duration": 251,
    "start_time": "2021-12-20T14:46:10.394Z"
   },
   {
    "duration": 36,
    "start_time": "2021-12-20T14:46:10.649Z"
   },
   {
    "duration": 307,
    "start_time": "2021-12-20T14:46:10.688Z"
   },
   {
    "duration": 427,
    "start_time": "2021-12-20T14:46:10.998Z"
   },
   {
    "duration": 39,
    "start_time": "2021-12-20T14:46:11.428Z"
   },
   {
    "duration": 1658,
    "start_time": "2021-12-20T15:06:22.999Z"
   },
   {
    "duration": 57,
    "start_time": "2021-12-20T15:06:24.660Z"
   },
   {
    "duration": 9,
    "start_time": "2021-12-20T15:06:24.720Z"
   },
   {
    "duration": 123,
    "start_time": "2021-12-20T15:06:24.733Z"
   },
   {
    "duration": 30,
    "start_time": "2021-12-20T15:06:24.859Z"
   },
   {
    "duration": 27,
    "start_time": "2021-12-20T15:06:24.891Z"
   },
   {
    "duration": 7,
    "start_time": "2021-12-20T15:06:24.921Z"
   },
   {
    "duration": 43,
    "start_time": "2021-12-20T15:06:24.933Z"
   },
   {
    "duration": 23,
    "start_time": "2021-12-20T15:06:24.980Z"
   },
   {
    "duration": 42,
    "start_time": "2021-12-20T15:06:25.006Z"
   },
   {
    "duration": 78,
    "start_time": "2021-12-20T15:06:25.051Z"
   },
   {
    "duration": 53,
    "start_time": "2021-12-20T15:06:25.131Z"
   },
   {
    "duration": 48,
    "start_time": "2021-12-20T15:06:25.187Z"
   },
   {
    "duration": 53,
    "start_time": "2021-12-20T15:06:25.238Z"
   },
   {
    "duration": 83,
    "start_time": "2021-12-20T15:06:25.293Z"
   },
   {
    "duration": 4,
    "start_time": "2021-12-20T15:06:25.379Z"
   },
   {
    "duration": 36,
    "start_time": "2021-12-20T15:06:25.385Z"
   },
   {
    "duration": 8,
    "start_time": "2021-12-20T15:06:25.424Z"
   },
   {
    "duration": 35,
    "start_time": "2021-12-20T15:06:25.434Z"
   },
   {
    "duration": 38,
    "start_time": "2021-12-20T15:06:25.471Z"
   },
   {
    "duration": 163,
    "start_time": "2021-12-20T15:06:25.512Z"
   },
   {
    "duration": 518,
    "start_time": "2021-12-20T15:06:25.680Z"
   },
   {
    "duration": 874,
    "start_time": "2021-12-20T15:06:26.207Z"
   },
   {
    "duration": 12,
    "start_time": "2021-12-20T15:06:27.088Z"
   },
   {
    "duration": 71,
    "start_time": "2021-12-20T15:06:27.103Z"
   },
   {
    "duration": 586,
    "start_time": "2021-12-20T15:06:27.177Z"
   },
   {
    "duration": 31,
    "start_time": "2021-12-20T15:06:27.765Z"
   },
   {
    "duration": 330,
    "start_time": "2021-12-20T15:06:27.800Z"
   },
   {
    "duration": 374,
    "start_time": "2021-12-20T15:06:28.134Z"
   },
   {
    "duration": 13,
    "start_time": "2021-12-20T15:06:28.511Z"
   },
   {
    "duration": 8,
    "start_time": "2021-12-20T15:06:28.527Z"
   },
   {
    "duration": 17,
    "start_time": "2021-12-20T15:06:28.564Z"
   },
   {
    "duration": 3,
    "start_time": "2021-12-20T15:06:28.584Z"
   },
   {
    "duration": 6,
    "start_time": "2021-12-20T15:06:28.590Z"
   },
   {
    "duration": 5,
    "start_time": "2021-12-20T15:06:28.599Z"
   },
   {
    "duration": 291,
    "start_time": "2021-12-20T15:06:28.608Z"
   },
   {
    "duration": 24,
    "start_time": "2021-12-20T15:06:28.902Z"
   },
   {
    "duration": 352,
    "start_time": "2021-12-20T15:06:28.929Z"
   },
   {
    "duration": 382,
    "start_time": "2021-12-20T15:06:29.285Z"
   },
   {
    "duration": 33,
    "start_time": "2021-12-20T15:06:29.670Z"
   },
   {
    "duration": 1552,
    "start_time": "2021-12-20T15:19:44.552Z"
   },
   {
    "duration": 59,
    "start_time": "2021-12-20T15:19:46.106Z"
   },
   {
    "duration": 8,
    "start_time": "2021-12-20T15:19:46.168Z"
   },
   {
    "duration": 63,
    "start_time": "2021-12-20T15:19:46.179Z"
   },
   {
    "duration": 10,
    "start_time": "2021-12-20T15:19:46.264Z"
   },
   {
    "duration": 19,
    "start_time": "2021-12-20T15:19:46.276Z"
   },
   {
    "duration": 3,
    "start_time": "2021-12-20T15:19:46.298Z"
   },
   {
    "duration": 10,
    "start_time": "2021-12-20T15:19:46.308Z"
   },
   {
    "duration": 46,
    "start_time": "2021-12-20T15:19:46.321Z"
   },
   {
    "duration": 8,
    "start_time": "2021-12-20T15:19:46.370Z"
   },
   {
    "duration": 26,
    "start_time": "2021-12-20T15:19:46.380Z"
   },
   {
    "duration": 6,
    "start_time": "2021-12-20T15:19:46.409Z"
   },
   {
    "duration": 53,
    "start_time": "2021-12-20T15:19:46.418Z"
   },
   {
    "duration": 11,
    "start_time": "2021-12-20T15:19:46.474Z"
   },
   {
    "duration": 91,
    "start_time": "2021-12-20T15:19:46.488Z"
   },
   {
    "duration": 3,
    "start_time": "2021-12-20T15:19:46.581Z"
   },
   {
    "duration": 31,
    "start_time": "2021-12-20T15:19:46.586Z"
   },
   {
    "duration": 6,
    "start_time": "2021-12-20T15:19:46.619Z"
   },
   {
    "duration": 22,
    "start_time": "2021-12-20T15:19:46.628Z"
   },
   {
    "duration": 21,
    "start_time": "2021-12-20T15:19:46.652Z"
   },
   {
    "duration": 188,
    "start_time": "2021-12-20T15:19:46.675Z"
   },
   {
    "duration": 240,
    "start_time": "2021-12-20T15:19:46.866Z"
   },
   {
    "duration": 643,
    "start_time": "2021-12-20T15:19:47.111Z"
   },
   {
    "duration": 13,
    "start_time": "2021-12-20T15:19:47.757Z"
   },
   {
    "duration": 32,
    "start_time": "2021-12-20T15:19:47.773Z"
   },
   {
    "duration": 445,
    "start_time": "2021-12-20T15:19:47.808Z"
   },
   {
    "duration": 29,
    "start_time": "2021-12-20T15:19:48.256Z"
   },
   {
    "duration": 439,
    "start_time": "2021-12-20T15:19:48.288Z"
   },
   {
    "duration": 274,
    "start_time": "2021-12-20T15:19:48.730Z"
   },
   {
    "duration": 27,
    "start_time": "2021-12-20T15:19:49.007Z"
   },
   {
    "duration": 30,
    "start_time": "2021-12-20T15:19:49.036Z"
   },
   {
    "duration": 7,
    "start_time": "2021-12-20T15:19:49.069Z"
   },
   {
    "duration": 12,
    "start_time": "2021-12-20T15:19:49.079Z"
   },
   {
    "duration": 3,
    "start_time": "2021-12-20T15:19:49.094Z"
   },
   {
    "duration": 4,
    "start_time": "2021-12-20T15:19:49.099Z"
   },
   {
    "duration": 3,
    "start_time": "2021-12-20T15:19:49.106Z"
   },
   {
    "duration": 370,
    "start_time": "2021-12-20T15:19:49.112Z"
   },
   {
    "duration": 24,
    "start_time": "2021-12-20T15:19:49.485Z"
   },
   {
    "duration": 329,
    "start_time": "2021-12-20T15:19:49.511Z"
   },
   {
    "duration": 312,
    "start_time": "2021-12-20T15:19:49.844Z"
   },
   {
    "duration": 26,
    "start_time": "2021-12-20T15:19:50.162Z"
   },
   {
    "duration": 1658,
    "start_time": "2021-12-20T15:33:44.873Z"
   },
   {
    "duration": 57,
    "start_time": "2021-12-20T15:33:46.534Z"
   },
   {
    "duration": 7,
    "start_time": "2021-12-20T15:33:46.598Z"
   },
   {
    "duration": 86,
    "start_time": "2021-12-20T15:33:46.607Z"
   },
   {
    "duration": 10,
    "start_time": "2021-12-20T15:33:46.695Z"
   },
   {
    "duration": 18,
    "start_time": "2021-12-20T15:33:46.707Z"
   },
   {
    "duration": 36,
    "start_time": "2021-12-20T15:33:46.728Z"
   },
   {
    "duration": 8,
    "start_time": "2021-12-20T15:33:46.767Z"
   },
   {
    "duration": 5,
    "start_time": "2021-12-20T15:33:46.778Z"
   },
   {
    "duration": 6,
    "start_time": "2021-12-20T15:33:46.786Z"
   },
   {
    "duration": 19,
    "start_time": "2021-12-20T15:33:46.794Z"
   },
   {
    "duration": 6,
    "start_time": "2021-12-20T15:33:46.864Z"
   },
   {
    "duration": 13,
    "start_time": "2021-12-20T15:33:46.872Z"
   },
   {
    "duration": 13,
    "start_time": "2021-12-20T15:33:46.887Z"
   },
   {
    "duration": 111,
    "start_time": "2021-12-20T15:33:46.902Z"
   },
   {
    "duration": 3,
    "start_time": "2021-12-20T15:33:47.017Z"
   },
   {
    "duration": 17,
    "start_time": "2021-12-20T15:33:47.023Z"
   },
   {
    "duration": 21,
    "start_time": "2021-12-20T15:33:47.042Z"
   },
   {
    "duration": 6,
    "start_time": "2021-12-20T15:33:47.066Z"
   },
   {
    "duration": 6,
    "start_time": "2021-12-20T15:33:47.074Z"
   },
   {
    "duration": 87,
    "start_time": "2021-12-20T15:33:47.083Z"
   },
   {
    "duration": 472,
    "start_time": "2021-12-20T15:33:47.177Z"
   },
   {
    "duration": 896,
    "start_time": "2021-12-20T15:33:47.653Z"
   },
   {
    "duration": 15,
    "start_time": "2021-12-20T15:33:48.552Z"
   },
   {
    "duration": 31,
    "start_time": "2021-12-20T15:33:48.570Z"
   },
   {
    "duration": 418,
    "start_time": "2021-12-20T15:33:48.604Z"
   },
   {
    "duration": 23,
    "start_time": "2021-12-20T15:33:49.024Z"
   },
   {
    "duration": 322,
    "start_time": "2021-12-20T15:33:49.063Z"
   },
   {
    "duration": 286,
    "start_time": "2021-12-20T15:33:49.387Z"
   },
   {
    "duration": 27,
    "start_time": "2021-12-20T15:33:49.675Z"
   },
   {
    "duration": 11,
    "start_time": "2021-12-20T15:33:49.705Z"
   },
   {
    "duration": 8,
    "start_time": "2021-12-20T15:33:49.719Z"
   },
   {
    "duration": 12,
    "start_time": "2021-12-20T15:33:49.764Z"
   },
   {
    "duration": 3,
    "start_time": "2021-12-20T15:33:49.780Z"
   },
   {
    "duration": 4,
    "start_time": "2021-12-20T15:33:49.786Z"
   },
   {
    "duration": 4,
    "start_time": "2021-12-20T15:33:49.793Z"
   },
   {
    "duration": 311,
    "start_time": "2021-12-20T15:33:49.800Z"
   },
   {
    "duration": 25,
    "start_time": "2021-12-20T15:33:50.114Z"
   },
   {
    "duration": 329,
    "start_time": "2021-12-20T15:33:50.142Z"
   },
   {
    "duration": 289,
    "start_time": "2021-12-20T15:33:50.474Z"
   },
   {
    "duration": 25,
    "start_time": "2021-12-20T15:33:50.766Z"
   },
   {
    "duration": 720,
    "start_time": "2021-12-20T15:33:50.794Z"
   },
   {
    "duration": 1518,
    "start_time": "2021-12-20T15:48:06.107Z"
   },
   {
    "duration": 75,
    "start_time": "2021-12-20T15:48:07.629Z"
   },
   {
    "duration": 9,
    "start_time": "2021-12-20T15:48:07.707Z"
   },
   {
    "duration": 112,
    "start_time": "2021-12-20T15:48:07.720Z"
   },
   {
    "duration": 14,
    "start_time": "2021-12-20T15:48:07.835Z"
   },
   {
    "duration": 33,
    "start_time": "2021-12-20T15:48:07.851Z"
   },
   {
    "duration": 4,
    "start_time": "2021-12-20T15:48:07.886Z"
   },
   {
    "duration": 10,
    "start_time": "2021-12-20T15:48:07.895Z"
   },
   {
    "duration": 7,
    "start_time": "2021-12-20T15:48:07.909Z"
   },
   {
    "duration": 46,
    "start_time": "2021-12-20T15:48:07.919Z"
   },
   {
    "duration": 25,
    "start_time": "2021-12-20T15:48:07.968Z"
   },
   {
    "duration": 7,
    "start_time": "2021-12-20T15:48:07.996Z"
   },
   {
    "duration": 16,
    "start_time": "2021-12-20T15:48:08.006Z"
   },
   {
    "duration": 44,
    "start_time": "2021-12-20T15:48:08.025Z"
   },
   {
    "duration": 64,
    "start_time": "2021-12-20T15:48:08.072Z"
   },
   {
    "duration": 24,
    "start_time": "2021-12-20T15:48:08.139Z"
   },
   {
    "duration": 15,
    "start_time": "2021-12-20T15:48:08.166Z"
   },
   {
    "duration": 3,
    "start_time": "2021-12-20T15:48:08.183Z"
   },
   {
    "duration": 5,
    "start_time": "2021-12-20T15:48:08.188Z"
   },
   {
    "duration": 7,
    "start_time": "2021-12-20T15:48:08.195Z"
   },
   {
    "duration": 78,
    "start_time": "2021-12-20T15:48:08.205Z"
   },
   {
    "duration": 409,
    "start_time": "2021-12-20T15:48:08.286Z"
   },
   {
    "duration": 923,
    "start_time": "2021-12-20T15:48:08.702Z"
   },
   {
    "duration": 10,
    "start_time": "2021-12-20T15:48:09.629Z"
   },
   {
    "duration": 59,
    "start_time": "2021-12-20T15:48:09.642Z"
   },
   {
    "duration": 395,
    "start_time": "2021-12-20T15:48:09.703Z"
   },
   {
    "duration": 23,
    "start_time": "2021-12-20T15:48:10.100Z"
   },
   {
    "duration": 327,
    "start_time": "2021-12-20T15:48:10.125Z"
   },
   {
    "duration": 267,
    "start_time": "2021-12-20T15:48:10.462Z"
   },
   {
    "duration": 44,
    "start_time": "2021-12-20T15:48:10.731Z"
   },
   {
    "duration": 11,
    "start_time": "2021-12-20T15:48:10.778Z"
   },
   {
    "duration": 9,
    "start_time": "2021-12-20T15:48:10.792Z"
   },
   {
    "duration": 20,
    "start_time": "2021-12-20T15:48:10.804Z"
   },
   {
    "duration": 3,
    "start_time": "2021-12-20T15:48:10.827Z"
   },
   {
    "duration": 32,
    "start_time": "2021-12-20T15:48:10.832Z"
   },
   {
    "duration": 20,
    "start_time": "2021-12-20T15:48:10.866Z"
   },
   {
    "duration": 264,
    "start_time": "2021-12-20T15:48:10.888Z"
   },
   {
    "duration": 27,
    "start_time": "2021-12-20T15:48:11.155Z"
   },
   {
    "duration": 313,
    "start_time": "2021-12-20T15:48:11.185Z"
   },
   {
    "duration": 276,
    "start_time": "2021-12-20T15:48:11.500Z"
   },
   {
    "duration": 25,
    "start_time": "2021-12-20T15:48:11.778Z"
   },
   {
    "duration": 260,
    "start_time": "2021-12-20T15:48:11.805Z"
   },
   {
    "duration": 1841,
    "start_time": "2021-12-20T15:59:28.168Z"
   },
   {
    "duration": 82,
    "start_time": "2021-12-20T15:59:30.012Z"
   },
   {
    "duration": 9,
    "start_time": "2021-12-20T15:59:30.098Z"
   },
   {
    "duration": 110,
    "start_time": "2021-12-20T15:59:30.110Z"
   },
   {
    "duration": 12,
    "start_time": "2021-12-20T15:59:30.223Z"
   },
   {
    "duration": 46,
    "start_time": "2021-12-20T15:59:30.238Z"
   },
   {
    "duration": 3,
    "start_time": "2021-12-20T15:59:30.287Z"
   },
   {
    "duration": 33,
    "start_time": "2021-12-20T15:59:30.294Z"
   },
   {
    "duration": 23,
    "start_time": "2021-12-20T15:59:30.331Z"
   },
   {
    "duration": 26,
    "start_time": "2021-12-20T15:59:30.356Z"
   },
   {
    "duration": 53,
    "start_time": "2021-12-20T15:59:30.385Z"
   },
   {
    "duration": 10,
    "start_time": "2021-12-20T15:59:30.440Z"
   },
   {
    "duration": 18,
    "start_time": "2021-12-20T15:59:30.452Z"
   },
   {
    "duration": 10,
    "start_time": "2021-12-20T15:59:30.473Z"
   },
   {
    "duration": 86,
    "start_time": "2021-12-20T15:59:30.486Z"
   },
   {
    "duration": 3,
    "start_time": "2021-12-20T15:59:30.574Z"
   },
   {
    "duration": 23,
    "start_time": "2021-12-20T15:59:30.579Z"
   },
   {
    "duration": 3,
    "start_time": "2021-12-20T15:59:30.605Z"
   },
   {
    "duration": 12,
    "start_time": "2021-12-20T15:59:30.611Z"
   },
   {
    "duration": 8,
    "start_time": "2021-12-20T15:59:30.625Z"
   },
   {
    "duration": 112,
    "start_time": "2021-12-20T15:59:30.663Z"
   },
   {
    "duration": 417,
    "start_time": "2021-12-20T15:59:30.778Z"
   },
   {
    "duration": 643,
    "start_time": "2021-12-20T15:59:31.199Z"
   },
   {
    "duration": 8,
    "start_time": "2021-12-20T15:59:31.845Z"
   },
   {
    "duration": 31,
    "start_time": "2021-12-20T15:59:31.864Z"
   },
   {
    "duration": 404,
    "start_time": "2021-12-20T15:59:31.897Z"
   },
   {
    "duration": 23,
    "start_time": "2021-12-20T15:59:32.304Z"
   },
   {
    "duration": 324,
    "start_time": "2021-12-20T15:59:32.330Z"
   },
   {
    "duration": 275,
    "start_time": "2021-12-20T15:59:32.656Z"
   },
   {
    "duration": 39,
    "start_time": "2021-12-20T15:59:32.933Z"
   },
   {
    "duration": 9,
    "start_time": "2021-12-20T15:59:32.975Z"
   },
   {
    "duration": 6,
    "start_time": "2021-12-20T15:59:32.988Z"
   },
   {
    "duration": 12,
    "start_time": "2021-12-20T15:59:32.996Z"
   },
   {
    "duration": 3,
    "start_time": "2021-12-20T15:59:33.010Z"
   },
   {
    "duration": 48,
    "start_time": "2021-12-20T15:59:33.015Z"
   },
   {
    "duration": 6,
    "start_time": "2021-12-20T15:59:33.066Z"
   },
   {
    "duration": 266,
    "start_time": "2021-12-20T15:59:33.075Z"
   },
   {
    "duration": 265,
    "start_time": "2021-12-20T15:59:33.344Z"
   },
   {
    "duration": 24,
    "start_time": "2021-12-20T15:59:33.611Z"
   },
   {
    "duration": 320,
    "start_time": "2021-12-20T15:59:33.637Z"
   },
   {
    "duration": 474,
    "start_time": "2021-12-20T15:59:33.962Z"
   },
   {
    "duration": 34,
    "start_time": "2021-12-20T15:59:34.439Z"
   },
   {
    "duration": 356,
    "start_time": "2021-12-20T15:59:34.476Z"
   },
   {
    "duration": 242,
    "start_time": "2021-12-20T16:00:11.043Z"
   },
   {
    "duration": 1592,
    "start_time": "2021-12-20T16:04:59.832Z"
   },
   {
    "duration": 57,
    "start_time": "2021-12-20T16:05:01.427Z"
   },
   {
    "duration": 7,
    "start_time": "2021-12-20T16:05:01.487Z"
   },
   {
    "duration": 79,
    "start_time": "2021-12-20T16:05:01.496Z"
   },
   {
    "duration": 8,
    "start_time": "2021-12-20T16:05:01.578Z"
   },
   {
    "duration": 17,
    "start_time": "2021-12-20T16:05:01.589Z"
   },
   {
    "duration": 3,
    "start_time": "2021-12-20T16:05:01.608Z"
   },
   {
    "duration": 11,
    "start_time": "2021-12-20T16:05:01.615Z"
   },
   {
    "duration": 6,
    "start_time": "2021-12-20T16:05:01.663Z"
   },
   {
    "duration": 12,
    "start_time": "2021-12-20T16:05:01.671Z"
   },
   {
    "duration": 19,
    "start_time": "2021-12-20T16:05:01.685Z"
   },
   {
    "duration": 12,
    "start_time": "2021-12-20T16:05:01.706Z"
   },
   {
    "duration": 48,
    "start_time": "2021-12-20T16:05:01.720Z"
   },
   {
    "duration": 17,
    "start_time": "2021-12-20T16:05:01.770Z"
   },
   {
    "duration": 84,
    "start_time": "2021-12-20T16:05:01.790Z"
   },
   {
    "duration": 3,
    "start_time": "2021-12-20T16:05:01.877Z"
   },
   {
    "duration": 21,
    "start_time": "2021-12-20T16:05:01.883Z"
   },
   {
    "duration": 3,
    "start_time": "2021-12-20T16:05:01.907Z"
   },
   {
    "duration": 5,
    "start_time": "2021-12-20T16:05:01.912Z"
   },
   {
    "duration": 7,
    "start_time": "2021-12-20T16:05:01.920Z"
   },
   {
    "duration": 103,
    "start_time": "2021-12-20T16:05:01.964Z"
   },
   {
    "duration": 328,
    "start_time": "2021-12-20T16:05:02.071Z"
   },
   {
    "duration": 637,
    "start_time": "2021-12-20T16:05:02.404Z"
   },
   {
    "duration": 22,
    "start_time": "2021-12-20T16:05:03.044Z"
   },
   {
    "duration": 41,
    "start_time": "2021-12-20T16:05:03.070Z"
   },
   {
    "duration": 596,
    "start_time": "2021-12-20T16:05:03.114Z"
   },
   {
    "duration": 30,
    "start_time": "2021-12-20T16:05:03.713Z"
   },
   {
    "duration": 445,
    "start_time": "2021-12-20T16:05:03.762Z"
   },
   {
    "duration": 401,
    "start_time": "2021-12-20T16:05:04.211Z"
   },
   {
    "duration": 48,
    "start_time": "2021-12-20T16:05:04.615Z"
   },
   {
    "duration": 13,
    "start_time": "2021-12-20T16:05:04.665Z"
   },
   {
    "duration": 7,
    "start_time": "2021-12-20T16:05:04.681Z"
   },
   {
    "duration": 14,
    "start_time": "2021-12-20T16:05:04.691Z"
   },
   {
    "duration": 4,
    "start_time": "2021-12-20T16:05:04.708Z"
   },
   {
    "duration": 48,
    "start_time": "2021-12-20T16:05:04.715Z"
   },
   {
    "duration": 4,
    "start_time": "2021-12-20T16:05:04.766Z"
   },
   {
    "duration": 391,
    "start_time": "2021-12-20T16:05:04.773Z"
   },
   {
    "duration": 323,
    "start_time": "2021-12-20T16:05:05.167Z"
   },
   {
    "duration": 59,
    "start_time": "2021-12-20T16:05:05.503Z"
   },
   {
    "duration": 488,
    "start_time": "2021-12-20T16:05:05.572Z"
   },
   {
    "duration": 332,
    "start_time": "2021-12-20T16:05:06.063Z"
   },
   {
    "duration": 25,
    "start_time": "2021-12-20T16:05:06.399Z"
   },
   {
    "duration": 271,
    "start_time": "2021-12-20T16:05:06.427Z"
   },
   {
    "duration": 263,
    "start_time": "2021-12-20T16:05:06.700Z"
   },
   {
    "duration": 24,
    "start_time": "2021-12-20T16:06:33.379Z"
   },
   {
    "duration": 24,
    "start_time": "2021-12-20T16:10:50.282Z"
   },
   {
    "duration": 304,
    "start_time": "2021-12-20T16:10:54.241Z"
   },
   {
    "duration": 1518,
    "start_time": "2021-12-20T16:14:19.104Z"
   },
   {
    "duration": 58,
    "start_time": "2021-12-20T16:14:20.624Z"
   },
   {
    "duration": 7,
    "start_time": "2021-12-20T16:14:20.685Z"
   },
   {
    "duration": 79,
    "start_time": "2021-12-20T16:14:20.695Z"
   },
   {
    "duration": 9,
    "start_time": "2021-12-20T16:14:20.776Z"
   },
   {
    "duration": 17,
    "start_time": "2021-12-20T16:14:20.788Z"
   },
   {
    "duration": 5,
    "start_time": "2021-12-20T16:14:20.808Z"
   },
   {
    "duration": 53,
    "start_time": "2021-12-20T16:14:20.819Z"
   },
   {
    "duration": 7,
    "start_time": "2021-12-20T16:14:20.876Z"
   },
   {
    "duration": 7,
    "start_time": "2021-12-20T16:14:20.886Z"
   },
   {
    "duration": 25,
    "start_time": "2021-12-20T16:14:20.896Z"
   },
   {
    "duration": 39,
    "start_time": "2021-12-20T16:14:20.924Z"
   },
   {
    "duration": 24,
    "start_time": "2021-12-20T16:14:20.966Z"
   },
   {
    "duration": 12,
    "start_time": "2021-12-20T16:14:20.993Z"
   },
   {
    "duration": 122,
    "start_time": "2021-12-20T16:14:21.008Z"
   },
   {
    "duration": 4,
    "start_time": "2021-12-20T16:14:21.133Z"
   },
   {
    "duration": 33,
    "start_time": "2021-12-20T16:14:21.140Z"
   },
   {
    "duration": 3,
    "start_time": "2021-12-20T16:14:21.175Z"
   },
   {
    "duration": 6,
    "start_time": "2021-12-20T16:14:21.180Z"
   },
   {
    "duration": 7,
    "start_time": "2021-12-20T16:14:21.189Z"
   },
   {
    "duration": 76,
    "start_time": "2021-12-20T16:14:21.199Z"
   },
   {
    "duration": 444,
    "start_time": "2021-12-20T16:14:21.278Z"
   },
   {
    "duration": 648,
    "start_time": "2021-12-20T16:14:21.727Z"
   },
   {
    "duration": 10,
    "start_time": "2021-12-20T16:14:22.379Z"
   },
   {
    "duration": 29,
    "start_time": "2021-12-20T16:14:22.392Z"
   },
   {
    "duration": 421,
    "start_time": "2021-12-20T16:14:22.423Z"
   },
   {
    "duration": 31,
    "start_time": "2021-12-20T16:14:22.846Z"
   },
   {
    "duration": 324,
    "start_time": "2021-12-20T16:14:22.880Z"
   },
   {
    "duration": 267,
    "start_time": "2021-12-20T16:14:23.208Z"
   },
   {
    "duration": 27,
    "start_time": "2021-12-20T16:14:23.477Z"
   },
   {
    "duration": 11,
    "start_time": "2021-12-20T16:14:23.506Z"
   },
   {
    "duration": 44,
    "start_time": "2021-12-20T16:14:23.520Z"
   },
   {
    "duration": 13,
    "start_time": "2021-12-20T16:14:23.566Z"
   },
   {
    "duration": 3,
    "start_time": "2021-12-20T16:14:23.582Z"
   },
   {
    "duration": 9,
    "start_time": "2021-12-20T16:14:23.587Z"
   },
   {
    "duration": 4,
    "start_time": "2021-12-20T16:14:23.598Z"
   },
   {
    "duration": 274,
    "start_time": "2021-12-20T16:14:23.605Z"
   },
   {
    "duration": 252,
    "start_time": "2021-12-20T16:14:23.881Z"
   },
   {
    "duration": 32,
    "start_time": "2021-12-20T16:14:24.136Z"
   },
   {
    "duration": 399,
    "start_time": "2021-12-20T16:14:24.172Z"
   },
   {
    "duration": 466,
    "start_time": "2021-12-20T16:14:24.574Z"
   },
   {
    "duration": 36,
    "start_time": "2021-12-20T16:14:25.043Z"
   },
   {
    "duration": 255,
    "start_time": "2021-12-20T16:14:25.081Z"
   },
   {
    "duration": 261,
    "start_time": "2021-12-20T16:14:25.339Z"
   },
   {
    "duration": 23,
    "start_time": "2021-12-20T16:14:25.602Z"
   },
   {
    "duration": 327,
    "start_time": "2021-12-20T16:14:25.627Z"
   },
   {
    "duration": 436,
    "start_time": "2021-12-20T16:14:25.957Z"
   },
   {
    "duration": 260,
    "start_time": "2021-12-20T16:14:45.814Z"
   },
   {
    "duration": 258,
    "start_time": "2021-12-20T16:20:31.085Z"
   },
   {
    "duration": 99,
    "start_time": "2021-12-20T16:20:34.433Z"
   },
   {
    "duration": 1610,
    "start_time": "2021-12-20T16:21:03.667Z"
   },
   {
    "duration": 57,
    "start_time": "2021-12-20T16:21:05.280Z"
   },
   {
    "duration": 8,
    "start_time": "2021-12-20T16:21:05.340Z"
   },
   {
    "duration": 61,
    "start_time": "2021-12-20T16:21:05.362Z"
   },
   {
    "duration": 10,
    "start_time": "2021-12-20T16:21:05.425Z"
   },
   {
    "duration": 38,
    "start_time": "2021-12-20T16:21:05.437Z"
   },
   {
    "duration": 4,
    "start_time": "2021-12-20T16:21:05.477Z"
   },
   {
    "duration": 14,
    "start_time": "2021-12-20T16:21:05.486Z"
   },
   {
    "duration": 12,
    "start_time": "2021-12-20T16:21:05.504Z"
   },
   {
    "duration": 20,
    "start_time": "2021-12-20T16:21:05.520Z"
   },
   {
    "duration": 45,
    "start_time": "2021-12-20T16:21:05.543Z"
   },
   {
    "duration": 6,
    "start_time": "2021-12-20T16:21:05.592Z"
   },
   {
    "duration": 33,
    "start_time": "2021-12-20T16:21:05.600Z"
   },
   {
    "duration": 28,
    "start_time": "2021-12-20T16:21:05.636Z"
   },
   {
    "duration": 76,
    "start_time": "2021-12-20T16:21:05.666Z"
   },
   {
    "duration": 4,
    "start_time": "2021-12-20T16:21:05.744Z"
   },
   {
    "duration": 23,
    "start_time": "2021-12-20T16:21:05.750Z"
   },
   {
    "duration": 2,
    "start_time": "2021-12-20T16:21:05.776Z"
   },
   {
    "duration": 4,
    "start_time": "2021-12-20T16:21:05.781Z"
   },
   {
    "duration": 8,
    "start_time": "2021-12-20T16:21:05.787Z"
   },
   {
    "duration": 75,
    "start_time": "2021-12-20T16:21:05.797Z"
   },
   {
    "duration": 408,
    "start_time": "2021-12-20T16:21:05.875Z"
   },
   {
    "duration": 721,
    "start_time": "2021-12-20T16:21:06.288Z"
   },
   {
    "duration": 9,
    "start_time": "2021-12-20T16:21:07.012Z"
   },
   {
    "duration": 60,
    "start_time": "2021-12-20T16:21:07.024Z"
   },
   {
    "duration": 577,
    "start_time": "2021-12-20T16:21:07.087Z"
   },
   {
    "duration": 34,
    "start_time": "2021-12-20T16:21:07.667Z"
   },
   {
    "duration": 454,
    "start_time": "2021-12-20T16:21:07.704Z"
   },
   {
    "duration": 383,
    "start_time": "2021-12-20T16:21:08.161Z"
   },
   {
    "duration": 37,
    "start_time": "2021-12-20T16:21:08.547Z"
   },
   {
    "duration": 9,
    "start_time": "2021-12-20T16:21:08.586Z"
   },
   {
    "duration": 5,
    "start_time": "2021-12-20T16:21:08.598Z"
   },
   {
    "duration": 11,
    "start_time": "2021-12-20T16:21:08.606Z"
   },
   {
    "duration": 44,
    "start_time": "2021-12-20T16:21:08.619Z"
   },
   {
    "duration": 4,
    "start_time": "2021-12-20T16:21:08.665Z"
   },
   {
    "duration": 6,
    "start_time": "2021-12-20T16:21:08.671Z"
   },
   {
    "duration": 264,
    "start_time": "2021-12-20T16:21:08.680Z"
   },
   {
    "duration": 262,
    "start_time": "2021-12-20T16:21:08.946Z"
   },
   {
    "duration": 25,
    "start_time": "2021-12-20T16:21:09.210Z"
   },
   {
    "duration": 315,
    "start_time": "2021-12-20T16:21:09.238Z"
   },
   {
    "duration": 345,
    "start_time": "2021-12-20T16:21:09.555Z"
   },
   {
    "duration": 32,
    "start_time": "2021-12-20T16:21:09.902Z"
   },
   {
    "duration": 366,
    "start_time": "2021-12-20T16:21:09.937Z"
   },
   {
    "duration": 380,
    "start_time": "2021-12-20T16:21:10.306Z"
   },
   {
    "duration": 83,
    "start_time": "2021-12-20T16:21:10.703Z"
   },
   {
    "duration": 517,
    "start_time": "2021-12-20T16:21:10.799Z"
   },
   {
    "duration": 266,
    "start_time": "2021-12-20T16:21:11.319Z"
   },
   {
    "duration": 97,
    "start_time": "2021-12-20T16:21:11.588Z"
   },
   {
    "duration": 568,
    "start_time": "2021-12-20T16:21:18.930Z"
   },
   {
    "duration": 31,
    "start_time": "2021-12-20T16:21:50.745Z"
   },
   {
    "duration": 1243,
    "start_time": "2021-12-21T20:04:02.734Z"
   },
   {
    "duration": 50,
    "start_time": "2021-12-21T20:04:03.979Z"
   },
   {
    "duration": 5,
    "start_time": "2021-12-21T20:04:04.031Z"
   },
   {
    "duration": 55,
    "start_time": "2021-12-21T20:04:04.038Z"
   },
   {
    "duration": 8,
    "start_time": "2021-12-21T20:04:04.096Z"
   },
   {
    "duration": 20,
    "start_time": "2021-12-21T20:04:04.108Z"
   },
   {
    "duration": 11,
    "start_time": "2021-12-21T20:04:04.130Z"
   },
   {
    "duration": 18,
    "start_time": "2021-12-21T20:04:04.143Z"
   },
   {
    "duration": 19,
    "start_time": "2021-12-21T20:04:04.163Z"
   },
   {
    "duration": 17,
    "start_time": "2021-12-21T20:04:04.184Z"
   },
   {
    "duration": 17,
    "start_time": "2021-12-21T20:04:04.203Z"
   },
   {
    "duration": 24,
    "start_time": "2021-12-21T20:04:04.222Z"
   },
   {
    "duration": 22,
    "start_time": "2021-12-21T20:04:04.247Z"
   },
   {
    "duration": 24,
    "start_time": "2021-12-21T20:04:04.271Z"
   },
   {
    "duration": 50,
    "start_time": "2021-12-21T20:04:04.297Z"
   },
   {
    "duration": 2,
    "start_time": "2021-12-21T20:04:04.349Z"
   },
   {
    "duration": 86,
    "start_time": "2021-12-21T20:04:04.353Z"
   },
   {
    "duration": 2,
    "start_time": "2021-12-21T20:04:04.441Z"
   },
   {
    "duration": 7,
    "start_time": "2021-12-21T20:04:04.445Z"
   },
   {
    "duration": 6,
    "start_time": "2021-12-21T20:04:04.454Z"
   },
   {
    "duration": 33,
    "start_time": "2021-12-21T20:04:04.462Z"
   },
   {
    "duration": 362,
    "start_time": "2021-12-21T20:04:04.497Z"
   },
   {
    "duration": 474,
    "start_time": "2021-12-21T20:04:04.864Z"
   },
   {
    "duration": 6,
    "start_time": "2021-12-21T20:04:05.341Z"
   },
   {
    "duration": 23,
    "start_time": "2021-12-21T20:04:05.348Z"
   },
   {
    "duration": 315,
    "start_time": "2021-12-21T20:04:05.372Z"
   },
   {
    "duration": 22,
    "start_time": "2021-12-21T20:04:05.688Z"
   },
   {
    "duration": 239,
    "start_time": "2021-12-21T20:04:05.713Z"
   },
   {
    "duration": 191,
    "start_time": "2021-12-21T20:04:05.954Z"
   },
   {
    "duration": 17,
    "start_time": "2021-12-21T20:04:06.147Z"
   },
   {
    "duration": 7,
    "start_time": "2021-12-21T20:04:06.165Z"
   },
   {
    "duration": 22,
    "start_time": "2021-12-21T20:04:06.174Z"
   },
   {
    "duration": 16,
    "start_time": "2021-12-21T20:04:06.198Z"
   },
   {
    "duration": 3,
    "start_time": "2021-12-21T20:04:06.216Z"
   },
   {
    "duration": 8,
    "start_time": "2021-12-21T20:04:06.221Z"
   },
   {
    "duration": 5,
    "start_time": "2021-12-21T20:04:06.230Z"
   },
   {
    "duration": 441,
    "start_time": "2021-12-21T20:04:06.237Z"
   },
   {
    "duration": 182,
    "start_time": "2021-12-21T20:04:06.680Z"
   },
   {
    "duration": 18,
    "start_time": "2021-12-21T20:04:06.863Z"
   },
   {
    "duration": 219,
    "start_time": "2021-12-21T20:04:06.892Z"
   },
   {
    "duration": 247,
    "start_time": "2021-12-21T20:04:07.112Z"
   },
   {
    "duration": 18,
    "start_time": "2021-12-21T20:04:07.361Z"
   },
   {
    "duration": 434,
    "start_time": "2021-12-21T20:04:07.392Z"
   },
   {
    "duration": 175,
    "start_time": "2021-12-21T20:04:07.828Z"
   },
   {
    "duration": 20,
    "start_time": "2021-12-21T20:04:08.006Z"
   },
   {
    "duration": 240,
    "start_time": "2021-12-21T20:04:08.029Z"
   },
   {
    "duration": 196,
    "start_time": "2021-12-21T20:04:08.272Z"
   },
   {
    "duration": 23,
    "start_time": "2021-12-21T20:04:08.470Z"
   },
   {
    "duration": 1443,
    "start_time": "2021-12-22T18:14:54.166Z"
   },
   {
    "duration": 69,
    "start_time": "2021-12-22T18:14:55.612Z"
   },
   {
    "duration": 7,
    "start_time": "2021-12-22T18:14:55.684Z"
   },
   {
    "duration": 75,
    "start_time": "2021-12-22T18:14:55.694Z"
   },
   {
    "duration": 10,
    "start_time": "2021-12-22T18:14:55.771Z"
   },
   {
    "duration": 19,
    "start_time": "2021-12-22T18:14:55.783Z"
   },
   {
    "duration": 3,
    "start_time": "2021-12-22T18:14:55.804Z"
   },
   {
    "duration": 10,
    "start_time": "2021-12-22T18:14:55.811Z"
   },
   {
    "duration": 6,
    "start_time": "2021-12-22T18:14:55.862Z"
   },
   {
    "duration": 7,
    "start_time": "2021-12-22T18:14:55.871Z"
   },
   {
    "duration": 21,
    "start_time": "2021-12-22T18:14:55.881Z"
   },
   {
    "duration": 6,
    "start_time": "2021-12-22T18:14:55.905Z"
   },
   {
    "duration": 58,
    "start_time": "2021-12-22T18:14:55.914Z"
   },
   {
    "duration": 9,
    "start_time": "2021-12-22T18:14:55.975Z"
   },
   {
    "duration": 91,
    "start_time": "2021-12-22T18:14:55.986Z"
   },
   {
    "duration": 4,
    "start_time": "2021-12-22T18:14:56.080Z"
   },
   {
    "duration": 18,
    "start_time": "2021-12-22T18:14:56.086Z"
   },
   {
    "duration": 3,
    "start_time": "2021-12-22T18:14:56.106Z"
   },
   {
    "duration": 7,
    "start_time": "2021-12-22T18:14:56.111Z"
   },
   {
    "duration": 44,
    "start_time": "2021-12-22T18:14:56.120Z"
   },
   {
    "duration": 98,
    "start_time": "2021-12-22T18:14:56.166Z"
   },
   {
    "duration": 338,
    "start_time": "2021-12-22T18:14:56.268Z"
   },
   {
    "duration": 644,
    "start_time": "2021-12-22T18:14:56.611Z"
   },
   {
    "duration": 9,
    "start_time": "2021-12-22T18:14:57.258Z"
   },
   {
    "duration": 34,
    "start_time": "2021-12-22T18:14:57.270Z"
   },
   {
    "duration": 456,
    "start_time": "2021-12-22T18:14:57.307Z"
   },
   {
    "duration": 24,
    "start_time": "2021-12-22T18:14:57.766Z"
   },
   {
    "duration": 323,
    "start_time": "2021-12-22T18:14:57.793Z"
   },
   {
    "duration": 274,
    "start_time": "2021-12-22T18:14:58.119Z"
   },
   {
    "duration": 27,
    "start_time": "2021-12-22T18:14:58.396Z"
   },
   {
    "duration": 10,
    "start_time": "2021-12-22T18:14:58.425Z"
   },
   {
    "duration": 5,
    "start_time": "2021-12-22T18:14:58.462Z"
   },
   {
    "duration": 13,
    "start_time": "2021-12-22T18:14:58.469Z"
   },
   {
    "duration": 3,
    "start_time": "2021-12-22T18:14:58.484Z"
   },
   {
    "duration": 4,
    "start_time": "2021-12-22T18:14:58.489Z"
   },
   {
    "duration": 9,
    "start_time": "2021-12-22T18:14:58.495Z"
   },
   {
    "duration": 1063,
    "start_time": "2021-12-22T18:14:58.506Z"
   },
   {
    "duration": 309,
    "start_time": "2021-12-22T18:14:59.573Z"
   },
   {
    "duration": 34,
    "start_time": "2021-12-22T18:14:59.884Z"
   },
   {
    "duration": 322,
    "start_time": "2021-12-22T18:14:59.920Z"
   },
   {
    "duration": 346,
    "start_time": "2021-12-22T18:15:00.244Z"
   },
   {
    "duration": 37,
    "start_time": "2021-12-22T18:15:00.592Z"
   },
   {
    "duration": 619,
    "start_time": "2021-12-22T18:15:00.631Z"
   },
   {
    "duration": 252,
    "start_time": "2021-12-22T18:15:01.253Z"
   },
   {
    "duration": 24,
    "start_time": "2021-12-22T18:15:01.508Z"
   },
   {
    "duration": 318,
    "start_time": "2021-12-22T18:15:01.534Z"
   },
   {
    "duration": 389,
    "start_time": "2021-12-22T18:15:01.855Z"
   },
   {
    "duration": 46,
    "start_time": "2021-12-22T18:15:02.248Z"
   },
   {
    "duration": 1389,
    "start_time": "2021-12-22T18:17:22.314Z"
   },
   {
    "duration": 57,
    "start_time": "2021-12-22T18:17:23.706Z"
   },
   {
    "duration": 7,
    "start_time": "2021-12-22T18:17:23.766Z"
   },
   {
    "duration": 61,
    "start_time": "2021-12-22T18:17:23.776Z"
   },
   {
    "duration": 10,
    "start_time": "2021-12-22T18:17:23.863Z"
   },
   {
    "duration": 17,
    "start_time": "2021-12-22T18:17:23.875Z"
   },
   {
    "duration": 3,
    "start_time": "2021-12-22T18:17:23.895Z"
   },
   {
    "duration": 9,
    "start_time": "2021-12-22T18:17:23.902Z"
   },
   {
    "duration": 6,
    "start_time": "2021-12-22T18:17:23.914Z"
   },
   {
    "duration": 6,
    "start_time": "2021-12-22T18:17:23.962Z"
   },
   {
    "duration": 19,
    "start_time": "2021-12-22T18:17:23.970Z"
   },
   {
    "duration": 6,
    "start_time": "2021-12-22T18:17:23.991Z"
   },
   {
    "duration": 12,
    "start_time": "2021-12-22T18:17:23.999Z"
   },
   {
    "duration": 59,
    "start_time": "2021-12-22T18:17:24.013Z"
   },
   {
    "duration": 65,
    "start_time": "2021-12-22T18:17:24.074Z"
   },
   {
    "duration": 22,
    "start_time": "2021-12-22T18:17:24.142Z"
   },
   {
    "duration": 22,
    "start_time": "2021-12-22T18:17:24.167Z"
   },
   {
    "duration": 3,
    "start_time": "2021-12-22T18:17:24.192Z"
   },
   {
    "duration": 4,
    "start_time": "2021-12-22T18:17:24.198Z"
   },
   {
    "duration": 6,
    "start_time": "2021-12-22T18:17:24.205Z"
   },
   {
    "duration": 83,
    "start_time": "2021-12-22T18:17:24.214Z"
   },
   {
    "duration": 328,
    "start_time": "2021-12-22T18:17:24.365Z"
   },
   {
    "duration": 622,
    "start_time": "2021-12-22T18:17:24.699Z"
   },
   {
    "duration": 8,
    "start_time": "2021-12-22T18:17:25.324Z"
   },
   {
    "duration": 50,
    "start_time": "2021-12-22T18:17:25.335Z"
   },
   {
    "duration": 386,
    "start_time": "2021-12-22T18:17:25.387Z"
   },
   {
    "duration": 23,
    "start_time": "2021-12-22T18:17:25.776Z"
   },
   {
    "duration": 322,
    "start_time": "2021-12-22T18:17:25.801Z"
   },
   {
    "duration": 271,
    "start_time": "2021-12-22T18:17:26.126Z"
   },
   {
    "duration": 25,
    "start_time": "2021-12-22T18:17:26.400Z"
   },
   {
    "duration": 9,
    "start_time": "2021-12-22T18:17:26.428Z"
   },
   {
    "duration": 26,
    "start_time": "2021-12-22T18:17:26.440Z"
   },
   {
    "duration": 12,
    "start_time": "2021-12-22T18:17:26.469Z"
   },
   {
    "duration": 3,
    "start_time": "2021-12-22T18:17:26.483Z"
   },
   {
    "duration": 4,
    "start_time": "2021-12-22T18:17:26.488Z"
   },
   {
    "duration": 5,
    "start_time": "2021-12-22T18:17:26.495Z"
   },
   {
    "duration": 1014,
    "start_time": "2021-12-22T18:17:26.502Z"
   },
   {
    "duration": 603,
    "start_time": "2021-12-22T18:17:27.519Z"
   },
   {
    "duration": 263,
    "start_time": "2021-12-22T18:17:28.125Z"
   },
   {
    "duration": 24,
    "start_time": "2021-12-22T18:17:28.390Z"
   },
   {
    "duration": 311,
    "start_time": "2021-12-22T18:17:28.416Z"
   },
   {
    "duration": 344,
    "start_time": "2021-12-22T18:17:28.729Z"
   },
   {
    "duration": 26,
    "start_time": "2021-12-22T18:17:29.077Z"
   },
   {
    "duration": 634,
    "start_time": "2021-12-22T18:17:29.105Z"
   },
   {
    "duration": 265,
    "start_time": "2021-12-22T18:17:29.742Z"
   },
   {
    "duration": 26,
    "start_time": "2021-12-22T18:17:30.010Z"
   },
   {
    "duration": 317,
    "start_time": "2021-12-22T18:17:30.038Z"
   },
   {
    "duration": 279,
    "start_time": "2021-12-22T18:17:30.357Z"
   },
   {
    "duration": 39,
    "start_time": "2021-12-22T18:17:30.638Z"
   },
   {
    "duration": 1461,
    "start_time": "2021-12-22T18:18:09.067Z"
   },
   {
    "duration": 66,
    "start_time": "2021-12-22T18:18:10.531Z"
   },
   {
    "duration": 7,
    "start_time": "2021-12-22T18:18:10.601Z"
   },
   {
    "duration": 89,
    "start_time": "2021-12-22T18:18:10.612Z"
   },
   {
    "duration": 12,
    "start_time": "2021-12-22T18:18:10.704Z"
   },
   {
    "duration": 18,
    "start_time": "2021-12-22T18:18:10.720Z"
   },
   {
    "duration": 3,
    "start_time": "2021-12-22T18:18:10.764Z"
   },
   {
    "duration": 10,
    "start_time": "2021-12-22T18:18:10.771Z"
   },
   {
    "duration": 6,
    "start_time": "2021-12-22T18:18:10.785Z"
   },
   {
    "duration": 5,
    "start_time": "2021-12-22T18:18:10.794Z"
   },
   {
    "duration": 63,
    "start_time": "2021-12-22T18:18:10.802Z"
   },
   {
    "duration": 5,
    "start_time": "2021-12-22T18:18:10.868Z"
   },
   {
    "duration": 17,
    "start_time": "2021-12-22T18:18:10.876Z"
   },
   {
    "duration": 10,
    "start_time": "2021-12-22T18:18:10.895Z"
   },
   {
    "duration": 97,
    "start_time": "2021-12-22T18:18:10.908Z"
   },
   {
    "duration": 4,
    "start_time": "2021-12-22T18:18:11.008Z"
   },
   {
    "duration": 18,
    "start_time": "2021-12-22T18:18:11.016Z"
   },
   {
    "duration": 28,
    "start_time": "2021-12-22T18:18:11.036Z"
   },
   {
    "duration": 4,
    "start_time": "2021-12-22T18:18:11.066Z"
   },
   {
    "duration": 7,
    "start_time": "2021-12-22T18:18:11.072Z"
   },
   {
    "duration": 86,
    "start_time": "2021-12-22T18:18:11.081Z"
   },
   {
    "duration": 393,
    "start_time": "2021-12-22T18:18:11.170Z"
   },
   {
    "duration": 641,
    "start_time": "2021-12-22T18:18:11.568Z"
   },
   {
    "duration": 10,
    "start_time": "2021-12-22T18:18:12.212Z"
   },
   {
    "duration": 47,
    "start_time": "2021-12-22T18:18:12.225Z"
   },
   {
    "duration": 402,
    "start_time": "2021-12-22T18:18:12.275Z"
   },
   {
    "duration": 24,
    "start_time": "2021-12-22T18:18:12.679Z"
   },
   {
    "duration": 329,
    "start_time": "2021-12-22T18:18:12.705Z"
   },
   {
    "duration": 272,
    "start_time": "2021-12-22T18:18:13.037Z"
   },
   {
    "duration": 26,
    "start_time": "2021-12-22T18:18:13.312Z"
   },
   {
    "duration": 29,
    "start_time": "2021-12-22T18:18:13.340Z"
   },
   {
    "duration": 16,
    "start_time": "2021-12-22T18:18:13.371Z"
   },
   {
    "duration": 31,
    "start_time": "2021-12-22T18:18:13.389Z"
   },
   {
    "duration": 21,
    "start_time": "2021-12-22T18:18:13.423Z"
   },
   {
    "duration": 10,
    "start_time": "2021-12-22T18:18:13.447Z"
   },
   {
    "duration": 17,
    "start_time": "2021-12-22T18:18:13.460Z"
   },
   {
    "duration": 631,
    "start_time": "2021-12-22T18:18:13.480Z"
   },
   {
    "duration": 254,
    "start_time": "2021-12-22T18:18:14.113Z"
   },
   {
    "duration": 33,
    "start_time": "2021-12-22T18:18:14.370Z"
   },
   {
    "duration": 425,
    "start_time": "2021-12-22T18:18:14.406Z"
   },
   {
    "duration": 428,
    "start_time": "2021-12-22T18:18:14.834Z"
   },
   {
    "duration": 27,
    "start_time": "2021-12-22T18:18:15.267Z"
   },
   {
    "duration": 650,
    "start_time": "2021-12-22T18:18:15.296Z"
   },
   {
    "duration": 260,
    "start_time": "2021-12-22T18:18:15.948Z"
   },
   {
    "duration": 25,
    "start_time": "2021-12-22T18:18:16.211Z"
   },
   {
    "duration": 323,
    "start_time": "2021-12-22T18:18:16.239Z"
   },
   {
    "duration": 273,
    "start_time": "2021-12-22T18:18:16.565Z"
   },
   {
    "duration": 37,
    "start_time": "2021-12-22T18:18:16.842Z"
   },
   {
    "duration": 1484,
    "start_time": "2021-12-22T18:21:30.416Z"
   },
   {
    "duration": 57,
    "start_time": "2021-12-22T18:21:31.903Z"
   },
   {
    "duration": 7,
    "start_time": "2021-12-22T18:21:31.965Z"
   },
   {
    "duration": 60,
    "start_time": "2021-12-22T18:21:31.975Z"
   },
   {
    "duration": 29,
    "start_time": "2021-12-22T18:21:32.038Z"
   },
   {
    "duration": 17,
    "start_time": "2021-12-22T18:21:32.070Z"
   },
   {
    "duration": 3,
    "start_time": "2021-12-22T18:21:32.089Z"
   },
   {
    "duration": 9,
    "start_time": "2021-12-22T18:21:32.096Z"
   },
   {
    "duration": 6,
    "start_time": "2021-12-22T18:21:32.108Z"
   },
   {
    "duration": 50,
    "start_time": "2021-12-22T18:21:32.116Z"
   },
   {
    "duration": 19,
    "start_time": "2021-12-22T18:21:32.169Z"
   },
   {
    "duration": 5,
    "start_time": "2021-12-22T18:21:32.190Z"
   },
   {
    "duration": 10,
    "start_time": "2021-12-22T18:21:32.198Z"
   },
   {
    "duration": 58,
    "start_time": "2021-12-22T18:21:32.211Z"
   },
   {
    "duration": 71,
    "start_time": "2021-12-22T18:21:32.272Z"
   },
   {
    "duration": 3,
    "start_time": "2021-12-22T18:21:32.362Z"
   },
   {
    "duration": 15,
    "start_time": "2021-12-22T18:21:32.368Z"
   },
   {
    "duration": 2,
    "start_time": "2021-12-22T18:21:32.386Z"
   },
   {
    "duration": 8,
    "start_time": "2021-12-22T18:21:32.390Z"
   },
   {
    "duration": 6,
    "start_time": "2021-12-22T18:21:32.400Z"
   },
   {
    "duration": 155,
    "start_time": "2021-12-22T18:21:32.408Z"
   },
   {
    "duration": 354,
    "start_time": "2021-12-22T18:21:32.567Z"
   },
   {
    "duration": 655,
    "start_time": "2021-12-22T18:21:32.926Z"
   },
   {
    "duration": 9,
    "start_time": "2021-12-22T18:21:33.584Z"
   },
   {
    "duration": 33,
    "start_time": "2021-12-22T18:21:33.595Z"
   },
   {
    "duration": 528,
    "start_time": "2021-12-22T18:21:33.630Z"
   },
   {
    "duration": 26,
    "start_time": "2021-12-22T18:21:34.163Z"
   },
   {
    "duration": 348,
    "start_time": "2021-12-22T18:21:34.192Z"
   },
   {
    "duration": 278,
    "start_time": "2021-12-22T18:21:34.543Z"
   },
   {
    "duration": 40,
    "start_time": "2021-12-22T18:21:34.824Z"
   },
   {
    "duration": 12,
    "start_time": "2021-12-22T18:21:34.866Z"
   },
   {
    "duration": 6,
    "start_time": "2021-12-22T18:21:34.880Z"
   },
   {
    "duration": 11,
    "start_time": "2021-12-22T18:21:34.888Z"
   },
   {
    "duration": 3,
    "start_time": "2021-12-22T18:21:34.902Z"
   },
   {
    "duration": 4,
    "start_time": "2021-12-22T18:21:34.907Z"
   },
   {
    "duration": 3,
    "start_time": "2021-12-22T18:21:34.964Z"
   },
   {
    "duration": 723,
    "start_time": "2021-12-22T18:21:34.970Z"
   },
   {
    "duration": 235,
    "start_time": "2021-12-22T18:21:35.695Z"
   },
   {
    "duration": 32,
    "start_time": "2021-12-22T18:21:35.933Z"
   },
   {
    "duration": 299,
    "start_time": "2021-12-22T18:21:35.967Z"
   },
   {
    "duration": 337,
    "start_time": "2021-12-22T18:21:36.268Z"
   },
   {
    "duration": 26,
    "start_time": "2021-12-22T18:21:36.607Z"
   },
   {
    "duration": 1452,
    "start_time": "2021-12-22T18:23:56.479Z"
   },
   {
    "duration": 58,
    "start_time": "2021-12-22T18:23:57.934Z"
   },
   {
    "duration": 8,
    "start_time": "2021-12-22T18:23:57.995Z"
   },
   {
    "duration": 88,
    "start_time": "2021-12-22T18:23:58.005Z"
   },
   {
    "duration": 10,
    "start_time": "2021-12-22T18:23:58.096Z"
   },
   {
    "duration": 18,
    "start_time": "2021-12-22T18:23:58.109Z"
   },
   {
    "duration": 34,
    "start_time": "2021-12-22T18:23:58.130Z"
   },
   {
    "duration": 9,
    "start_time": "2021-12-22T18:23:58.168Z"
   },
   {
    "duration": 6,
    "start_time": "2021-12-22T18:23:58.180Z"
   },
   {
    "duration": 9,
    "start_time": "2021-12-22T18:23:58.188Z"
   },
   {
    "duration": 22,
    "start_time": "2021-12-22T18:23:58.199Z"
   },
   {
    "duration": 43,
    "start_time": "2021-12-22T18:23:58.224Z"
   },
   {
    "duration": 13,
    "start_time": "2021-12-22T18:23:58.271Z"
   },
   {
    "duration": 12,
    "start_time": "2021-12-22T18:23:58.287Z"
   },
   {
    "duration": 111,
    "start_time": "2021-12-22T18:23:58.302Z"
   },
   {
    "duration": 3,
    "start_time": "2021-12-22T18:23:58.416Z"
   },
   {
    "duration": 15,
    "start_time": "2021-12-22T18:23:58.422Z"
   },
   {
    "duration": 3,
    "start_time": "2021-12-22T18:23:58.440Z"
   },
   {
    "duration": 3,
    "start_time": "2021-12-22T18:23:58.464Z"
   },
   {
    "duration": 7,
    "start_time": "2021-12-22T18:23:58.469Z"
   },
   {
    "duration": 90,
    "start_time": "2021-12-22T18:23:58.478Z"
   },
   {
    "duration": 399,
    "start_time": "2021-12-22T18:23:58.571Z"
   },
   {
    "duration": 647,
    "start_time": "2021-12-22T18:23:58.976Z"
   },
   {
    "duration": 9,
    "start_time": "2021-12-22T18:23:59.626Z"
   },
   {
    "duration": 50,
    "start_time": "2021-12-22T18:23:59.638Z"
   },
   {
    "duration": 395,
    "start_time": "2021-12-22T18:23:59.690Z"
   },
   {
    "duration": 23,
    "start_time": "2021-12-22T18:24:00.087Z"
   },
   {
    "duration": 320,
    "start_time": "2021-12-22T18:24:00.113Z"
   },
   {
    "duration": 269,
    "start_time": "2021-12-22T18:24:00.436Z"
   },
   {
    "duration": 28,
    "start_time": "2021-12-22T18:24:00.708Z"
   },
   {
    "duration": 26,
    "start_time": "2021-12-22T18:24:00.739Z"
   },
   {
    "duration": 5,
    "start_time": "2021-12-22T18:24:00.768Z"
   },
   {
    "duration": 16,
    "start_time": "2021-12-22T18:24:00.776Z"
   },
   {
    "duration": 5,
    "start_time": "2021-12-22T18:24:00.794Z"
   },
   {
    "duration": 16,
    "start_time": "2021-12-22T18:24:00.801Z"
   },
   {
    "duration": 13,
    "start_time": "2021-12-22T18:24:00.820Z"
   },
   {
    "duration": 637,
    "start_time": "2021-12-22T18:24:00.835Z"
   },
   {
    "duration": 245,
    "start_time": "2021-12-22T18:24:01.475Z"
   },
   {
    "duration": 24,
    "start_time": "2021-12-22T18:24:01.722Z"
   },
   {
    "duration": 312,
    "start_time": "2021-12-22T18:24:01.748Z"
   },
   {
    "duration": 427,
    "start_time": "2021-12-22T18:24:02.062Z"
   },
   {
    "duration": 26,
    "start_time": "2021-12-22T18:24:02.491Z"
   },
   {
    "duration": 225525,
    "start_time": "2021-12-22T18:24:02.520Z"
   },
   {
    "duration": 626,
    "start_time": "2021-12-22T18:27:48.047Z"
   },
   {
    "duration": 246,
    "start_time": "2021-12-22T18:27:48.676Z"
   },
   {
    "duration": 23,
    "start_time": "2021-12-22T18:27:48.925Z"
   },
   {
    "duration": 306,
    "start_time": "2021-12-22T18:27:48.963Z"
   },
   {
    "duration": 281,
    "start_time": "2021-12-22T18:27:49.272Z"
   },
   {
    "duration": 29,
    "start_time": "2021-12-22T18:27:49.563Z"
   },
   {
    "duration": 1657,
    "start_time": "2021-12-22T18:42:04.939Z"
   },
   {
    "duration": 72,
    "start_time": "2021-12-22T18:42:06.600Z"
   },
   {
    "duration": 8,
    "start_time": "2021-12-22T18:42:06.679Z"
   },
   {
    "duration": 113,
    "start_time": "2021-12-22T18:42:06.690Z"
   },
   {
    "duration": 12,
    "start_time": "2021-12-22T18:42:06.805Z"
   },
   {
    "duration": 42,
    "start_time": "2021-12-22T18:42:06.820Z"
   },
   {
    "duration": 4,
    "start_time": "2021-12-22T18:42:06.866Z"
   },
   {
    "duration": 10,
    "start_time": "2021-12-22T18:42:06.874Z"
   },
   {
    "duration": 7,
    "start_time": "2021-12-22T18:42:06.887Z"
   },
   {
    "duration": 8,
    "start_time": "2021-12-22T18:42:06.897Z"
   },
   {
    "duration": 61,
    "start_time": "2021-12-22T18:42:06.908Z"
   },
   {
    "duration": 7,
    "start_time": "2021-12-22T18:42:06.972Z"
   },
   {
    "duration": 11,
    "start_time": "2021-12-22T18:42:06.982Z"
   },
   {
    "duration": 11,
    "start_time": "2021-12-22T18:42:06.996Z"
   },
   {
    "duration": 113,
    "start_time": "2021-12-22T18:42:07.010Z"
   },
   {
    "duration": 3,
    "start_time": "2021-12-22T18:42:07.126Z"
   },
   {
    "duration": 44,
    "start_time": "2021-12-22T18:42:07.132Z"
   },
   {
    "duration": 4,
    "start_time": "2021-12-22T18:42:07.179Z"
   },
   {
    "duration": 16,
    "start_time": "2021-12-22T18:42:07.185Z"
   },
   {
    "duration": 11,
    "start_time": "2021-12-22T18:42:07.203Z"
   },
   {
    "duration": 60,
    "start_time": "2021-12-22T18:42:07.216Z"
   },
   {
    "duration": 324,
    "start_time": "2021-12-22T18:42:07.370Z"
   },
   {
    "duration": 881,
    "start_time": "2021-12-22T18:42:07.698Z"
   },
   {
    "duration": 11,
    "start_time": "2021-12-22T18:42:08.582Z"
   },
   {
    "duration": 30,
    "start_time": "2021-12-22T18:42:08.596Z"
   },
   {
    "duration": 415,
    "start_time": "2021-12-22T18:42:08.629Z"
   },
   {
    "duration": 28,
    "start_time": "2021-12-22T18:42:09.047Z"
   },
   {
    "duration": 443,
    "start_time": "2021-12-22T18:42:09.077Z"
   },
   {
    "duration": 406,
    "start_time": "2021-12-22T18:42:09.524Z"
   },
   {
    "duration": 32,
    "start_time": "2021-12-22T18:42:09.933Z"
   },
   {
    "duration": 9,
    "start_time": "2021-12-22T18:42:09.968Z"
   },
   {
    "duration": 8,
    "start_time": "2021-12-22T18:42:09.979Z"
   },
   {
    "duration": 15,
    "start_time": "2021-12-22T18:42:09.990Z"
   },
   {
    "duration": 3,
    "start_time": "2021-12-22T18:42:10.008Z"
   },
   {
    "duration": 49,
    "start_time": "2021-12-22T18:42:10.014Z"
   },
   {
    "duration": 4,
    "start_time": "2021-12-22T18:42:10.066Z"
   },
   {
    "duration": 1017,
    "start_time": "2021-12-22T18:42:10.072Z"
   },
   {
    "duration": 629,
    "start_time": "2021-12-22T18:42:11.091Z"
   },
   {
    "duration": 267,
    "start_time": "2021-12-22T18:42:11.723Z"
   },
   {
    "duration": 26,
    "start_time": "2021-12-22T18:42:11.993Z"
   },
   {
    "duration": 326,
    "start_time": "2021-12-22T18:42:12.022Z"
   },
   {
    "duration": 351,
    "start_time": "2021-12-22T18:42:12.352Z"
   },
   {
    "duration": 27,
    "start_time": "2021-12-22T18:42:12.707Z"
   },
   {
    "duration": 637,
    "start_time": "2021-12-22T18:42:12.737Z"
   },
   {
    "duration": 459,
    "start_time": "2021-12-22T18:42:13.377Z"
   },
   {
    "duration": -396,
    "start_time": "2021-12-22T18:42:14.236Z"
   },
   {
    "duration": -402,
    "start_time": "2021-12-22T18:42:14.243Z"
   },
   {
    "duration": -407,
    "start_time": "2021-12-22T18:42:14.249Z"
   },
   {
    "duration": -424,
    "start_time": "2021-12-22T18:42:14.268Z"
   },
   {
    "duration": -429,
    "start_time": "2021-12-22T18:42:14.275Z"
   },
   {
    "duration": 1518,
    "start_time": "2021-12-22T18:42:46.728Z"
   },
   {
    "duration": 61,
    "start_time": "2021-12-22T18:42:48.248Z"
   },
   {
    "duration": 7,
    "start_time": "2021-12-22T18:42:48.312Z"
   },
   {
    "duration": 82,
    "start_time": "2021-12-22T18:42:48.321Z"
   },
   {
    "duration": 10,
    "start_time": "2021-12-22T18:42:48.405Z"
   },
   {
    "duration": 18,
    "start_time": "2021-12-22T18:42:48.417Z"
   },
   {
    "duration": 27,
    "start_time": "2021-12-22T18:42:48.437Z"
   },
   {
    "duration": 10,
    "start_time": "2021-12-22T18:42:48.470Z"
   },
   {
    "duration": 6,
    "start_time": "2021-12-22T18:42:48.484Z"
   },
   {
    "duration": 7,
    "start_time": "2021-12-22T18:42:48.493Z"
   },
   {
    "duration": 61,
    "start_time": "2021-12-22T18:42:48.503Z"
   },
   {
    "duration": 6,
    "start_time": "2021-12-22T18:42:48.567Z"
   },
   {
    "duration": 14,
    "start_time": "2021-12-22T18:42:48.575Z"
   },
   {
    "duration": 11,
    "start_time": "2021-12-22T18:42:48.592Z"
   },
   {
    "duration": 124,
    "start_time": "2021-12-22T18:42:48.606Z"
   },
   {
    "duration": 3,
    "start_time": "2021-12-22T18:42:48.733Z"
   },
   {
    "duration": 38,
    "start_time": "2021-12-22T18:42:48.739Z"
   },
   {
    "duration": 3,
    "start_time": "2021-12-22T18:42:48.780Z"
   },
   {
    "duration": 13,
    "start_time": "2021-12-22T18:42:48.786Z"
   },
   {
    "duration": 7,
    "start_time": "2021-12-22T18:42:48.801Z"
   },
   {
    "duration": 62,
    "start_time": "2021-12-22T18:42:48.810Z"
   },
   {
    "duration": 419,
    "start_time": "2021-12-22T18:42:48.874Z"
   },
   {
    "duration": 636,
    "start_time": "2021-12-22T18:42:49.300Z"
   },
   {
    "duration": 9,
    "start_time": "2021-12-22T18:42:49.939Z"
   },
   {
    "duration": 31,
    "start_time": "2021-12-22T18:42:49.963Z"
   },
   {
    "duration": 418,
    "start_time": "2021-12-22T18:42:49.996Z"
   },
   {
    "duration": 29,
    "start_time": "2021-12-22T18:42:50.417Z"
   },
   {
    "duration": 309,
    "start_time": "2021-12-22T18:42:50.463Z"
   },
   {
    "duration": 268,
    "start_time": "2021-12-22T18:42:50.774Z"
   },
   {
    "duration": 39,
    "start_time": "2021-12-22T18:42:51.046Z"
   },
   {
    "duration": 12,
    "start_time": "2021-12-22T18:42:51.088Z"
   },
   {
    "duration": 8,
    "start_time": "2021-12-22T18:42:51.102Z"
   },
   {
    "duration": 11,
    "start_time": "2021-12-22T18:42:51.113Z"
   },
   {
    "duration": 3,
    "start_time": "2021-12-22T18:42:51.162Z"
   },
   {
    "duration": 5,
    "start_time": "2021-12-22T18:42:51.168Z"
   },
   {
    "duration": 3,
    "start_time": "2021-12-22T18:42:51.176Z"
   },
   {
    "duration": 1043,
    "start_time": "2021-12-22T18:42:51.182Z"
   },
   {
    "duration": 622,
    "start_time": "2021-12-22T18:42:52.227Z"
   },
   {
    "duration": 251,
    "start_time": "2021-12-22T18:42:52.852Z"
   },
   {
    "duration": 24,
    "start_time": "2021-12-22T18:42:53.106Z"
   },
   {
    "duration": 332,
    "start_time": "2021-12-22T18:42:53.132Z"
   },
   {
    "duration": 330,
    "start_time": "2021-12-22T18:42:53.466Z"
   },
   {
    "duration": 26,
    "start_time": "2021-12-22T18:42:53.799Z"
   },
   {
    "duration": 643,
    "start_time": "2021-12-22T18:42:53.828Z"
   },
   {
    "duration": 1039,
    "start_time": "2021-12-22T18:42:54.473Z"
   },
   {
    "duration": -449,
    "start_time": "2021-12-22T18:42:55.964Z"
   },
   {
    "duration": -459,
    "start_time": "2021-12-22T18:42:55.976Z"
   },
   {
    "duration": -465,
    "start_time": "2021-12-22T18:42:55.984Z"
   },
   {
    "duration": -473,
    "start_time": "2021-12-22T18:42:55.994Z"
   },
   {
    "duration": -478,
    "start_time": "2021-12-22T18:42:56.001Z"
   },
   {
    "duration": 1407,
    "start_time": "2021-12-22T18:43:17.805Z"
   },
   {
    "duration": 60,
    "start_time": "2021-12-22T18:43:19.215Z"
   },
   {
    "duration": 8,
    "start_time": "2021-12-22T18:43:19.279Z"
   },
   {
    "duration": 92,
    "start_time": "2021-12-22T18:43:19.291Z"
   },
   {
    "duration": 12,
    "start_time": "2021-12-22T18:43:19.386Z"
   },
   {
    "duration": 17,
    "start_time": "2021-12-22T18:43:19.400Z"
   },
   {
    "duration": 3,
    "start_time": "2021-12-22T18:43:19.420Z"
   },
   {
    "duration": 8,
    "start_time": "2021-12-22T18:43:19.463Z"
   },
   {
    "duration": 6,
    "start_time": "2021-12-22T18:43:19.474Z"
   },
   {
    "duration": 8,
    "start_time": "2021-12-22T18:43:19.482Z"
   },
   {
    "duration": 20,
    "start_time": "2021-12-22T18:43:19.492Z"
   },
   {
    "duration": 6,
    "start_time": "2021-12-22T18:43:19.515Z"
   },
   {
    "duration": 12,
    "start_time": "2021-12-22T18:43:19.563Z"
   },
   {
    "duration": 10,
    "start_time": "2021-12-22T18:43:19.579Z"
   },
   {
    "duration": 106,
    "start_time": "2021-12-22T18:43:19.592Z"
   },
   {
    "duration": 3,
    "start_time": "2021-12-22T18:43:19.701Z"
   },
   {
    "duration": 17,
    "start_time": "2021-12-22T18:43:19.706Z"
   },
   {
    "duration": 3,
    "start_time": "2021-12-22T18:43:19.725Z"
   },
   {
    "duration": 4,
    "start_time": "2021-12-22T18:43:19.730Z"
   },
   {
    "duration": 6,
    "start_time": "2021-12-22T18:43:19.763Z"
   },
   {
    "duration": 97,
    "start_time": "2021-12-22T18:43:19.771Z"
   },
   {
    "duration": 341,
    "start_time": "2021-12-22T18:43:19.871Z"
   },
   {
    "duration": 649,
    "start_time": "2021-12-22T18:43:20.218Z"
   },
   {
    "duration": 8,
    "start_time": "2021-12-22T18:43:20.870Z"
   },
   {
    "duration": 30,
    "start_time": "2021-12-22T18:43:20.881Z"
   },
   {
    "duration": 615,
    "start_time": "2021-12-22T18:43:20.914Z"
   },
   {
    "duration": 54,
    "start_time": "2021-12-22T18:43:21.532Z"
   },
   {
    "duration": 395,
    "start_time": "2021-12-22T18:43:21.590Z"
   },
   {
    "duration": 275,
    "start_time": "2021-12-22T18:43:21.988Z"
   },
   {
    "duration": 25,
    "start_time": "2021-12-22T18:43:22.265Z"
   },
   {
    "duration": 10,
    "start_time": "2021-12-22T18:43:22.293Z"
   },
   {
    "duration": 6,
    "start_time": "2021-12-22T18:43:22.305Z"
   },
   {
    "duration": 51,
    "start_time": "2021-12-22T18:43:22.314Z"
   },
   {
    "duration": 3,
    "start_time": "2021-12-22T18:43:22.368Z"
   },
   {
    "duration": 9,
    "start_time": "2021-12-22T18:43:22.374Z"
   },
   {
    "duration": 4,
    "start_time": "2021-12-22T18:43:22.386Z"
   },
   {
    "duration": 995,
    "start_time": "2021-12-22T18:43:22.393Z"
   },
   {
    "duration": 610,
    "start_time": "2021-12-22T18:43:23.390Z"
   },
   {
    "duration": 249,
    "start_time": "2021-12-22T18:43:24.003Z"
   },
   {
    "duration": 28,
    "start_time": "2021-12-22T18:43:24.254Z"
   },
   {
    "duration": 317,
    "start_time": "2021-12-22T18:43:24.284Z"
   },
   {
    "duration": 339,
    "start_time": "2021-12-22T18:43:24.603Z"
   },
   {
    "duration": 37,
    "start_time": "2021-12-22T18:43:24.944Z"
   },
   {
    "duration": 611,
    "start_time": "2021-12-22T18:43:24.984Z"
   },
   {
    "duration": 5514,
    "start_time": "2021-12-22T18:43:25.597Z"
   },
   {
    "duration": 253,
    "start_time": "2021-12-22T18:43:31.113Z"
   },
   {
    "duration": 25,
    "start_time": "2021-12-22T18:43:31.369Z"
   },
   {
    "duration": 318,
    "start_time": "2021-12-22T18:43:31.397Z"
   },
   {
    "duration": 281,
    "start_time": "2021-12-22T18:43:31.718Z"
   },
   {
    "duration": 28,
    "start_time": "2021-12-22T18:43:32.002Z"
   },
   {
    "duration": 1501,
    "start_time": "2021-12-22T18:48:54.123Z"
   },
   {
    "duration": 57,
    "start_time": "2021-12-22T18:48:55.626Z"
   },
   {
    "duration": 7,
    "start_time": "2021-12-22T18:48:55.687Z"
   },
   {
    "duration": 78,
    "start_time": "2021-12-22T18:48:55.697Z"
   },
   {
    "duration": 10,
    "start_time": "2021-12-22T18:48:55.778Z"
   },
   {
    "duration": 17,
    "start_time": "2021-12-22T18:48:55.791Z"
   },
   {
    "duration": 3,
    "start_time": "2021-12-22T18:48:55.810Z"
   },
   {
    "duration": 46,
    "start_time": "2021-12-22T18:48:55.818Z"
   },
   {
    "duration": 10,
    "start_time": "2021-12-22T18:48:55.867Z"
   },
   {
    "duration": 7,
    "start_time": "2021-12-22T18:48:55.879Z"
   },
   {
    "duration": 18,
    "start_time": "2021-12-22T18:48:55.888Z"
   },
   {
    "duration": 5,
    "start_time": "2021-12-22T18:48:55.909Z"
   },
   {
    "duration": 53,
    "start_time": "2021-12-22T18:48:55.917Z"
   },
   {
    "duration": 12,
    "start_time": "2021-12-22T18:48:55.973Z"
   },
   {
    "duration": 98,
    "start_time": "2021-12-22T18:48:55.987Z"
   },
   {
    "duration": 3,
    "start_time": "2021-12-22T18:48:56.087Z"
   },
   {
    "duration": 18,
    "start_time": "2021-12-22T18:48:56.092Z"
   },
   {
    "duration": 2,
    "start_time": "2021-12-22T18:48:56.112Z"
   },
   {
    "duration": 3,
    "start_time": "2021-12-22T18:48:56.117Z"
   },
   {
    "duration": 40,
    "start_time": "2021-12-22T18:48:56.122Z"
   },
   {
    "duration": 103,
    "start_time": "2021-12-22T18:48:56.164Z"
   },
   {
    "duration": 338,
    "start_time": "2021-12-22T18:48:56.271Z"
   },
   {
    "duration": 965,
    "start_time": "2021-12-22T18:48:56.618Z"
   },
   {
    "duration": 12,
    "start_time": "2021-12-22T18:48:57.588Z"
   },
   {
    "duration": 71,
    "start_time": "2021-12-22T18:48:57.603Z"
   },
   {
    "duration": 592,
    "start_time": "2021-12-22T18:48:57.677Z"
   },
   {
    "duration": 34,
    "start_time": "2021-12-22T18:48:58.272Z"
   },
   {
    "duration": 479,
    "start_time": "2021-12-22T18:48:58.309Z"
   },
   {
    "duration": 274,
    "start_time": "2021-12-22T18:48:58.790Z"
   },
   {
    "duration": 27,
    "start_time": "2021-12-22T18:48:59.066Z"
   },
   {
    "duration": 9,
    "start_time": "2021-12-22T18:48:59.095Z"
   },
   {
    "duration": 6,
    "start_time": "2021-12-22T18:48:59.107Z"
   },
   {
    "duration": 53,
    "start_time": "2021-12-22T18:48:59.115Z"
   },
   {
    "duration": 4,
    "start_time": "2021-12-22T18:48:59.171Z"
   },
   {
    "duration": 5,
    "start_time": "2021-12-22T18:48:59.178Z"
   },
   {
    "duration": 4,
    "start_time": "2021-12-22T18:48:59.186Z"
   },
   {
    "duration": 1084,
    "start_time": "2021-12-22T18:48:59.192Z"
   },
   {
    "duration": 616,
    "start_time": "2021-12-22T18:49:00.279Z"
   },
   {
    "duration": 255,
    "start_time": "2021-12-22T18:49:00.898Z"
   },
   {
    "duration": 26,
    "start_time": "2021-12-22T18:49:01.163Z"
   },
   {
    "duration": 323,
    "start_time": "2021-12-22T18:49:01.191Z"
   },
   {
    "duration": 338,
    "start_time": "2021-12-22T18:49:01.517Z"
   },
   {
    "duration": 26,
    "start_time": "2021-12-22T18:49:01.858Z"
   },
   {
    "duration": 622,
    "start_time": "2021-12-22T18:49:01.887Z"
   },
   {
    "duration": 1910,
    "start_time": "2021-12-22T18:49:02.511Z"
   },
   {
    "duration": 5506,
    "start_time": "2021-12-22T18:49:04.424Z"
   },
   {
    "duration": 259,
    "start_time": "2021-12-22T18:49:09.933Z"
   },
   {
    "duration": 25,
    "start_time": "2021-12-22T18:49:10.195Z"
   },
   {
    "duration": 320,
    "start_time": "2021-12-22T18:49:10.222Z"
   },
   {
    "duration": 277,
    "start_time": "2021-12-22T18:49:10.545Z"
   },
   {
    "duration": 39,
    "start_time": "2021-12-22T18:49:10.824Z"
   },
   {
    "duration": 1528,
    "start_time": "2021-12-22T19:00:13.784Z"
   },
   {
    "duration": 64,
    "start_time": "2021-12-22T19:00:15.315Z"
   },
   {
    "duration": 9,
    "start_time": "2021-12-22T19:00:15.382Z"
   },
   {
    "duration": 83,
    "start_time": "2021-12-22T19:00:15.394Z"
   },
   {
    "duration": 10,
    "start_time": "2021-12-22T19:00:15.479Z"
   },
   {
    "duration": 23,
    "start_time": "2021-12-22T19:00:15.491Z"
   },
   {
    "duration": 3,
    "start_time": "2021-12-22T19:00:15.516Z"
   },
   {
    "duration": 9,
    "start_time": "2021-12-22T19:00:15.523Z"
   },
   {
    "duration": 6,
    "start_time": "2021-12-22T19:00:15.562Z"
   },
   {
    "duration": 7,
    "start_time": "2021-12-22T19:00:15.570Z"
   },
   {
    "duration": 19,
    "start_time": "2021-12-22T19:00:15.579Z"
   },
   {
    "duration": 8,
    "start_time": "2021-12-22T19:00:15.601Z"
   },
   {
    "duration": 11,
    "start_time": "2021-12-22T19:00:15.611Z"
   },
   {
    "duration": 9,
    "start_time": "2021-12-22T19:00:15.663Z"
   },
   {
    "duration": 66,
    "start_time": "2021-12-22T19:00:15.675Z"
   },
   {
    "duration": 3,
    "start_time": "2021-12-22T19:00:15.764Z"
   },
   {
    "duration": 17,
    "start_time": "2021-12-22T19:00:15.769Z"
   },
   {
    "duration": 3,
    "start_time": "2021-12-22T19:00:15.788Z"
   },
   {
    "duration": 9,
    "start_time": "2021-12-22T19:00:15.793Z"
   },
   {
    "duration": 9,
    "start_time": "2021-12-22T19:00:15.804Z"
   },
   {
    "duration": 148,
    "start_time": "2021-12-22T19:00:15.816Z"
   },
   {
    "duration": 333,
    "start_time": "2021-12-22T19:00:15.967Z"
   },
   {
    "duration": 658,
    "start_time": "2021-12-22T19:00:16.307Z"
   },
   {
    "duration": 11,
    "start_time": "2021-12-22T19:00:16.969Z"
   },
   {
    "duration": 33,
    "start_time": "2021-12-22T19:00:16.983Z"
   },
   {
    "duration": 473,
    "start_time": "2021-12-22T19:00:17.018Z"
   },
   {
    "duration": 27,
    "start_time": "2021-12-22T19:00:17.494Z"
   },
   {
    "duration": 350,
    "start_time": "2021-12-22T19:00:17.523Z"
   },
   {
    "duration": 290,
    "start_time": "2021-12-22T19:00:17.876Z"
   },
   {
    "duration": 27,
    "start_time": "2021-12-22T19:00:18.168Z"
   },
   {
    "duration": 17,
    "start_time": "2021-12-22T19:00:18.198Z"
   },
   {
    "duration": 7,
    "start_time": "2021-12-22T19:00:18.218Z"
   },
   {
    "duration": 49,
    "start_time": "2021-12-22T19:00:18.227Z"
   },
   {
    "duration": 4,
    "start_time": "2021-12-22T19:00:18.279Z"
   },
   {
    "duration": 12,
    "start_time": "2021-12-22T19:00:18.286Z"
   },
   {
    "duration": 10,
    "start_time": "2021-12-22T19:00:18.301Z"
   },
   {
    "duration": 1040,
    "start_time": "2021-12-22T19:00:18.314Z"
   },
   {
    "duration": 894,
    "start_time": "2021-12-22T19:00:19.357Z"
   },
   {
    "duration": 396,
    "start_time": "2021-12-22T19:00:20.254Z"
   },
   {
    "duration": 30,
    "start_time": "2021-12-22T19:00:20.654Z"
   },
   {
    "duration": 326,
    "start_time": "2021-12-22T19:00:20.686Z"
   },
   {
    "duration": 340,
    "start_time": "2021-12-22T19:00:21.015Z"
   },
   {
    "duration": 26,
    "start_time": "2021-12-22T19:00:21.358Z"
   },
   {
    "duration": 645,
    "start_time": "2021-12-22T19:00:21.386Z"
   },
   {
    "duration": 5561,
    "start_time": "2021-12-22T19:00:22.034Z"
   },
   {
    "duration": 6313,
    "start_time": "2021-12-22T19:00:27.597Z"
   },
   {
    "duration": 268,
    "start_time": "2021-12-22T19:00:33.913Z"
   },
   {
    "duration": 33,
    "start_time": "2021-12-22T19:00:34.184Z"
   },
   {
    "duration": 394,
    "start_time": "2021-12-22T19:00:34.220Z"
   },
   {
    "duration": 277,
    "start_time": "2021-12-22T19:00:34.617Z"
   },
   {
    "duration": 29,
    "start_time": "2021-12-22T19:00:34.897Z"
   },
   {
    "duration": 1413,
    "start_time": "2021-12-22T19:09:25.495Z"
   },
   {
    "duration": 58,
    "start_time": "2021-12-22T19:09:26.910Z"
   },
   {
    "duration": 7,
    "start_time": "2021-12-22T19:09:26.971Z"
   },
   {
    "duration": 65,
    "start_time": "2021-12-22T19:09:26.981Z"
   },
   {
    "duration": 10,
    "start_time": "2021-12-22T19:09:27.062Z"
   },
   {
    "duration": 18,
    "start_time": "2021-12-22T19:09:27.074Z"
   },
   {
    "duration": 3,
    "start_time": "2021-12-22T19:09:27.095Z"
   },
   {
    "duration": 13,
    "start_time": "2021-12-22T19:09:27.101Z"
   },
   {
    "duration": 5,
    "start_time": "2021-12-22T19:09:27.118Z"
   },
   {
    "duration": 6,
    "start_time": "2021-12-22T19:09:27.162Z"
   },
   {
    "duration": 25,
    "start_time": "2021-12-22T19:09:27.171Z"
   },
   {
    "duration": 7,
    "start_time": "2021-12-22T19:09:27.198Z"
   },
   {
    "duration": 13,
    "start_time": "2021-12-22T19:09:27.207Z"
   },
   {
    "duration": 45,
    "start_time": "2021-12-22T19:09:27.223Z"
   },
   {
    "duration": 64,
    "start_time": "2021-12-22T19:09:27.270Z"
   },
   {
    "duration": 3,
    "start_time": "2021-12-22T19:09:27.336Z"
   },
   {
    "duration": 16,
    "start_time": "2021-12-22T19:09:27.362Z"
   },
   {
    "duration": 3,
    "start_time": "2021-12-22T19:09:27.380Z"
   },
   {
    "duration": 4,
    "start_time": "2021-12-22T19:09:27.386Z"
   },
   {
    "duration": 13,
    "start_time": "2021-12-22T19:09:27.392Z"
   },
   {
    "duration": 155,
    "start_time": "2021-12-22T19:09:27.408Z"
   },
   {
    "duration": 334,
    "start_time": "2021-12-22T19:09:27.567Z"
   },
   {
    "duration": 629,
    "start_time": "2021-12-22T19:09:27.907Z"
   },
   {
    "duration": 24,
    "start_time": "2021-12-22T19:09:28.539Z"
   },
   {
    "duration": 32,
    "start_time": "2021-12-22T19:09:28.565Z"
   },
   {
    "duration": 399,
    "start_time": "2021-12-22T19:09:28.600Z"
   },
   {
    "duration": 23,
    "start_time": "2021-12-22T19:09:29.001Z"
   },
   {
    "duration": 330,
    "start_time": "2021-12-22T19:09:29.027Z"
   },
   {
    "duration": 268,
    "start_time": "2021-12-22T19:09:29.363Z"
   },
   {
    "duration": 39,
    "start_time": "2021-12-22T19:09:29.633Z"
   },
   {
    "duration": 11,
    "start_time": "2021-12-22T19:09:29.674Z"
   },
   {
    "duration": 6,
    "start_time": "2021-12-22T19:09:29.687Z"
   },
   {
    "duration": 15,
    "start_time": "2021-12-22T19:09:29.695Z"
   },
   {
    "duration": 3,
    "start_time": "2021-12-22T19:09:29.713Z"
   },
   {
    "duration": 5,
    "start_time": "2021-12-22T19:09:29.718Z"
   },
   {
    "duration": 4,
    "start_time": "2021-12-22T19:09:29.764Z"
   },
   {
    "duration": 991,
    "start_time": "2021-12-22T19:09:29.771Z"
   },
   {
    "duration": 620,
    "start_time": "2021-12-22T19:09:30.765Z"
   },
   {
    "duration": 261,
    "start_time": "2021-12-22T19:09:31.387Z"
   },
   {
    "duration": 33,
    "start_time": "2021-12-22T19:09:31.650Z"
   },
   {
    "duration": 306,
    "start_time": "2021-12-22T19:09:31.686Z"
   },
   {
    "duration": 333,
    "start_time": "2021-12-22T19:09:31.995Z"
   },
   {
    "duration": 38,
    "start_time": "2021-12-22T19:09:32.330Z"
   },
   {
    "duration": 5892,
    "start_time": "2021-12-22T19:09:32.371Z"
   },
   {
    "duration": 6023,
    "start_time": "2021-12-22T19:09:38.265Z"
   },
   {
    "duration": 625,
    "start_time": "2021-12-22T19:09:44.291Z"
   },
   {
    "duration": 5527,
    "start_time": "2021-12-22T19:09:44.919Z"
   },
   {
    "duration": 5889,
    "start_time": "2021-12-22T19:09:50.448Z"
   },
   {
    "duration": 264,
    "start_time": "2021-12-22T19:09:56.340Z"
   },
   {
    "duration": 27,
    "start_time": "2021-12-22T19:09:56.607Z"
   },
   {
    "duration": 321,
    "start_time": "2021-12-22T19:09:56.637Z"
   },
   {
    "duration": 270,
    "start_time": "2021-12-22T19:09:56.964Z"
   },
   {
    "duration": 38,
    "start_time": "2021-12-22T19:09:57.236Z"
   },
   {
    "duration": 322,
    "start_time": "2021-12-23T18:01:29.397Z"
   },
   {
    "duration": 1451,
    "start_time": "2021-12-23T18:01:35.189Z"
   },
   {
    "duration": 135,
    "start_time": "2021-12-23T18:01:36.642Z"
   },
   {
    "duration": 8,
    "start_time": "2021-12-23T18:01:36.780Z"
   },
   {
    "duration": 62,
    "start_time": "2021-12-23T18:01:36.791Z"
   },
   {
    "duration": 8,
    "start_time": "2021-12-23T18:01:36.856Z"
   },
   {
    "duration": 18,
    "start_time": "2021-12-23T18:01:36.867Z"
   },
   {
    "duration": 3,
    "start_time": "2021-12-23T18:01:36.887Z"
   },
   {
    "duration": 9,
    "start_time": "2021-12-23T18:01:36.924Z"
   },
   {
    "duration": 6,
    "start_time": "2021-12-23T18:01:36.937Z"
   },
   {
    "duration": 7,
    "start_time": "2021-12-23T18:01:36.946Z"
   },
   {
    "duration": 20,
    "start_time": "2021-12-23T18:01:36.955Z"
   },
   {
    "duration": 9,
    "start_time": "2021-12-23T18:01:36.977Z"
   },
   {
    "duration": 10,
    "start_time": "2021-12-23T18:01:37.024Z"
   },
   {
    "duration": 14,
    "start_time": "2021-12-23T18:01:37.036Z"
   },
   {
    "duration": 81,
    "start_time": "2021-12-23T18:01:37.053Z"
   },
   {
    "duration": 3,
    "start_time": "2021-12-23T18:01:37.136Z"
   },
   {
    "duration": 16,
    "start_time": "2021-12-23T18:01:37.141Z"
   },
   {
    "duration": 3,
    "start_time": "2021-12-23T18:01:37.160Z"
   },
   {
    "duration": 6,
    "start_time": "2021-12-23T18:01:37.165Z"
   },
   {
    "duration": 7,
    "start_time": "2021-12-23T18:01:37.173Z"
   },
   {
    "duration": 66,
    "start_time": "2021-12-23T18:01:37.182Z"
   },
   {
    "duration": 382,
    "start_time": "2021-12-23T18:01:37.251Z"
   },
   {
    "duration": 621,
    "start_time": "2021-12-23T18:01:37.638Z"
   },
   {
    "duration": 9,
    "start_time": "2021-12-23T18:01:38.262Z"
   },
   {
    "duration": 50,
    "start_time": "2021-12-23T18:01:38.273Z"
   },
   {
    "duration": 367,
    "start_time": "2021-12-23T18:01:38.325Z"
   },
   {
    "duration": 35,
    "start_time": "2021-12-23T18:01:38.694Z"
   },
   {
    "duration": 280,
    "start_time": "2021-12-23T18:01:38.731Z"
   },
   {
    "duration": 269,
    "start_time": "2021-12-23T18:01:39.013Z"
   },
   {
    "duration": 25,
    "start_time": "2021-12-23T18:01:39.285Z"
   },
   {
    "duration": 8,
    "start_time": "2021-12-23T18:01:39.324Z"
   },
   {
    "duration": 10,
    "start_time": "2021-12-23T18:01:39.335Z"
   },
   {
    "duration": 29,
    "start_time": "2021-12-23T18:01:39.348Z"
   },
   {
    "duration": 12,
    "start_time": "2021-12-23T18:01:39.379Z"
   },
   {
    "duration": 16,
    "start_time": "2021-12-23T18:01:39.393Z"
   },
   {
    "duration": 8,
    "start_time": "2021-12-23T18:01:39.412Z"
   },
   {
    "duration": 949,
    "start_time": "2021-12-23T18:01:39.422Z"
   },
   {
    "duration": 572,
    "start_time": "2021-12-23T18:01:40.373Z"
   },
   {
    "duration": 263,
    "start_time": "2021-12-23T18:01:40.948Z"
   },
   {
    "duration": 29,
    "start_time": "2021-12-23T18:01:41.214Z"
   },
   {
    "duration": 309,
    "start_time": "2021-12-23T18:01:41.246Z"
   },
   {
    "duration": 317,
    "start_time": "2021-12-23T18:01:41.558Z"
   },
   {
    "duration": 27,
    "start_time": "2021-12-23T18:01:41.878Z"
   },
   {
    "duration": 3,
    "start_time": "2021-12-23T18:02:33.180Z"
   },
   {
    "duration": 596,
    "start_time": "2021-12-23T18:02:33.186Z"
   },
   {
    "duration": 5112,
    "start_time": "2021-12-23T18:02:33.784Z"
   },
   {
    "duration": 5516,
    "start_time": "2021-12-23T18:02:38.898Z"
   },
   {
    "duration": 229,
    "start_time": "2021-12-23T18:02:44.417Z"
   },
   {
    "duration": 23,
    "start_time": "2021-12-23T18:02:44.649Z"
   },
   {
    "duration": 310,
    "start_time": "2021-12-23T18:02:44.674Z"
   },
   {
    "duration": 263,
    "start_time": "2021-12-23T18:02:44.986Z"
   },
   {
    "duration": 25,
    "start_time": "2021-12-23T18:02:45.252Z"
   },
   {
    "duration": 1476,
    "start_time": "2021-12-23T18:02:56.810Z"
   },
   {
    "duration": 55,
    "start_time": "2021-12-23T18:02:58.289Z"
   },
   {
    "duration": 7,
    "start_time": "2021-12-23T18:02:58.347Z"
   },
   {
    "duration": 81,
    "start_time": "2021-12-23T18:02:58.356Z"
   },
   {
    "duration": 9,
    "start_time": "2021-12-23T18:02:58.439Z"
   },
   {
    "duration": 20,
    "start_time": "2021-12-23T18:02:58.450Z"
   },
   {
    "duration": 3,
    "start_time": "2021-12-23T18:02:58.473Z"
   },
   {
    "duration": 44,
    "start_time": "2021-12-23T18:02:58.479Z"
   },
   {
    "duration": 8,
    "start_time": "2021-12-23T18:02:58.527Z"
   },
   {
    "duration": 8,
    "start_time": "2021-12-23T18:02:58.537Z"
   },
   {
    "duration": 21,
    "start_time": "2021-12-23T18:02:58.548Z"
   },
   {
    "duration": 5,
    "start_time": "2021-12-23T18:02:58.572Z"
   },
   {
    "duration": 47,
    "start_time": "2021-12-23T18:02:58.580Z"
   },
   {
    "duration": 14,
    "start_time": "2021-12-23T18:02:58.629Z"
   },
   {
    "duration": 82,
    "start_time": "2021-12-23T18:02:58.646Z"
   },
   {
    "duration": 3,
    "start_time": "2021-12-23T18:02:58.731Z"
   },
   {
    "duration": 20,
    "start_time": "2021-12-23T18:02:58.736Z"
   },
   {
    "duration": 3,
    "start_time": "2021-12-23T18:02:58.758Z"
   },
   {
    "duration": 5,
    "start_time": "2021-12-23T18:02:58.764Z"
   },
   {
    "duration": 7,
    "start_time": "2021-12-23T18:02:58.771Z"
   },
   {
    "duration": 68,
    "start_time": "2021-12-23T18:02:58.781Z"
   },
   {
    "duration": 379,
    "start_time": "2021-12-23T18:02:58.852Z"
   },
   {
    "duration": 598,
    "start_time": "2021-12-23T18:02:59.238Z"
   },
   {
    "duration": 11,
    "start_time": "2021-12-23T18:02:59.840Z"
   },
   {
    "duration": 29,
    "start_time": "2021-12-23T18:02:59.854Z"
   },
   {
    "duration": 399,
    "start_time": "2021-12-23T18:02:59.885Z"
   },
   {
    "duration": 24,
    "start_time": "2021-12-23T18:03:00.286Z"
   },
   {
    "duration": 299,
    "start_time": "2021-12-23T18:03:00.324Z"
   },
   {
    "duration": 263,
    "start_time": "2021-12-23T18:03:00.625Z"
   },
   {
    "duration": 37,
    "start_time": "2021-12-23T18:03:00.891Z"
   },
   {
    "duration": 9,
    "start_time": "2021-12-23T18:03:00.931Z"
   },
   {
    "duration": 7,
    "start_time": "2021-12-23T18:03:00.942Z"
   },
   {
    "duration": 12,
    "start_time": "2021-12-23T18:03:00.951Z"
   },
   {
    "duration": 3,
    "start_time": "2021-12-23T18:03:00.965Z"
   },
   {
    "duration": 8,
    "start_time": "2021-12-23T18:03:00.970Z"
   },
   {
    "duration": 43,
    "start_time": "2021-12-23T18:03:00.980Z"
   },
   {
    "duration": 954,
    "start_time": "2021-12-23T18:03:01.026Z"
   },
   {
    "duration": 594,
    "start_time": "2021-12-23T18:03:01.983Z"
   },
   {
    "duration": 236,
    "start_time": "2021-12-23T18:03:02.579Z"
   },
   {
    "duration": 24,
    "start_time": "2021-12-23T18:03:02.824Z"
   },
   {
    "duration": 307,
    "start_time": "2021-12-23T18:03:02.851Z"
   },
   {
    "duration": 322,
    "start_time": "2021-12-23T18:03:03.161Z"
   },
   {
    "duration": 37,
    "start_time": "2021-12-23T18:03:03.486Z"
   },
   {
    "duration": 1565,
    "start_time": "2021-12-23T18:03:27.877Z"
   },
   {
    "duration": 57,
    "start_time": "2021-12-23T18:03:29.445Z"
   },
   {
    "duration": 7,
    "start_time": "2021-12-23T18:03:29.505Z"
   },
   {
    "duration": 61,
    "start_time": "2021-12-23T18:03:29.523Z"
   },
   {
    "duration": 37,
    "start_time": "2021-12-23T18:03:29.587Z"
   },
   {
    "duration": 16,
    "start_time": "2021-12-23T18:03:29.627Z"
   },
   {
    "duration": 3,
    "start_time": "2021-12-23T18:03:29.646Z"
   },
   {
    "duration": 8,
    "start_time": "2021-12-23T18:03:29.654Z"
   },
   {
    "duration": 9,
    "start_time": "2021-12-23T18:03:29.665Z"
   },
   {
    "duration": 12,
    "start_time": "2021-12-23T18:03:29.676Z"
   },
   {
    "duration": 18,
    "start_time": "2021-12-23T18:03:29.724Z"
   },
   {
    "duration": 7,
    "start_time": "2021-12-23T18:03:29.744Z"
   },
   {
    "duration": 12,
    "start_time": "2021-12-23T18:03:29.753Z"
   },
   {
    "duration": 12,
    "start_time": "2021-12-23T18:03:29.768Z"
   },
   {
    "duration": 99,
    "start_time": "2021-12-23T18:03:29.783Z"
   },
   {
    "duration": 3,
    "start_time": "2021-12-23T18:03:29.884Z"
   },
   {
    "duration": 36,
    "start_time": "2021-12-23T18:03:29.889Z"
   },
   {
    "duration": 3,
    "start_time": "2021-12-23T18:03:29.928Z"
   },
   {
    "duration": 6,
    "start_time": "2021-12-23T18:03:29.933Z"
   },
   {
    "duration": 7,
    "start_time": "2021-12-23T18:03:29.942Z"
   },
   {
    "duration": 75,
    "start_time": "2021-12-23T18:03:29.952Z"
   },
   {
    "duration": 402,
    "start_time": "2021-12-23T18:03:30.031Z"
   },
   {
    "duration": 597,
    "start_time": "2021-12-23T18:03:30.439Z"
   },
   {
    "duration": 8,
    "start_time": "2021-12-23T18:03:31.039Z"
   },
   {
    "duration": 42,
    "start_time": "2021-12-23T18:03:31.049Z"
   },
   {
    "duration": 390,
    "start_time": "2021-12-23T18:03:31.093Z"
   },
   {
    "duration": 21,
    "start_time": "2021-12-23T18:03:31.486Z"
   },
   {
    "duration": 293,
    "start_time": "2021-12-23T18:03:31.524Z"
   },
   {
    "duration": 246,
    "start_time": "2021-12-23T18:03:31.823Z"
   },
   {
    "duration": 25,
    "start_time": "2021-12-23T18:03:32.072Z"
   },
   {
    "duration": 25,
    "start_time": "2021-12-23T18:03:32.099Z"
   },
   {
    "duration": 34,
    "start_time": "2021-12-23T18:03:32.126Z"
   },
   {
    "duration": 59,
    "start_time": "2021-12-23T18:03:32.162Z"
   },
   {
    "duration": 19,
    "start_time": "2021-12-23T18:03:32.224Z"
   },
   {
    "duration": 30,
    "start_time": "2021-12-23T18:03:32.246Z"
   },
   {
    "duration": 19,
    "start_time": "2021-12-23T18:03:32.278Z"
   },
   {
    "duration": 932,
    "start_time": "2021-12-23T18:03:32.299Z"
   },
   {
    "duration": 577,
    "start_time": "2021-12-23T18:03:33.233Z"
   },
   {
    "duration": 249,
    "start_time": "2021-12-23T18:03:33.812Z"
   },
   {
    "duration": 23,
    "start_time": "2021-12-23T18:03:34.064Z"
   },
   {
    "duration": 310,
    "start_time": "2021-12-23T18:03:34.090Z"
   },
   {
    "duration": 314,
    "start_time": "2021-12-23T18:03:34.403Z"
   },
   {
    "duration": 25,
    "start_time": "2021-12-23T18:03:34.720Z"
   },
   {
    "duration": 50524,
    "start_time": "2021-12-23T18:03:34.748Z"
   },
   {
    "duration": 4,
    "start_time": "2021-12-23T18:04:25.275Z"
   },
   {
    "duration": 594,
    "start_time": "2021-12-23T18:04:25.282Z"
   },
   {
    "duration": 5174,
    "start_time": "2021-12-23T18:04:25.878Z"
   },
   {
    "duration": 5954,
    "start_time": "2021-12-23T18:04:31.054Z"
   },
   {
    "duration": 233,
    "start_time": "2021-12-23T18:04:37.011Z"
   },
   {
    "duration": 24,
    "start_time": "2021-12-23T18:04:37.246Z"
   },
   {
    "duration": 311,
    "start_time": "2021-12-23T18:04:37.273Z"
   },
   {
    "duration": 261,
    "start_time": "2021-12-23T18:04:37.587Z"
   },
   {
    "duration": 24,
    "start_time": "2021-12-23T18:04:37.851Z"
   },
   {
    "duration": 1415,
    "start_time": "2021-12-23T18:14:49.737Z"
   },
   {
    "duration": 63,
    "start_time": "2021-12-23T18:14:51.155Z"
   },
   {
    "duration": 7,
    "start_time": "2021-12-23T18:14:51.221Z"
   },
   {
    "duration": 64,
    "start_time": "2021-12-23T18:14:51.230Z"
   },
   {
    "duration": 9,
    "start_time": "2021-12-23T18:14:51.296Z"
   },
   {
    "duration": 30,
    "start_time": "2021-12-23T18:14:51.307Z"
   },
   {
    "duration": 4,
    "start_time": "2021-12-23T18:14:51.339Z"
   },
   {
    "duration": 12,
    "start_time": "2021-12-23T18:14:51.346Z"
   },
   {
    "duration": 8,
    "start_time": "2021-12-23T18:14:51.361Z"
   },
   {
    "duration": 12,
    "start_time": "2021-12-23T18:14:51.371Z"
   },
   {
    "duration": 54,
    "start_time": "2021-12-23T18:14:51.385Z"
   },
   {
    "duration": 5,
    "start_time": "2021-12-23T18:14:51.441Z"
   },
   {
    "duration": 12,
    "start_time": "2021-12-23T18:14:51.449Z"
   },
   {
    "duration": 12,
    "start_time": "2021-12-23T18:14:51.463Z"
   },
   {
    "duration": 91,
    "start_time": "2021-12-23T18:14:51.477Z"
   },
   {
    "duration": 3,
    "start_time": "2021-12-23T18:14:51.571Z"
   },
   {
    "duration": 20,
    "start_time": "2021-12-23T18:14:51.576Z"
   },
   {
    "duration": 3,
    "start_time": "2021-12-23T18:14:51.598Z"
   },
   {
    "duration": 4,
    "start_time": "2021-12-23T18:14:51.623Z"
   },
   {
    "duration": 10,
    "start_time": "2021-12-23T18:14:51.629Z"
   },
   {
    "duration": 90,
    "start_time": "2021-12-23T18:14:51.641Z"
   },
   {
    "duration": 266,
    "start_time": "2021-12-23T18:14:51.825Z"
   },
   {
    "duration": 691,
    "start_time": "2021-12-23T18:14:52.097Z"
   },
   {
    "duration": 7,
    "start_time": "2021-12-23T18:14:52.792Z"
   },
   {
    "duration": 48,
    "start_time": "2021-12-23T18:14:52.801Z"
   },
   {
    "duration": 376,
    "start_time": "2021-12-23T18:14:52.851Z"
   },
   {
    "duration": 24,
    "start_time": "2021-12-23T18:14:53.230Z"
   },
   {
    "duration": 314,
    "start_time": "2021-12-23T18:14:53.257Z"
   },
   {
    "duration": 253,
    "start_time": "2021-12-23T18:14:53.574Z"
   },
   {
    "duration": 24,
    "start_time": "2021-12-23T18:14:53.830Z"
   },
   {
    "duration": 10,
    "start_time": "2021-12-23T18:14:53.856Z"
   },
   {
    "duration": 8,
    "start_time": "2021-12-23T18:14:53.869Z"
   },
   {
    "duration": 50,
    "start_time": "2021-12-23T18:14:53.879Z"
   },
   {
    "duration": 3,
    "start_time": "2021-12-23T18:14:53.931Z"
   },
   {
    "duration": 6,
    "start_time": "2021-12-23T18:14:53.937Z"
   },
   {
    "duration": 5,
    "start_time": "2021-12-23T18:14:53.945Z"
   },
   {
    "duration": 950,
    "start_time": "2021-12-23T18:14:53.952Z"
   },
   {
    "duration": 598,
    "start_time": "2021-12-23T18:14:54.904Z"
   },
   {
    "duration": 244,
    "start_time": "2021-12-23T18:14:55.504Z"
   },
   {
    "duration": 24,
    "start_time": "2021-12-23T18:14:55.751Z"
   },
   {
    "duration": 315,
    "start_time": "2021-12-23T18:14:55.777Z"
   },
   {
    "duration": 310,
    "start_time": "2021-12-23T18:14:56.094Z"
   },
   {
    "duration": 33,
    "start_time": "2021-12-23T18:14:56.407Z"
   },
   {
    "duration": 50777,
    "start_time": "2021-12-23T18:14:56.443Z"
   },
   {
    "duration": 3,
    "start_time": "2021-12-23T18:15:47.224Z"
   },
   {
    "duration": 602,
    "start_time": "2021-12-23T18:15:47.230Z"
   },
   {
    "duration": 574,
    "start_time": "2021-12-23T18:15:47.835Z"
   },
   {
    "duration": 244,
    "start_time": "2021-12-23T18:15:48.411Z"
   },
   {
    "duration": 24,
    "start_time": "2021-12-23T18:15:48.657Z"
   },
   {
    "duration": 322,
    "start_time": "2021-12-23T18:15:48.683Z"
   },
   {
    "duration": 269,
    "start_time": "2021-12-23T18:15:49.008Z"
   },
   {
    "duration": 26,
    "start_time": "2021-12-23T18:15:49.279Z"
   },
   {
    "duration": 1420,
    "start_time": "2021-12-23T18:27:32.732Z"
   },
   {
    "duration": 55,
    "start_time": "2021-12-23T18:27:34.154Z"
   },
   {
    "duration": 12,
    "start_time": "2021-12-23T18:27:34.212Z"
   },
   {
    "duration": 59,
    "start_time": "2021-12-23T18:27:34.227Z"
   },
   {
    "duration": 8,
    "start_time": "2021-12-23T18:27:34.289Z"
   },
   {
    "duration": 16,
    "start_time": "2021-12-23T18:27:34.324Z"
   },
   {
    "duration": 2,
    "start_time": "2021-12-23T18:27:34.342Z"
   },
   {
    "duration": 9,
    "start_time": "2021-12-23T18:27:34.348Z"
   },
   {
    "duration": 5,
    "start_time": "2021-12-23T18:27:34.361Z"
   },
   {
    "duration": 7,
    "start_time": "2021-12-23T18:27:34.369Z"
   },
   {
    "duration": 59,
    "start_time": "2021-12-23T18:27:34.378Z"
   },
   {
    "duration": 5,
    "start_time": "2021-12-23T18:27:34.440Z"
   },
   {
    "duration": 10,
    "start_time": "2021-12-23T18:27:34.448Z"
   },
   {
    "duration": 11,
    "start_time": "2021-12-23T18:27:34.460Z"
   },
   {
    "duration": 105,
    "start_time": "2021-12-23T18:27:34.473Z"
   },
   {
    "duration": 3,
    "start_time": "2021-12-23T18:27:34.581Z"
   },
   {
    "duration": 43,
    "start_time": "2021-12-23T18:27:34.587Z"
   },
   {
    "duration": 3,
    "start_time": "2021-12-23T18:27:34.632Z"
   },
   {
    "duration": 6,
    "start_time": "2021-12-23T18:27:34.637Z"
   },
   {
    "duration": 7,
    "start_time": "2021-12-23T18:27:34.646Z"
   },
   {
    "duration": 78,
    "start_time": "2021-12-23T18:27:34.655Z"
   },
   {
    "duration": 316,
    "start_time": "2021-12-23T18:27:34.825Z"
   },
   {
    "duration": 602,
    "start_time": "2021-12-23T18:27:35.149Z"
   },
   {
    "duration": 11,
    "start_time": "2021-12-23T18:27:35.755Z"
   },
   {
    "duration": 59,
    "start_time": "2021-12-23T18:27:35.769Z"
   },
   {
    "duration": 384,
    "start_time": "2021-12-23T18:27:35.831Z"
   },
   {
    "duration": 27,
    "start_time": "2021-12-23T18:27:36.217Z"
   },
   {
    "duration": 307,
    "start_time": "2021-12-23T18:27:36.247Z"
   },
   {
    "duration": 266,
    "start_time": "2021-12-23T18:27:36.558Z"
   },
   {
    "duration": 27,
    "start_time": "2021-12-23T18:27:36.826Z"
   },
   {
    "duration": 10,
    "start_time": "2021-12-23T18:27:36.855Z"
   },
   {
    "duration": 7,
    "start_time": "2021-12-23T18:27:36.867Z"
   },
   {
    "duration": 47,
    "start_time": "2021-12-23T18:27:36.876Z"
   },
   {
    "duration": 3,
    "start_time": "2021-12-23T18:27:36.926Z"
   },
   {
    "duration": 5,
    "start_time": "2021-12-23T18:27:36.931Z"
   },
   {
    "duration": 6,
    "start_time": "2021-12-23T18:27:36.939Z"
   },
   {
    "duration": 965,
    "start_time": "2021-12-23T18:27:36.947Z"
   },
   {
    "duration": 608,
    "start_time": "2021-12-23T18:27:37.915Z"
   },
   {
    "duration": 236,
    "start_time": "2021-12-23T18:27:38.526Z"
   },
   {
    "duration": 22,
    "start_time": "2021-12-23T18:27:38.764Z"
   },
   {
    "duration": 306,
    "start_time": "2021-12-23T18:27:38.789Z"
   },
   {
    "duration": 325,
    "start_time": "2021-12-23T18:27:39.098Z"
   },
   {
    "duration": 26,
    "start_time": "2021-12-23T18:27:39.425Z"
   },
   {
    "duration": 1538,
    "start_time": "2021-12-23T18:28:12.196Z"
   },
   {
    "duration": 54,
    "start_time": "2021-12-23T18:28:13.736Z"
   },
   {
    "duration": 9,
    "start_time": "2021-12-23T18:28:13.793Z"
   },
   {
    "duration": 76,
    "start_time": "2021-12-23T18:28:13.805Z"
   },
   {
    "duration": 9,
    "start_time": "2021-12-23T18:28:13.883Z"
   },
   {
    "duration": 39,
    "start_time": "2021-12-23T18:28:13.895Z"
   },
   {
    "duration": 3,
    "start_time": "2021-12-23T18:28:13.936Z"
   },
   {
    "duration": 7,
    "start_time": "2021-12-23T18:28:13.943Z"
   },
   {
    "duration": 6,
    "start_time": "2021-12-23T18:28:13.953Z"
   },
   {
    "duration": 8,
    "start_time": "2021-12-23T18:28:13.961Z"
   },
   {
    "duration": 59,
    "start_time": "2021-12-23T18:28:13.971Z"
   },
   {
    "duration": 6,
    "start_time": "2021-12-23T18:28:14.032Z"
   },
   {
    "duration": 17,
    "start_time": "2021-12-23T18:28:14.041Z"
   },
   {
    "duration": 11,
    "start_time": "2021-12-23T18:28:14.061Z"
   },
   {
    "duration": 97,
    "start_time": "2021-12-23T18:28:14.075Z"
   },
   {
    "duration": 4,
    "start_time": "2021-12-23T18:28:14.175Z"
   },
   {
    "duration": 22,
    "start_time": "2021-12-23T18:28:14.182Z"
   },
   {
    "duration": 18,
    "start_time": "2021-12-23T18:28:14.206Z"
   },
   {
    "duration": 7,
    "start_time": "2021-12-23T18:28:14.227Z"
   },
   {
    "duration": 8,
    "start_time": "2021-12-23T18:28:14.237Z"
   },
   {
    "duration": 82,
    "start_time": "2021-12-23T18:28:14.248Z"
   },
   {
    "duration": 383,
    "start_time": "2021-12-23T18:28:14.332Z"
   },
   {
    "duration": 601,
    "start_time": "2021-12-23T18:28:14.725Z"
   },
   {
    "duration": 8,
    "start_time": "2021-12-23T18:28:15.329Z"
   },
   {
    "duration": 28,
    "start_time": "2021-12-23T18:28:15.340Z"
   },
   {
    "duration": 382,
    "start_time": "2021-12-23T18:28:15.371Z"
   },
   {
    "duration": 22,
    "start_time": "2021-12-23T18:28:15.755Z"
   },
   {
    "duration": 546,
    "start_time": "2021-12-23T18:28:15.779Z"
   },
   {
    "duration": 252,
    "start_time": "2021-12-23T18:28:16.328Z"
   },
   {
    "duration": 26,
    "start_time": "2021-12-23T18:28:16.582Z"
   },
   {
    "duration": 10,
    "start_time": "2021-12-23T18:28:16.624Z"
   },
   {
    "duration": 7,
    "start_time": "2021-12-23T18:28:16.636Z"
   },
   {
    "duration": 14,
    "start_time": "2021-12-23T18:28:16.646Z"
   },
   {
    "duration": 4,
    "start_time": "2021-12-23T18:28:16.663Z"
   },
   {
    "duration": 8,
    "start_time": "2021-12-23T18:28:16.669Z"
   },
   {
    "duration": 3,
    "start_time": "2021-12-23T18:28:16.724Z"
   },
   {
    "duration": 976,
    "start_time": "2021-12-23T18:28:16.729Z"
   },
   {
    "duration": 611,
    "start_time": "2021-12-23T18:28:17.708Z"
   },
   {
    "duration": 248,
    "start_time": "2021-12-23T18:28:18.323Z"
   },
   {
    "duration": 23,
    "start_time": "2021-12-23T18:28:18.573Z"
   },
   {
    "duration": 302,
    "start_time": "2021-12-23T18:28:18.598Z"
   },
   {
    "duration": 316,
    "start_time": "2021-12-23T18:28:18.902Z"
   },
   {
    "duration": 25,
    "start_time": "2021-12-23T18:28:19.223Z"
   },
   {
    "duration": 197841,
    "start_time": "2021-12-23T18:28:19.250Z"
   },
   {
    "duration": 3,
    "start_time": "2021-12-23T18:31:37.093Z"
   },
   {
    "duration": 589,
    "start_time": "2021-12-23T18:31:37.098Z"
   },
   {
    "duration": 557,
    "start_time": "2021-12-23T18:31:37.689Z"
   },
   {
    "duration": 243,
    "start_time": "2021-12-23T18:31:38.249Z"
   },
   {
    "duration": 35,
    "start_time": "2021-12-23T18:31:38.494Z"
   },
   {
    "duration": 308,
    "start_time": "2021-12-23T18:31:38.531Z"
   },
   {
    "duration": 262,
    "start_time": "2021-12-23T18:31:38.841Z"
   },
   {
    "duration": 33,
    "start_time": "2021-12-23T18:31:39.105Z"
   },
   {
    "duration": 1386,
    "start_time": "2021-12-23T18:37:17.775Z"
   },
   {
    "duration": 99,
    "start_time": "2021-12-23T18:37:19.167Z"
   },
   {
    "duration": -1202,
    "start_time": "2021-12-23T18:37:20.473Z"
   },
   {
    "duration": -1208,
    "start_time": "2021-12-23T18:37:20.480Z"
   },
   {
    "duration": -1215,
    "start_time": "2021-12-23T18:37:20.489Z"
   },
   {
    "duration": -1221,
    "start_time": "2021-12-23T18:37:20.497Z"
   },
   {
    "duration": -1226,
    "start_time": "2021-12-23T18:37:20.503Z"
   },
   {
    "duration": -1231,
    "start_time": "2021-12-23T18:37:20.510Z"
   },
   {
    "duration": -1237,
    "start_time": "2021-12-23T18:37:20.517Z"
   },
   {
    "duration": -1241,
    "start_time": "2021-12-23T18:37:20.523Z"
   },
   {
    "duration": -1245,
    "start_time": "2021-12-23T18:37:20.529Z"
   },
   {
    "duration": -1251,
    "start_time": "2021-12-23T18:37:20.536Z"
   },
   {
    "duration": -1255,
    "start_time": "2021-12-23T18:37:20.542Z"
   },
   {
    "duration": -1262,
    "start_time": "2021-12-23T18:37:20.550Z"
   },
   {
    "duration": -1266,
    "start_time": "2021-12-23T18:37:20.555Z"
   },
   {
    "duration": -1272,
    "start_time": "2021-12-23T18:37:20.562Z"
   },
   {
    "duration": -1275,
    "start_time": "2021-12-23T18:37:20.567Z"
   },
   {
    "duration": -1288,
    "start_time": "2021-12-23T18:37:20.581Z"
   },
   {
    "duration": -1293,
    "start_time": "2021-12-23T18:37:20.587Z"
   },
   {
    "duration": -1297,
    "start_time": "2021-12-23T18:37:20.593Z"
   },
   {
    "duration": -1304,
    "start_time": "2021-12-23T18:37:20.601Z"
   },
   {
    "duration": -1311,
    "start_time": "2021-12-23T18:37:20.609Z"
   },
   {
    "duration": -1316,
    "start_time": "2021-12-23T18:37:20.617Z"
   },
   {
    "duration": -1322,
    "start_time": "2021-12-23T18:37:20.625Z"
   },
   {
    "duration": -1328,
    "start_time": "2021-12-23T18:37:20.632Z"
   },
   {
    "duration": -1336,
    "start_time": "2021-12-23T18:37:20.642Z"
   },
   {
    "duration": -1343,
    "start_time": "2021-12-23T18:37:20.650Z"
   },
   {
    "duration": -1349,
    "start_time": "2021-12-23T18:37:20.657Z"
   },
   {
    "duration": -1354,
    "start_time": "2021-12-23T18:37:20.664Z"
   },
   {
    "duration": -1348,
    "start_time": "2021-12-23T18:37:20.671Z"
   },
   {
    "duration": -1352,
    "start_time": "2021-12-23T18:37:20.676Z"
   },
   {
    "duration": -1363,
    "start_time": "2021-12-23T18:37:20.689Z"
   },
   {
    "duration": -1367,
    "start_time": "2021-12-23T18:37:20.694Z"
   },
   {
    "duration": -1372,
    "start_time": "2021-12-23T18:37:20.700Z"
   },
   {
    "duration": -1377,
    "start_time": "2021-12-23T18:37:20.706Z"
   },
   {
    "duration": -1381,
    "start_time": "2021-12-23T18:37:20.712Z"
   },
   {
    "duration": -1386,
    "start_time": "2021-12-23T18:37:20.718Z"
   },
   {
    "duration": -1390,
    "start_time": "2021-12-23T18:37:20.724Z"
   },
   {
    "duration": -1411,
    "start_time": "2021-12-23T18:37:20.747Z"
   },
   {
    "duration": -1416,
    "start_time": "2021-12-23T18:37:20.753Z"
   },
   {
    "duration": -1420,
    "start_time": "2021-12-23T18:37:20.759Z"
   },
   {
    "duration": -1424,
    "start_time": "2021-12-23T18:37:20.764Z"
   },
   {
    "duration": -1429,
    "start_time": "2021-12-23T18:37:20.770Z"
   },
   {
    "duration": -1434,
    "start_time": "2021-12-23T18:37:20.776Z"
   },
   {
    "duration": -1438,
    "start_time": "2021-12-23T18:37:20.782Z"
   },
   {
    "duration": -1451,
    "start_time": "2021-12-23T18:37:20.796Z"
   },
   {
    "duration": -1456,
    "start_time": "2021-12-23T18:37:20.802Z"
   },
   {
    "duration": -1460,
    "start_time": "2021-12-23T18:37:20.808Z"
   },
   {
    "duration": -1464,
    "start_time": "2021-12-23T18:37:20.813Z"
   },
   {
    "duration": -1470,
    "start_time": "2021-12-23T18:37:20.820Z"
   },
   {
    "duration": -1474,
    "start_time": "2021-12-23T18:37:20.826Z"
   },
   {
    "duration": -1479,
    "start_time": "2021-12-23T18:37:20.832Z"
   },
   {
    "duration": -1483,
    "start_time": "2021-12-23T18:37:20.838Z"
   },
   {
    "duration": 1485,
    "start_time": "2021-12-23T18:38:14.363Z"
   },
   {
    "duration": 126,
    "start_time": "2021-12-23T18:38:15.850Z"
   },
   {
    "duration": -1205,
    "start_time": "2021-12-23T18:38:17.188Z"
   },
   {
    "duration": -1210,
    "start_time": "2021-12-23T18:38:17.195Z"
   },
   {
    "duration": -1214,
    "start_time": "2021-12-23T18:38:17.201Z"
   },
   {
    "duration": -1219,
    "start_time": "2021-12-23T18:38:17.208Z"
   },
   {
    "duration": -1226,
    "start_time": "2021-12-23T18:38:17.216Z"
   },
   {
    "duration": -1232,
    "start_time": "2021-12-23T18:38:17.224Z"
   },
   {
    "duration": -1236,
    "start_time": "2021-12-23T18:38:17.230Z"
   },
   {
    "duration": -1241,
    "start_time": "2021-12-23T18:38:17.236Z"
   },
   {
    "duration": -1245,
    "start_time": "2021-12-23T18:38:17.242Z"
   },
   {
    "duration": -1249,
    "start_time": "2021-12-23T18:38:17.249Z"
   },
   {
    "duration": -1253,
    "start_time": "2021-12-23T18:38:17.255Z"
   },
   {
    "duration": -1258,
    "start_time": "2021-12-23T18:38:17.262Z"
   },
   {
    "duration": -1266,
    "start_time": "2021-12-23T18:38:17.272Z"
   },
   {
    "duration": -1271,
    "start_time": "2021-12-23T18:38:17.279Z"
   },
   {
    "duration": -1289,
    "start_time": "2021-12-23T18:38:17.299Z"
   },
   {
    "duration": -1296,
    "start_time": "2021-12-23T18:38:17.308Z"
   },
   {
    "duration": -1302,
    "start_time": "2021-12-23T18:38:17.316Z"
   },
   {
    "duration": -1311,
    "start_time": "2021-12-23T18:38:17.327Z"
   },
   {
    "duration": -1318,
    "start_time": "2021-12-23T18:38:17.336Z"
   },
   {
    "duration": -1323,
    "start_time": "2021-12-23T18:38:17.343Z"
   },
   {
    "duration": -1328,
    "start_time": "2021-12-23T18:38:17.349Z"
   },
   {
    "duration": -1332,
    "start_time": "2021-12-23T18:38:17.355Z"
   },
   {
    "duration": -1336,
    "start_time": "2021-12-23T18:38:17.361Z"
   },
   {
    "duration": -1340,
    "start_time": "2021-12-23T18:38:17.367Z"
   },
   {
    "duration": -1344,
    "start_time": "2021-12-23T18:38:17.373Z"
   },
   {
    "duration": -1348,
    "start_time": "2021-12-23T18:38:17.379Z"
   },
   {
    "duration": -1352,
    "start_time": "2021-12-23T18:38:17.385Z"
   },
   {
    "duration": -1356,
    "start_time": "2021-12-23T18:38:17.391Z"
   },
   {
    "duration": -1367,
    "start_time": "2021-12-23T18:38:17.404Z"
   },
   {
    "duration": -1371,
    "start_time": "2021-12-23T18:38:17.410Z"
   },
   {
    "duration": -1385,
    "start_time": "2021-12-23T18:38:17.426Z"
   },
   {
    "duration": -1418,
    "start_time": "2021-12-23T18:38:17.460Z"
   },
   {
    "duration": -1432,
    "start_time": "2021-12-23T18:38:17.475Z"
   },
   {
    "duration": -1448,
    "start_time": "2021-12-23T18:38:17.492Z"
   },
   {
    "duration": -1462,
    "start_time": "2021-12-23T18:38:17.507Z"
   },
   {
    "duration": -1491,
    "start_time": "2021-12-23T18:38:17.538Z"
   },
   {
    "duration": -1496,
    "start_time": "2021-12-23T18:38:17.545Z"
   },
   {
    "duration": -1500,
    "start_time": "2021-12-23T18:38:17.551Z"
   },
   {
    "duration": -1504,
    "start_time": "2021-12-23T18:38:17.556Z"
   },
   {
    "duration": -1509,
    "start_time": "2021-12-23T18:38:17.563Z"
   },
   {
    "duration": -1514,
    "start_time": "2021-12-23T18:38:17.569Z"
   },
   {
    "duration": -1519,
    "start_time": "2021-12-23T18:38:17.576Z"
   },
   {
    "duration": -1522,
    "start_time": "2021-12-23T18:38:17.581Z"
   },
   {
    "duration": -1527,
    "start_time": "2021-12-23T18:38:17.587Z"
   },
   {
    "duration": -1531,
    "start_time": "2021-12-23T18:38:17.593Z"
   },
   {
    "duration": -1534,
    "start_time": "2021-12-23T18:38:17.598Z"
   },
   {
    "duration": -1538,
    "start_time": "2021-12-23T18:38:17.603Z"
   },
   {
    "duration": -1489,
    "start_time": "2021-12-23T18:38:17.611Z"
   },
   {
    "duration": -1491,
    "start_time": "2021-12-23T18:38:17.616Z"
   },
   {
    "duration": -1496,
    "start_time": "2021-12-23T18:38:17.622Z"
   },
   {
    "duration": -1499,
    "start_time": "2021-12-23T18:38:17.627Z"
   },
   {
    "duration": 1378,
    "start_time": "2021-12-23T18:39:13.257Z"
   },
   {
    "duration": 56,
    "start_time": "2021-12-23T18:39:14.638Z"
   },
   {
    "duration": 7,
    "start_time": "2021-12-23T18:39:14.697Z"
   },
   {
    "duration": 73,
    "start_time": "2021-12-23T18:39:14.707Z"
   },
   {
    "duration": 9,
    "start_time": "2021-12-23T18:39:14.782Z"
   },
   {
    "duration": 40,
    "start_time": "2021-12-23T18:39:14.794Z"
   },
   {
    "duration": 4,
    "start_time": "2021-12-23T18:39:14.836Z"
   },
   {
    "duration": 8,
    "start_time": "2021-12-23T18:39:14.844Z"
   },
   {
    "duration": 8,
    "start_time": "2021-12-23T18:39:14.855Z"
   },
   {
    "duration": 19,
    "start_time": "2021-12-23T18:39:14.865Z"
   },
   {
    "duration": 48,
    "start_time": "2021-12-23T18:39:14.887Z"
   },
   {
    "duration": 6,
    "start_time": "2021-12-23T18:39:14.937Z"
   },
   {
    "duration": 16,
    "start_time": "2021-12-23T18:39:14.945Z"
   },
   {
    "duration": 10,
    "start_time": "2021-12-23T18:39:14.963Z"
   },
   {
    "duration": 94,
    "start_time": "2021-12-23T18:39:14.976Z"
   },
   {
    "duration": 4,
    "start_time": "2021-12-23T18:39:15.073Z"
   },
   {
    "duration": 18,
    "start_time": "2021-12-23T18:39:15.080Z"
   },
   {
    "duration": 24,
    "start_time": "2021-12-23T18:39:15.100Z"
   },
   {
    "duration": 9,
    "start_time": "2021-12-23T18:39:15.126Z"
   },
   {
    "duration": 9,
    "start_time": "2021-12-23T18:39:15.137Z"
   },
   {
    "duration": 175,
    "start_time": "2021-12-23T18:39:15.148Z"
   },
   {
    "duration": 308,
    "start_time": "2021-12-23T18:39:15.327Z"
   },
   {
    "duration": 614,
    "start_time": "2021-12-23T18:39:15.640Z"
   },
   {
    "duration": 9,
    "start_time": "2021-12-23T18:39:16.257Z"
   },
   {
    "duration": 56,
    "start_time": "2021-12-23T18:39:16.268Z"
   },
   {
    "duration": 365,
    "start_time": "2021-12-23T18:39:16.327Z"
   },
   {
    "duration": 34,
    "start_time": "2021-12-23T18:39:16.695Z"
   },
   {
    "duration": 304,
    "start_time": "2021-12-23T18:39:16.731Z"
   },
   {
    "duration": 257,
    "start_time": "2021-12-23T18:39:17.038Z"
   },
   {
    "duration": 34,
    "start_time": "2021-12-23T18:39:17.297Z"
   },
   {
    "duration": 9,
    "start_time": "2021-12-23T18:39:17.333Z"
   },
   {
    "duration": 8,
    "start_time": "2021-12-23T18:39:17.344Z"
   },
   {
    "duration": 11,
    "start_time": "2021-12-23T18:39:17.355Z"
   },
   {
    "duration": 3,
    "start_time": "2021-12-23T18:39:17.368Z"
   },
   {
    "duration": 8,
    "start_time": "2021-12-23T18:39:17.373Z"
   },
   {
    "duration": 39,
    "start_time": "2021-12-23T18:39:17.384Z"
   },
   {
    "duration": 945,
    "start_time": "2021-12-23T18:39:17.426Z"
   },
   {
    "duration": 732,
    "start_time": "2021-12-23T18:39:18.374Z"
   },
   {
    "duration": 253,
    "start_time": "2021-12-23T18:39:19.110Z"
   },
   {
    "duration": 23,
    "start_time": "2021-12-23T18:39:19.366Z"
   },
   {
    "duration": 315,
    "start_time": "2021-12-23T18:39:19.391Z"
   },
   {
    "duration": 326,
    "start_time": "2021-12-23T18:39:19.708Z"
   },
   {
    "duration": 26,
    "start_time": "2021-12-23T18:39:20.036Z"
   },
   {
    "duration": 194511,
    "start_time": "2021-12-23T18:39:20.064Z"
   },
   {
    "duration": 4,
    "start_time": "2021-12-23T18:42:34.577Z"
   },
   {
    "duration": 587,
    "start_time": "2021-12-23T18:42:34.584Z"
   },
   {
    "duration": 535,
    "start_time": "2021-12-23T18:42:35.173Z"
   },
   {
    "duration": 234,
    "start_time": "2021-12-23T18:42:35.710Z"
   },
   {
    "duration": 22,
    "start_time": "2021-12-23T18:42:35.946Z"
   },
   {
    "duration": 304,
    "start_time": "2021-12-23T18:42:35.971Z"
   },
   {
    "duration": 268,
    "start_time": "2021-12-23T18:42:36.278Z"
   },
   {
    "duration": 29,
    "start_time": "2021-12-23T18:42:36.548Z"
   },
   {
    "duration": 1418,
    "start_time": "2021-12-23T18:44:22.821Z"
   },
   {
    "duration": 61,
    "start_time": "2021-12-23T18:44:24.242Z"
   },
   {
    "duration": 7,
    "start_time": "2021-12-23T18:44:24.306Z"
   },
   {
    "duration": 66,
    "start_time": "2021-12-23T18:44:24.316Z"
   },
   {
    "duration": 8,
    "start_time": "2021-12-23T18:44:24.384Z"
   },
   {
    "duration": 36,
    "start_time": "2021-12-23T18:44:24.394Z"
   },
   {
    "duration": 2,
    "start_time": "2021-12-23T18:44:24.433Z"
   },
   {
    "duration": 8,
    "start_time": "2021-12-23T18:44:24.439Z"
   },
   {
    "duration": 7,
    "start_time": "2021-12-23T18:44:24.450Z"
   },
   {
    "duration": 7,
    "start_time": "2021-12-23T18:44:24.460Z"
   },
   {
    "duration": 59,
    "start_time": "2021-12-23T18:44:24.469Z"
   },
   {
    "duration": 6,
    "start_time": "2021-12-23T18:44:24.530Z"
   },
   {
    "duration": 12,
    "start_time": "2021-12-23T18:44:24.538Z"
   },
   {
    "duration": 10,
    "start_time": "2021-12-23T18:44:24.553Z"
   },
   {
    "duration": 95,
    "start_time": "2021-12-23T18:44:24.565Z"
   },
   {
    "duration": 3,
    "start_time": "2021-12-23T18:44:24.663Z"
   },
   {
    "duration": 17,
    "start_time": "2021-12-23T18:44:24.668Z"
   },
   {
    "duration": 3,
    "start_time": "2021-12-23T18:44:24.687Z"
   },
   {
    "duration": 32,
    "start_time": "2021-12-23T18:44:24.692Z"
   },
   {
    "duration": 8,
    "start_time": "2021-12-23T18:44:24.726Z"
   },
   {
    "duration": 92,
    "start_time": "2021-12-23T18:44:24.736Z"
   },
   {
    "duration": 312,
    "start_time": "2021-12-23T18:44:24.832Z"
   },
   {
    "duration": 617,
    "start_time": "2021-12-23T18:44:25.150Z"
   },
   {
    "duration": 9,
    "start_time": "2021-12-23T18:44:25.770Z"
   },
   {
    "duration": 52,
    "start_time": "2021-12-23T18:44:25.782Z"
   },
   {
    "duration": 369,
    "start_time": "2021-12-23T18:44:25.837Z"
   },
   {
    "duration": 27,
    "start_time": "2021-12-23T18:44:26.208Z"
   },
   {
    "duration": 290,
    "start_time": "2021-12-23T18:44:26.237Z"
   },
   {
    "duration": 256,
    "start_time": "2021-12-23T18:44:26.530Z"
   },
   {
    "duration": 37,
    "start_time": "2021-12-23T18:44:26.788Z"
   },
   {
    "duration": 9,
    "start_time": "2021-12-23T18:44:26.827Z"
   },
   {
    "duration": 6,
    "start_time": "2021-12-23T18:44:26.838Z"
   },
   {
    "duration": 13,
    "start_time": "2021-12-23T18:44:26.847Z"
   },
   {
    "duration": 3,
    "start_time": "2021-12-23T18:44:26.862Z"
   },
   {
    "duration": 8,
    "start_time": "2021-12-23T18:44:26.867Z"
   },
   {
    "duration": 49,
    "start_time": "2021-12-23T18:44:26.877Z"
   },
   {
    "duration": 937,
    "start_time": "2021-12-23T18:44:26.928Z"
   },
   {
    "duration": 676,
    "start_time": "2021-12-23T18:44:27.867Z"
   },
   {
    "duration": 231,
    "start_time": "2021-12-23T18:44:28.545Z"
   },
   {
    "duration": 24,
    "start_time": "2021-12-23T18:44:28.778Z"
   },
   {
    "duration": 299,
    "start_time": "2021-12-23T18:44:28.804Z"
   },
   {
    "duration": 311,
    "start_time": "2021-12-23T18:44:29.105Z"
   },
   {
    "duration": 24,
    "start_time": "2021-12-23T18:44:29.419Z"
   },
   {
    "duration": 3,
    "start_time": "2021-12-23T18:44:29.445Z"
   },
   {
    "duration": 12,
    "start_time": "2021-12-23T18:44:29.450Z"
   },
   {
    "duration": 589,
    "start_time": "2021-12-23T18:44:29.464Z"
   },
   {
    "duration": 1430,
    "start_time": "2021-12-23T18:44:30.056Z"
   },
   {
    "duration": -2289,
    "start_time": "2021-12-23T18:44:33.778Z"
   },
   {
    "duration": -2299,
    "start_time": "2021-12-23T18:44:33.790Z"
   },
   {
    "duration": -2305,
    "start_time": "2021-12-23T18:44:33.798Z"
   },
   {
    "duration": -2309,
    "start_time": "2021-12-23T18:44:33.804Z"
   },
   {
    "duration": -2314,
    "start_time": "2021-12-23T18:44:33.811Z"
   },
   {
    "duration": 1395,
    "start_time": "2021-12-23T18:45:05.154Z"
   },
   {
    "duration": 55,
    "start_time": "2021-12-23T18:45:06.552Z"
   },
   {
    "duration": 16,
    "start_time": "2021-12-23T18:45:06.611Z"
   },
   {
    "duration": 58,
    "start_time": "2021-12-23T18:45:06.630Z"
   },
   {
    "duration": 9,
    "start_time": "2021-12-23T18:45:06.690Z"
   },
   {
    "duration": 16,
    "start_time": "2021-12-23T18:45:06.724Z"
   },
   {
    "duration": 3,
    "start_time": "2021-12-23T18:45:06.742Z"
   },
   {
    "duration": 12,
    "start_time": "2021-12-23T18:45:06.748Z"
   },
   {
    "duration": 6,
    "start_time": "2021-12-23T18:45:06.763Z"
   },
   {
    "duration": 8,
    "start_time": "2021-12-23T18:45:06.771Z"
   },
   {
    "duration": 57,
    "start_time": "2021-12-23T18:45:06.782Z"
   },
   {
    "duration": 6,
    "start_time": "2021-12-23T18:45:06.841Z"
   },
   {
    "duration": 12,
    "start_time": "2021-12-23T18:45:06.849Z"
   },
   {
    "duration": 11,
    "start_time": "2021-12-23T18:45:06.863Z"
   },
   {
    "duration": 96,
    "start_time": "2021-12-23T18:45:06.877Z"
   },
   {
    "duration": 3,
    "start_time": "2021-12-23T18:45:06.975Z"
   },
   {
    "duration": 23,
    "start_time": "2021-12-23T18:45:06.980Z"
   },
   {
    "duration": 19,
    "start_time": "2021-12-23T18:45:07.005Z"
   },
   {
    "duration": 12,
    "start_time": "2021-12-23T18:45:07.026Z"
   },
   {
    "duration": 8,
    "start_time": "2021-12-23T18:45:07.040Z"
   },
   {
    "duration": 78,
    "start_time": "2021-12-23T18:45:07.050Z"
   },
   {
    "duration": 350,
    "start_time": "2021-12-23T18:45:07.131Z"
   },
   {
    "duration": 596,
    "start_time": "2021-12-23T18:45:07.486Z"
   },
   {
    "duration": 8,
    "start_time": "2021-12-23T18:45:08.085Z"
   },
   {
    "duration": 50,
    "start_time": "2021-12-23T18:45:08.096Z"
   },
   {
    "duration": 376,
    "start_time": "2021-12-23T18:45:08.148Z"
   },
   {
    "duration": 23,
    "start_time": "2021-12-23T18:45:08.527Z"
   },
   {
    "duration": 308,
    "start_time": "2021-12-23T18:45:08.553Z"
   },
   {
    "duration": 265,
    "start_time": "2021-12-23T18:45:08.864Z"
   },
   {
    "duration": 25,
    "start_time": "2021-12-23T18:45:09.131Z"
   },
   {
    "duration": 9,
    "start_time": "2021-12-23T18:45:09.159Z"
   },
   {
    "duration": 13,
    "start_time": "2021-12-23T18:45:09.170Z"
   },
   {
    "duration": 42,
    "start_time": "2021-12-23T18:45:09.186Z"
   },
   {
    "duration": 2,
    "start_time": "2021-12-23T18:45:09.231Z"
   },
   {
    "duration": 20,
    "start_time": "2021-12-23T18:45:09.236Z"
   },
   {
    "duration": 20,
    "start_time": "2021-12-23T18:45:09.258Z"
   },
   {
    "duration": 900,
    "start_time": "2021-12-23T18:45:09.280Z"
   },
   {
    "duration": 580,
    "start_time": "2021-12-23T18:45:10.183Z"
   },
   {
    "duration": 248,
    "start_time": "2021-12-23T18:45:10.766Z"
   },
   {
    "duration": 22,
    "start_time": "2021-12-23T18:45:11.023Z"
   },
   {
    "duration": 288,
    "start_time": "2021-12-23T18:45:11.048Z"
   },
   {
    "duration": 319,
    "start_time": "2021-12-23T18:45:11.338Z"
   },
   {
    "duration": 24,
    "start_time": "2021-12-23T18:45:11.660Z"
   },
   {
    "duration": 3,
    "start_time": "2021-12-23T18:45:11.687Z"
   },
   {
    "duration": 7,
    "start_time": "2021-12-23T18:45:11.692Z"
   },
   {
    "duration": 579,
    "start_time": "2021-12-23T18:45:11.724Z"
   },
   {
    "duration": 983,
    "start_time": "2021-12-23T18:45:12.306Z"
   },
   {
    "duration": -1095,
    "start_time": "2021-12-23T18:45:14.387Z"
   },
   {
    "duration": -1106,
    "start_time": "2021-12-23T18:45:14.399Z"
   },
   {
    "duration": -1117,
    "start_time": "2021-12-23T18:45:14.412Z"
   },
   {
    "duration": -1124,
    "start_time": "2021-12-23T18:45:14.421Z"
   },
   {
    "duration": -1130,
    "start_time": "2021-12-23T18:45:14.429Z"
   },
   {
    "duration": 1398,
    "start_time": "2021-12-23T18:47:33.455Z"
   },
   {
    "duration": 53,
    "start_time": "2021-12-23T18:47:34.856Z"
   },
   {
    "duration": 15,
    "start_time": "2021-12-23T18:47:34.912Z"
   },
   {
    "duration": 64,
    "start_time": "2021-12-23T18:47:34.930Z"
   },
   {
    "duration": 29,
    "start_time": "2021-12-23T18:47:34.996Z"
   },
   {
    "duration": 17,
    "start_time": "2021-12-23T18:47:35.028Z"
   },
   {
    "duration": 3,
    "start_time": "2021-12-23T18:47:35.047Z"
   },
   {
    "duration": 11,
    "start_time": "2021-12-23T18:47:35.054Z"
   },
   {
    "duration": 7,
    "start_time": "2021-12-23T18:47:35.069Z"
   },
   {
    "duration": 9,
    "start_time": "2021-12-23T18:47:35.078Z"
   },
   {
    "duration": 18,
    "start_time": "2021-12-23T18:47:35.124Z"
   },
   {
    "duration": 5,
    "start_time": "2021-12-23T18:47:35.145Z"
   },
   {
    "duration": 13,
    "start_time": "2021-12-23T18:47:35.153Z"
   },
   {
    "duration": 9,
    "start_time": "2021-12-23T18:47:35.169Z"
   },
   {
    "duration": 107,
    "start_time": "2021-12-23T18:47:35.180Z"
   },
   {
    "duration": 3,
    "start_time": "2021-12-23T18:47:35.290Z"
   },
   {
    "duration": 38,
    "start_time": "2021-12-23T18:47:35.296Z"
   },
   {
    "duration": 3,
    "start_time": "2021-12-23T18:47:35.336Z"
   },
   {
    "duration": 6,
    "start_time": "2021-12-23T18:47:35.341Z"
   },
   {
    "duration": 9,
    "start_time": "2021-12-23T18:47:35.349Z"
   },
   {
    "duration": 162,
    "start_time": "2021-12-23T18:47:35.360Z"
   },
   {
    "duration": 328,
    "start_time": "2021-12-23T18:47:35.526Z"
   },
   {
    "duration": 645,
    "start_time": "2021-12-23T18:47:35.860Z"
   },
   {
    "duration": 16,
    "start_time": "2021-12-23T18:47:36.508Z"
   },
   {
    "duration": 30,
    "start_time": "2021-12-23T18:47:36.526Z"
   },
   {
    "duration": 391,
    "start_time": "2021-12-23T18:47:36.558Z"
   },
   {
    "duration": 23,
    "start_time": "2021-12-23T18:47:36.951Z"
   },
   {
    "duration": 315,
    "start_time": "2021-12-23T18:47:36.976Z"
   },
   {
    "duration": 256,
    "start_time": "2021-12-23T18:47:37.294Z"
   },
   {
    "duration": 24,
    "start_time": "2021-12-23T18:47:37.552Z"
   },
   {
    "duration": 9,
    "start_time": "2021-12-23T18:47:37.578Z"
   },
   {
    "duration": 35,
    "start_time": "2021-12-23T18:47:37.590Z"
   },
   {
    "duration": 11,
    "start_time": "2021-12-23T18:47:37.628Z"
   },
   {
    "duration": 3,
    "start_time": "2021-12-23T18:47:37.641Z"
   },
   {
    "duration": 6,
    "start_time": "2021-12-23T18:47:37.646Z"
   },
   {
    "duration": 5,
    "start_time": "2021-12-23T18:47:37.654Z"
   },
   {
    "duration": 936,
    "start_time": "2021-12-23T18:47:37.661Z"
   },
   {
    "duration": 584,
    "start_time": "2021-12-23T18:47:38.599Z"
   },
   {
    "duration": 246,
    "start_time": "2021-12-23T18:47:39.185Z"
   },
   {
    "duration": 24,
    "start_time": "2021-12-23T18:47:39.434Z"
   },
   {
    "duration": 321,
    "start_time": "2021-12-23T18:47:39.460Z"
   },
   {
    "duration": 335,
    "start_time": "2021-12-23T18:47:39.784Z"
   },
   {
    "duration": 26,
    "start_time": "2021-12-23T18:47:40.124Z"
   },
   {
    "duration": 3,
    "start_time": "2021-12-23T18:47:40.152Z"
   },
   {
    "duration": 8,
    "start_time": "2021-12-23T18:47:40.158Z"
   },
   {
    "duration": 611,
    "start_time": "2021-12-23T18:47:40.168Z"
   },
   {
    "duration": 942,
    "start_time": "2021-12-23T18:47:40.781Z"
   },
   {
    "duration": -1101,
    "start_time": "2021-12-23T18:47:42.826Z"
   },
   {
    "duration": -1109,
    "start_time": "2021-12-23T18:47:42.836Z"
   },
   {
    "duration": -1120,
    "start_time": "2021-12-23T18:47:42.848Z"
   },
   {
    "duration": -1123,
    "start_time": "2021-12-23T18:47:42.853Z"
   },
   {
    "duration": -1129,
    "start_time": "2021-12-23T18:47:42.860Z"
   },
   {
    "duration": 1461,
    "start_time": "2021-12-23T18:48:34.889Z"
   },
   {
    "duration": 53,
    "start_time": "2021-12-23T18:48:36.353Z"
   },
   {
    "duration": 14,
    "start_time": "2021-12-23T18:48:36.410Z"
   },
   {
    "duration": 61,
    "start_time": "2021-12-23T18:48:36.427Z"
   },
   {
    "duration": 9,
    "start_time": "2021-12-23T18:48:36.490Z"
   },
   {
    "duration": 18,
    "start_time": "2021-12-23T18:48:36.524Z"
   },
   {
    "duration": 3,
    "start_time": "2021-12-23T18:48:36.544Z"
   },
   {
    "duration": 9,
    "start_time": "2021-12-23T18:48:36.551Z"
   },
   {
    "duration": 5,
    "start_time": "2021-12-23T18:48:36.563Z"
   },
   {
    "duration": 7,
    "start_time": "2021-12-23T18:48:36.571Z"
   },
   {
    "duration": 20,
    "start_time": "2021-12-23T18:48:36.623Z"
   },
   {
    "duration": 16,
    "start_time": "2021-12-23T18:48:36.645Z"
   },
   {
    "duration": 14,
    "start_time": "2021-12-23T18:48:36.664Z"
   },
   {
    "duration": 13,
    "start_time": "2021-12-23T18:48:36.680Z"
   },
   {
    "duration": 96,
    "start_time": "2021-12-23T18:48:36.695Z"
   },
   {
    "duration": 3,
    "start_time": "2021-12-23T18:48:36.794Z"
   },
   {
    "duration": 38,
    "start_time": "2021-12-23T18:48:36.800Z"
   },
   {
    "duration": 3,
    "start_time": "2021-12-23T18:48:36.842Z"
   },
   {
    "duration": 7,
    "start_time": "2021-12-23T18:48:36.848Z"
   },
   {
    "duration": 11,
    "start_time": "2021-12-23T18:48:36.857Z"
   },
   {
    "duration": 72,
    "start_time": "2021-12-23T18:48:36.871Z"
   },
   {
    "duration": 407,
    "start_time": "2021-12-23T18:48:37.025Z"
   },
   {
    "duration": 603,
    "start_time": "2021-12-23T18:48:37.439Z"
   },
   {
    "duration": 9,
    "start_time": "2021-12-23T18:48:38.045Z"
   },
   {
    "duration": 29,
    "start_time": "2021-12-23T18:48:38.056Z"
   },
   {
    "duration": 424,
    "start_time": "2021-12-23T18:48:38.088Z"
   },
   {
    "duration": 29,
    "start_time": "2021-12-23T18:48:38.514Z"
   },
   {
    "duration": 317,
    "start_time": "2021-12-23T18:48:38.546Z"
   },
   {
    "duration": 267,
    "start_time": "2021-12-23T18:48:38.866Z"
   },
   {
    "duration": 36,
    "start_time": "2021-12-23T18:48:39.136Z"
   },
   {
    "duration": 13,
    "start_time": "2021-12-23T18:48:39.176Z"
   },
   {
    "duration": 35,
    "start_time": "2021-12-23T18:48:39.192Z"
   },
   {
    "duration": 17,
    "start_time": "2021-12-23T18:48:39.230Z"
   },
   {
    "duration": 3,
    "start_time": "2021-12-23T18:48:39.250Z"
   },
   {
    "duration": 6,
    "start_time": "2021-12-23T18:48:39.257Z"
   },
   {
    "duration": 5,
    "start_time": "2021-12-23T18:48:39.267Z"
   },
   {
    "duration": 1186,
    "start_time": "2021-12-23T18:48:39.275Z"
   },
   {
    "duration": 704,
    "start_time": "2021-12-23T18:48:40.464Z"
   },
   {
    "duration": 238,
    "start_time": "2021-12-23T18:48:41.171Z"
   },
   {
    "duration": 29,
    "start_time": "2021-12-23T18:48:41.412Z"
   },
   {
    "duration": 303,
    "start_time": "2021-12-23T18:48:41.444Z"
   },
   {
    "duration": 428,
    "start_time": "2021-12-23T18:48:41.749Z"
   },
   {
    "duration": 27,
    "start_time": "2021-12-23T18:48:42.179Z"
   },
   {
    "duration": 16,
    "start_time": "2021-12-23T18:48:42.209Z"
   },
   {
    "duration": 10,
    "start_time": "2021-12-23T18:48:42.228Z"
   },
   {
    "duration": 598,
    "start_time": "2021-12-23T18:48:42.241Z"
   },
   {
    "duration": 571,
    "start_time": "2021-12-23T18:48:42.841Z"
   },
   {
    "duration": 250,
    "start_time": "2021-12-23T18:48:43.414Z"
   },
   {
    "duration": 23,
    "start_time": "2021-12-23T18:48:43.666Z"
   },
   {
    "duration": 299,
    "start_time": "2021-12-23T18:48:43.691Z"
   },
   {
    "duration": 268,
    "start_time": "2021-12-23T18:48:43.992Z"
   },
   {
    "duration": 25,
    "start_time": "2021-12-23T18:48:44.263Z"
   },
   {
    "duration": 1484,
    "start_time": "2021-12-23T18:48:57.348Z"
   },
   {
    "duration": 54,
    "start_time": "2021-12-23T18:48:58.834Z"
   },
   {
    "duration": 8,
    "start_time": "2021-12-23T18:48:58.891Z"
   },
   {
    "duration": 75,
    "start_time": "2021-12-23T18:48:58.902Z"
   },
   {
    "duration": 10,
    "start_time": "2021-12-23T18:48:58.979Z"
   },
   {
    "duration": 43,
    "start_time": "2021-12-23T18:48:58.991Z"
   },
   {
    "duration": 3,
    "start_time": "2021-12-23T18:48:59.037Z"
   },
   {
    "duration": 8,
    "start_time": "2021-12-23T18:48:59.045Z"
   },
   {
    "duration": 5,
    "start_time": "2021-12-23T18:48:59.056Z"
   },
   {
    "duration": 8,
    "start_time": "2021-12-23T18:48:59.064Z"
   },
   {
    "duration": 61,
    "start_time": "2021-12-23T18:48:59.075Z"
   },
   {
    "duration": 7,
    "start_time": "2021-12-23T18:48:59.139Z"
   },
   {
    "duration": 14,
    "start_time": "2021-12-23T18:48:59.148Z"
   },
   {
    "duration": 12,
    "start_time": "2021-12-23T18:48:59.165Z"
   },
   {
    "duration": 98,
    "start_time": "2021-12-23T18:48:59.180Z"
   },
   {
    "duration": 3,
    "start_time": "2021-12-23T18:48:59.281Z"
   },
   {
    "duration": 46,
    "start_time": "2021-12-23T18:48:59.287Z"
   },
   {
    "duration": 3,
    "start_time": "2021-12-23T18:48:59.335Z"
   },
   {
    "duration": 5,
    "start_time": "2021-12-23T18:48:59.340Z"
   },
   {
    "duration": 11,
    "start_time": "2021-12-23T18:48:59.348Z"
   },
   {
    "duration": 162,
    "start_time": "2021-12-23T18:48:59.362Z"
   },
   {
    "duration": 323,
    "start_time": "2021-12-23T18:48:59.528Z"
   },
   {
    "duration": 597,
    "start_time": "2021-12-23T18:48:59.856Z"
   },
   {
    "duration": 9,
    "start_time": "2021-12-23T18:49:00.456Z"
   },
   {
    "duration": 31,
    "start_time": "2021-12-23T18:49:00.467Z"
   },
   {
    "duration": 407,
    "start_time": "2021-12-23T18:49:00.501Z"
   },
   {
    "duration": 26,
    "start_time": "2021-12-23T18:49:00.910Z"
   },
   {
    "duration": 302,
    "start_time": "2021-12-23T18:49:00.938Z"
   },
   {
    "duration": 256,
    "start_time": "2021-12-23T18:49:01.242Z"
   },
   {
    "duration": 34,
    "start_time": "2021-12-23T18:49:01.500Z"
   },
   {
    "duration": 12,
    "start_time": "2021-12-23T18:49:01.536Z"
   },
   {
    "duration": 8,
    "start_time": "2021-12-23T18:49:01.550Z"
   },
   {
    "duration": 12,
    "start_time": "2021-12-23T18:49:01.561Z"
   },
   {
    "duration": 47,
    "start_time": "2021-12-23T18:49:01.576Z"
   },
   {
    "duration": 3,
    "start_time": "2021-12-23T18:49:01.626Z"
   },
   {
    "duration": 6,
    "start_time": "2021-12-23T18:49:01.631Z"
   },
   {
    "duration": 1066,
    "start_time": "2021-12-23T18:49:01.639Z"
   },
   {
    "duration": 607,
    "start_time": "2021-12-23T18:49:02.708Z"
   },
   {
    "duration": 231,
    "start_time": "2021-12-23T18:49:03.317Z"
   },
   {
    "duration": 24,
    "start_time": "2021-12-23T18:49:03.551Z"
   },
   {
    "duration": 299,
    "start_time": "2021-12-23T18:49:03.578Z"
   },
   {
    "duration": 327,
    "start_time": "2021-12-23T18:49:03.879Z"
   },
   {
    "duration": 32,
    "start_time": "2021-12-23T18:49:04.208Z"
   },
   {
    "duration": 3,
    "start_time": "2021-12-23T18:49:04.243Z"
   },
   {
    "duration": 8,
    "start_time": "2021-12-23T18:49:04.248Z"
   },
   {
    "duration": 629,
    "start_time": "2021-12-23T18:49:04.258Z"
   },
   {
    "duration": 559,
    "start_time": "2021-12-23T18:49:04.890Z"
   },
   {
    "duration": 233,
    "start_time": "2021-12-23T18:49:05.452Z"
   },
   {
    "duration": 43,
    "start_time": "2021-12-23T18:49:05.688Z"
   },
   {
    "duration": 289,
    "start_time": "2021-12-23T18:49:05.734Z"
   },
   {
    "duration": 258,
    "start_time": "2021-12-23T18:49:06.027Z"
   },
   {
    "duration": 43,
    "start_time": "2021-12-23T18:49:06.289Z"
   },
   {
    "duration": 1547,
    "start_time": "2021-12-23T18:51:18.617Z"
   },
   {
    "duration": 64,
    "start_time": "2021-12-23T18:51:20.168Z"
   },
   {
    "duration": 8,
    "start_time": "2021-12-23T18:51:20.236Z"
   },
   {
    "duration": 86,
    "start_time": "2021-12-23T18:51:20.246Z"
   },
   {
    "duration": 9,
    "start_time": "2021-12-23T18:51:20.335Z"
   },
   {
    "duration": 18,
    "start_time": "2021-12-23T18:51:20.346Z"
   },
   {
    "duration": 3,
    "start_time": "2021-12-23T18:51:20.367Z"
   },
   {
    "duration": 48,
    "start_time": "2021-12-23T18:51:20.375Z"
   },
   {
    "duration": 6,
    "start_time": "2021-12-23T18:51:20.427Z"
   },
   {
    "duration": 10,
    "start_time": "2021-12-23T18:51:20.435Z"
   },
   {
    "duration": 21,
    "start_time": "2021-12-23T18:51:20.447Z"
   },
   {
    "duration": 7,
    "start_time": "2021-12-23T18:51:20.471Z"
   },
   {
    "duration": 45,
    "start_time": "2021-12-23T18:51:20.481Z"
   },
   {
    "duration": 29,
    "start_time": "2021-12-23T18:51:20.528Z"
   },
   {
    "duration": 69,
    "start_time": "2021-12-23T18:51:20.559Z"
   },
   {
    "duration": 4,
    "start_time": "2021-12-23T18:51:20.631Z"
   },
   {
    "duration": 33,
    "start_time": "2021-12-23T18:51:20.638Z"
   },
   {
    "duration": 27,
    "start_time": "2021-12-23T18:51:20.674Z"
   },
   {
    "duration": 20,
    "start_time": "2021-12-23T18:51:20.703Z"
   },
   {
    "duration": 31,
    "start_time": "2021-12-23T18:51:20.725Z"
   },
   {
    "duration": 69,
    "start_time": "2021-12-23T18:51:20.759Z"
   },
   {
    "duration": 424,
    "start_time": "2021-12-23T18:51:20.830Z"
   },
   {
    "duration": 669,
    "start_time": "2021-12-23T18:51:21.263Z"
   },
   {
    "duration": 8,
    "start_time": "2021-12-23T18:51:21.936Z"
   },
   {
    "duration": 33,
    "start_time": "2021-12-23T18:51:21.947Z"
   },
   {
    "duration": 408,
    "start_time": "2021-12-23T18:51:21.982Z"
   },
   {
    "duration": 36,
    "start_time": "2021-12-23T18:51:22.393Z"
   },
   {
    "duration": 311,
    "start_time": "2021-12-23T18:51:22.432Z"
   },
   {
    "duration": 286,
    "start_time": "2021-12-23T18:51:22.745Z"
   },
   {
    "duration": 34,
    "start_time": "2021-12-23T18:51:23.034Z"
   },
   {
    "duration": 12,
    "start_time": "2021-12-23T18:51:23.070Z"
   },
   {
    "duration": 41,
    "start_time": "2021-12-23T18:51:23.085Z"
   },
   {
    "duration": 14,
    "start_time": "2021-12-23T18:51:23.130Z"
   },
   {
    "duration": 4,
    "start_time": "2021-12-23T18:51:23.146Z"
   },
   {
    "duration": 5,
    "start_time": "2021-12-23T18:51:23.153Z"
   },
   {
    "duration": 10,
    "start_time": "2021-12-23T18:51:23.161Z"
   },
   {
    "duration": 998,
    "start_time": "2021-12-23T18:51:23.174Z"
   },
   {
    "duration": 585,
    "start_time": "2021-12-23T18:51:24.175Z"
   },
   {
    "duration": 237,
    "start_time": "2021-12-23T18:51:24.762Z"
   },
   {
    "duration": 34,
    "start_time": "2021-12-23T18:51:25.002Z"
   },
   {
    "duration": 309,
    "start_time": "2021-12-23T18:51:25.038Z"
   },
   {
    "duration": 424,
    "start_time": "2021-12-23T18:51:25.350Z"
   },
   {
    "duration": 28,
    "start_time": "2021-12-23T18:51:25.776Z"
   },
   {
    "duration": 3,
    "start_time": "2021-12-23T18:51:25.823Z"
   },
   {
    "duration": 13,
    "start_time": "2021-12-23T18:51:25.829Z"
   },
   {
    "duration": 613,
    "start_time": "2021-12-23T18:51:25.844Z"
   },
   {
    "duration": 575,
    "start_time": "2021-12-23T18:51:26.460Z"
   },
   {
    "duration": 240,
    "start_time": "2021-12-23T18:51:27.037Z"
   },
   {
    "duration": 22,
    "start_time": "2021-12-23T18:51:27.280Z"
   },
   {
    "duration": 307,
    "start_time": "2021-12-23T18:51:27.305Z"
   },
   {
    "duration": 308,
    "start_time": "2021-12-23T18:51:27.615Z"
   },
   {
    "duration": 32,
    "start_time": "2021-12-23T18:51:27.926Z"
   },
   {
    "duration": 1390,
    "start_time": "2021-12-23T18:53:04.659Z"
   },
   {
    "duration": 54,
    "start_time": "2021-12-23T18:53:06.052Z"
   },
   {
    "duration": 6,
    "start_time": "2021-12-23T18:53:06.109Z"
   },
   {
    "duration": 67,
    "start_time": "2021-12-23T18:53:06.123Z"
   },
   {
    "duration": 8,
    "start_time": "2021-12-23T18:53:06.193Z"
   },
   {
    "duration": 47,
    "start_time": "2021-12-23T18:53:06.203Z"
   },
   {
    "duration": 21,
    "start_time": "2021-12-23T18:53:06.252Z"
   },
   {
    "duration": 16,
    "start_time": "2021-12-23T18:53:06.276Z"
   },
   {
    "duration": 21,
    "start_time": "2021-12-23T18:53:06.295Z"
   },
   {
    "duration": 12,
    "start_time": "2021-12-23T18:53:06.318Z"
   },
   {
    "duration": 19,
    "start_time": "2021-12-23T18:53:06.332Z"
   },
   {
    "duration": 17,
    "start_time": "2021-12-23T18:53:06.353Z"
   },
   {
    "duration": 15,
    "start_time": "2021-12-23T18:53:06.372Z"
   },
   {
    "duration": 14,
    "start_time": "2021-12-23T18:53:06.389Z"
   },
   {
    "duration": 60,
    "start_time": "2021-12-23T18:53:06.423Z"
   },
   {
    "duration": 3,
    "start_time": "2021-12-23T18:53:06.485Z"
   },
   {
    "duration": 41,
    "start_time": "2021-12-23T18:53:06.490Z"
   },
   {
    "duration": 3,
    "start_time": "2021-12-23T18:53:06.533Z"
   },
   {
    "duration": 14,
    "start_time": "2021-12-23T18:53:06.538Z"
   },
   {
    "duration": 15,
    "start_time": "2021-12-23T18:53:06.554Z"
   },
   {
    "duration": 153,
    "start_time": "2021-12-23T18:53:06.571Z"
   },
   {
    "duration": 317,
    "start_time": "2021-12-23T18:53:06.727Z"
   },
   {
    "duration": 611,
    "start_time": "2021-12-23T18:53:07.051Z"
   },
   {
    "duration": 8,
    "start_time": "2021-12-23T18:53:07.665Z"
   },
   {
    "duration": 50,
    "start_time": "2021-12-23T18:53:07.675Z"
   },
   {
    "duration": 373,
    "start_time": "2021-12-23T18:53:07.728Z"
   },
   {
    "duration": 30,
    "start_time": "2021-12-23T18:53:08.104Z"
   },
   {
    "duration": 292,
    "start_time": "2021-12-23T18:53:08.136Z"
   },
   {
    "duration": 352,
    "start_time": "2021-12-23T18:53:08.430Z"
   },
   {
    "duration": 24,
    "start_time": "2021-12-23T18:53:08.784Z"
   },
   {
    "duration": 11,
    "start_time": "2021-12-23T18:53:08.822Z"
   },
   {
    "duration": 23,
    "start_time": "2021-12-23T18:53:08.835Z"
   },
   {
    "duration": 38,
    "start_time": "2021-12-23T18:53:08.861Z"
   },
   {
    "duration": 7,
    "start_time": "2021-12-23T18:53:08.902Z"
   },
   {
    "duration": 27,
    "start_time": "2021-12-23T18:53:08.912Z"
   },
   {
    "duration": 34,
    "start_time": "2021-12-23T18:53:08.941Z"
   },
   {
    "duration": 914,
    "start_time": "2021-12-23T18:53:08.978Z"
   },
   {
    "duration": 569,
    "start_time": "2021-12-23T18:53:09.895Z"
   },
   {
    "duration": 246,
    "start_time": "2021-12-23T18:53:10.467Z"
   },
   {
    "duration": 23,
    "start_time": "2021-12-23T18:53:10.723Z"
   },
   {
    "duration": 291,
    "start_time": "2021-12-23T18:53:10.748Z"
   },
   {
    "duration": 306,
    "start_time": "2021-12-23T18:53:11.041Z"
   },
   {
    "duration": 24,
    "start_time": "2021-12-23T18:53:11.350Z"
   },
   {
    "duration": 13,
    "start_time": "2021-12-23T18:53:11.376Z"
   },
   {
    "duration": 34,
    "start_time": "2021-12-23T18:53:11.391Z"
   },
   {
    "duration": 566,
    "start_time": "2021-12-23T18:53:11.427Z"
   },
   {
    "duration": 522,
    "start_time": "2021-12-23T18:53:11.995Z"
   },
   {
    "duration": 249,
    "start_time": "2021-12-23T18:53:12.520Z"
   },
   {
    "duration": 24,
    "start_time": "2021-12-23T18:53:12.772Z"
   },
   {
    "duration": 307,
    "start_time": "2021-12-23T18:53:12.800Z"
   },
   {
    "duration": 274,
    "start_time": "2021-12-23T18:53:13.110Z"
   },
   {
    "duration": 24,
    "start_time": "2021-12-23T18:53:13.387Z"
   },
   {
    "duration": 1386,
    "start_time": "2021-12-23T18:53:28.556Z"
   },
   {
    "duration": 52,
    "start_time": "2021-12-23T18:53:29.944Z"
   },
   {
    "duration": 7,
    "start_time": "2021-12-23T18:53:29.999Z"
   },
   {
    "duration": 75,
    "start_time": "2021-12-23T18:53:30.009Z"
   },
   {
    "duration": 10,
    "start_time": "2021-12-23T18:53:30.086Z"
   },
   {
    "duration": 42,
    "start_time": "2021-12-23T18:53:30.098Z"
   },
   {
    "duration": 2,
    "start_time": "2021-12-23T18:53:30.143Z"
   },
   {
    "duration": 8,
    "start_time": "2021-12-23T18:53:30.150Z"
   },
   {
    "duration": 6,
    "start_time": "2021-12-23T18:53:30.161Z"
   },
   {
    "duration": 8,
    "start_time": "2021-12-23T18:53:30.169Z"
   },
   {
    "duration": 57,
    "start_time": "2021-12-23T18:53:30.179Z"
   },
   {
    "duration": 12,
    "start_time": "2021-12-23T18:53:30.238Z"
   },
   {
    "duration": 19,
    "start_time": "2021-12-23T18:53:30.252Z"
   },
   {
    "duration": 11,
    "start_time": "2021-12-23T18:53:30.274Z"
   },
   {
    "duration": 79,
    "start_time": "2021-12-23T18:53:30.287Z"
   },
   {
    "duration": 3,
    "start_time": "2021-12-23T18:53:30.369Z"
   },
   {
    "duration": 28,
    "start_time": "2021-12-23T18:53:30.375Z"
   },
   {
    "duration": 17,
    "start_time": "2021-12-23T18:53:30.406Z"
   },
   {
    "duration": 18,
    "start_time": "2021-12-23T18:53:30.425Z"
   },
   {
    "duration": 14,
    "start_time": "2021-12-23T18:53:30.445Z"
   },
   {
    "duration": 69,
    "start_time": "2021-12-23T18:53:30.462Z"
   },
   {
    "duration": 325,
    "start_time": "2021-12-23T18:53:30.623Z"
   },
   {
    "duration": 588,
    "start_time": "2021-12-23T18:53:30.952Z"
   },
   {
    "duration": 8,
    "start_time": "2021-12-23T18:53:31.543Z"
   },
   {
    "duration": 31,
    "start_time": "2021-12-23T18:53:31.554Z"
   },
   {
    "duration": 380,
    "start_time": "2021-12-23T18:53:31.588Z"
   },
   {
    "duration": 21,
    "start_time": "2021-12-23T18:53:31.971Z"
   },
   {
    "duration": 296,
    "start_time": "2021-12-23T18:53:31.995Z"
   },
   {
    "duration": 260,
    "start_time": "2021-12-23T18:53:32.293Z"
   },
   {
    "duration": 25,
    "start_time": "2021-12-23T18:53:32.556Z"
   },
   {
    "duration": 10,
    "start_time": "2021-12-23T18:53:32.583Z"
   },
   {
    "duration": 30,
    "start_time": "2021-12-23T18:53:32.595Z"
   },
   {
    "duration": 11,
    "start_time": "2021-12-23T18:53:32.627Z"
   },
   {
    "duration": 8,
    "start_time": "2021-12-23T18:53:32.640Z"
   },
   {
    "duration": 16,
    "start_time": "2021-12-23T18:53:32.650Z"
   },
   {
    "duration": 14,
    "start_time": "2021-12-23T18:53:32.669Z"
   },
   {
    "duration": 980,
    "start_time": "2021-12-23T18:53:32.685Z"
   },
   {
    "duration": 671,
    "start_time": "2021-12-23T18:53:33.668Z"
   },
   {
    "duration": 276,
    "start_time": "2021-12-23T18:53:34.342Z"
   },
   {
    "duration": 33,
    "start_time": "2021-12-23T18:53:34.624Z"
   },
   {
    "duration": 463,
    "start_time": "2021-12-23T18:53:34.660Z"
   },
   {
    "duration": 487,
    "start_time": "2021-12-23T18:53:35.126Z"
   },
   {
    "duration": 41,
    "start_time": "2021-12-23T18:53:35.616Z"
   },
   {
    "duration": 4,
    "start_time": "2021-12-23T18:53:35.661Z"
   },
   {
    "duration": 27,
    "start_time": "2021-12-23T18:53:35.668Z"
   },
   {
    "duration": 642,
    "start_time": "2021-12-23T18:53:35.698Z"
   },
   {
    "duration": 640,
    "start_time": "2021-12-23T18:53:36.343Z"
   },
   {
    "duration": 305,
    "start_time": "2021-12-23T18:53:36.986Z"
   },
   {
    "duration": 32,
    "start_time": "2021-12-23T18:53:37.293Z"
   },
   {
    "duration": 284,
    "start_time": "2021-12-23T18:53:37.327Z"
   },
   {
    "duration": 254,
    "start_time": "2021-12-23T18:53:37.614Z"
   },
   {
    "duration": 26,
    "start_time": "2021-12-23T18:53:37.871Z"
   },
   {
    "duration": 1570,
    "start_time": "2021-12-23T18:54:04.235Z"
   },
   {
    "duration": 56,
    "start_time": "2021-12-23T18:54:05.807Z"
   },
   {
    "duration": 7,
    "start_time": "2021-12-23T18:54:05.866Z"
   },
   {
    "duration": 123,
    "start_time": "2021-12-23T18:54:05.877Z"
   },
   {
    "duration": 9,
    "start_time": "2021-12-23T18:54:06.004Z"
   },
   {
    "duration": 50,
    "start_time": "2021-12-23T18:54:06.016Z"
   },
   {
    "duration": 23,
    "start_time": "2021-12-23T18:54:06.069Z"
   },
   {
    "duration": 70,
    "start_time": "2021-12-23T18:54:06.095Z"
   },
   {
    "duration": 57,
    "start_time": "2021-12-23T18:54:06.168Z"
   },
   {
    "duration": 50,
    "start_time": "2021-12-23T18:54:06.228Z"
   },
   {
    "duration": 47,
    "start_time": "2021-12-23T18:54:06.280Z"
   },
   {
    "duration": 47,
    "start_time": "2021-12-23T18:54:06.330Z"
   },
   {
    "duration": 47,
    "start_time": "2021-12-23T18:54:06.379Z"
   },
   {
    "duration": 49,
    "start_time": "2021-12-23T18:54:06.429Z"
   },
   {
    "duration": 117,
    "start_time": "2021-12-23T18:54:06.481Z"
   },
   {
    "duration": 2,
    "start_time": "2021-12-23T18:54:06.601Z"
   },
   {
    "duration": 64,
    "start_time": "2021-12-23T18:54:06.606Z"
   },
   {
    "duration": 57,
    "start_time": "2021-12-23T18:54:06.672Z"
   },
   {
    "duration": 50,
    "start_time": "2021-12-23T18:54:06.732Z"
   },
   {
    "duration": 68,
    "start_time": "2021-12-23T18:54:06.786Z"
   },
   {
    "duration": 166,
    "start_time": "2021-12-23T18:54:06.858Z"
   },
   {
    "duration": 358,
    "start_time": "2021-12-23T18:54:07.027Z"
   },
   {
    "duration": 621,
    "start_time": "2021-12-23T18:54:07.391Z"
   },
   {
    "duration": 12,
    "start_time": "2021-12-23T18:54:08.015Z"
   },
   {
    "duration": 78,
    "start_time": "2021-12-23T18:54:08.030Z"
   },
   {
    "duration": 393,
    "start_time": "2021-12-23T18:54:08.110Z"
   },
   {
    "duration": 27,
    "start_time": "2021-12-23T18:54:08.505Z"
   },
   {
    "duration": 311,
    "start_time": "2021-12-23T18:54:08.534Z"
   },
   {
    "duration": 263,
    "start_time": "2021-12-23T18:54:08.848Z"
   },
   {
    "duration": 31,
    "start_time": "2021-12-23T18:54:09.113Z"
   },
   {
    "duration": 19,
    "start_time": "2021-12-23T18:54:09.146Z"
   },
   {
    "duration": 51,
    "start_time": "2021-12-23T18:54:09.168Z"
   },
   {
    "duration": 72,
    "start_time": "2021-12-23T18:54:09.222Z"
   },
   {
    "duration": 29,
    "start_time": "2021-12-23T18:54:09.296Z"
   },
   {
    "duration": 32,
    "start_time": "2021-12-23T18:54:09.327Z"
   },
   {
    "duration": 35,
    "start_time": "2021-12-23T18:54:09.361Z"
   },
   {
    "duration": 1010,
    "start_time": "2021-12-23T18:54:09.398Z"
   },
   {
    "duration": 601,
    "start_time": "2021-12-23T18:54:10.410Z"
   },
   {
    "duration": 245,
    "start_time": "2021-12-23T18:54:11.014Z"
   },
   {
    "duration": 24,
    "start_time": "2021-12-23T18:54:11.261Z"
   },
   {
    "duration": 296,
    "start_time": "2021-12-23T18:54:11.287Z"
   },
   {
    "duration": 320,
    "start_time": "2021-12-23T18:54:11.586Z"
   },
   {
    "duration": 32,
    "start_time": "2021-12-23T18:54:11.908Z"
   },
   {
    "duration": 5,
    "start_time": "2021-12-23T18:54:11.942Z"
   },
   {
    "duration": 34,
    "start_time": "2021-12-23T18:54:11.949Z"
   },
   {
    "duration": 590,
    "start_time": "2021-12-23T18:54:11.985Z"
   },
   {
    "duration": 535,
    "start_time": "2021-12-23T18:54:12.577Z"
   },
   {
    "duration": 278,
    "start_time": "2021-12-23T18:54:13.114Z"
   },
   {
    "duration": 43,
    "start_time": "2021-12-23T18:54:13.395Z"
   },
   {
    "duration": 301,
    "start_time": "2021-12-23T18:54:13.441Z"
   },
   {
    "duration": 256,
    "start_time": "2021-12-23T18:54:13.745Z"
   },
   {
    "duration": 39,
    "start_time": "2021-12-23T18:54:14.004Z"
   },
   {
    "duration": 1405,
    "start_time": "2021-12-23T18:55:33.332Z"
   },
   {
    "duration": 54,
    "start_time": "2021-12-23T18:55:34.740Z"
   },
   {
    "duration": 8,
    "start_time": "2021-12-23T18:55:34.797Z"
   },
   {
    "duration": 76,
    "start_time": "2021-12-23T18:55:34.808Z"
   },
   {
    "duration": 8,
    "start_time": "2021-12-23T18:55:34.887Z"
   },
   {
    "duration": 41,
    "start_time": "2021-12-23T18:55:34.898Z"
   },
   {
    "duration": 3,
    "start_time": "2021-12-23T18:55:34.941Z"
   },
   {
    "duration": 10,
    "start_time": "2021-12-23T18:55:34.947Z"
   },
   {
    "duration": 5,
    "start_time": "2021-12-23T18:55:34.960Z"
   },
   {
    "duration": 6,
    "start_time": "2021-12-23T18:55:34.968Z"
   },
   {
    "duration": 57,
    "start_time": "2021-12-23T18:55:34.976Z"
   },
   {
    "duration": 5,
    "start_time": "2021-12-23T18:55:35.036Z"
   },
   {
    "duration": 12,
    "start_time": "2021-12-23T18:55:35.044Z"
   },
   {
    "duration": 10,
    "start_time": "2021-12-23T18:55:35.058Z"
   },
   {
    "duration": 101,
    "start_time": "2021-12-23T18:55:35.070Z"
   },
   {
    "duration": 2,
    "start_time": "2021-12-23T18:55:35.174Z"
   },
   {
    "duration": 15,
    "start_time": "2021-12-23T18:55:35.179Z"
   },
   {
    "duration": 3,
    "start_time": "2021-12-23T18:55:35.195Z"
   },
   {
    "duration": 3,
    "start_time": "2021-12-23T18:55:35.223Z"
   },
   {
    "duration": 10,
    "start_time": "2021-12-23T18:55:35.228Z"
   },
   {
    "duration": 90,
    "start_time": "2021-12-23T18:55:35.240Z"
   },
   {
    "duration": 325,
    "start_time": "2021-12-23T18:55:35.333Z"
   },
   {
    "duration": 617,
    "start_time": "2021-12-23T18:55:35.663Z"
   },
   {
    "duration": 8,
    "start_time": "2021-12-23T18:55:36.283Z"
   },
   {
    "duration": 50,
    "start_time": "2021-12-23T18:55:36.294Z"
   },
   {
    "duration": 390,
    "start_time": "2021-12-23T18:55:36.347Z"
   },
   {
    "duration": 22,
    "start_time": "2021-12-23T18:55:36.740Z"
   },
   {
    "duration": 319,
    "start_time": "2021-12-23T18:55:36.765Z"
   },
   {
    "duration": 260,
    "start_time": "2021-12-23T18:55:37.087Z"
   },
   {
    "duration": 26,
    "start_time": "2021-12-23T18:55:37.350Z"
   },
   {
    "duration": 9,
    "start_time": "2021-12-23T18:55:37.378Z"
   },
   {
    "duration": 35,
    "start_time": "2021-12-23T18:55:37.390Z"
   },
   {
    "duration": 11,
    "start_time": "2021-12-23T18:55:37.427Z"
   },
   {
    "duration": 3,
    "start_time": "2021-12-23T18:55:37.440Z"
   },
   {
    "duration": 5,
    "start_time": "2021-12-23T18:55:37.445Z"
   },
   {
    "duration": 5,
    "start_time": "2021-12-23T18:55:37.452Z"
   },
   {
    "duration": 939,
    "start_time": "2021-12-23T18:55:37.460Z"
   },
   {
    "duration": 591,
    "start_time": "2021-12-23T18:55:38.401Z"
   },
   {
    "duration": 282,
    "start_time": "2021-12-23T18:55:38.995Z"
   },
   {
    "duration": 23,
    "start_time": "2021-12-23T18:55:39.280Z"
   },
   {
    "duration": 313,
    "start_time": "2021-12-23T18:55:39.323Z"
   },
   {
    "duration": 446,
    "start_time": "2021-12-23T18:55:39.639Z"
   },
   {
    "duration": 41,
    "start_time": "2021-12-23T18:55:40.088Z"
   },
   {
    "duration": 121,
    "start_time": "2021-12-23T18:55:40.132Z"
   },
   {
    "duration": -1164,
    "start_time": "2021-12-23T18:55:41.420Z"
   },
   {
    "duration": -1169,
    "start_time": "2021-12-23T18:55:41.427Z"
   },
   {
    "duration": -1173,
    "start_time": "2021-12-23T18:55:41.433Z"
   },
   {
    "duration": -1178,
    "start_time": "2021-12-23T18:55:41.441Z"
   },
   {
    "duration": -1181,
    "start_time": "2021-12-23T18:55:41.447Z"
   },
   {
    "duration": -1186,
    "start_time": "2021-12-23T18:55:41.454Z"
   },
   {
    "duration": -1189,
    "start_time": "2021-12-23T18:55:41.459Z"
   },
   {
    "duration": -1195,
    "start_time": "2021-12-23T18:55:41.466Z"
   },
   {
    "duration": 1402,
    "start_time": "2021-12-23T18:56:01.127Z"
   },
   {
    "duration": 53,
    "start_time": "2021-12-23T18:56:02.532Z"
   },
   {
    "duration": 8,
    "start_time": "2021-12-23T18:56:02.589Z"
   },
   {
    "duration": 77,
    "start_time": "2021-12-23T18:56:02.601Z"
   },
   {
    "duration": 11,
    "start_time": "2021-12-23T18:56:02.680Z"
   },
   {
    "duration": 40,
    "start_time": "2021-12-23T18:56:02.694Z"
   },
   {
    "duration": 4,
    "start_time": "2021-12-23T18:56:02.736Z"
   },
   {
    "duration": 16,
    "start_time": "2021-12-23T18:56:02.744Z"
   },
   {
    "duration": 18,
    "start_time": "2021-12-23T18:56:02.763Z"
   },
   {
    "duration": 14,
    "start_time": "2021-12-23T18:56:02.784Z"
   },
   {
    "duration": 29,
    "start_time": "2021-12-23T18:56:02.800Z"
   },
   {
    "duration": 6,
    "start_time": "2021-12-23T18:56:02.831Z"
   },
   {
    "duration": 12,
    "start_time": "2021-12-23T18:56:02.839Z"
   },
   {
    "duration": 11,
    "start_time": "2021-12-23T18:56:02.854Z"
   },
   {
    "duration": 97,
    "start_time": "2021-12-23T18:56:02.867Z"
   },
   {
    "duration": 3,
    "start_time": "2021-12-23T18:56:02.966Z"
   },
   {
    "duration": 17,
    "start_time": "2021-12-23T18:56:02.971Z"
   },
   {
    "duration": 3,
    "start_time": "2021-12-23T18:56:02.990Z"
   },
   {
    "duration": 30,
    "start_time": "2021-12-23T18:56:02.995Z"
   },
   {
    "duration": 8,
    "start_time": "2021-12-23T18:56:03.027Z"
   },
   {
    "duration": 92,
    "start_time": "2021-12-23T18:56:03.037Z"
   },
   {
    "duration": 335,
    "start_time": "2021-12-23T18:56:03.132Z"
   },
   {
    "duration": 604,
    "start_time": "2021-12-23T18:56:03.472Z"
   },
   {
    "duration": 10,
    "start_time": "2021-12-23T18:56:04.081Z"
   },
   {
    "duration": 50,
    "start_time": "2021-12-23T18:56:04.094Z"
   },
   {
    "duration": 389,
    "start_time": "2021-12-23T18:56:04.147Z"
   },
   {
    "duration": 24,
    "start_time": "2021-12-23T18:56:04.539Z"
   },
   {
    "duration": 311,
    "start_time": "2021-12-23T18:56:04.565Z"
   },
   {
    "duration": 256,
    "start_time": "2021-12-23T18:56:04.879Z"
   },
   {
    "duration": 26,
    "start_time": "2021-12-23T18:56:05.137Z"
   },
   {
    "duration": 10,
    "start_time": "2021-12-23T18:56:05.166Z"
   },
   {
    "duration": 6,
    "start_time": "2021-12-23T18:56:05.179Z"
   },
   {
    "duration": 44,
    "start_time": "2021-12-23T18:56:05.187Z"
   },
   {
    "duration": 5,
    "start_time": "2021-12-23T18:56:05.234Z"
   },
   {
    "duration": 9,
    "start_time": "2021-12-23T18:56:05.241Z"
   },
   {
    "duration": 6,
    "start_time": "2021-12-23T18:56:05.252Z"
   },
   {
    "duration": 963,
    "start_time": "2021-12-23T18:56:05.260Z"
   },
   {
    "duration": 703,
    "start_time": "2021-12-23T18:56:06.226Z"
   },
   {
    "duration": 237,
    "start_time": "2021-12-23T18:56:06.932Z"
   },
   {
    "duration": 23,
    "start_time": "2021-12-23T18:56:07.171Z"
   },
   {
    "duration": 302,
    "start_time": "2021-12-23T18:56:07.197Z"
   },
   {
    "duration": 330,
    "start_time": "2021-12-23T18:56:07.501Z"
   },
   {
    "duration": 24,
    "start_time": "2021-12-23T18:56:07.833Z"
   },
   {
    "duration": 12516,
    "start_time": "2021-12-23T18:56:07.859Z"
   },
   {
    "duration": 2,
    "start_time": "2021-12-23T18:56:20.378Z"
   },
   {
    "duration": 608,
    "start_time": "2021-12-23T18:56:20.383Z"
   },
   {
    "duration": 560,
    "start_time": "2021-12-23T18:56:20.993Z"
   },
   {
    "duration": 248,
    "start_time": "2021-12-23T18:56:21.556Z"
   },
   {
    "duration": 31,
    "start_time": "2021-12-23T18:56:21.806Z"
   },
   {
    "duration": 313,
    "start_time": "2021-12-23T18:56:21.839Z"
   },
   {
    "duration": 268,
    "start_time": "2021-12-23T18:56:22.155Z"
   },
   {
    "duration": 25,
    "start_time": "2021-12-23T18:56:22.425Z"
   },
   {
    "duration": 1450,
    "start_time": "2021-12-23T18:56:52.701Z"
   },
   {
    "duration": 52,
    "start_time": "2021-12-23T18:56:54.154Z"
   },
   {
    "duration": 7,
    "start_time": "2021-12-23T18:56:54.209Z"
   },
   {
    "duration": 62,
    "start_time": "2021-12-23T18:56:54.224Z"
   },
   {
    "duration": 39,
    "start_time": "2021-12-23T18:56:54.289Z"
   },
   {
    "duration": 20,
    "start_time": "2021-12-23T18:56:54.331Z"
   },
   {
    "duration": 4,
    "start_time": "2021-12-23T18:56:54.353Z"
   },
   {
    "duration": 19,
    "start_time": "2021-12-23T18:56:54.363Z"
   },
   {
    "duration": 8,
    "start_time": "2021-12-23T18:56:54.385Z"
   },
   {
    "duration": 35,
    "start_time": "2021-12-23T18:56:54.395Z"
   },
   {
    "duration": 19,
    "start_time": "2021-12-23T18:56:54.432Z"
   },
   {
    "duration": 10,
    "start_time": "2021-12-23T18:56:54.454Z"
   },
   {
    "duration": 12,
    "start_time": "2021-12-23T18:56:54.467Z"
   },
   {
    "duration": 47,
    "start_time": "2021-12-23T18:56:54.481Z"
   },
   {
    "duration": 59,
    "start_time": "2021-12-23T18:56:54.530Z"
   },
   {
    "duration": 3,
    "start_time": "2021-12-23T18:56:54.591Z"
   },
   {
    "duration": 37,
    "start_time": "2021-12-23T18:56:54.596Z"
   },
   {
    "duration": 4,
    "start_time": "2021-12-23T18:56:54.636Z"
   },
   {
    "duration": 14,
    "start_time": "2021-12-23T18:56:54.642Z"
   },
   {
    "duration": 7,
    "start_time": "2021-12-23T18:56:54.658Z"
   },
   {
    "duration": 65,
    "start_time": "2021-12-23T18:56:54.667Z"
   },
   {
    "duration": 412,
    "start_time": "2021-12-23T18:56:54.735Z"
   },
   {
    "duration": 604,
    "start_time": "2021-12-23T18:56:55.152Z"
   },
   {
    "duration": 8,
    "start_time": "2021-12-23T18:56:55.759Z"
   },
   {
    "duration": 53,
    "start_time": "2021-12-23T18:56:55.770Z"
   },
   {
    "duration": 384,
    "start_time": "2021-12-23T18:56:55.826Z"
   },
   {
    "duration": 30,
    "start_time": "2021-12-23T18:56:56.212Z"
   },
   {
    "duration": 303,
    "start_time": "2021-12-23T18:56:56.244Z"
   },
   {
    "duration": 258,
    "start_time": "2021-12-23T18:56:56.549Z"
   },
   {
    "duration": 32,
    "start_time": "2021-12-23T18:56:56.810Z"
   },
   {
    "duration": 9,
    "start_time": "2021-12-23T18:56:56.844Z"
   },
   {
    "duration": 28,
    "start_time": "2021-12-23T18:56:56.856Z"
   },
   {
    "duration": 19,
    "start_time": "2021-12-23T18:56:56.887Z"
   },
   {
    "duration": 16,
    "start_time": "2021-12-23T18:56:56.909Z"
   },
   {
    "duration": 12,
    "start_time": "2021-12-23T18:56:56.927Z"
   },
   {
    "duration": 25,
    "start_time": "2021-12-23T18:56:56.941Z"
   },
   {
    "duration": 955,
    "start_time": "2021-12-23T18:56:56.968Z"
   },
   {
    "duration": 610,
    "start_time": "2021-12-23T18:56:57.926Z"
   },
   {
    "duration": 237,
    "start_time": "2021-12-23T18:56:58.538Z"
   },
   {
    "duration": 24,
    "start_time": "2021-12-23T18:56:58.777Z"
   },
   {
    "duration": 303,
    "start_time": "2021-12-23T18:56:58.803Z"
   },
   {
    "duration": 319,
    "start_time": "2021-12-23T18:56:59.109Z"
   },
   {
    "duration": 25,
    "start_time": "2021-12-23T18:56:59.431Z"
   },
   {
    "duration": 18576,
    "start_time": "2021-12-23T18:56:59.458Z"
   },
   {
    "duration": 4,
    "start_time": "2021-12-23T18:57:18.037Z"
   },
   {
    "duration": 631,
    "start_time": "2021-12-23T18:57:18.043Z"
   },
   {
    "duration": 546,
    "start_time": "2021-12-23T18:57:18.677Z"
   },
   {
    "duration": 243,
    "start_time": "2021-12-23T18:57:19.226Z"
   },
   {
    "duration": 25,
    "start_time": "2021-12-23T18:57:19.472Z"
   },
   {
    "duration": 320,
    "start_time": "2021-12-23T18:57:19.499Z"
   },
   {
    "duration": 268,
    "start_time": "2021-12-23T18:57:19.824Z"
   },
   {
    "duration": 41,
    "start_time": "2021-12-23T18:57:20.095Z"
   },
   {
    "duration": 1466,
    "start_time": "2021-12-23T18:57:49.099Z"
   },
   {
    "duration": 51,
    "start_time": "2021-12-23T18:57:50.568Z"
   },
   {
    "duration": 7,
    "start_time": "2021-12-23T18:57:50.623Z"
   },
   {
    "duration": 73,
    "start_time": "2021-12-23T18:57:50.633Z"
   },
   {
    "duration": 17,
    "start_time": "2021-12-23T18:57:50.709Z"
   },
   {
    "duration": 34,
    "start_time": "2021-12-23T18:57:50.728Z"
   },
   {
    "duration": 20,
    "start_time": "2021-12-23T18:57:50.765Z"
   },
   {
    "duration": 22,
    "start_time": "2021-12-23T18:57:50.788Z"
   },
   {
    "duration": 24,
    "start_time": "2021-12-23T18:57:50.812Z"
   },
   {
    "duration": 27,
    "start_time": "2021-12-23T18:57:50.839Z"
   },
   {
    "duration": 30,
    "start_time": "2021-12-23T18:57:50.868Z"
   },
   {
    "duration": 41,
    "start_time": "2021-12-23T18:57:50.900Z"
   },
   {
    "duration": 23,
    "start_time": "2021-12-23T18:57:50.944Z"
   },
   {
    "duration": 29,
    "start_time": "2021-12-23T18:57:50.969Z"
   },
   {
    "duration": 73,
    "start_time": "2021-12-23T18:57:51.000Z"
   },
   {
    "duration": 3,
    "start_time": "2021-12-23T18:57:51.075Z"
   },
   {
    "duration": 45,
    "start_time": "2021-12-23T18:57:51.080Z"
   },
   {
    "duration": 28,
    "start_time": "2021-12-23T18:57:51.128Z"
   },
   {
    "duration": 32,
    "start_time": "2021-12-23T18:57:51.158Z"
   },
   {
    "duration": 30,
    "start_time": "2021-12-23T18:57:51.192Z"
   },
   {
    "duration": 101,
    "start_time": "2021-12-23T18:57:51.225Z"
   },
   {
    "duration": 323,
    "start_time": "2021-12-23T18:57:51.329Z"
   },
   {
    "duration": 607,
    "start_time": "2021-12-23T18:57:51.658Z"
   },
   {
    "duration": 7,
    "start_time": "2021-12-23T18:57:52.268Z"
   },
   {
    "duration": 50,
    "start_time": "2021-12-23T18:57:52.277Z"
   },
   {
    "duration": 367,
    "start_time": "2021-12-23T18:57:52.329Z"
   },
   {
    "duration": 31,
    "start_time": "2021-12-23T18:57:52.699Z"
   },
   {
    "duration": 299,
    "start_time": "2021-12-23T18:57:52.733Z"
   },
   {
    "duration": 314,
    "start_time": "2021-12-23T18:57:53.036Z"
   },
   {
    "duration": 27,
    "start_time": "2021-12-23T18:57:53.353Z"
   },
   {
    "duration": 12,
    "start_time": "2021-12-23T18:57:53.383Z"
   },
   {
    "duration": 7,
    "start_time": "2021-12-23T18:57:53.424Z"
   },
   {
    "duration": 37,
    "start_time": "2021-12-23T18:57:53.434Z"
   },
   {
    "duration": 20,
    "start_time": "2021-12-23T18:57:53.474Z"
   },
   {
    "duration": 24,
    "start_time": "2021-12-23T18:57:53.497Z"
   },
   {
    "duration": 29,
    "start_time": "2021-12-23T18:57:53.523Z"
   },
   {
    "duration": 897,
    "start_time": "2021-12-23T18:57:53.554Z"
   },
   {
    "duration": 572,
    "start_time": "2021-12-23T18:57:54.454Z"
   },
   {
    "duration": 247,
    "start_time": "2021-12-23T18:57:55.028Z"
   },
   {
    "duration": 29,
    "start_time": "2021-12-23T18:57:55.278Z"
   },
   {
    "duration": 302,
    "start_time": "2021-12-23T18:57:55.323Z"
   },
   {
    "duration": 332,
    "start_time": "2021-12-23T18:57:55.628Z"
   },
   {
    "duration": 25,
    "start_time": "2021-12-23T18:57:55.963Z"
   },
   {
    "duration": 37577,
    "start_time": "2021-12-23T18:57:55.990Z"
   },
   {
    "duration": 3,
    "start_time": "2021-12-23T18:58:33.570Z"
   },
   {
    "duration": 591,
    "start_time": "2021-12-23T18:58:33.576Z"
   },
   {
    "duration": 534,
    "start_time": "2021-12-23T18:58:34.170Z"
   },
   {
    "duration": 248,
    "start_time": "2021-12-23T18:58:34.706Z"
   },
   {
    "duration": 26,
    "start_time": "2021-12-23T18:58:34.957Z"
   },
   {
    "duration": 304,
    "start_time": "2021-12-23T18:58:34.986Z"
   },
   {
    "duration": 267,
    "start_time": "2021-12-23T18:58:35.292Z"
   },
   {
    "duration": 25,
    "start_time": "2021-12-23T18:58:35.561Z"
   },
   {
    "duration": 1462,
    "start_time": "2021-12-23T19:01:14.484Z"
   },
   {
    "duration": 56,
    "start_time": "2021-12-23T19:01:15.949Z"
   },
   {
    "duration": 16,
    "start_time": "2021-12-23T19:01:16.009Z"
   },
   {
    "duration": 69,
    "start_time": "2021-12-23T19:01:16.028Z"
   },
   {
    "duration": 25,
    "start_time": "2021-12-23T19:01:16.100Z"
   },
   {
    "duration": 17,
    "start_time": "2021-12-23T19:01:16.128Z"
   },
   {
    "duration": 16,
    "start_time": "2021-12-23T19:01:16.148Z"
   },
   {
    "duration": 21,
    "start_time": "2021-12-23T19:01:16.168Z"
   },
   {
    "duration": 22,
    "start_time": "2021-12-23T19:01:16.192Z"
   },
   {
    "duration": 23,
    "start_time": "2021-12-23T19:01:16.217Z"
   },
   {
    "duration": 30,
    "start_time": "2021-12-23T19:01:16.242Z"
   },
   {
    "duration": 16,
    "start_time": "2021-12-23T19:01:16.274Z"
   },
   {
    "duration": 21,
    "start_time": "2021-12-23T19:01:16.292Z"
   },
   {
    "duration": 30,
    "start_time": "2021-12-23T19:01:16.316Z"
   },
   {
    "duration": 71,
    "start_time": "2021-12-23T19:01:16.349Z"
   },
   {
    "duration": 2,
    "start_time": "2021-12-23T19:01:16.423Z"
   },
   {
    "duration": 30,
    "start_time": "2021-12-23T19:01:16.428Z"
   },
   {
    "duration": 17,
    "start_time": "2021-12-23T19:01:16.461Z"
   },
   {
    "duration": 23,
    "start_time": "2021-12-23T19:01:16.481Z"
   },
   {
    "duration": 27,
    "start_time": "2021-12-23T19:01:16.506Z"
   },
   {
    "duration": 95,
    "start_time": "2021-12-23T19:01:16.536Z"
   },
   {
    "duration": 241,
    "start_time": "2021-12-23T19:01:16.723Z"
   },
   {
    "duration": 598,
    "start_time": "2021-12-23T19:01:16.972Z"
   },
   {
    "duration": 9,
    "start_time": "2021-12-23T19:01:17.573Z"
   },
   {
    "duration": 52,
    "start_time": "2021-12-23T19:01:17.584Z"
   },
   {
    "duration": 373,
    "start_time": "2021-12-23T19:01:17.639Z"
   },
   {
    "duration": 27,
    "start_time": "2021-12-23T19:01:18.015Z"
   },
   {
    "duration": 309,
    "start_time": "2021-12-23T19:01:18.045Z"
   },
   {
    "duration": 272,
    "start_time": "2021-12-23T19:01:18.356Z"
   },
   {
    "duration": 26,
    "start_time": "2021-12-23T19:01:18.630Z"
   },
   {
    "duration": 15,
    "start_time": "2021-12-23T19:01:18.658Z"
   },
   {
    "duration": 23,
    "start_time": "2021-12-23T19:01:18.676Z"
   },
   {
    "duration": 34,
    "start_time": "2021-12-23T19:01:18.702Z"
   },
   {
    "duration": 17,
    "start_time": "2021-12-23T19:01:18.738Z"
   },
   {
    "duration": 23,
    "start_time": "2021-12-23T19:01:18.758Z"
   },
   {
    "duration": 28,
    "start_time": "2021-12-23T19:01:18.783Z"
   },
   {
    "duration": 961,
    "start_time": "2021-12-23T19:01:18.813Z"
   },
   {
    "duration": 623,
    "start_time": "2021-12-23T19:01:19.776Z"
   },
   {
    "duration": 252,
    "start_time": "2021-12-23T19:01:20.401Z"
   },
   {
    "duration": 24,
    "start_time": "2021-12-23T19:01:20.656Z"
   },
   {
    "duration": 305,
    "start_time": "2021-12-23T19:01:20.682Z"
   },
   {
    "duration": 336,
    "start_time": "2021-12-23T19:01:20.990Z"
   },
   {
    "duration": 24,
    "start_time": "2021-12-23T19:01:21.328Z"
   },
   {
    "duration": 193719,
    "start_time": "2021-12-23T19:01:21.355Z"
   },
   {
    "duration": 3,
    "start_time": "2021-12-23T19:04:35.077Z"
   },
   {
    "duration": 852,
    "start_time": "2021-12-23T19:04:35.082Z"
   },
   {
    "duration": 716,
    "start_time": "2021-12-23T19:04:35.937Z"
   },
   {
    "duration": 271,
    "start_time": "2021-12-23T19:04:36.656Z"
   },
   {
    "duration": 24,
    "start_time": "2021-12-23T19:04:36.929Z"
   },
   {
    "duration": 321,
    "start_time": "2021-12-23T19:04:36.956Z"
   },
   {
    "duration": 264,
    "start_time": "2021-12-23T19:04:37.280Z"
   },
   {
    "duration": 26,
    "start_time": "2021-12-23T19:04:37.547Z"
   },
   {
    "duration": 1452,
    "start_time": "2021-12-23T19:06:48.068Z"
   },
   {
    "duration": 55,
    "start_time": "2021-12-23T19:06:49.524Z"
   },
   {
    "duration": 8,
    "start_time": "2021-12-23T19:06:49.582Z"
   },
   {
    "duration": 74,
    "start_time": "2021-12-23T19:06:49.593Z"
   },
   {
    "duration": 9,
    "start_time": "2021-12-23T19:06:49.669Z"
   },
   {
    "duration": 16,
    "start_time": "2021-12-23T19:06:49.680Z"
   },
   {
    "duration": 3,
    "start_time": "2021-12-23T19:06:49.724Z"
   },
   {
    "duration": 8,
    "start_time": "2021-12-23T19:06:49.731Z"
   },
   {
    "duration": 6,
    "start_time": "2021-12-23T19:06:49.742Z"
   },
   {
    "duration": 8,
    "start_time": "2021-12-23T19:06:49.750Z"
   },
   {
    "duration": 61,
    "start_time": "2021-12-23T19:06:49.762Z"
   },
   {
    "duration": 6,
    "start_time": "2021-12-23T19:06:49.826Z"
   },
   {
    "duration": 13,
    "start_time": "2021-12-23T19:06:49.836Z"
   },
   {
    "duration": 11,
    "start_time": "2021-12-23T19:06:49.852Z"
   },
   {
    "duration": 110,
    "start_time": "2021-12-23T19:06:49.866Z"
   },
   {
    "duration": 5,
    "start_time": "2021-12-23T19:06:49.979Z"
   },
   {
    "duration": 38,
    "start_time": "2021-12-23T19:06:49.987Z"
   },
   {
    "duration": 3,
    "start_time": "2021-12-23T19:06:50.028Z"
   },
   {
    "duration": 12,
    "start_time": "2021-12-23T19:06:50.033Z"
   },
   {
    "duration": 19,
    "start_time": "2021-12-23T19:06:50.047Z"
   },
   {
    "duration": 157,
    "start_time": "2021-12-23T19:06:50.068Z"
   },
   {
    "duration": 316,
    "start_time": "2021-12-23T19:06:50.228Z"
   },
   {
    "duration": 612,
    "start_time": "2021-12-23T19:06:50.550Z"
   },
   {
    "duration": 9,
    "start_time": "2021-12-23T19:06:51.166Z"
   },
   {
    "duration": 55,
    "start_time": "2021-12-23T19:06:51.177Z"
   },
   {
    "duration": 386,
    "start_time": "2021-12-23T19:06:51.235Z"
   },
   {
    "duration": 23,
    "start_time": "2021-12-23T19:06:51.624Z"
   },
   {
    "duration": 317,
    "start_time": "2021-12-23T19:06:51.650Z"
   },
   {
    "duration": 260,
    "start_time": "2021-12-23T19:06:51.971Z"
   },
   {
    "duration": 28,
    "start_time": "2021-12-23T19:06:52.234Z"
   },
   {
    "duration": 10,
    "start_time": "2021-12-23T19:06:52.264Z"
   },
   {
    "duration": 7,
    "start_time": "2021-12-23T19:06:52.276Z"
   },
   {
    "duration": 14,
    "start_time": "2021-12-23T19:06:52.324Z"
   },
   {
    "duration": 4,
    "start_time": "2021-12-23T19:06:52.340Z"
   },
   {
    "duration": 4,
    "start_time": "2021-12-23T19:06:52.347Z"
   },
   {
    "duration": 5,
    "start_time": "2021-12-23T19:06:52.354Z"
   },
   {
    "duration": 967,
    "start_time": "2021-12-23T19:06:52.361Z"
   },
   {
    "duration": 593,
    "start_time": "2021-12-23T19:06:53.331Z"
   },
   {
    "duration": 254,
    "start_time": "2021-12-23T19:06:53.926Z"
   },
   {
    "duration": 47,
    "start_time": "2021-12-23T19:06:54.183Z"
   },
   {
    "duration": 438,
    "start_time": "2021-12-23T19:06:54.233Z"
   },
   {
    "duration": 492,
    "start_time": "2021-12-23T19:06:54.674Z"
   },
   {
    "duration": 27,
    "start_time": "2021-12-23T19:06:55.170Z"
   },
   {
    "duration": 24,
    "start_time": "2021-12-23T19:06:55.200Z"
   },
   {
    "duration": 8,
    "start_time": "2021-12-23T19:06:55.227Z"
   },
   {
    "duration": 622,
    "start_time": "2021-12-23T19:06:55.237Z"
   },
   {
    "duration": 191079,
    "start_time": "2021-12-23T19:06:55.861Z"
   },
   {
    "duration": 246,
    "start_time": "2021-12-23T19:10:06.942Z"
   },
   {
    "duration": 36,
    "start_time": "2021-12-23T19:10:07.191Z"
   },
   {
    "duration": 304,
    "start_time": "2021-12-23T19:10:07.229Z"
   },
   {
    "duration": 281,
    "start_time": "2021-12-23T19:10:07.536Z"
   },
   {
    "duration": 26,
    "start_time": "2021-12-23T19:10:07.823Z"
   },
   {
    "duration": 1531,
    "start_time": "2021-12-23T19:16:08.336Z"
   },
   {
    "duration": 73,
    "start_time": "2021-12-23T19:16:09.870Z"
   },
   {
    "duration": 10,
    "start_time": "2021-12-23T19:16:09.947Z"
   },
   {
    "duration": 105,
    "start_time": "2021-12-23T19:16:09.960Z"
   },
   {
    "duration": 12,
    "start_time": "2021-12-23T19:16:10.068Z"
   },
   {
    "duration": 45,
    "start_time": "2021-12-23T19:16:10.083Z"
   },
   {
    "duration": 3,
    "start_time": "2021-12-23T19:16:10.131Z"
   },
   {
    "duration": 12,
    "start_time": "2021-12-23T19:16:10.138Z"
   },
   {
    "duration": 5,
    "start_time": "2021-12-23T19:16:10.153Z"
   },
   {
    "duration": 9,
    "start_time": "2021-12-23T19:16:10.161Z"
   },
   {
    "duration": 56,
    "start_time": "2021-12-23T19:16:10.173Z"
   },
   {
    "duration": 6,
    "start_time": "2021-12-23T19:16:10.232Z"
   },
   {
    "duration": 14,
    "start_time": "2021-12-23T19:16:10.241Z"
   },
   {
    "duration": 15,
    "start_time": "2021-12-23T19:16:10.257Z"
   },
   {
    "duration": 131,
    "start_time": "2021-12-23T19:16:10.275Z"
   },
   {
    "duration": 15,
    "start_time": "2021-12-23T19:16:10.409Z"
   },
   {
    "duration": 17,
    "start_time": "2021-12-23T19:16:10.427Z"
   },
   {
    "duration": 3,
    "start_time": "2021-12-23T19:16:10.446Z"
   },
   {
    "duration": 21,
    "start_time": "2021-12-23T19:16:10.451Z"
   },
   {
    "duration": 8,
    "start_time": "2021-12-23T19:16:10.474Z"
   },
   {
    "duration": 141,
    "start_time": "2021-12-23T19:16:10.484Z"
   },
   {
    "duration": 314,
    "start_time": "2021-12-23T19:16:10.629Z"
   },
   {
    "duration": 627,
    "start_time": "2021-12-23T19:16:10.949Z"
   },
   {
    "duration": 19,
    "start_time": "2021-12-23T19:16:11.579Z"
   },
   {
    "duration": 43,
    "start_time": "2021-12-23T19:16:11.601Z"
   },
   {
    "duration": 394,
    "start_time": "2021-12-23T19:16:11.647Z"
   },
   {
    "duration": 24,
    "start_time": "2021-12-23T19:16:12.043Z"
   },
   {
    "duration": 328,
    "start_time": "2021-12-23T19:16:12.069Z"
   },
   {
    "duration": 274,
    "start_time": "2021-12-23T19:16:12.399Z"
   },
   {
    "duration": 25,
    "start_time": "2021-12-23T19:16:12.676Z"
   },
   {
    "duration": 26,
    "start_time": "2021-12-23T19:16:12.703Z"
   },
   {
    "duration": 5,
    "start_time": "2021-12-23T19:16:12.732Z"
   },
   {
    "duration": 13,
    "start_time": "2021-12-23T19:16:12.740Z"
   },
   {
    "duration": 3,
    "start_time": "2021-12-23T19:16:12.755Z"
   },
   {
    "duration": 9,
    "start_time": "2021-12-23T19:16:12.760Z"
   },
   {
    "duration": 52,
    "start_time": "2021-12-23T19:16:12.771Z"
   },
   {
    "duration": 992,
    "start_time": "2021-12-23T19:16:12.826Z"
   },
   {
    "duration": 599,
    "start_time": "2021-12-23T19:16:13.824Z"
   },
   {
    "duration": 244,
    "start_time": "2021-12-23T19:16:14.426Z"
   },
   {
    "duration": 24,
    "start_time": "2021-12-23T19:16:14.672Z"
   },
   {
    "duration": 319,
    "start_time": "2021-12-23T19:16:14.698Z"
   },
   {
    "duration": 356,
    "start_time": "2021-12-23T19:16:15.019Z"
   },
   {
    "duration": 27,
    "start_time": "2021-12-23T19:16:15.377Z"
   },
   {
    "duration": 18,
    "start_time": "2021-12-23T19:16:15.406Z"
   },
   {
    "duration": 8,
    "start_time": "2021-12-23T19:16:15.426Z"
   },
   {
    "duration": 600,
    "start_time": "2021-12-23T19:16:15.436Z"
   },
   {
    "duration": 1121,
    "start_time": "2021-12-23T19:16:16.039Z"
   },
   {
    "duration": -1113,
    "start_time": "2021-12-23T19:16:18.276Z"
   },
   {
    "duration": -1118,
    "start_time": "2021-12-23T19:16:18.282Z"
   },
   {
    "duration": -1122,
    "start_time": "2021-12-23T19:16:18.288Z"
   },
   {
    "duration": -1126,
    "start_time": "2021-12-23T19:16:18.293Z"
   },
   {
    "duration": -1131,
    "start_time": "2021-12-23T19:16:18.300Z"
   },
   {
    "duration": 205423,
    "start_time": "2021-12-23T19:18:46.008Z"
   },
   {
    "duration": 1953,
    "start_time": "2021-12-23T19:22:30.123Z"
   },
   {
    "duration": 76,
    "start_time": "2021-12-23T19:22:32.079Z"
   },
   {
    "duration": 65,
    "start_time": "2021-12-23T19:22:32.159Z"
   },
   {
    "duration": 198,
    "start_time": "2021-12-23T19:22:32.228Z"
   },
   {
    "duration": 13,
    "start_time": "2021-12-23T19:22:32.430Z"
   },
   {
    "duration": 78,
    "start_time": "2021-12-23T19:22:32.447Z"
   },
   {
    "duration": 4,
    "start_time": "2021-12-23T19:22:32.528Z"
   },
   {
    "duration": 11,
    "start_time": "2021-12-23T19:22:32.538Z"
   },
   {
    "duration": 7,
    "start_time": "2021-12-23T19:22:32.554Z"
   },
   {
    "duration": 61,
    "start_time": "2021-12-23T19:22:32.564Z"
   },
   {
    "duration": 22,
    "start_time": "2021-12-23T19:22:32.628Z"
   },
   {
    "duration": 5,
    "start_time": "2021-12-23T19:22:32.653Z"
   },
   {
    "duration": 12,
    "start_time": "2021-12-23T19:22:32.660Z"
   },
   {
    "duration": 10,
    "start_time": "2021-12-23T19:22:32.674Z"
   },
   {
    "duration": 89,
    "start_time": "2021-12-23T19:22:32.686Z"
   },
   {
    "duration": 3,
    "start_time": "2021-12-23T19:22:32.778Z"
   },
   {
    "duration": 17,
    "start_time": "2021-12-23T19:22:32.783Z"
   },
   {
    "duration": 2,
    "start_time": "2021-12-23T19:22:32.803Z"
   },
   {
    "duration": 7,
    "start_time": "2021-12-23T19:22:32.808Z"
   },
   {
    "duration": 11,
    "start_time": "2021-12-23T19:22:32.818Z"
   },
   {
    "duration": 195,
    "start_time": "2021-12-23T19:22:32.832Z"
   },
   {
    "duration": 593,
    "start_time": "2021-12-23T19:22:33.030Z"
   },
   {
    "duration": 639,
    "start_time": "2021-12-23T19:22:33.628Z"
   },
   {
    "duration": 11,
    "start_time": "2021-12-23T19:22:34.271Z"
   },
   {
    "duration": 65,
    "start_time": "2021-12-23T19:22:34.285Z"
   },
   {
    "duration": 569,
    "start_time": "2021-12-23T19:22:34.354Z"
   },
   {
    "duration": 32,
    "start_time": "2021-12-23T19:22:34.927Z"
   },
   {
    "duration": 496,
    "start_time": "2021-12-23T19:22:34.962Z"
   },
   {
    "duration": 408,
    "start_time": "2021-12-23T19:22:35.461Z"
   },
   {
    "duration": 26,
    "start_time": "2021-12-23T19:22:35.871Z"
   },
   {
    "duration": 30,
    "start_time": "2021-12-23T19:22:35.899Z"
   },
   {
    "duration": 11,
    "start_time": "2021-12-23T19:22:35.932Z"
   },
   {
    "duration": 16,
    "start_time": "2021-12-23T19:22:35.945Z"
   },
   {
    "duration": 12,
    "start_time": "2021-12-23T19:22:35.963Z"
   },
   {
    "duration": 10,
    "start_time": "2021-12-23T19:22:35.977Z"
   },
   {
    "duration": 35,
    "start_time": "2021-12-23T19:22:35.990Z"
   },
   {
    "duration": 980,
    "start_time": "2021-12-23T19:22:36.028Z"
   },
   {
    "duration": 616,
    "start_time": "2021-12-23T19:22:37.011Z"
   },
   {
    "duration": 258,
    "start_time": "2021-12-23T19:22:37.630Z"
   },
   {
    "duration": 44,
    "start_time": "2021-12-23T19:22:37.891Z"
   },
   {
    "duration": 320,
    "start_time": "2021-12-23T19:22:37.938Z"
   },
   {
    "duration": 358,
    "start_time": "2021-12-23T19:22:38.260Z"
   },
   {
    "duration": 29,
    "start_time": "2021-12-23T19:22:38.624Z"
   },
   {
    "duration": 3,
    "start_time": "2021-12-23T19:22:38.656Z"
   },
   {
    "duration": 9,
    "start_time": "2021-12-23T19:22:38.662Z"
   },
   {
    "duration": 630,
    "start_time": "2021-12-23T19:22:38.674Z"
   },
   {
    "duration": 597,
    "start_time": "2021-12-23T19:22:39.307Z"
   },
   {
    "duration": 255,
    "start_time": "2021-12-23T19:22:39.906Z"
   },
   {
    "duration": 25,
    "start_time": "2021-12-23T19:22:40.163Z"
   },
   {
    "duration": 321,
    "start_time": "2021-12-23T19:22:40.190Z"
   },
   {
    "duration": 261,
    "start_time": "2021-12-23T19:22:40.522Z"
   },
   {
    "duration": 45,
    "start_time": "2021-12-23T19:22:40.786Z"
   },
   {
    "duration": 1517,
    "start_time": "2021-12-23T19:23:29.149Z"
   },
   {
    "duration": 53,
    "start_time": "2021-12-23T19:23:30.668Z"
   },
   {
    "duration": 7,
    "start_time": "2021-12-23T19:23:30.724Z"
   },
   {
    "duration": 63,
    "start_time": "2021-12-23T19:23:30.734Z"
   },
   {
    "duration": 29,
    "start_time": "2021-12-23T19:23:30.800Z"
   },
   {
    "duration": 21,
    "start_time": "2021-12-23T19:23:30.831Z"
   },
   {
    "duration": 4,
    "start_time": "2021-12-23T19:23:30.854Z"
   },
   {
    "duration": 11,
    "start_time": "2021-12-23T19:23:30.861Z"
   },
   {
    "duration": 6,
    "start_time": "2021-12-23T19:23:30.875Z"
   },
   {
    "duration": 44,
    "start_time": "2021-12-23T19:23:30.883Z"
   },
   {
    "duration": 19,
    "start_time": "2021-12-23T19:23:30.930Z"
   },
   {
    "duration": 6,
    "start_time": "2021-12-23T19:23:30.952Z"
   },
   {
    "duration": 14,
    "start_time": "2021-12-23T19:23:30.961Z"
   },
   {
    "duration": 55,
    "start_time": "2021-12-23T19:23:30.978Z"
   },
   {
    "duration": 65,
    "start_time": "2021-12-23T19:23:31.036Z"
   },
   {
    "duration": 4,
    "start_time": "2021-12-23T19:23:31.124Z"
   },
   {
    "duration": 18,
    "start_time": "2021-12-23T19:23:31.130Z"
   },
   {
    "duration": 3,
    "start_time": "2021-12-23T19:23:31.151Z"
   },
   {
    "duration": 10,
    "start_time": "2021-12-23T19:23:31.156Z"
   },
   {
    "duration": 9,
    "start_time": "2021-12-23T19:23:31.168Z"
   },
   {
    "duration": 70,
    "start_time": "2021-12-23T19:23:31.180Z"
   },
   {
    "duration": 320,
    "start_time": "2021-12-23T19:23:31.325Z"
   },
   {
    "duration": 601,
    "start_time": "2021-12-23T19:23:31.650Z"
   },
   {
    "duration": 8,
    "start_time": "2021-12-23T19:23:32.254Z"
   },
   {
    "duration": 27,
    "start_time": "2021-12-23T19:23:32.265Z"
   },
   {
    "duration": 395,
    "start_time": "2021-12-23T19:23:32.295Z"
   },
   {
    "duration": 31,
    "start_time": "2021-12-23T19:23:32.693Z"
   },
   {
    "duration": 297,
    "start_time": "2021-12-23T19:23:32.726Z"
   },
   {
    "duration": 260,
    "start_time": "2021-12-23T19:23:33.025Z"
   },
   {
    "duration": 37,
    "start_time": "2021-12-23T19:23:33.287Z"
   },
   {
    "duration": 10,
    "start_time": "2021-12-23T19:23:33.327Z"
   },
   {
    "duration": 6,
    "start_time": "2021-12-23T19:23:33.339Z"
   },
   {
    "duration": 13,
    "start_time": "2021-12-23T19:23:33.347Z"
   },
   {
    "duration": 2,
    "start_time": "2021-12-23T19:23:33.362Z"
   },
   {
    "duration": 8,
    "start_time": "2021-12-23T19:23:33.367Z"
   },
   {
    "duration": 5,
    "start_time": "2021-12-23T19:23:33.377Z"
   },
   {
    "duration": 935,
    "start_time": "2021-12-23T19:23:33.424Z"
   },
   {
    "duration": 588,
    "start_time": "2021-12-23T19:23:34.362Z"
   },
   {
    "duration": 253,
    "start_time": "2021-12-23T19:23:34.953Z"
   },
   {
    "duration": 35,
    "start_time": "2021-12-23T19:23:35.208Z"
   },
   {
    "duration": 289,
    "start_time": "2021-12-23T19:23:35.246Z"
   },
   {
    "duration": 343,
    "start_time": "2021-12-23T19:23:35.537Z"
   },
   {
    "duration": 39,
    "start_time": "2021-12-23T19:23:35.884Z"
   },
   {
    "duration": 4,
    "start_time": "2021-12-23T19:23:35.926Z"
   },
   {
    "duration": 13,
    "start_time": "2021-12-23T19:23:35.932Z"
   },
   {
    "duration": 634,
    "start_time": "2021-12-23T19:23:35.947Z"
   },
   {
    "duration": 561,
    "start_time": "2021-12-23T19:23:36.583Z"
   },
   {
    "duration": 233,
    "start_time": "2021-12-23T19:23:37.146Z"
   },
   {
    "duration": 41,
    "start_time": "2021-12-23T19:23:37.382Z"
   },
   {
    "duration": 287,
    "start_time": "2021-12-23T19:23:37.425Z"
   },
   {
    "duration": 250,
    "start_time": "2021-12-23T19:23:37.723Z"
   },
   {
    "duration": 26,
    "start_time": "2021-12-23T19:23:37.976Z"
   },
   {
    "duration": 1616,
    "start_time": "2021-12-23T19:24:14.879Z"
   },
   {
    "duration": 74,
    "start_time": "2021-12-23T19:24:16.499Z"
   },
   {
    "duration": 7,
    "start_time": "2021-12-23T19:24:16.577Z"
   },
   {
    "duration": 82,
    "start_time": "2021-12-23T19:24:16.587Z"
   },
   {
    "duration": 9,
    "start_time": "2021-12-23T19:24:16.672Z"
   },
   {
    "duration": 40,
    "start_time": "2021-12-23T19:24:16.684Z"
   },
   {
    "duration": 3,
    "start_time": "2021-12-23T19:24:16.727Z"
   },
   {
    "duration": 25,
    "start_time": "2021-12-23T19:24:16.734Z"
   },
   {
    "duration": 6,
    "start_time": "2021-12-23T19:24:16.762Z"
   },
   {
    "duration": 17,
    "start_time": "2021-12-23T19:24:16.771Z"
   },
   {
    "duration": 18,
    "start_time": "2021-12-23T19:24:16.790Z"
   },
   {
    "duration": 6,
    "start_time": "2021-12-23T19:24:16.823Z"
   },
   {
    "duration": 24,
    "start_time": "2021-12-23T19:24:16.831Z"
   },
   {
    "duration": 15,
    "start_time": "2021-12-23T19:24:16.858Z"
   },
   {
    "duration": 81,
    "start_time": "2021-12-23T19:24:16.876Z"
   },
   {
    "duration": 3,
    "start_time": "2021-12-23T19:24:16.960Z"
   },
   {
    "duration": 21,
    "start_time": "2021-12-23T19:24:16.966Z"
   },
   {
    "duration": 13,
    "start_time": "2021-12-23T19:24:16.989Z"
   },
   {
    "duration": 23,
    "start_time": "2021-12-23T19:24:17.004Z"
   },
   {
    "duration": 16,
    "start_time": "2021-12-23T19:24:17.029Z"
   },
   {
    "duration": 181,
    "start_time": "2021-12-23T19:24:17.048Z"
   },
   {
    "duration": 319,
    "start_time": "2021-12-23T19:24:17.232Z"
   },
   {
    "duration": 618,
    "start_time": "2021-12-23T19:24:17.557Z"
   },
   {
    "duration": 8,
    "start_time": "2021-12-23T19:24:18.178Z"
   },
   {
    "duration": 51,
    "start_time": "2021-12-23T19:24:18.188Z"
   },
   {
    "duration": 384,
    "start_time": "2021-12-23T19:24:18.241Z"
   },
   {
    "duration": 22,
    "start_time": "2021-12-23T19:24:18.628Z"
   },
   {
    "duration": 323,
    "start_time": "2021-12-23T19:24:18.652Z"
   },
   {
    "duration": 364,
    "start_time": "2021-12-23T19:24:18.977Z"
   },
   {
    "duration": 25,
    "start_time": "2021-12-23T19:24:19.343Z"
   },
   {
    "duration": 9,
    "start_time": "2021-12-23T19:24:19.370Z"
   },
   {
    "duration": 7,
    "start_time": "2021-12-23T19:24:19.381Z"
   },
   {
    "duration": 41,
    "start_time": "2021-12-23T19:24:19.390Z"
   },
   {
    "duration": 3,
    "start_time": "2021-12-23T19:24:19.433Z"
   },
   {
    "duration": 6,
    "start_time": "2021-12-23T19:24:19.438Z"
   },
   {
    "duration": 9,
    "start_time": "2021-12-23T19:24:19.446Z"
   },
   {
    "duration": 1048,
    "start_time": "2021-12-23T19:24:19.458Z"
   },
   {
    "duration": 615,
    "start_time": "2021-12-23T19:24:20.508Z"
   },
   {
    "duration": 239,
    "start_time": "2021-12-23T19:24:21.126Z"
   },
   {
    "duration": 24,
    "start_time": "2021-12-23T19:24:21.368Z"
   },
   {
    "duration": 398,
    "start_time": "2021-12-23T19:24:21.394Z"
   },
   {
    "duration": 374,
    "start_time": "2021-12-23T19:24:21.795Z"
   },
   {
    "duration": 34,
    "start_time": "2021-12-23T19:24:22.172Z"
   },
   {
    "duration": 16,
    "start_time": "2021-12-23T19:24:22.209Z"
   },
   {
    "duration": 31,
    "start_time": "2021-12-23T19:24:22.227Z"
   },
   {
    "duration": 593,
    "start_time": "2021-12-23T19:24:22.260Z"
   },
   {
    "duration": 564,
    "start_time": "2021-12-23T19:24:22.856Z"
   },
   {
    "duration": 231,
    "start_time": "2021-12-23T19:24:23.424Z"
   },
   {
    "duration": 22,
    "start_time": "2021-12-23T19:24:23.657Z"
   },
   {
    "duration": 323,
    "start_time": "2021-12-23T19:24:23.681Z"
   },
   {
    "duration": 253,
    "start_time": "2021-12-23T19:24:24.007Z"
   },
   {
    "duration": 26,
    "start_time": "2021-12-23T19:24:24.263Z"
   },
   {
    "duration": 1423,
    "start_time": "2021-12-23T19:53:08.426Z"
   },
   {
    "duration": 52,
    "start_time": "2021-12-23T19:53:09.852Z"
   },
   {
    "duration": 7,
    "start_time": "2021-12-23T19:53:09.907Z"
   },
   {
    "duration": 60,
    "start_time": "2021-12-23T19:53:09.924Z"
   },
   {
    "duration": 8,
    "start_time": "2021-12-23T19:53:09.986Z"
   },
   {
    "duration": 17,
    "start_time": "2021-12-23T19:53:10.023Z"
   },
   {
    "duration": 4,
    "start_time": "2021-12-23T19:53:10.042Z"
   },
   {
    "duration": 13,
    "start_time": "2021-12-23T19:53:10.049Z"
   },
   {
    "duration": 5,
    "start_time": "2021-12-23T19:53:10.065Z"
   },
   {
    "duration": 9,
    "start_time": "2021-12-23T19:53:10.072Z"
   },
   {
    "duration": 51,
    "start_time": "2021-12-23T19:53:10.083Z"
   },
   {
    "duration": 6,
    "start_time": "2021-12-23T19:53:10.136Z"
   },
   {
    "duration": 13,
    "start_time": "2021-12-23T19:53:10.145Z"
   },
   {
    "duration": 14,
    "start_time": "2021-12-23T19:53:10.161Z"
   },
   {
    "duration": 99,
    "start_time": "2021-12-23T19:53:10.177Z"
   },
   {
    "duration": 3,
    "start_time": "2021-12-23T19:53:10.278Z"
   },
   {
    "duration": 44,
    "start_time": "2021-12-23T19:53:10.284Z"
   },
   {
    "duration": 8,
    "start_time": "2021-12-23T19:53:10.330Z"
   },
   {
    "duration": 6,
    "start_time": "2021-12-23T19:53:10.340Z"
   },
   {
    "duration": 7,
    "start_time": "2021-12-23T19:53:10.348Z"
   },
   {
    "duration": 165,
    "start_time": "2021-12-23T19:53:10.357Z"
   },
   {
    "duration": 316,
    "start_time": "2021-12-23T19:53:10.525Z"
   },
   {
    "duration": 615,
    "start_time": "2021-12-23T19:53:10.846Z"
   },
   {
    "duration": 8,
    "start_time": "2021-12-23T19:53:11.464Z"
   },
   {
    "duration": 53,
    "start_time": "2021-12-23T19:53:11.474Z"
   },
   {
    "duration": 373,
    "start_time": "2021-12-23T19:53:11.530Z"
   },
   {
    "duration": 36,
    "start_time": "2021-12-23T19:53:11.905Z"
   },
   {
    "duration": 297,
    "start_time": "2021-12-23T19:53:11.943Z"
   },
   {
    "duration": 253,
    "start_time": "2021-12-23T19:53:12.243Z"
   },
   {
    "duration": 38,
    "start_time": "2021-12-23T19:53:12.498Z"
   },
   {
    "duration": 9,
    "start_time": "2021-12-23T19:53:12.538Z"
   },
   {
    "duration": 6,
    "start_time": "2021-12-23T19:53:12.549Z"
   },
   {
    "duration": 11,
    "start_time": "2021-12-23T19:53:12.557Z"
   },
   {
    "duration": 3,
    "start_time": "2021-12-23T19:53:12.570Z"
   },
   {
    "duration": 6,
    "start_time": "2021-12-23T19:53:12.575Z"
   },
   {
    "duration": 41,
    "start_time": "2021-12-23T19:53:12.583Z"
   },
   {
    "duration": 915,
    "start_time": "2021-12-23T19:53:12.626Z"
   },
   {
    "duration": 598,
    "start_time": "2021-12-23T19:53:13.544Z"
   },
   {
    "duration": 232,
    "start_time": "2021-12-23T19:53:14.144Z"
   },
   {
    "duration": 24,
    "start_time": "2021-12-23T19:53:14.379Z"
   },
   {
    "duration": 300,
    "start_time": "2021-12-23T19:53:14.423Z"
   },
   {
    "duration": 319,
    "start_time": "2021-12-23T19:53:14.726Z"
   },
   {
    "duration": 24,
    "start_time": "2021-12-23T19:53:15.048Z"
   },
   {
    "duration": 3,
    "start_time": "2021-12-23T19:53:15.075Z"
   },
   {
    "duration": 575,
    "start_time": "2021-12-23T19:53:15.080Z"
   },
   {
    "duration": 432,
    "start_time": "2021-12-23T19:53:15.657Z"
   },
   {
    "duration": 246,
    "start_time": "2021-12-23T19:53:16.092Z"
   },
   {
    "duration": 22,
    "start_time": "2021-12-23T19:53:16.341Z"
   },
   {
    "duration": 299,
    "start_time": "2021-12-23T19:53:16.365Z"
   },
   {
    "duration": 259,
    "start_time": "2021-12-23T19:53:16.667Z"
   },
   {
    "duration": 25,
    "start_time": "2021-12-23T19:53:16.928Z"
   },
   {
    "duration": 1431,
    "start_time": "2021-12-23T19:58:56.396Z"
   },
   {
    "duration": 53,
    "start_time": "2021-12-23T19:58:57.830Z"
   },
   {
    "duration": 8,
    "start_time": "2021-12-23T19:58:57.886Z"
   },
   {
    "duration": 72,
    "start_time": "2021-12-23T19:58:57.896Z"
   },
   {
    "duration": 9,
    "start_time": "2021-12-23T19:58:57.970Z"
   },
   {
    "duration": 45,
    "start_time": "2021-12-23T19:58:57.981Z"
   },
   {
    "duration": 3,
    "start_time": "2021-12-23T19:58:58.029Z"
   },
   {
    "duration": 9,
    "start_time": "2021-12-23T19:58:58.035Z"
   },
   {
    "duration": 6,
    "start_time": "2021-12-23T19:58:58.047Z"
   },
   {
    "duration": 9,
    "start_time": "2021-12-23T19:58:58.056Z"
   },
   {
    "duration": 22,
    "start_time": "2021-12-23T19:58:58.068Z"
   },
   {
    "duration": 35,
    "start_time": "2021-12-23T19:58:58.092Z"
   },
   {
    "duration": 13,
    "start_time": "2021-12-23T19:58:58.129Z"
   },
   {
    "duration": 25,
    "start_time": "2021-12-23T19:58:58.145Z"
   },
   {
    "duration": 109,
    "start_time": "2021-12-23T19:58:58.173Z"
   },
   {
    "duration": 4,
    "start_time": "2021-12-23T19:58:58.285Z"
   },
   {
    "duration": 38,
    "start_time": "2021-12-23T19:58:58.292Z"
   },
   {
    "duration": 3,
    "start_time": "2021-12-23T19:58:58.333Z"
   },
   {
    "duration": 8,
    "start_time": "2021-12-23T19:58:58.338Z"
   },
   {
    "duration": 7,
    "start_time": "2021-12-23T19:58:58.349Z"
   },
   {
    "duration": 171,
    "start_time": "2021-12-23T19:58:58.359Z"
   },
   {
    "duration": 316,
    "start_time": "2021-12-23T19:58:58.533Z"
   },
   {
    "duration": 593,
    "start_time": "2021-12-23T19:58:58.855Z"
   },
   {
    "duration": 7,
    "start_time": "2021-12-23T19:58:59.451Z"
   },
   {
    "duration": 45,
    "start_time": "2021-12-23T19:58:59.461Z"
   },
   {
    "duration": 365,
    "start_time": "2021-12-23T19:58:59.509Z"
   },
   {
    "duration": 23,
    "start_time": "2021-12-23T19:58:59.876Z"
   },
   {
    "duration": 310,
    "start_time": "2021-12-23T19:58:59.901Z"
   },
   {
    "duration": 257,
    "start_time": "2021-12-23T19:59:00.213Z"
   },
   {
    "duration": 26,
    "start_time": "2021-12-23T19:59:00.472Z"
   },
   {
    "duration": 28,
    "start_time": "2021-12-23T19:59:00.501Z"
   },
   {
    "duration": 18,
    "start_time": "2021-12-23T19:59:00.532Z"
   },
   {
    "duration": 18,
    "start_time": "2021-12-23T19:59:00.552Z"
   },
   {
    "duration": 4,
    "start_time": "2021-12-23T19:59:00.572Z"
   },
   {
    "duration": 7,
    "start_time": "2021-12-23T19:59:00.579Z"
   },
   {
    "duration": 9,
    "start_time": "2021-12-23T19:59:00.589Z"
   },
   {
    "duration": 1022,
    "start_time": "2021-12-23T19:59:00.601Z"
   },
   {
    "duration": 592,
    "start_time": "2021-12-23T19:59:01.626Z"
   },
   {
    "duration": 238,
    "start_time": "2021-12-23T19:59:02.224Z"
   },
   {
    "duration": 24,
    "start_time": "2021-12-23T19:59:02.465Z"
   },
   {
    "duration": 306,
    "start_time": "2021-12-23T19:59:02.491Z"
   },
   {
    "duration": 335,
    "start_time": "2021-12-23T19:59:02.799Z"
   },
   {
    "duration": 27,
    "start_time": "2021-12-23T19:59:03.137Z"
   },
   {
    "duration": 4,
    "start_time": "2021-12-23T19:59:03.167Z"
   },
   {
    "duration": 628,
    "start_time": "2021-12-23T19:59:03.174Z"
   },
   {
    "duration": 102,
    "start_time": "2021-12-23T19:59:03.805Z"
   },
   {
    "duration": -1060,
    "start_time": "2021-12-23T19:59:04.970Z"
   },
   {
    "duration": -1067,
    "start_time": "2021-12-23T19:59:04.979Z"
   },
   {
    "duration": -1071,
    "start_time": "2021-12-23T19:59:04.985Z"
   },
   {
    "duration": -1077,
    "start_time": "2021-12-23T19:59:04.994Z"
   },
   {
    "duration": -1081,
    "start_time": "2021-12-23T19:59:05.000Z"
   },
   {
    "duration": 1406,
    "start_time": "2021-12-23T19:59:56.327Z"
   },
   {
    "duration": 52,
    "start_time": "2021-12-23T19:59:57.736Z"
   },
   {
    "duration": 8,
    "start_time": "2021-12-23T19:59:57.791Z"
   },
   {
    "duration": 73,
    "start_time": "2021-12-23T19:59:57.801Z"
   },
   {
    "duration": 12,
    "start_time": "2021-12-23T19:59:57.877Z"
   },
   {
    "duration": 46,
    "start_time": "2021-12-23T19:59:57.892Z"
   },
   {
    "duration": 4,
    "start_time": "2021-12-23T19:59:57.941Z"
   },
   {
    "duration": 8,
    "start_time": "2021-12-23T19:59:57.951Z"
   },
   {
    "duration": 7,
    "start_time": "2021-12-23T19:59:57.963Z"
   },
   {
    "duration": 51,
    "start_time": "2021-12-23T19:59:57.973Z"
   },
   {
    "duration": 20,
    "start_time": "2021-12-23T19:59:58.027Z"
   },
   {
    "duration": 6,
    "start_time": "2021-12-23T19:59:58.049Z"
   },
   {
    "duration": 14,
    "start_time": "2021-12-23T19:59:58.058Z"
   },
   {
    "duration": 57,
    "start_time": "2021-12-23T19:59:58.075Z"
   },
   {
    "duration": 114,
    "start_time": "2021-12-23T19:59:58.135Z"
   },
   {
    "duration": 4,
    "start_time": "2021-12-23T19:59:58.251Z"
   },
   {
    "duration": 18,
    "start_time": "2021-12-23T19:59:58.258Z"
   },
   {
    "duration": 3,
    "start_time": "2021-12-23T19:59:58.279Z"
   },
   {
    "duration": 39,
    "start_time": "2021-12-23T19:59:58.285Z"
   },
   {
    "duration": 16,
    "start_time": "2021-12-23T19:59:58.327Z"
   },
   {
    "duration": 83,
    "start_time": "2021-12-23T19:59:58.345Z"
   },
   {
    "duration": 314,
    "start_time": "2021-12-23T19:59:58.431Z"
   },
   {
    "duration": 610,
    "start_time": "2021-12-23T19:59:58.752Z"
   },
   {
    "duration": 9,
    "start_time": "2021-12-23T19:59:59.365Z"
   },
   {
    "duration": 55,
    "start_time": "2021-12-23T19:59:59.376Z"
   },
   {
    "duration": 377,
    "start_time": "2021-12-23T19:59:59.434Z"
   },
   {
    "duration": 28,
    "start_time": "2021-12-23T19:59:59.814Z"
   },
   {
    "duration": 302,
    "start_time": "2021-12-23T19:59:59.845Z"
   },
   {
    "duration": 265,
    "start_time": "2021-12-23T20:00:00.150Z"
   },
   {
    "duration": 27,
    "start_time": "2021-12-23T20:00:00.417Z"
   },
   {
    "duration": 10,
    "start_time": "2021-12-23T20:00:00.446Z"
   },
   {
    "duration": 11,
    "start_time": "2021-12-23T20:00:00.458Z"
   },
   {
    "duration": 14,
    "start_time": "2021-12-23T20:00:00.471Z"
   },
   {
    "duration": 35,
    "start_time": "2021-12-23T20:00:00.488Z"
   },
   {
    "duration": 3,
    "start_time": "2021-12-23T20:00:00.526Z"
   },
   {
    "duration": 25,
    "start_time": "2021-12-23T20:00:00.531Z"
   },
   {
    "duration": 955,
    "start_time": "2021-12-23T20:00:00.558Z"
   },
   {
    "duration": 603,
    "start_time": "2021-12-23T20:00:01.515Z"
   },
   {
    "duration": 260,
    "start_time": "2021-12-23T20:00:02.124Z"
   },
   {
    "duration": 41,
    "start_time": "2021-12-23T20:00:02.387Z"
   },
   {
    "duration": 295,
    "start_time": "2021-12-23T20:00:02.430Z"
   },
   {
    "duration": 325,
    "start_time": "2021-12-23T20:00:02.728Z"
   },
   {
    "duration": 26,
    "start_time": "2021-12-23T20:00:03.056Z"
   },
   {
    "duration": 4,
    "start_time": "2021-12-23T20:00:03.085Z"
   },
   {
    "duration": 606,
    "start_time": "2021-12-23T20:00:03.092Z"
   },
   {
    "duration": 9513,
    "start_time": "2021-12-23T20:00:03.700Z"
   },
   {
    "duration": -1092,
    "start_time": "2021-12-23T20:00:14.308Z"
   },
   {
    "duration": -1099,
    "start_time": "2021-12-23T20:00:14.317Z"
   },
   {
    "duration": -1107,
    "start_time": "2021-12-23T20:00:14.326Z"
   },
   {
    "duration": -1111,
    "start_time": "2021-12-23T20:00:14.332Z"
   },
   {
    "duration": -1118,
    "start_time": "2021-12-23T20:00:14.341Z"
   },
   {
    "duration": 1453,
    "start_time": "2021-12-23T20:01:11.497Z"
   },
   {
    "duration": 53,
    "start_time": "2021-12-23T20:01:12.952Z"
   },
   {
    "duration": 8,
    "start_time": "2021-12-23T20:01:13.008Z"
   },
   {
    "duration": 57,
    "start_time": "2021-12-23T20:01:13.024Z"
   },
   {
    "duration": 9,
    "start_time": "2021-12-23T20:01:13.083Z"
   },
   {
    "duration": 46,
    "start_time": "2021-12-23T20:01:13.095Z"
   },
   {
    "duration": 4,
    "start_time": "2021-12-23T20:01:13.143Z"
   },
   {
    "duration": 14,
    "start_time": "2021-12-23T20:01:13.152Z"
   },
   {
    "duration": 7,
    "start_time": "2021-12-23T20:01:13.169Z"
   },
   {
    "duration": 46,
    "start_time": "2021-12-23T20:01:13.179Z"
   },
   {
    "duration": 19,
    "start_time": "2021-12-23T20:01:13.228Z"
   },
   {
    "duration": 7,
    "start_time": "2021-12-23T20:01:13.250Z"
   },
   {
    "duration": 16,
    "start_time": "2021-12-23T20:01:13.260Z"
   },
   {
    "duration": 57,
    "start_time": "2021-12-23T20:01:13.279Z"
   },
   {
    "duration": 83,
    "start_time": "2021-12-23T20:01:13.339Z"
   },
   {
    "duration": 3,
    "start_time": "2021-12-23T20:01:13.425Z"
   },
   {
    "duration": 30,
    "start_time": "2021-12-23T20:01:13.431Z"
   },
   {
    "duration": 11,
    "start_time": "2021-12-23T20:01:13.463Z"
   },
   {
    "duration": 34,
    "start_time": "2021-12-23T20:01:13.476Z"
   },
   {
    "duration": 25,
    "start_time": "2021-12-23T20:01:13.512Z"
   },
   {
    "duration": 92,
    "start_time": "2021-12-23T20:01:13.539Z"
   },
   {
    "duration": 243,
    "start_time": "2021-12-23T20:01:13.723Z"
   },
   {
    "duration": 615,
    "start_time": "2021-12-23T20:01:13.972Z"
   },
   {
    "duration": 7,
    "start_time": "2021-12-23T20:01:14.590Z"
   },
   {
    "duration": 51,
    "start_time": "2021-12-23T20:01:14.600Z"
   },
   {
    "duration": 383,
    "start_time": "2021-12-23T20:01:14.654Z"
   },
   {
    "duration": 24,
    "start_time": "2021-12-23T20:01:15.039Z"
   },
   {
    "duration": 308,
    "start_time": "2021-12-23T20:01:15.065Z"
   },
   {
    "duration": 260,
    "start_time": "2021-12-23T20:01:15.376Z"
   },
   {
    "duration": 25,
    "start_time": "2021-12-23T20:01:15.639Z"
   },
   {
    "duration": 9,
    "start_time": "2021-12-23T20:01:15.667Z"
   },
   {
    "duration": 6,
    "start_time": "2021-12-23T20:01:15.679Z"
   },
   {
    "duration": 46,
    "start_time": "2021-12-23T20:01:15.687Z"
   },
   {
    "duration": 3,
    "start_time": "2021-12-23T20:01:15.735Z"
   },
   {
    "duration": 6,
    "start_time": "2021-12-23T20:01:15.740Z"
   },
   {
    "duration": 12,
    "start_time": "2021-12-23T20:01:15.749Z"
   },
   {
    "duration": 937,
    "start_time": "2021-12-23T20:01:15.763Z"
   },
   {
    "duration": 577,
    "start_time": "2021-12-23T20:01:16.702Z"
   },
   {
    "duration": 249,
    "start_time": "2021-12-23T20:01:17.282Z"
   },
   {
    "duration": 21,
    "start_time": "2021-12-23T20:01:17.533Z"
   },
   {
    "duration": 306,
    "start_time": "2021-12-23T20:01:17.556Z"
   },
   {
    "duration": 334,
    "start_time": "2021-12-23T20:01:17.865Z"
   },
   {
    "duration": 39,
    "start_time": "2021-12-23T20:01:18.202Z"
   },
   {
    "duration": 3,
    "start_time": "2021-12-23T20:01:18.244Z"
   },
   {
    "duration": 612,
    "start_time": "2021-12-23T20:01:18.250Z"
   },
   {
    "duration": 110,
    "start_time": "2021-12-23T20:01:18.864Z"
   },
   {
    "duration": -1072,
    "start_time": "2021-12-23T20:01:20.048Z"
   },
   {
    "duration": -1094,
    "start_time": "2021-12-23T20:01:20.071Z"
   },
   {
    "duration": -1125,
    "start_time": "2021-12-23T20:01:20.104Z"
   },
   {
    "duration": -1138,
    "start_time": "2021-12-23T20:01:20.119Z"
   },
   {
    "duration": -1154,
    "start_time": "2021-12-23T20:01:20.136Z"
   },
   {
    "duration": 1417,
    "start_time": "2021-12-23T20:01:34.534Z"
   },
   {
    "duration": 56,
    "start_time": "2021-12-23T20:01:35.953Z"
   },
   {
    "duration": 12,
    "start_time": "2021-12-23T20:01:36.012Z"
   },
   {
    "duration": 63,
    "start_time": "2021-12-23T20:01:36.027Z"
   },
   {
    "duration": 32,
    "start_time": "2021-12-23T20:01:36.092Z"
   },
   {
    "duration": 17,
    "start_time": "2021-12-23T20:01:36.127Z"
   },
   {
    "duration": 4,
    "start_time": "2021-12-23T20:01:36.146Z"
   },
   {
    "duration": 15,
    "start_time": "2021-12-23T20:01:36.154Z"
   },
   {
    "duration": 11,
    "start_time": "2021-12-23T20:01:36.172Z"
   },
   {
    "duration": 9,
    "start_time": "2021-12-23T20:01:36.185Z"
   },
   {
    "duration": 45,
    "start_time": "2021-12-23T20:01:36.196Z"
   },
   {
    "duration": 8,
    "start_time": "2021-12-23T20:01:36.243Z"
   },
   {
    "duration": 14,
    "start_time": "2021-12-23T20:01:36.254Z"
   },
   {
    "duration": 11,
    "start_time": "2021-12-23T20:01:36.271Z"
   },
   {
    "duration": 101,
    "start_time": "2021-12-23T20:01:36.284Z"
   },
   {
    "duration": 3,
    "start_time": "2021-12-23T20:01:36.387Z"
   },
   {
    "duration": 41,
    "start_time": "2021-12-23T20:01:36.393Z"
   },
   {
    "duration": 3,
    "start_time": "2021-12-23T20:01:36.436Z"
   },
   {
    "duration": 7,
    "start_time": "2021-12-23T20:01:36.441Z"
   },
   {
    "duration": 7,
    "start_time": "2021-12-23T20:01:36.450Z"
   },
   {
    "duration": 73,
    "start_time": "2021-12-23T20:01:36.460Z"
   },
   {
    "duration": 315,
    "start_time": "2021-12-23T20:01:36.625Z"
   },
   {
    "duration": 592,
    "start_time": "2021-12-23T20:01:36.945Z"
   },
   {
    "duration": 10,
    "start_time": "2021-12-23T20:01:37.541Z"
   },
   {
    "duration": 31,
    "start_time": "2021-12-23T20:01:37.554Z"
   },
   {
    "duration": 403,
    "start_time": "2021-12-23T20:01:37.588Z"
   },
   {
    "duration": 33,
    "start_time": "2021-12-23T20:01:37.993Z"
   },
   {
    "duration": 298,
    "start_time": "2021-12-23T20:01:38.029Z"
   },
   {
    "duration": 262,
    "start_time": "2021-12-23T20:01:38.331Z"
   },
   {
    "duration": 44,
    "start_time": "2021-12-23T20:01:38.596Z"
   },
   {
    "duration": 11,
    "start_time": "2021-12-23T20:01:38.643Z"
   },
   {
    "duration": 7,
    "start_time": "2021-12-23T20:01:38.657Z"
   },
   {
    "duration": 13,
    "start_time": "2021-12-23T20:01:38.667Z"
   },
   {
    "duration": 3,
    "start_time": "2021-12-23T20:01:38.722Z"
   },
   {
    "duration": 8,
    "start_time": "2021-12-23T20:01:38.727Z"
   },
   {
    "duration": 5,
    "start_time": "2021-12-23T20:01:38.737Z"
   },
   {
    "duration": 924,
    "start_time": "2021-12-23T20:01:38.744Z"
   },
   {
    "duration": 583,
    "start_time": "2021-12-23T20:01:39.671Z"
   },
   {
    "duration": 240,
    "start_time": "2021-12-23T20:01:40.256Z"
   },
   {
    "duration": 36,
    "start_time": "2021-12-23T20:01:40.498Z"
   },
   {
    "duration": 280,
    "start_time": "2021-12-23T20:01:40.536Z"
   },
   {
    "duration": 314,
    "start_time": "2021-12-23T20:01:40.818Z"
   },
   {
    "duration": 24,
    "start_time": "2021-12-23T20:01:41.135Z"
   },
   {
    "duration": 3,
    "start_time": "2021-12-23T20:01:41.161Z"
   },
   {
    "duration": 579,
    "start_time": "2021-12-23T20:01:41.166Z"
   },
   {
    "duration": 520,
    "start_time": "2021-12-23T20:01:41.747Z"
   },
   {
    "duration": 230,
    "start_time": "2021-12-23T20:01:42.270Z"
   },
   {
    "duration": 37,
    "start_time": "2021-12-23T20:01:42.503Z"
   },
   {
    "duration": 289,
    "start_time": "2021-12-23T20:01:42.543Z"
   },
   {
    "duration": 268,
    "start_time": "2021-12-23T20:01:42.836Z"
   },
   {
    "duration": 33,
    "start_time": "2021-12-23T20:01:43.106Z"
   },
   {
    "duration": 1406,
    "start_time": "2021-12-23T20:03:35.662Z"
   },
   {
    "duration": 57,
    "start_time": "2021-12-23T20:03:37.070Z"
   },
   {
    "duration": 8,
    "start_time": "2021-12-23T20:03:37.133Z"
   },
   {
    "duration": 89,
    "start_time": "2021-12-23T20:03:37.144Z"
   },
   {
    "duration": 12,
    "start_time": "2021-12-23T20:03:37.236Z"
   },
   {
    "duration": 46,
    "start_time": "2021-12-23T20:03:37.251Z"
   },
   {
    "duration": 15,
    "start_time": "2021-12-23T20:03:37.303Z"
   },
   {
    "duration": 26,
    "start_time": "2021-12-23T20:03:37.321Z"
   },
   {
    "duration": 31,
    "start_time": "2021-12-23T20:03:37.350Z"
   },
   {
    "duration": 30,
    "start_time": "2021-12-23T20:03:37.383Z"
   },
   {
    "duration": 35,
    "start_time": "2021-12-23T20:03:37.416Z"
   },
   {
    "duration": 13,
    "start_time": "2021-12-23T20:03:37.453Z"
   },
   {
    "duration": 31,
    "start_time": "2021-12-23T20:03:37.469Z"
   },
   {
    "duration": 26,
    "start_time": "2021-12-23T20:03:37.503Z"
   },
   {
    "duration": 72,
    "start_time": "2021-12-23T20:03:37.532Z"
   },
   {
    "duration": 3,
    "start_time": "2021-12-23T20:03:37.606Z"
   },
   {
    "duration": 15,
    "start_time": "2021-12-23T20:03:37.623Z"
   },
   {
    "duration": 3,
    "start_time": "2021-12-23T20:03:37.640Z"
   },
   {
    "duration": 8,
    "start_time": "2021-12-23T20:03:37.645Z"
   },
   {
    "duration": 8,
    "start_time": "2021-12-23T20:03:37.656Z"
   },
   {
    "duration": 156,
    "start_time": "2021-12-23T20:03:37.666Z"
   },
   {
    "duration": 320,
    "start_time": "2021-12-23T20:03:37.831Z"
   },
   {
    "duration": 612,
    "start_time": "2021-12-23T20:03:38.154Z"
   },
   {
    "duration": 9,
    "start_time": "2021-12-23T20:03:38.768Z"
   },
   {
    "duration": 50,
    "start_time": "2021-12-23T20:03:38.779Z"
   },
   {
    "duration": 381,
    "start_time": "2021-12-23T20:03:38.831Z"
   },
   {
    "duration": 26,
    "start_time": "2021-12-23T20:03:39.215Z"
   },
   {
    "duration": 300,
    "start_time": "2021-12-23T20:03:39.243Z"
   },
   {
    "duration": 255,
    "start_time": "2021-12-23T20:03:39.545Z"
   },
   {
    "duration": 37,
    "start_time": "2021-12-23T20:03:39.803Z"
   },
   {
    "duration": 12,
    "start_time": "2021-12-23T20:03:39.844Z"
   },
   {
    "duration": 7,
    "start_time": "2021-12-23T20:03:39.859Z"
   },
   {
    "duration": 14,
    "start_time": "2021-12-23T20:03:39.869Z"
   },
   {
    "duration": 3,
    "start_time": "2021-12-23T20:03:39.925Z"
   },
   {
    "duration": 4,
    "start_time": "2021-12-23T20:03:39.932Z"
   },
   {
    "duration": 5,
    "start_time": "2021-12-23T20:03:39.939Z"
   },
   {
    "duration": 978,
    "start_time": "2021-12-23T20:03:39.946Z"
   },
   {
    "duration": 576,
    "start_time": "2021-12-23T20:03:40.927Z"
   },
   {
    "duration": 265,
    "start_time": "2021-12-23T20:03:41.506Z"
   },
   {
    "duration": 22,
    "start_time": "2021-12-23T20:03:41.774Z"
   },
   {
    "duration": 306,
    "start_time": "2021-12-23T20:03:41.798Z"
   },
   {
    "duration": 319,
    "start_time": "2021-12-23T20:03:42.107Z"
   },
   {
    "duration": 25,
    "start_time": "2021-12-23T20:03:42.429Z"
   },
   {
    "duration": 3,
    "start_time": "2021-12-23T20:03:42.456Z"
   },
   {
    "duration": 607,
    "start_time": "2021-12-23T20:03:42.461Z"
   },
   {
    "duration": 449,
    "start_time": "2021-12-23T20:03:43.070Z"
   },
   {
    "duration": -1078,
    "start_time": "2021-12-23T20:03:44.599Z"
   },
   {
    "duration": -1083,
    "start_time": "2021-12-23T20:03:44.605Z"
   },
   {
    "duration": -1087,
    "start_time": "2021-12-23T20:03:44.611Z"
   },
   {
    "duration": -1092,
    "start_time": "2021-12-23T20:03:44.617Z"
   },
   {
    "duration": -1096,
    "start_time": "2021-12-23T20:03:44.623Z"
   },
   {
    "duration": 1437,
    "start_time": "2021-12-23T20:03:53.048Z"
   },
   {
    "duration": 59,
    "start_time": "2021-12-23T20:03:54.491Z"
   },
   {
    "duration": 8,
    "start_time": "2021-12-23T20:03:54.553Z"
   },
   {
    "duration": 82,
    "start_time": "2021-12-23T20:03:54.563Z"
   },
   {
    "duration": 9,
    "start_time": "2021-12-23T20:03:54.647Z"
   },
   {
    "duration": 16,
    "start_time": "2021-12-23T20:03:54.658Z"
   },
   {
    "duration": 3,
    "start_time": "2021-12-23T20:03:54.678Z"
   },
   {
    "duration": 44,
    "start_time": "2021-12-23T20:03:54.684Z"
   },
   {
    "duration": 5,
    "start_time": "2021-12-23T20:03:54.731Z"
   },
   {
    "duration": 10,
    "start_time": "2021-12-23T20:03:54.739Z"
   },
   {
    "duration": 18,
    "start_time": "2021-12-23T20:03:54.751Z"
   },
   {
    "duration": 9,
    "start_time": "2021-12-23T20:03:54.772Z"
   },
   {
    "duration": 20,
    "start_time": "2021-12-23T20:03:54.783Z"
   },
   {
    "duration": 13,
    "start_time": "2021-12-23T20:03:54.824Z"
   },
   {
    "duration": 63,
    "start_time": "2021-12-23T20:03:54.839Z"
   },
   {
    "duration": 3,
    "start_time": "2021-12-23T20:03:54.925Z"
   },
   {
    "duration": 17,
    "start_time": "2021-12-23T20:03:54.931Z"
   },
   {
    "duration": 3,
    "start_time": "2021-12-23T20:03:54.951Z"
   },
   {
    "duration": 5,
    "start_time": "2021-12-23T20:03:54.957Z"
   },
   {
    "duration": 10,
    "start_time": "2021-12-23T20:03:54.965Z"
   },
   {
    "duration": 151,
    "start_time": "2021-12-23T20:03:54.978Z"
   },
   {
    "duration": 334,
    "start_time": "2021-12-23T20:03:55.136Z"
   },
   {
    "duration": 635,
    "start_time": "2021-12-23T20:03:55.473Z"
   },
   {
    "duration": 14,
    "start_time": "2021-12-23T20:03:56.111Z"
   },
   {
    "duration": 35,
    "start_time": "2021-12-23T20:03:56.128Z"
   },
   {
    "duration": 418,
    "start_time": "2021-12-23T20:03:56.165Z"
   },
   {
    "duration": 37,
    "start_time": "2021-12-23T20:03:56.586Z"
   },
   {
    "duration": 309,
    "start_time": "2021-12-23T20:03:56.626Z"
   },
   {
    "duration": 259,
    "start_time": "2021-12-23T20:03:56.938Z"
   },
   {
    "duration": 42,
    "start_time": "2021-12-23T20:03:57.199Z"
   },
   {
    "duration": 10,
    "start_time": "2021-12-23T20:03:57.244Z"
   },
   {
    "duration": 5,
    "start_time": "2021-12-23T20:03:57.256Z"
   },
   {
    "duration": 13,
    "start_time": "2021-12-23T20:03:57.263Z"
   },
   {
    "duration": 3,
    "start_time": "2021-12-23T20:03:57.278Z"
   },
   {
    "duration": 6,
    "start_time": "2021-12-23T20:03:57.283Z"
   },
   {
    "duration": 4,
    "start_time": "2021-12-23T20:03:57.324Z"
   },
   {
    "duration": 938,
    "start_time": "2021-12-23T20:03:57.330Z"
   },
   {
    "duration": 586,
    "start_time": "2021-12-23T20:03:58.271Z"
   },
   {
    "duration": 234,
    "start_time": "2021-12-23T20:03:58.860Z"
   },
   {
    "duration": 40,
    "start_time": "2021-12-23T20:03:59.097Z"
   },
   {
    "duration": 289,
    "start_time": "2021-12-23T20:03:59.139Z"
   },
   {
    "duration": 319,
    "start_time": "2021-12-23T20:03:59.431Z"
   },
   {
    "duration": 26,
    "start_time": "2021-12-23T20:03:59.753Z"
   },
   {
    "duration": 3,
    "start_time": "2021-12-23T20:03:59.781Z"
   },
   {
    "duration": 576,
    "start_time": "2021-12-23T20:03:59.787Z"
   },
   {
    "duration": 520,
    "start_time": "2021-12-23T20:04:00.367Z"
   },
   {
    "duration": 250,
    "start_time": "2021-12-23T20:04:00.890Z"
   },
   {
    "duration": 24,
    "start_time": "2021-12-23T20:04:01.142Z"
   },
   {
    "duration": 311,
    "start_time": "2021-12-23T20:04:01.168Z"
   },
   {
    "duration": 254,
    "start_time": "2021-12-23T20:04:01.481Z"
   },
   {
    "duration": 23,
    "start_time": "2021-12-23T20:04:01.738Z"
   },
   {
    "duration": 1443,
    "start_time": "2021-12-23T20:04:26.840Z"
   },
   {
    "duration": 58,
    "start_time": "2021-12-23T20:04:28.286Z"
   },
   {
    "duration": 12,
    "start_time": "2021-12-23T20:04:28.347Z"
   },
   {
    "duration": 79,
    "start_time": "2021-12-23T20:04:28.362Z"
   },
   {
    "duration": 9,
    "start_time": "2021-12-23T20:04:28.444Z"
   },
   {
    "duration": 17,
    "start_time": "2021-12-23T20:04:28.455Z"
   },
   {
    "duration": 3,
    "start_time": "2021-12-23T20:04:28.475Z"
   },
   {
    "duration": 46,
    "start_time": "2021-12-23T20:04:28.481Z"
   },
   {
    "duration": 5,
    "start_time": "2021-12-23T20:04:28.530Z"
   },
   {
    "duration": 8,
    "start_time": "2021-12-23T20:04:28.538Z"
   },
   {
    "duration": 18,
    "start_time": "2021-12-23T20:04:28.548Z"
   },
   {
    "duration": 4,
    "start_time": "2021-12-23T20:04:28.569Z"
   },
   {
    "duration": 57,
    "start_time": "2021-12-23T20:04:28.575Z"
   },
   {
    "duration": 9,
    "start_time": "2021-12-23T20:04:28.635Z"
   },
   {
    "duration": 82,
    "start_time": "2021-12-23T20:04:28.646Z"
   },
   {
    "duration": 3,
    "start_time": "2021-12-23T20:04:28.730Z"
   },
   {
    "duration": 21,
    "start_time": "2021-12-23T20:04:28.735Z"
   },
   {
    "duration": 7,
    "start_time": "2021-12-23T20:04:28.759Z"
   },
   {
    "duration": 9,
    "start_time": "2021-12-23T20:04:28.768Z"
   },
   {
    "duration": 13,
    "start_time": "2021-12-23T20:04:28.780Z"
   },
   {
    "duration": 129,
    "start_time": "2021-12-23T20:04:28.795Z"
   },
   {
    "duration": 318,
    "start_time": "2021-12-23T20:04:28.927Z"
   },
   {
    "duration": 596,
    "start_time": "2021-12-23T20:04:29.251Z"
   },
   {
    "duration": 8,
    "start_time": "2021-12-23T20:04:29.850Z"
   },
   {
    "duration": 36,
    "start_time": "2021-12-23T20:04:29.860Z"
   },
   {
    "duration": 386,
    "start_time": "2021-12-23T20:04:29.899Z"
   },
   {
    "duration": 35,
    "start_time": "2021-12-23T20:04:30.288Z"
   },
   {
    "duration": 299,
    "start_time": "2021-12-23T20:04:30.325Z"
   },
   {
    "duration": 344,
    "start_time": "2021-12-23T20:04:30.626Z"
   },
   {
    "duration": 24,
    "start_time": "2021-12-23T20:04:30.972Z"
   },
   {
    "duration": 10,
    "start_time": "2021-12-23T20:04:30.998Z"
   },
   {
    "duration": 14,
    "start_time": "2021-12-23T20:04:31.010Z"
   },
   {
    "duration": 13,
    "start_time": "2021-12-23T20:04:31.026Z"
   },
   {
    "duration": 4,
    "start_time": "2021-12-23T20:04:31.041Z"
   },
   {
    "duration": 6,
    "start_time": "2021-12-23T20:04:31.048Z"
   },
   {
    "duration": 22,
    "start_time": "2021-12-23T20:04:31.056Z"
   },
   {
    "duration": 939,
    "start_time": "2021-12-23T20:04:31.080Z"
   },
   {
    "duration": 555,
    "start_time": "2021-12-23T20:04:32.021Z"
   },
   {
    "duration": 345,
    "start_time": "2021-12-23T20:04:32.578Z"
   },
   {
    "duration": 23,
    "start_time": "2021-12-23T20:04:32.925Z"
   },
   {
    "duration": 483,
    "start_time": "2021-12-23T20:04:32.950Z"
   },
   {
    "duration": 445,
    "start_time": "2021-12-23T20:04:33.435Z"
   },
   {
    "duration": 40,
    "start_time": "2021-12-23T20:04:33.883Z"
   },
   {
    "duration": 3,
    "start_time": "2021-12-23T20:04:33.926Z"
   },
   {
    "duration": 583,
    "start_time": "2021-12-23T20:04:33.932Z"
   },
   {
    "duration": 615,
    "start_time": "2021-12-23T20:04:34.517Z"
   },
   {
    "duration": 240,
    "start_time": "2021-12-23T20:04:35.135Z"
   },
   {
    "duration": 24,
    "start_time": "2021-12-23T20:04:35.378Z"
   },
   {
    "duration": 297,
    "start_time": "2021-12-23T20:04:35.404Z"
   },
   {
    "duration": 273,
    "start_time": "2021-12-23T20:04:35.704Z"
   },
   {
    "duration": 26,
    "start_time": "2021-12-23T20:04:35.980Z"
   },
   {
    "duration": 1423,
    "start_time": "2021-12-23T20:04:49.425Z"
   },
   {
    "duration": 54,
    "start_time": "2021-12-23T20:04:50.850Z"
   },
   {
    "duration": 7,
    "start_time": "2021-12-23T20:04:50.907Z"
   },
   {
    "duration": 62,
    "start_time": "2021-12-23T20:04:50.924Z"
   },
   {
    "duration": 9,
    "start_time": "2021-12-23T20:04:50.988Z"
   },
   {
    "duration": 38,
    "start_time": "2021-12-23T20:04:50.999Z"
   },
   {
    "duration": 3,
    "start_time": "2021-12-23T20:04:51.039Z"
   },
   {
    "duration": 9,
    "start_time": "2021-12-23T20:04:51.046Z"
   },
   {
    "duration": 6,
    "start_time": "2021-12-23T20:04:51.058Z"
   },
   {
    "duration": 8,
    "start_time": "2021-12-23T20:04:51.066Z"
   },
   {
    "duration": 61,
    "start_time": "2021-12-23T20:04:51.077Z"
   },
   {
    "duration": 6,
    "start_time": "2021-12-23T20:04:51.140Z"
   },
   {
    "duration": 21,
    "start_time": "2021-12-23T20:04:51.148Z"
   },
   {
    "duration": 16,
    "start_time": "2021-12-23T20:04:51.172Z"
   },
   {
    "duration": 83,
    "start_time": "2021-12-23T20:04:51.190Z"
   },
   {
    "duration": 4,
    "start_time": "2021-12-23T20:04:51.275Z"
   },
   {
    "duration": 18,
    "start_time": "2021-12-23T20:04:51.281Z"
   },
   {
    "duration": 21,
    "start_time": "2021-12-23T20:04:51.302Z"
   },
   {
    "duration": 6,
    "start_time": "2021-12-23T20:04:51.325Z"
   },
   {
    "duration": 12,
    "start_time": "2021-12-23T20:04:51.333Z"
   },
   {
    "duration": 174,
    "start_time": "2021-12-23T20:04:51.348Z"
   },
   {
    "duration": 307,
    "start_time": "2021-12-23T20:04:51.526Z"
   },
   {
    "duration": 616,
    "start_time": "2021-12-23T20:04:51.838Z"
   },
   {
    "duration": 9,
    "start_time": "2021-12-23T20:04:52.457Z"
   },
   {
    "duration": 51,
    "start_time": "2021-12-23T20:04:52.469Z"
   },
   {
    "duration": 383,
    "start_time": "2021-12-23T20:04:52.524Z"
   },
   {
    "duration": 31,
    "start_time": "2021-12-23T20:04:52.909Z"
   },
   {
    "duration": 394,
    "start_time": "2021-12-23T20:04:52.942Z"
   },
   {
    "duration": 248,
    "start_time": "2021-12-23T20:04:53.339Z"
   },
   {
    "duration": 37,
    "start_time": "2021-12-23T20:04:53.590Z"
   },
   {
    "duration": 10,
    "start_time": "2021-12-23T20:04:53.629Z"
   },
   {
    "duration": 6,
    "start_time": "2021-12-23T20:04:53.641Z"
   },
   {
    "duration": 13,
    "start_time": "2021-12-23T20:04:53.649Z"
   },
   {
    "duration": 3,
    "start_time": "2021-12-23T20:04:53.664Z"
   },
   {
    "duration": 8,
    "start_time": "2021-12-23T20:04:53.669Z"
   },
   {
    "duration": 46,
    "start_time": "2021-12-23T20:04:53.679Z"
   },
   {
    "duration": 895,
    "start_time": "2021-12-23T20:04:53.728Z"
   },
   {
    "duration": 578,
    "start_time": "2021-12-23T20:04:54.625Z"
   },
   {
    "duration": 253,
    "start_time": "2021-12-23T20:04:55.205Z"
   },
   {
    "duration": 23,
    "start_time": "2021-12-23T20:04:55.460Z"
   },
   {
    "duration": 299,
    "start_time": "2021-12-23T20:04:55.485Z"
   },
   {
    "duration": 313,
    "start_time": "2021-12-23T20:04:55.787Z"
   },
   {
    "duration": 37,
    "start_time": "2021-12-23T20:04:56.102Z"
   },
   {
    "duration": 3,
    "start_time": "2021-12-23T20:04:56.141Z"
   },
   {
    "duration": 587,
    "start_time": "2021-12-23T20:04:56.146Z"
   },
   {
    "duration": 524,
    "start_time": "2021-12-23T20:04:56.736Z"
   },
   {
    "duration": 245,
    "start_time": "2021-12-23T20:04:57.263Z"
   },
   {
    "duration": 31,
    "start_time": "2021-12-23T20:04:57.510Z"
   },
   {
    "duration": 305,
    "start_time": "2021-12-23T20:04:57.544Z"
   },
   {
    "duration": 260,
    "start_time": "2021-12-23T20:04:57.852Z"
   },
   {
    "duration": 34,
    "start_time": "2021-12-23T20:04:58.115Z"
   }
  ],
  "kernelspec": {
   "display_name": "Python 3 (ipykernel)",
   "language": "python",
   "name": "python3"
  },
  "language_info": {
   "codemirror_mode": {
    "name": "ipython",
    "version": 3
   },
   "file_extension": ".py",
   "mimetype": "text/x-python",
   "name": "python",
   "nbconvert_exporter": "python",
   "pygments_lexer": "ipython3",
   "version": "3.9.5"
  },
  "toc": {
   "base_numbering": 1,
   "nav_menu": {},
   "number_sections": true,
   "sideBar": true,
   "skip_h1_title": true,
   "title_cell": "Содержание",
   "title_sidebar": "Contents",
   "toc_cell": true,
   "toc_position": {},
   "toc_section_display": true,
   "toc_window_display": false
  }
 },
 "nbformat": 4,
 "nbformat_minor": 2
}
